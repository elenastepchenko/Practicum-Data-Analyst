{
 "cells": [
  {
   "cell_type": "markdown",
   "id": "0643413b",
   "metadata": {},
   "source": [
    "<div style=\"border:solid steelblue 3px; padding: 20px; border-radius: 10px\">\n",
    "\n",
    "**Алена, привет!** 👋\n",
    "\n",
    "Меня зовут Алексей Манелюк, я буду проверять твой проект. В Яндекс Практикуме принято общаться на \"ты\", но если некомфортно - скажи и перейдем на \"Вы\".\n",
    "\n",
    "Моя основная цель - не указать на ошибки, а поделиться опытом и помочь в освоении анализа данных.\n",
    "\n",
    "В тетрадке ты увидишь мои комментарии, пожалуйста, не удаляй, не перемещай и не изменяй их. У комментариев могут быть приписки **V2**, **V3**, **V...**, которые соответствуют каждой версии проверки.\n",
    "\n",
    "Я буду использовать цветовую разметку:\n",
    "<p>\n",
    "<div class=\"alert-danger\" style=\"padding: 20px; border-radius: 10px\">\n",
    "<b>Комментарий ревьюера ❌</b>\n",
    "\n",
    "Так выделены критические замечания. Без их отработки я не смогу принять проект. </div>\n",
    "\n",
    "<div class=\"alert-warning\" style=\"padding: 20px; border-radius: 10px\">\n",
    "<b>  Комментарий ревьюера ⚠️</b>\n",
    "\n",
    "Так выделены небольшие замечания или полезные советы. Постарайся учесть их.</div>\n",
    "<p>\n",
    "<div class=\"alert-success\" style=\"padding: 20px; border-radius: 10px\">\n",
    "<b>Комментарий ревьюера ✔️</b>\n",
    "\n",
    "Так выделены правильные решения.</div>\n",
    "\n",
    "Предлагаю работать в диалоге: если что-то дорабатываешь или отвечаешь на мой комментарий - пиши об этом. Мне будет удобней, если ты выделишь свои комментарии:\n",
    "<p>\n",
    "<div class=\"alert-info\" style=\"padding: 20px; border-radius: 10px\">\n",
    "<b>Комментарий студента 💎</b>\n",
    "\n",
    "Здесь исправил.</div>\n",
    "\n",
    "Все это поможет мне быстрее принять твой проект.</div>"
   ]
  },
  {
   "cell_type": "markdown",
   "id": "3e300888",
   "metadata": {},
   "source": [
    "<div class=\"alert-info\" style=\"padding: 20px; border-radius: 10px\">\n",
    "<b>Комментарий студента 💎</b>\n",
    "\n",
    "Ты можешь написать свой комментарий, если скопируешь этот блок в ячейку Markdown.</div>"
   ]
  },
  {
   "cell_type": "markdown",
   "id": "386f2ae7",
   "metadata": {
    "deletable": false,
    "editable": false,
    "id": "386f2ae7"
   },
   "source": [
    "# Исследование надежности заемщиков\n"
   ]
  },
  {
   "cell_type": "markdown",
   "id": "ffe86f65",
   "metadata": {
    "deletable": false,
    "editable": false,
    "id": "ffe86f65"
   },
   "source": [
    "Во второй части проекта вы выполните шаги 3 и 4. Их вручную проверит ревьюер.\n",
    "Чтобы вам не пришлось писать код заново для шагов 1 и 2, мы добавили авторские решения в ячейки с кодом. \n",
    "\n"
   ]
  },
  {
   "cell_type": "markdown",
   "id": "1bd8bd0e",
   "metadata": {},
   "source": [
    "<div class=\"alert-success\" style=\"padding: 20px; border-radius: 10px\">\n",
    "<b>Комментарий ревьюера ✔️</b>\n",
    "\n",
    "Несмотря на то, что первая часть этого проекта проверяется автоматизрованно, дам по ней пару советов - они пригодятся тебе в следующих проектах.\n",
    "\n",
    "📌 Начать проект стоит с описания (цели исследования, описание данных и краткий план работы), а каждый раздел закончить промежуточным выводом.\n",
    "\n",
    "Как правильно оформить проект ты можешь прочитать в материалах курса:\n",
    "\n",
    "`Полезные инструкции для учёбы - Оформление проекта - Рекомендации по выполнению проектов`"
   ]
  },
  {
   "cell_type": "markdown",
   "id": "26613308",
   "metadata": {
    "deletable": false,
    "editable": false,
    "id": "26613308"
   },
   "source": [
    "## Откройте таблицу и изучите общую информацию о данных"
   ]
  },
  {
   "cell_type": "markdown",
   "id": "3c9f838e",
   "metadata": {
    "deletable": false,
    "editable": false,
    "id": "3c9f838e"
   },
   "source": [
    "**Задание 1. Импортируйте библиотеку pandas. Считайте данные из csv-файла в датафрейм и сохраните в переменную `data`. Путь к файлу:**\n",
    "\n",
    "`/datasets/data.csv`"
   ]
  },
  {
   "cell_type": "code",
   "execution_count": 1,
   "id": "77a68a90",
   "metadata": {
    "deletable": false,
    "id": "77a68a90"
   },
   "outputs": [],
   "source": [
    "import pandas as pd\n",
    "\n",
    "try:\n",
    "    data = pd.read_csv('/datasets/data.csv')\n",
    "except:\n",
    "    data = pd.read_csv('https://code.s3.yandex.net/datasets/data.csv')"
   ]
  },
  {
   "cell_type": "markdown",
   "id": "45365635",
   "metadata": {
    "deletable": false,
    "editable": false,
    "id": "45365635"
   },
   "source": [
    "**Задание 2. Выведите первые 20 строчек датафрейма `data` на экран.**"
   ]
  },
  {
   "cell_type": "code",
   "execution_count": 2,
   "id": "b0451a9a",
   "metadata": {
    "deletable": false,
    "id": "b0451a9a",
    "outputId": "1a8f3ef2-d323-4ec2-ddf7-89670b5944c4"
   },
   "outputs": [
    {
     "data": {
      "text/html": [
       "<div>\n",
       "<style scoped>\n",
       "    .dataframe tbody tr th:only-of-type {\n",
       "        vertical-align: middle;\n",
       "    }\n",
       "\n",
       "    .dataframe tbody tr th {\n",
       "        vertical-align: top;\n",
       "    }\n",
       "\n",
       "    .dataframe thead th {\n",
       "        text-align: right;\n",
       "    }\n",
       "</style>\n",
       "<table border=\"1\" class=\"dataframe\">\n",
       "  <thead>\n",
       "    <tr style=\"text-align: right;\">\n",
       "      <th></th>\n",
       "      <th>children</th>\n",
       "      <th>days_employed</th>\n",
       "      <th>dob_years</th>\n",
       "      <th>education</th>\n",
       "      <th>education_id</th>\n",
       "      <th>family_status</th>\n",
       "      <th>family_status_id</th>\n",
       "      <th>gender</th>\n",
       "      <th>income_type</th>\n",
       "      <th>debt</th>\n",
       "      <th>total_income</th>\n",
       "      <th>purpose</th>\n",
       "    </tr>\n",
       "  </thead>\n",
       "  <tbody>\n",
       "    <tr>\n",
       "      <th>0</th>\n",
       "      <td>1</td>\n",
       "      <td>-8437.673028</td>\n",
       "      <td>42</td>\n",
       "      <td>высшее</td>\n",
       "      <td>0</td>\n",
       "      <td>женат / замужем</td>\n",
       "      <td>0</td>\n",
       "      <td>F</td>\n",
       "      <td>сотрудник</td>\n",
       "      <td>0</td>\n",
       "      <td>253875.639453</td>\n",
       "      <td>покупка жилья</td>\n",
       "    </tr>\n",
       "    <tr>\n",
       "      <th>1</th>\n",
       "      <td>1</td>\n",
       "      <td>-4024.803754</td>\n",
       "      <td>36</td>\n",
       "      <td>среднее</td>\n",
       "      <td>1</td>\n",
       "      <td>женат / замужем</td>\n",
       "      <td>0</td>\n",
       "      <td>F</td>\n",
       "      <td>сотрудник</td>\n",
       "      <td>0</td>\n",
       "      <td>112080.014102</td>\n",
       "      <td>приобретение автомобиля</td>\n",
       "    </tr>\n",
       "    <tr>\n",
       "      <th>2</th>\n",
       "      <td>0</td>\n",
       "      <td>-5623.422610</td>\n",
       "      <td>33</td>\n",
       "      <td>Среднее</td>\n",
       "      <td>1</td>\n",
       "      <td>женат / замужем</td>\n",
       "      <td>0</td>\n",
       "      <td>M</td>\n",
       "      <td>сотрудник</td>\n",
       "      <td>0</td>\n",
       "      <td>145885.952297</td>\n",
       "      <td>покупка жилья</td>\n",
       "    </tr>\n",
       "    <tr>\n",
       "      <th>3</th>\n",
       "      <td>3</td>\n",
       "      <td>-4124.747207</td>\n",
       "      <td>32</td>\n",
       "      <td>среднее</td>\n",
       "      <td>1</td>\n",
       "      <td>женат / замужем</td>\n",
       "      <td>0</td>\n",
       "      <td>M</td>\n",
       "      <td>сотрудник</td>\n",
       "      <td>0</td>\n",
       "      <td>267628.550329</td>\n",
       "      <td>дополнительное образование</td>\n",
       "    </tr>\n",
       "    <tr>\n",
       "      <th>4</th>\n",
       "      <td>0</td>\n",
       "      <td>340266.072047</td>\n",
       "      <td>53</td>\n",
       "      <td>среднее</td>\n",
       "      <td>1</td>\n",
       "      <td>гражданский брак</td>\n",
       "      <td>1</td>\n",
       "      <td>F</td>\n",
       "      <td>пенсионер</td>\n",
       "      <td>0</td>\n",
       "      <td>158616.077870</td>\n",
       "      <td>сыграть свадьбу</td>\n",
       "    </tr>\n",
       "    <tr>\n",
       "      <th>5</th>\n",
       "      <td>0</td>\n",
       "      <td>-926.185831</td>\n",
       "      <td>27</td>\n",
       "      <td>высшее</td>\n",
       "      <td>0</td>\n",
       "      <td>гражданский брак</td>\n",
       "      <td>1</td>\n",
       "      <td>M</td>\n",
       "      <td>компаньон</td>\n",
       "      <td>0</td>\n",
       "      <td>255763.565419</td>\n",
       "      <td>покупка жилья</td>\n",
       "    </tr>\n",
       "    <tr>\n",
       "      <th>6</th>\n",
       "      <td>0</td>\n",
       "      <td>-2879.202052</td>\n",
       "      <td>43</td>\n",
       "      <td>высшее</td>\n",
       "      <td>0</td>\n",
       "      <td>женат / замужем</td>\n",
       "      <td>0</td>\n",
       "      <td>F</td>\n",
       "      <td>компаньон</td>\n",
       "      <td>0</td>\n",
       "      <td>240525.971920</td>\n",
       "      <td>операции с жильем</td>\n",
       "    </tr>\n",
       "    <tr>\n",
       "      <th>7</th>\n",
       "      <td>0</td>\n",
       "      <td>-152.779569</td>\n",
       "      <td>50</td>\n",
       "      <td>СРЕДНЕЕ</td>\n",
       "      <td>1</td>\n",
       "      <td>женат / замужем</td>\n",
       "      <td>0</td>\n",
       "      <td>M</td>\n",
       "      <td>сотрудник</td>\n",
       "      <td>0</td>\n",
       "      <td>135823.934197</td>\n",
       "      <td>образование</td>\n",
       "    </tr>\n",
       "    <tr>\n",
       "      <th>8</th>\n",
       "      <td>2</td>\n",
       "      <td>-6929.865299</td>\n",
       "      <td>35</td>\n",
       "      <td>ВЫСШЕЕ</td>\n",
       "      <td>0</td>\n",
       "      <td>гражданский брак</td>\n",
       "      <td>1</td>\n",
       "      <td>F</td>\n",
       "      <td>сотрудник</td>\n",
       "      <td>0</td>\n",
       "      <td>95856.832424</td>\n",
       "      <td>на проведение свадьбы</td>\n",
       "    </tr>\n",
       "    <tr>\n",
       "      <th>9</th>\n",
       "      <td>0</td>\n",
       "      <td>-2188.756445</td>\n",
       "      <td>41</td>\n",
       "      <td>среднее</td>\n",
       "      <td>1</td>\n",
       "      <td>женат / замужем</td>\n",
       "      <td>0</td>\n",
       "      <td>M</td>\n",
       "      <td>сотрудник</td>\n",
       "      <td>0</td>\n",
       "      <td>144425.938277</td>\n",
       "      <td>покупка жилья для семьи</td>\n",
       "    </tr>\n",
       "    <tr>\n",
       "      <th>10</th>\n",
       "      <td>2</td>\n",
       "      <td>-4171.483647</td>\n",
       "      <td>36</td>\n",
       "      <td>высшее</td>\n",
       "      <td>0</td>\n",
       "      <td>женат / замужем</td>\n",
       "      <td>0</td>\n",
       "      <td>M</td>\n",
       "      <td>компаньон</td>\n",
       "      <td>0</td>\n",
       "      <td>113943.491460</td>\n",
       "      <td>покупка недвижимости</td>\n",
       "    </tr>\n",
       "    <tr>\n",
       "      <th>11</th>\n",
       "      <td>0</td>\n",
       "      <td>-792.701887</td>\n",
       "      <td>40</td>\n",
       "      <td>среднее</td>\n",
       "      <td>1</td>\n",
       "      <td>женат / замужем</td>\n",
       "      <td>0</td>\n",
       "      <td>F</td>\n",
       "      <td>сотрудник</td>\n",
       "      <td>0</td>\n",
       "      <td>77069.234271</td>\n",
       "      <td>покупка коммерческой недвижимости</td>\n",
       "    </tr>\n",
       "    <tr>\n",
       "      <th>12</th>\n",
       "      <td>0</td>\n",
       "      <td>NaN</td>\n",
       "      <td>65</td>\n",
       "      <td>среднее</td>\n",
       "      <td>1</td>\n",
       "      <td>гражданский брак</td>\n",
       "      <td>1</td>\n",
       "      <td>M</td>\n",
       "      <td>пенсионер</td>\n",
       "      <td>0</td>\n",
       "      <td>NaN</td>\n",
       "      <td>сыграть свадьбу</td>\n",
       "    </tr>\n",
       "    <tr>\n",
       "      <th>13</th>\n",
       "      <td>0</td>\n",
       "      <td>-1846.641941</td>\n",
       "      <td>54</td>\n",
       "      <td>неоконченное высшее</td>\n",
       "      <td>2</td>\n",
       "      <td>женат / замужем</td>\n",
       "      <td>0</td>\n",
       "      <td>F</td>\n",
       "      <td>сотрудник</td>\n",
       "      <td>0</td>\n",
       "      <td>130458.228857</td>\n",
       "      <td>приобретение автомобиля</td>\n",
       "    </tr>\n",
       "    <tr>\n",
       "      <th>14</th>\n",
       "      <td>0</td>\n",
       "      <td>-1844.956182</td>\n",
       "      <td>56</td>\n",
       "      <td>высшее</td>\n",
       "      <td>0</td>\n",
       "      <td>гражданский брак</td>\n",
       "      <td>1</td>\n",
       "      <td>F</td>\n",
       "      <td>компаньон</td>\n",
       "      <td>1</td>\n",
       "      <td>165127.911772</td>\n",
       "      <td>покупка жилой недвижимости</td>\n",
       "    </tr>\n",
       "    <tr>\n",
       "      <th>15</th>\n",
       "      <td>1</td>\n",
       "      <td>-972.364419</td>\n",
       "      <td>26</td>\n",
       "      <td>среднее</td>\n",
       "      <td>1</td>\n",
       "      <td>женат / замужем</td>\n",
       "      <td>0</td>\n",
       "      <td>F</td>\n",
       "      <td>сотрудник</td>\n",
       "      <td>0</td>\n",
       "      <td>116820.904450</td>\n",
       "      <td>строительство собственной недвижимости</td>\n",
       "    </tr>\n",
       "    <tr>\n",
       "      <th>16</th>\n",
       "      <td>0</td>\n",
       "      <td>-1719.934226</td>\n",
       "      <td>35</td>\n",
       "      <td>среднее</td>\n",
       "      <td>1</td>\n",
       "      <td>женат / замужем</td>\n",
       "      <td>0</td>\n",
       "      <td>F</td>\n",
       "      <td>сотрудник</td>\n",
       "      <td>0</td>\n",
       "      <td>289202.704229</td>\n",
       "      <td>недвижимость</td>\n",
       "    </tr>\n",
       "    <tr>\n",
       "      <th>17</th>\n",
       "      <td>0</td>\n",
       "      <td>-2369.999720</td>\n",
       "      <td>33</td>\n",
       "      <td>высшее</td>\n",
       "      <td>0</td>\n",
       "      <td>гражданский брак</td>\n",
       "      <td>1</td>\n",
       "      <td>M</td>\n",
       "      <td>сотрудник</td>\n",
       "      <td>0</td>\n",
       "      <td>90410.586745</td>\n",
       "      <td>строительство недвижимости</td>\n",
       "    </tr>\n",
       "    <tr>\n",
       "      <th>18</th>\n",
       "      <td>0</td>\n",
       "      <td>400281.136913</td>\n",
       "      <td>53</td>\n",
       "      <td>среднее</td>\n",
       "      <td>1</td>\n",
       "      <td>вдовец / вдова</td>\n",
       "      <td>2</td>\n",
       "      <td>F</td>\n",
       "      <td>пенсионер</td>\n",
       "      <td>0</td>\n",
       "      <td>56823.777243</td>\n",
       "      <td>на покупку подержанного автомобиля</td>\n",
       "    </tr>\n",
       "    <tr>\n",
       "      <th>19</th>\n",
       "      <td>0</td>\n",
       "      <td>-10038.818549</td>\n",
       "      <td>48</td>\n",
       "      <td>СРЕДНЕЕ</td>\n",
       "      <td>1</td>\n",
       "      <td>в разводе</td>\n",
       "      <td>3</td>\n",
       "      <td>F</td>\n",
       "      <td>сотрудник</td>\n",
       "      <td>0</td>\n",
       "      <td>242831.107982</td>\n",
       "      <td>на покупку своего автомобиля</td>\n",
       "    </tr>\n",
       "  </tbody>\n",
       "</table>\n",
       "</div>"
      ],
      "text/plain": [
       "    children  days_employed  dob_years            education  education_id  \\\n",
       "0          1   -8437.673028         42               высшее             0   \n",
       "1          1   -4024.803754         36              среднее             1   \n",
       "2          0   -5623.422610         33              Среднее             1   \n",
       "3          3   -4124.747207         32              среднее             1   \n",
       "4          0  340266.072047         53              среднее             1   \n",
       "5          0    -926.185831         27               высшее             0   \n",
       "6          0   -2879.202052         43               высшее             0   \n",
       "7          0    -152.779569         50              СРЕДНЕЕ             1   \n",
       "8          2   -6929.865299         35               ВЫСШЕЕ             0   \n",
       "9          0   -2188.756445         41              среднее             1   \n",
       "10         2   -4171.483647         36               высшее             0   \n",
       "11         0    -792.701887         40              среднее             1   \n",
       "12         0            NaN         65              среднее             1   \n",
       "13         0   -1846.641941         54  неоконченное высшее             2   \n",
       "14         0   -1844.956182         56               высшее             0   \n",
       "15         1    -972.364419         26              среднее             1   \n",
       "16         0   -1719.934226         35              среднее             1   \n",
       "17         0   -2369.999720         33               высшее             0   \n",
       "18         0  400281.136913         53              среднее             1   \n",
       "19         0  -10038.818549         48              СРЕДНЕЕ             1   \n",
       "\n",
       "       family_status  family_status_id gender income_type  debt  \\\n",
       "0    женат / замужем                 0      F   сотрудник     0   \n",
       "1    женат / замужем                 0      F   сотрудник     0   \n",
       "2    женат / замужем                 0      M   сотрудник     0   \n",
       "3    женат / замужем                 0      M   сотрудник     0   \n",
       "4   гражданский брак                 1      F   пенсионер     0   \n",
       "5   гражданский брак                 1      M   компаньон     0   \n",
       "6    женат / замужем                 0      F   компаньон     0   \n",
       "7    женат / замужем                 0      M   сотрудник     0   \n",
       "8   гражданский брак                 1      F   сотрудник     0   \n",
       "9    женат / замужем                 0      M   сотрудник     0   \n",
       "10   женат / замужем                 0      M   компаньон     0   \n",
       "11   женат / замужем                 0      F   сотрудник     0   \n",
       "12  гражданский брак                 1      M   пенсионер     0   \n",
       "13   женат / замужем                 0      F   сотрудник     0   \n",
       "14  гражданский брак                 1      F   компаньон     1   \n",
       "15   женат / замужем                 0      F   сотрудник     0   \n",
       "16   женат / замужем                 0      F   сотрудник     0   \n",
       "17  гражданский брак                 1      M   сотрудник     0   \n",
       "18    вдовец / вдова                 2      F   пенсионер     0   \n",
       "19         в разводе                 3      F   сотрудник     0   \n",
       "\n",
       "     total_income                                 purpose  \n",
       "0   253875.639453                           покупка жилья  \n",
       "1   112080.014102                 приобретение автомобиля  \n",
       "2   145885.952297                           покупка жилья  \n",
       "3   267628.550329              дополнительное образование  \n",
       "4   158616.077870                         сыграть свадьбу  \n",
       "5   255763.565419                           покупка жилья  \n",
       "6   240525.971920                       операции с жильем  \n",
       "7   135823.934197                             образование  \n",
       "8    95856.832424                   на проведение свадьбы  \n",
       "9   144425.938277                 покупка жилья для семьи  \n",
       "10  113943.491460                    покупка недвижимости  \n",
       "11   77069.234271       покупка коммерческой недвижимости  \n",
       "12            NaN                         сыграть свадьбу  \n",
       "13  130458.228857                 приобретение автомобиля  \n",
       "14  165127.911772              покупка жилой недвижимости  \n",
       "15  116820.904450  строительство собственной недвижимости  \n",
       "16  289202.704229                            недвижимость  \n",
       "17   90410.586745              строительство недвижимости  \n",
       "18   56823.777243      на покупку подержанного автомобиля  \n",
       "19  242831.107982            на покупку своего автомобиля  "
      ]
     },
     "execution_count": 2,
     "metadata": {},
     "output_type": "execute_result"
    }
   ],
   "source": [
    "data.head(20)"
   ]
  },
  {
   "cell_type": "markdown",
   "id": "0ed8f27f",
   "metadata": {
    "deletable": false,
    "editable": false,
    "id": "0ed8f27f"
   },
   "source": [
    "**Задание 3. Выведите основную информацию о датафрейме с помощью метода `info()`.**"
   ]
  },
  {
   "cell_type": "code",
   "execution_count": 3,
   "id": "ab3f863b",
   "metadata": {
    "deletable": false,
    "id": "ab3f863b",
    "outputId": "15376089-8dad-46c9-b520-c05248d43158"
   },
   "outputs": [
    {
     "name": "stdout",
     "output_type": "stream",
     "text": [
      "<class 'pandas.core.frame.DataFrame'>\n",
      "RangeIndex: 21525 entries, 0 to 21524\n",
      "Data columns (total 12 columns):\n",
      " #   Column            Non-Null Count  Dtype  \n",
      "---  ------            --------------  -----  \n",
      " 0   children          21525 non-null  int64  \n",
      " 1   days_employed     19351 non-null  float64\n",
      " 2   dob_years         21525 non-null  int64  \n",
      " 3   education         21525 non-null  object \n",
      " 4   education_id      21525 non-null  int64  \n",
      " 5   family_status     21525 non-null  object \n",
      " 6   family_status_id  21525 non-null  int64  \n",
      " 7   gender            21525 non-null  object \n",
      " 8   income_type       21525 non-null  object \n",
      " 9   debt              21525 non-null  int64  \n",
      " 10  total_income      19351 non-null  float64\n",
      " 11  purpose           21525 non-null  object \n",
      "dtypes: float64(2), int64(5), object(5)\n",
      "memory usage: 2.0+ MB\n"
     ]
    }
   ],
   "source": [
    "data.info()"
   ]
  },
  {
   "cell_type": "markdown",
   "id": "60e3e22d",
   "metadata": {
    "deletable": false,
    "editable": false,
    "id": "60e3e22d"
   },
   "source": [
    "## Предобработка данных"
   ]
  },
  {
   "cell_type": "markdown",
   "id": "03dc170c",
   "metadata": {
    "deletable": false,
    "editable": false,
    "id": "03dc170c"
   },
   "source": [
    "### Удаление пропусков"
   ]
  },
  {
   "cell_type": "markdown",
   "id": "a4f54eef",
   "metadata": {
    "deletable": false,
    "editable": false,
    "id": "a4f54eef"
   },
   "source": [
    "**Задание 4. Выведите количество пропущенных значений для каждого столбца. Используйте комбинацию двух методов.**"
   ]
  },
  {
   "cell_type": "code",
   "execution_count": 4,
   "id": "2dc372b2",
   "metadata": {
    "deletable": false,
    "id": "2dc372b2",
    "outputId": "81f4d817-781c-465c-ed15-91ce4446810d"
   },
   "outputs": [
    {
     "data": {
      "text/plain": [
       "children               0\n",
       "days_employed       2174\n",
       "dob_years              0\n",
       "education              0\n",
       "education_id           0\n",
       "family_status          0\n",
       "family_status_id       0\n",
       "gender                 0\n",
       "income_type            0\n",
       "debt                   0\n",
       "total_income        2174\n",
       "purpose                0\n",
       "dtype: int64"
      ]
     },
     "execution_count": 4,
     "metadata": {},
     "output_type": "execute_result"
    }
   ],
   "source": [
    "data.isna().sum()"
   ]
  },
  {
   "cell_type": "markdown",
   "id": "14f011b1",
   "metadata": {
    "deletable": false,
    "editable": false,
    "id": "14f011b1"
   },
   "source": [
    "**Задание 5. В двух столбцах есть пропущенные значения. Один из них — `days_employed`. Пропуски в этом столбце вы обработаете на следующем этапе. Другой столбец с пропущенными значениями — `total_income` — хранит данные о доходах. На сумму дохода сильнее всего влияет тип занятости, поэтому заполнить пропуски в этом столбце нужно медианным значением по каждому типу из столбца `income_type`. Например, у человека с типом занятости `сотрудник` пропуск в столбце `total_income` должен быть заполнен медианным доходом среди всех записей с тем же типом.**"
   ]
  },
  {
   "cell_type": "code",
   "execution_count": 5,
   "id": "bdabfb6e",
   "metadata": {
    "deletable": false,
    "id": "bdabfb6e"
   },
   "outputs": [],
   "source": [
    "for t in data['income_type'].unique():\n",
    "    data.loc[(data['income_type'] == t) & (data['total_income'].isna()), 'total_income'] = \\\n",
    "    data.loc[(data['income_type'] == t), 'total_income'].median()"
   ]
  },
  {
   "cell_type": "markdown",
   "id": "5be34059",
   "metadata": {
    "deletable": false,
    "editable": false,
    "id": "5be34059"
   },
   "source": [
    "### Обработка аномальных значений"
   ]
  },
  {
   "cell_type": "markdown",
   "id": "a87606cb",
   "metadata": {
    "deletable": false,
    "editable": false,
    "id": "a87606cb"
   },
   "source": [
    "**Задание 6. В данных могут встречаться артефакты (аномалии) — значения, которые не отражают действительность и появились по какой-то ошибке. таким артефактом будет отрицательное количество дней трудового стажа в столбце `days_employed`. Для реальных данных это нормально. Обработайте значения в этом столбце: замените все отрицательные значения положительными с помощью метода `abs()`.**"
   ]
  },
  {
   "cell_type": "code",
   "execution_count": 6,
   "id": "020c46cc",
   "metadata": {
    "deletable": false,
    "id": "020c46cc"
   },
   "outputs": [],
   "source": [
    "data['days_employed'] = data['days_employed'].abs()"
   ]
  },
  {
   "cell_type": "markdown",
   "id": "45538a3a",
   "metadata": {
    "deletable": false,
    "editable": false,
    "id": "45538a3a"
   },
   "source": [
    "**Задание 7. Для каждого типа занятости выведите медианное значение трудового стажа `days_employed` в днях.**"
   ]
  },
  {
   "cell_type": "code",
   "execution_count": 7,
   "id": "cd3e6328",
   "metadata": {
    "deletable": false,
    "id": "cd3e6328",
    "outputId": "801ef80e-522b-4668-f34e-565af7432bcf"
   },
   "outputs": [
    {
     "data": {
      "text/plain": [
       "income_type\n",
       "безработный        366413.652744\n",
       "в декрете            3296.759962\n",
       "госслужащий          2689.368353\n",
       "компаньон            1547.382223\n",
       "пенсионер          365213.306266\n",
       "предприниматель       520.848083\n",
       "сотрудник            1574.202821\n",
       "студент               578.751554\n",
       "Name: days_employed, dtype: float64"
      ]
     },
     "execution_count": 7,
     "metadata": {},
     "output_type": "execute_result"
    }
   ],
   "source": [
    "data.groupby('income_type')['days_employed'].agg('median')"
   ]
  },
  {
   "cell_type": "markdown",
   "id": "90c5f058",
   "metadata": {
    "deletable": false,
    "editable": false,
    "id": "90c5f058"
   },
   "source": [
    "У двух типов (безработные и пенсионеры) получатся аномально большие значения. Исправить такие значения сложно, поэтому оставьте их как есть."
   ]
  },
  {
   "cell_type": "markdown",
   "id": "9652e50d",
   "metadata": {
    "deletable": false,
    "editable": false,
    "id": "9652e50d"
   },
   "source": [
    "**Задание 8. Выведите перечень уникальных значений столбца `children`.**"
   ]
  },
  {
   "cell_type": "code",
   "execution_count": 8,
   "id": "dbb37b8e",
   "metadata": {
    "deletable": false,
    "id": "dbb37b8e",
    "outputId": "6975b15c-7f95-4697-d16d-a0c79b657b03"
   },
   "outputs": [
    {
     "data": {
      "text/plain": [
       "array([ 1,  0,  3,  2, -1,  4, 20,  5])"
      ]
     },
     "execution_count": 8,
     "metadata": {},
     "output_type": "execute_result"
    }
   ],
   "source": [
    "data['children'].unique()"
   ]
  },
  {
   "cell_type": "markdown",
   "id": "2b8b0715",
   "metadata": {
    "deletable": false,
    "editable": false,
    "id": "2b8b0715"
   },
   "source": [
    "**Задание 9. В столбце `children` есть два аномальных значения. Удалите строки, в которых встречаются такие аномальные значения из датафрейма `data`.**"
   ]
  },
  {
   "cell_type": "code",
   "execution_count": 9,
   "id": "20009df8",
   "metadata": {
    "deletable": false,
    "id": "20009df8"
   },
   "outputs": [],
   "source": [
    "data = data[(data['children'] != -1) & (data['children'] != 20)]"
   ]
  },
  {
   "cell_type": "markdown",
   "id": "8c6ac9f1",
   "metadata": {
    "deletable": false,
    "editable": false,
    "id": "8c6ac9f1"
   },
   "source": [
    "**Задание 10. Ещё раз выведите перечень уникальных значений столбца `children`, чтобы убедиться, что артефакты удалены.**"
   ]
  },
  {
   "cell_type": "code",
   "execution_count": 10,
   "id": "07337b81",
   "metadata": {
    "deletable": false,
    "id": "07337b81",
    "outputId": "b2097101-d49d-44d9-901b-32a65c9463d1"
   },
   "outputs": [
    {
     "data": {
      "text/plain": [
       "array([1, 0, 3, 2, 4, 5])"
      ]
     },
     "execution_count": 10,
     "metadata": {},
     "output_type": "execute_result"
    }
   ],
   "source": [
    "data['children'].unique()"
   ]
  },
  {
   "cell_type": "markdown",
   "id": "ee3f52d4",
   "metadata": {
    "deletable": false,
    "editable": false,
    "id": "ee3f52d4"
   },
   "source": [
    "### Удаление пропусков (продолжение)"
   ]
  },
  {
   "cell_type": "markdown",
   "id": "a700b0e4",
   "metadata": {
    "deletable": false,
    "editable": false,
    "id": "a700b0e4"
   },
   "source": [
    "**Задание 11. Заполните пропуски в столбце `days_employed` медианными значениями по каждого типа занятости `income_type`.**"
   ]
  },
  {
   "cell_type": "code",
   "execution_count": 11,
   "id": "61946b83",
   "metadata": {
    "deletable": false,
    "id": "61946b83"
   },
   "outputs": [],
   "source": [
    "for t in data['income_type'].unique():\n",
    "    data.loc[(data['income_type'] == t) & (data['days_employed'].isna()), 'days_employed'] = \\\n",
    "    data.loc[(data['income_type'] == t), 'days_employed'].median()"
   ]
  },
  {
   "cell_type": "markdown",
   "id": "550dcd9b",
   "metadata": {
    "deletable": false,
    "editable": false,
    "id": "550dcd9b"
   },
   "source": [
    "**Задание 12. Убедитесь, что все пропуски заполнены. Проверьте себя и ещё раз выведите количество пропущенных значений для каждого столбца с помощью двух методов.**"
   ]
  },
  {
   "cell_type": "code",
   "execution_count": 12,
   "id": "937c7014",
   "metadata": {
    "deletable": false,
    "id": "937c7014",
    "outputId": "8da1e4e1-358e-4e87-98c9-f261bce0a7b2"
   },
   "outputs": [
    {
     "data": {
      "text/plain": [
       "children            0\n",
       "days_employed       0\n",
       "dob_years           0\n",
       "education           0\n",
       "education_id        0\n",
       "family_status       0\n",
       "family_status_id    0\n",
       "gender              0\n",
       "income_type         0\n",
       "debt                0\n",
       "total_income        0\n",
       "purpose             0\n",
       "dtype: int64"
      ]
     },
     "execution_count": 12,
     "metadata": {},
     "output_type": "execute_result"
    }
   ],
   "source": [
    "data.isna().sum()"
   ]
  },
  {
   "cell_type": "markdown",
   "id": "d522e295",
   "metadata": {
    "deletable": false,
    "editable": false,
    "id": "d522e295"
   },
   "source": [
    "### Изменение типов данных"
   ]
  },
  {
   "cell_type": "markdown",
   "id": "c229c581",
   "metadata": {
    "deletable": false,
    "editable": false,
    "id": "c229c581"
   },
   "source": [
    "**Задание 13. Замените вещественный тип данных в столбце `total_income` на целочисленный с помощью метода `astype()`.**"
   ]
  },
  {
   "cell_type": "code",
   "execution_count": 13,
   "id": "31036462",
   "metadata": {
    "deletable": false,
    "id": "31036462"
   },
   "outputs": [],
   "source": [
    "data['total_income'] = data['total_income'].astype(int)"
   ]
  },
  {
   "cell_type": "markdown",
   "id": "b8e3d1d9",
   "metadata": {
    "deletable": false,
    "editable": false,
    "id": "b8e3d1d9"
   },
   "source": [
    "### Обработка дубликатов"
   ]
  },
  {
   "cell_type": "markdown",
   "id": "9be53c49",
   "metadata": {
    "deletable": false,
    "editable": false,
    "id": "9be53c49"
   },
   "source": [
    "**Задание 14. Обработайте неявные дубликаты в столбце `education`. В этом столбце есть одни и те же значения, но записанные по-разному: с использованием заглавных и строчных букв. Приведите их к нижнему регистру.**"
   ]
  },
  {
   "cell_type": "code",
   "execution_count": 14,
   "id": "d89e73e1",
   "metadata": {
    "deletable": false,
    "id": "d89e73e1"
   },
   "outputs": [],
   "source": [
    "data['education'] = data['education'].str.lower()"
   ]
  },
  {
   "cell_type": "markdown",
   "id": "01d4500e",
   "metadata": {
    "deletable": false,
    "editable": false,
    "id": "01d4500e"
   },
   "source": [
    "**Задание 15. Выведите на экран количество строк-дубликатов в данных. Если такие строки присутствуют, удалите их.**"
   ]
  },
  {
   "cell_type": "code",
   "execution_count": 15,
   "id": "e10efb23",
   "metadata": {
    "deletable": false,
    "id": "e10efb23",
    "outputId": "9684deba-1934-42d1-99e1-cda61740f822"
   },
   "outputs": [
    {
     "data": {
      "text/plain": [
       "71"
      ]
     },
     "execution_count": 15,
     "metadata": {},
     "output_type": "execute_result"
    }
   ],
   "source": [
    "data.duplicated().sum()"
   ]
  },
  {
   "cell_type": "code",
   "execution_count": 16,
   "id": "df853f20",
   "metadata": {
    "deletable": false,
    "id": "df853f20"
   },
   "outputs": [],
   "source": [
    "data = data.drop_duplicates()"
   ]
  },
  {
   "cell_type": "markdown",
   "id": "627be38f",
   "metadata": {
    "deletable": false,
    "editable": false,
    "id": "627be38f"
   },
   "source": [
    "### Категоризация данных"
   ]
  },
  {
   "cell_type": "markdown",
   "id": "4684c3e0",
   "metadata": {
    "deletable": false,
    "editable": false,
    "id": "4684c3e0"
   },
   "source": [
    "**Задание 16. На основании диапазонов, указанных ниже, создайте в датафрейме `data` столбец `total_income_category` с категориями:**\n",
    "\n",
    "- 0–30000 — `'E'`;\n",
    "- 30001–50000 — `'D'`;\n",
    "- 50001–200000 — `'C'`;\n",
    "- 200001–1000000 — `'B'`;\n",
    "- 1000001 и выше — `'A'`.\n",
    "\n",
    "\n",
    "**Например, кредитополучателю с доходом 25000 нужно назначить категорию `'E'`, а клиенту, получающему 235000, — `'B'`. Используйте собственную функцию с именем `categorize_income()` и метод `apply()`.**"
   ]
  },
  {
   "cell_type": "code",
   "execution_count": 17,
   "id": "78965238",
   "metadata": {
    "deletable": false,
    "id": "78965238"
   },
   "outputs": [],
   "source": [
    "def categorize_income(income):\n",
    "    try:\n",
    "        if 0 <= income <= 30000:\n",
    "            return 'E'\n",
    "        elif 30001 <= income <= 50000:\n",
    "            return 'D'\n",
    "        elif 50001 <= income <= 200000:\n",
    "            return 'C'\n",
    "        elif 200001 <= income <= 1000000:\n",
    "            return 'B'\n",
    "        elif income >= 1000001:\n",
    "            return 'A'\n",
    "    except:\n",
    "        pass"
   ]
  },
  {
   "cell_type": "code",
   "execution_count": 18,
   "id": "0980ada1",
   "metadata": {
    "deletable": false,
    "id": "0980ada1"
   },
   "outputs": [],
   "source": [
    "data['total_income_category'] = data['total_income'].apply(categorize_income)"
   ]
  },
  {
   "cell_type": "markdown",
   "id": "9917bba0",
   "metadata": {
    "deletable": false,
    "editable": false,
    "id": "9917bba0"
   },
   "source": [
    "**Задание 17. Выведите на экран перечень уникальных целей взятия кредита из столбца `purpose`.**"
   ]
  },
  {
   "cell_type": "code",
   "execution_count": 19,
   "id": "ee07b65e",
   "metadata": {
    "deletable": false,
    "id": "ee07b65e",
    "outputId": "673c12d9-7d7e-4ae0-9812-c622c89dd244"
   },
   "outputs": [
    {
     "data": {
      "text/plain": [
       "array(['покупка жилья', 'приобретение автомобиля',\n",
       "       'дополнительное образование', 'сыграть свадьбу',\n",
       "       'операции с жильем', 'образование', 'на проведение свадьбы',\n",
       "       'покупка жилья для семьи', 'покупка недвижимости',\n",
       "       'покупка коммерческой недвижимости', 'покупка жилой недвижимости',\n",
       "       'строительство собственной недвижимости', 'недвижимость',\n",
       "       'строительство недвижимости', 'на покупку подержанного автомобиля',\n",
       "       'на покупку своего автомобиля',\n",
       "       'операции с коммерческой недвижимостью',\n",
       "       'строительство жилой недвижимости', 'жилье',\n",
       "       'операции со своей недвижимостью', 'автомобили',\n",
       "       'заняться образованием', 'сделка с подержанным автомобилем',\n",
       "       'получение образования', 'автомобиль', 'свадьба',\n",
       "       'получение дополнительного образования', 'покупка своего жилья',\n",
       "       'операции с недвижимостью', 'получение высшего образования',\n",
       "       'свой автомобиль', 'сделка с автомобилем',\n",
       "       'профильное образование', 'высшее образование',\n",
       "       'покупка жилья для сдачи', 'на покупку автомобиля', 'ремонт жилью',\n",
       "       'заняться высшим образованием'], dtype=object)"
      ]
     },
     "execution_count": 19,
     "metadata": {},
     "output_type": "execute_result"
    }
   ],
   "source": [
    "data['purpose'].unique()"
   ]
  },
  {
   "cell_type": "markdown",
   "id": "52b79d56",
   "metadata": {
    "deletable": false,
    "editable": false,
    "id": "52b79d56"
   },
   "source": [
    "**Задание 18. Создайте функцию, которая на основании данных из столбца `purpose` сформирует новый столбец `purpose_category`, в который войдут следующие категории:**\n",
    "\n",
    "- `'операции с автомобилем'`,\n",
    "- `'операции с недвижимостью'`,\n",
    "- `'проведение свадьбы'`,\n",
    "- `'получение образования'`.\n",
    "\n",
    "**Например, если в столбце `purpose` находится подстрока `'на покупку автомобиля'`, то в столбце `purpose_category` должна появиться строка `'операции с автомобилем'`.**\n",
    "\n",
    "**Используйте собственную функцию с именем `categorize_purpose()` и метод `apply()`. Изучите данные в столбце `purpose` и определите, какие подстроки помогут вам правильно определить категорию.**"
   ]
  },
  {
   "cell_type": "code",
   "execution_count": 20,
   "id": "be41da5d",
   "metadata": {
    "deletable": false,
    "id": "be41da5d"
   },
   "outputs": [],
   "source": [
    "def categorize_purpose(row):\n",
    "    try:\n",
    "        if 'автом' in row:\n",
    "            return 'операции с автомобилем'\n",
    "        elif 'жил' in row or 'недвиж' in row:\n",
    "            return 'операции с недвижимостью'\n",
    "        elif 'свад' in row:\n",
    "            return 'проведение свадьбы'\n",
    "        elif 'образов' in row:\n",
    "            return 'получение образования'\n",
    "    except:\n",
    "        return 'нет категории'"
   ]
  },
  {
   "cell_type": "code",
   "execution_count": 21,
   "id": "94c4a19a",
   "metadata": {
    "deletable": false,
    "id": "94c4a19a"
   },
   "outputs": [],
   "source": [
    "data['purpose_category'] = data['purpose'].apply(categorize_purpose)"
   ]
  },
  {
   "cell_type": "markdown",
   "id": "3d596c34",
   "metadata": {
    "deletable": false,
    "editable": false,
    "id": "3d596c34"
   },
   "source": [
    "### Шаг 3. Исследуйте данные и ответьте на вопросы"
   ]
  },
  {
   "cell_type": "markdown",
   "id": "648db036",
   "metadata": {
    "deletable": false,
    "editable": false,
    "id": "648db036"
   },
   "source": [
    "#### 3.1 Есть ли зависимость между количеством детей и возвратом кредита в срок?"
   ]
  },
  {
   "cell_type": "code",
   "execution_count": 22,
   "id": "7fcff25e",
   "metadata": {
    "deletable": false,
    "id": "7fcff25e",
    "scrolled": false
   },
   "outputs": [],
   "source": [
    "def debt_pivot(column): #функция, котрая будет принимать колонку таблиицы\n",
    "    debt_table = data.pivot_table(index=column, values= 'debt', aggfunc=['count', 'sum']) #создадим сводную таблицу\n",
    "    debt_table['diff'] = debt_table['sum']['debt'] / debt_table['count']['debt'] #узнаем конверсую по невыплаченым кредитам\n",
    "    debt_table_res = debt_table.reset_index() #сбросим старые индексы \n",
    "    debt_table_res['debt_percentage'] = debt_table_res['diff'].apply('{:.2%}'.format) #выведим колонку соотношения должников к общему колличеству кредитов в процентном соотношении\n",
    "    debt_table_res.rename(columns={'count':'total','sum':'debt', 'debt': ''} ,inplace=True) #переименуем столбцы, для более наглядного результата\n",
    "    return debt_table_res"
   ]
  },
  {
   "cell_type": "markdown",
   "id": "ba93e40b",
   "metadata": {},
   "source": [
    "<div class=\"alert-success\" style=\"padding: 20px; border-radius: 10px\">\n",
    "<b>Комментарий ревьюера ✔️</b>\n",
    "\n",
    "Отлично, что написала функцию для вывода сводных таблиц! 👍"
   ]
  },
  {
   "cell_type": "code",
   "execution_count": 23,
   "id": "a71d8f7e",
   "metadata": {},
   "outputs": [
    {
     "data": {
      "text/html": [
       "<div>\n",
       "<style scoped>\n",
       "    .dataframe tbody tr th:only-of-type {\n",
       "        vertical-align: middle;\n",
       "    }\n",
       "\n",
       "    .dataframe tbody tr th {\n",
       "        vertical-align: top;\n",
       "    }\n",
       "\n",
       "    .dataframe thead tr th {\n",
       "        text-align: left;\n",
       "    }\n",
       "</style>\n",
       "<table border=\"1\" class=\"dataframe\">\n",
       "  <thead>\n",
       "    <tr>\n",
       "      <th></th>\n",
       "      <th>children</th>\n",
       "      <th>total</th>\n",
       "      <th>debt</th>\n",
       "      <th>debt_percentage</th>\n",
       "    </tr>\n",
       "    <tr>\n",
       "      <th></th>\n",
       "      <th></th>\n",
       "      <th></th>\n",
       "      <th></th>\n",
       "      <th></th>\n",
       "    </tr>\n",
       "  </thead>\n",
       "  <tbody>\n",
       "    <tr>\n",
       "      <th>5</th>\n",
       "      <td>5</td>\n",
       "      <td>9</td>\n",
       "      <td>0</td>\n",
       "      <td>0.00%</td>\n",
       "    </tr>\n",
       "    <tr>\n",
       "      <th>0</th>\n",
       "      <td>0</td>\n",
       "      <td>14091</td>\n",
       "      <td>1063</td>\n",
       "      <td>7.54%</td>\n",
       "    </tr>\n",
       "    <tr>\n",
       "      <th>3</th>\n",
       "      <td>3</td>\n",
       "      <td>330</td>\n",
       "      <td>27</td>\n",
       "      <td>8.18%</td>\n",
       "    </tr>\n",
       "    <tr>\n",
       "      <th>1</th>\n",
       "      <td>1</td>\n",
       "      <td>4808</td>\n",
       "      <td>444</td>\n",
       "      <td>9.23%</td>\n",
       "    </tr>\n",
       "    <tr>\n",
       "      <th>2</th>\n",
       "      <td>2</td>\n",
       "      <td>2052</td>\n",
       "      <td>194</td>\n",
       "      <td>9.45%</td>\n",
       "    </tr>\n",
       "    <tr>\n",
       "      <th>4</th>\n",
       "      <td>4</td>\n",
       "      <td>41</td>\n",
       "      <td>4</td>\n",
       "      <td>9.76%</td>\n",
       "    </tr>\n",
       "  </tbody>\n",
       "</table>\n",
       "</div>"
      ],
      "text/plain": [
       "  children  total  debt debt_percentage\n",
       "                                       \n",
       "5        5      9     0           0.00%\n",
       "0        0  14091  1063           7.54%\n",
       "3        3    330    27           8.18%\n",
       "1        1   4808   444           9.23%\n",
       "2        2   2052   194           9.45%\n",
       "4        4     41     4           9.76%"
      ]
     },
     "execution_count": 23,
     "metadata": {},
     "output_type": "execute_result"
    }
   ],
   "source": [
    "children_debt = debt_pivot(data['children'])\n",
    "children_debt.drop('diff', axis=1, level=0).sort_values('debt_percentage')"
   ]
  },
  {
   "cell_type": "markdown",
   "id": "2eb9088e",
   "metadata": {
    "deletable": false,
    "id": "2eb9088e"
   },
   "source": [
    "**Вывод:** В среднем появление ребенка влияет отрицательно на выплату кредита в срок. Заемщики у котрых 1-2 ребенка вероятнее всего допустят просрочку по кредиту, нежели, чем те у кого нет детей."
   ]
  },
  {
   "cell_type": "markdown",
   "id": "c7f9fedd",
   "metadata": {},
   "source": [
    "<div class=\"alert-success\" style=\"border-radius: 10px; padding: 20px\">\n",
    "<b>Комментарий ревьюера V2 ✔️</b>\n",
    "\n",
    "Согласен, а если сравнить только самые многочисленные выборки с 0, 1 и 2 детьми, можно сказать, что чем больше у заемщика детей, тем выше риск допустить просрочку.</div>"
   ]
  },
  {
   "cell_type": "markdown",
   "id": "74c9b3a7",
   "metadata": {
    "deletable": false,
    "editable": false,
    "id": "74c9b3a7"
   },
   "source": [
    "#### 3.2 Есть ли зависимость между семейным положением и возвратом кредита в срок?"
   ]
  },
  {
   "cell_type": "code",
   "execution_count": 24,
   "id": "d1c7da55",
   "metadata": {
    "deletable": false,
    "id": "8098ab3b"
   },
   "outputs": [],
   "source": [
    "def debt_pivot(column): #функция, котрая будет принимать колонку таблиицы\n",
    "    debt_table = data.pivot_table(index=column, values= 'debt', aggfunc=['count', 'sum']) #создадим сводную таблицу\n",
    "    debt_table['diff'] = debt_table['sum']['debt'] / debt_table['count']['debt'] #узнаем конверсую по невыплаченым кредитам\n",
    "    debt_table_res = debt_table.reset_index() #сбросим старые индексы \n",
    "    debt_table_res['debt_percentage'] = debt_table_res['diff'].apply('{:.2%}'.format) #выведим колонку соотношения должников к общему колличеству кредитов в процентном соотношении\n",
    "    debt_table_res.rename(columns={'count':'total','sum':'debt', 'debt': ''} ,inplace=True) #переименуем столбцы, для более наглядного результата\n",
    "    return debt_table_res "
   ]
  },
  {
   "cell_type": "markdown",
   "id": "556104e5",
   "metadata": {},
   "source": [
    "<div class=\"alert-warning\" style=\"padding: 20px; border-radius: 10px\">\n",
    "<b>Комментарий ревьюера ⚠️</b>\n",
    "\n",
    "А для чего ты заново переписываешь функцию? Смысл функций в том, чтобы написать ее один раз для повторяющегося действия и вызывать ее с разными аргументами.\n"
   ]
  },
  {
   "cell_type": "markdown",
   "id": "f7ce59cc",
   "metadata": {},
   "source": [
    "<div class=\"alert-info\" style=\"padding: 20px; border-radius: 10px\">\n",
    "<b> Почему то подумала, что нужно ее повторить для каждого блока. Учту это замечение, спасибо.💎</b>"
   ]
  },
  {
   "cell_type": "code",
   "execution_count": 25,
   "id": "48e7b3eb",
   "metadata": {},
   "outputs": [
    {
     "data": {
      "text/html": [
       "<div>\n",
       "<style scoped>\n",
       "    .dataframe tbody tr th:only-of-type {\n",
       "        vertical-align: middle;\n",
       "    }\n",
       "\n",
       "    .dataframe tbody tr th {\n",
       "        vertical-align: top;\n",
       "    }\n",
       "\n",
       "    .dataframe thead tr th {\n",
       "        text-align: left;\n",
       "    }\n",
       "</style>\n",
       "<table border=\"1\" class=\"dataframe\">\n",
       "  <thead>\n",
       "    <tr>\n",
       "      <th></th>\n",
       "      <th>family_status</th>\n",
       "      <th>total</th>\n",
       "      <th>debt</th>\n",
       "      <th>debt_percentage</th>\n",
       "    </tr>\n",
       "    <tr>\n",
       "      <th></th>\n",
       "      <th></th>\n",
       "      <th></th>\n",
       "      <th></th>\n",
       "      <th></th>\n",
       "    </tr>\n",
       "  </thead>\n",
       "  <tbody>\n",
       "    <tr>\n",
       "      <th>2</th>\n",
       "      <td>вдовец / вдова</td>\n",
       "      <td>951</td>\n",
       "      <td>63</td>\n",
       "      <td>6.62%</td>\n",
       "    </tr>\n",
       "    <tr>\n",
       "      <th>1</th>\n",
       "      <td>в разводе</td>\n",
       "      <td>1189</td>\n",
       "      <td>84</td>\n",
       "      <td>7.06%</td>\n",
       "    </tr>\n",
       "    <tr>\n",
       "      <th>4</th>\n",
       "      <td>женат / замужем</td>\n",
       "      <td>12261</td>\n",
       "      <td>927</td>\n",
       "      <td>7.56%</td>\n",
       "    </tr>\n",
       "    <tr>\n",
       "      <th>3</th>\n",
       "      <td>гражданский брак</td>\n",
       "      <td>4134</td>\n",
       "      <td>385</td>\n",
       "      <td>9.31%</td>\n",
       "    </tr>\n",
       "    <tr>\n",
       "      <th>0</th>\n",
       "      <td>Не женат / не замужем</td>\n",
       "      <td>2796</td>\n",
       "      <td>273</td>\n",
       "      <td>9.76%</td>\n",
       "    </tr>\n",
       "  </tbody>\n",
       "</table>\n",
       "</div>"
      ],
      "text/plain": [
       "           family_status  total debt debt_percentage\n",
       "                                                    \n",
       "2         вдовец / вдова    951   63           6.62%\n",
       "1              в разводе   1189   84           7.06%\n",
       "4        женат / замужем  12261  927           7.56%\n",
       "3       гражданский брак   4134  385           9.31%\n",
       "0  Не женат / не замужем   2796  273           9.76%"
      ]
     },
     "execution_count": 25,
     "metadata": {},
     "output_type": "execute_result"
    }
   ],
   "source": [
    "family_status_debt = debt_pivot(data['family_status'])\n",
    "family_status_debt.drop('diff', axis=1, level=0).sort_values('debt_percentage')"
   ]
  },
  {
   "cell_type": "markdown",
   "id": "c389ca63",
   "metadata": {
    "deletable": false,
    "id": "c389ca63"
   },
   "source": [
    "**Вывод:** Не женатые/ Не замужние или люди в гражданском браке чаще выплачивают кредит в срок, чем вдовцы /вдовы."
   ]
  },
  {
   "cell_type": "markdown",
   "id": "35d229fc",
   "metadata": {},
   "source": [
    "<div class=\"alert-warning\" style=\"padding: 20px;\n",
    "border-radius: 10px\">\n",
    "<b>Комментарий ревьюера ⚠️</b>\n",
    "\n",
    "Какую можно выявить зависимость, если обобщить категории по отношению к официальному браку?</div>"
   ]
  },
  {
   "cell_type": "markdown",
   "id": "a761c49f",
   "metadata": {},
   "source": [
    "<div class=\"alert-info\" style=\"padding: 20px; border-radius: 10px\">\n",
    "<b> Люди, не состоящие в браке или в гражданском браке являются более надежными заемщиками.💎</b>"
   ]
  },
  {
   "cell_type": "markdown",
   "id": "95a3c16d",
   "metadata": {},
   "source": [
    "<div class=\"alert-success\" style=\"border-radius: 10px; padding: 20px\">\n",
    "<b>Комментарий ревьюера V2 ✔️</b>\n",
    "\n",
    "Я бы сказал так, что заемщики состоящие или состоявшие в браке выглядят более надежными.</div>"
   ]
  },
  {
   "cell_type": "markdown",
   "id": "9529de68",
   "metadata": {
    "deletable": false,
    "editable": false,
    "id": "9529de68"
   },
   "source": [
    "#### 3.3 Есть ли зависимость между уровнем дохода и возвратом кредита в срок?"
   ]
  },
  {
   "cell_type": "code",
   "execution_count": 26,
   "id": "8787f44a",
   "metadata": {
    "deletable": false,
    "id": "8787f44a"
   },
   "outputs": [],
   "source": [
    "def debt_pivot(column): #функция, котрая будет принимать колонку таблиицы\n",
    "    debt_table = data.pivot_table(index=column, values= 'debt', aggfunc=['count', 'sum']) #создадим сводную таблицу\n",
    "    debt_table['diff'] = debt_table['sum']['debt'] / debt_table['count']['debt'] #узнаем конверсую по невыплаченым кредитам\n",
    "    debt_table_res = debt_table.reset_index() #сбросим старые индексы \n",
    "    debt_table_res['debt_percentage'] = debt_table_res['diff'].apply('{:.2%}'.format) #выведим колонку соотношения должников к общему колличеству кредитов в процентном соотношении\n",
    "    debt_table_res.rename(columns={'count':'total','sum':'debt', 'debt': ''} ,inplace=True) #переименуем столбцы, для более наглядного результата\n",
    "    return debt_table_res "
   ]
  },
  {
   "cell_type": "code",
   "execution_count": 27,
   "id": "ba69e313",
   "metadata": {},
   "outputs": [
    {
     "data": {
      "text/html": [
       "<div>\n",
       "<style scoped>\n",
       "    .dataframe tbody tr th:only-of-type {\n",
       "        vertical-align: middle;\n",
       "    }\n",
       "\n",
       "    .dataframe tbody tr th {\n",
       "        vertical-align: top;\n",
       "    }\n",
       "\n",
       "    .dataframe thead tr th {\n",
       "        text-align: left;\n",
       "    }\n",
       "</style>\n",
       "<table border=\"1\" class=\"dataframe\">\n",
       "  <thead>\n",
       "    <tr>\n",
       "      <th></th>\n",
       "      <th>total_income_category</th>\n",
       "      <th>total</th>\n",
       "      <th>debt</th>\n",
       "      <th>debt_percentage</th>\n",
       "    </tr>\n",
       "    <tr>\n",
       "      <th></th>\n",
       "      <th></th>\n",
       "      <th></th>\n",
       "      <th></th>\n",
       "      <th></th>\n",
       "    </tr>\n",
       "  </thead>\n",
       "  <tbody>\n",
       "    <tr>\n",
       "      <th>3</th>\n",
       "      <td>D</td>\n",
       "      <td>349</td>\n",
       "      <td>21</td>\n",
       "      <td>6.02%</td>\n",
       "    </tr>\n",
       "    <tr>\n",
       "      <th>1</th>\n",
       "      <td>B</td>\n",
       "      <td>5014</td>\n",
       "      <td>354</td>\n",
       "      <td>7.06%</td>\n",
       "    </tr>\n",
       "    <tr>\n",
       "      <th>0</th>\n",
       "      <td>A</td>\n",
       "      <td>25</td>\n",
       "      <td>2</td>\n",
       "      <td>8.00%</td>\n",
       "    </tr>\n",
       "    <tr>\n",
       "      <th>2</th>\n",
       "      <td>C</td>\n",
       "      <td>15921</td>\n",
       "      <td>1353</td>\n",
       "      <td>8.50%</td>\n",
       "    </tr>\n",
       "    <tr>\n",
       "      <th>4</th>\n",
       "      <td>E</td>\n",
       "      <td>22</td>\n",
       "      <td>2</td>\n",
       "      <td>9.09%</td>\n",
       "    </tr>\n",
       "  </tbody>\n",
       "</table>\n",
       "</div>"
      ],
      "text/plain": [
       "  total_income_category  total  debt debt_percentage\n",
       "                                                    \n",
       "3                     D    349    21           6.02%\n",
       "1                     B   5014   354           7.06%\n",
       "0                     A     25     2           8.00%\n",
       "2                     C  15921  1353           8.50%\n",
       "4                     E     22     2           9.09%"
      ]
     },
     "execution_count": 27,
     "metadata": {},
     "output_type": "execute_result"
    }
   ],
   "source": [
    "total_income_debt = debt_pivot(data['total_income_category'])\n",
    "total_income_debt.drop('diff', axis=1, level=0).sort_values('debt_percentage')"
   ]
  },
  {
   "cell_type": "markdown",
   "id": "6dd14b57",
   "metadata": {
    "deletable": false,
    "id": "6dd14b57"
   },
   "source": [
    "**Вывод:** Заемщики у которых заработная плата более 200000 являются самыми надежными в возрате кредита."
   ]
  },
  {
   "cell_type": "markdown",
   "id": "d88bd425",
   "metadata": {},
   "source": [
    "<div class=\"alert-danger\" style=\"padding: 20px; border-radius: 10px\">\n",
    "\n",
    "<b>Комментарий ревьюера ❌</b></h5>\n",
    "\n",
    "<s>Обрати внимание, как сильно отличаются группы по количеству участников.\n",
    "\n",
    "Какую можно выявить зависимость, если сравнить только две самые многочисленные выборки?</div>"
   ]
  },
  {
   "cell_type": "markdown",
   "id": "170a2f5c",
   "metadata": {
    "id": "8098ab3b"
   },
   "source": [
    "<div class=\"alert-info\" style=\"padding: 20px; border-radius: 10px\">\n",
    "<b> Заемщики, у которых заработная плата 200 000 и 1000 000 являются надежными в возврате кредита, но люди у которых заработная плата меньше 30 000 выплачивают кредит более охотно, чем те, у кого доход 1000 000.💎</b>"
   ]
  },
  {
   "cell_type": "markdown",
   "id": "b0c00e50",
   "metadata": {},
   "source": [
    "<div class=\"alert-warning\" style=\"border-radius: 10px;  padding: 20px\">\n",
    "<b>Комментарий ревьюера V2 ⚠️</b>\n",
    "\n",
    "Если тут сравнить две самые большие категории B и C можно сделать вывод, что заемщики с более высоким доходом платят кредит лучше. Также в качестве рекомендации можно предложить банку изменить градацию дохода, чтобы получить более сбалансированные выборки.</div>"
   ]
  },
  {
   "cell_type": "markdown",
   "id": "1dcc9b12",
   "metadata": {
    "deletable": false,
    "editable": false,
    "id": "1dcc9b12"
   },
   "source": [
    "#### 3.4 Как разные цели кредита влияют на его возврат в срок?"
   ]
  },
  {
   "cell_type": "code",
   "execution_count": 28,
   "id": "c602bc8b",
   "metadata": {
    "deletable": false,
    "id": "c602bc8b"
   },
   "outputs": [],
   "source": [
    "def debt_pivot(column): #функция, котрая будет принимать колонку таблиицы\n",
    "    debt_table = data.pivot_table(index=column, values= 'debt', aggfunc=['count', 'sum']) #создадим сводную таблицу\n",
    "    debt_table['diff'] = debt_table['sum']['debt'] / debt_table['count']['debt'] #узнаем конверсую по невыплаченым кредитам\n",
    "    debt_table_res = debt_table.reset_index() #сбросим старые индексы \n",
    "    debt_table_res['debt_percentage'] = debt_table_res['diff'].apply('{:.2%}'.format) #выведим колонку соотношения должников к общему колличеству кредитов в процентном соотношении\n",
    "    debt_table_res.rename(columns={'count':'total','sum':'debt', 'debt': ''} ,inplace=True) #переименуем столбцы, для более наглядного результата\n",
    "    return debt_table_res "
   ]
  },
  {
   "cell_type": "code",
   "execution_count": 29,
   "id": "ecd337a5",
   "metadata": {},
   "outputs": [
    {
     "data": {
      "text/html": [
       "<div>\n",
       "<style scoped>\n",
       "    .dataframe tbody tr th:only-of-type {\n",
       "        vertical-align: middle;\n",
       "    }\n",
       "\n",
       "    .dataframe tbody tr th {\n",
       "        vertical-align: top;\n",
       "    }\n",
       "\n",
       "    .dataframe thead tr th {\n",
       "        text-align: left;\n",
       "    }\n",
       "</style>\n",
       "<table border=\"1\" class=\"dataframe\">\n",
       "  <thead>\n",
       "    <tr>\n",
       "      <th></th>\n",
       "      <th>purpose_category</th>\n",
       "      <th>total</th>\n",
       "      <th>debt</th>\n",
       "      <th>debt_percentage</th>\n",
       "    </tr>\n",
       "    <tr>\n",
       "      <th></th>\n",
       "      <th></th>\n",
       "      <th></th>\n",
       "      <th></th>\n",
       "      <th></th>\n",
       "    </tr>\n",
       "  </thead>\n",
       "  <tbody>\n",
       "    <tr>\n",
       "      <th>1</th>\n",
       "      <td>операции с недвижимостью</td>\n",
       "      <td>10751</td>\n",
       "      <td>780</td>\n",
       "      <td>7.26%</td>\n",
       "    </tr>\n",
       "    <tr>\n",
       "      <th>3</th>\n",
       "      <td>проведение свадьбы</td>\n",
       "      <td>2313</td>\n",
       "      <td>183</td>\n",
       "      <td>7.91%</td>\n",
       "    </tr>\n",
       "    <tr>\n",
       "      <th>2</th>\n",
       "      <td>получение образования</td>\n",
       "      <td>3988</td>\n",
       "      <td>369</td>\n",
       "      <td>9.25%</td>\n",
       "    </tr>\n",
       "    <tr>\n",
       "      <th>0</th>\n",
       "      <td>операции с автомобилем</td>\n",
       "      <td>4279</td>\n",
       "      <td>400</td>\n",
       "      <td>9.35%</td>\n",
       "    </tr>\n",
       "  </tbody>\n",
       "</table>\n",
       "</div>"
      ],
      "text/plain": [
       "           purpose_category  total debt debt_percentage\n",
       "                                                       \n",
       "1  операции с недвижимостью  10751  780           7.26%\n",
       "3        проведение свадьбы   2313  183           7.91%\n",
       "2     получение образования   3988  369           9.25%\n",
       "0    операции с автомобилем   4279  400           9.35%"
      ]
     },
     "execution_count": 29,
     "metadata": {},
     "output_type": "execute_result"
    }
   ],
   "source": [
    "purpose_debt = debt_pivot(data['purpose_category'])\n",
    "purpose_debt.drop('diff', axis=1, level=0).sort_values('debt_percentage')"
   ]
  },
  {
   "cell_type": "markdown",
   "id": "cf05ed63",
   "metadata": {
    "deletable": false,
    "id": "cf05ed63"
   },
   "source": [
    "**Вывод:** Люди, котрые взяли кредит на операции с недвижимостью и проведение свадьбы с большей вероятностью выплатят его в срок, чем те кто взял кредит на покупку автомобиля"
   ]
  },
  {
   "cell_type": "markdown",
   "id": "22969281",
   "metadata": {},
   "source": [
    "<div class=\"alert-success\" style=\"padding: 20px; border-radius: 10px\">\n",
    "<b>Комментарий ревьюера ✔️</b>\n",
    "\n",
    "Всё правильно. 👌</div>"
   ]
  },
  {
   "cell_type": "markdown",
   "id": "46c1f10b",
   "metadata": {
    "deletable": false,
    "editable": false,
    "id": "46c1f10b"
   },
   "source": [
    "#### 3.5 Приведите возможные причины появления пропусков в исходных данных."
   ]
  },
  {
   "cell_type": "markdown",
   "id": "3697d2a9",
   "metadata": {
    "deletable": false,
    "id": "3697d2a9"
   },
   "source": [
    "*Ответ:* Скорее всего это техническая ошибка при выгрузке данных"
   ]
  },
  {
   "cell_type": "markdown",
   "id": "263cc6da",
   "metadata": {},
   "source": [
    "<div class=\"alert-warning\" style=\"padding: 20px; border-radius: 10px\">\n",
    "<b>Комментарий ревьюера ⚠️</b>\n",
    "\n",
    "Кроме технических ошибок, что ещё может стать причиной возникновения пропусков в данных?</div>"
   ]
  },
  {
   "cell_type": "markdown",
   "id": "3137d257",
   "metadata": {
    "deletable": false,
    "editable": false,
    "id": "3137d257"
   },
   "source": [
    "#### 3.6 Объясните, почему заполнить пропуски медианным значением — лучшее решение для количественных переменных."
   ]
  },
  {
   "cell_type": "markdown",
   "id": "cf40012a",
   "metadata": {
    "deletable": false,
    "id": "cf40012a"
   },
   "source": [
    "*Ответ:* Потому что значений много, и для пропусков более корректной информации лучше взять медианну этих значений."
   ]
  },
  {
   "cell_type": "markdown",
   "id": "0b581bdd",
   "metadata": {},
   "source": [
    "<div class=\"alert-danger\" style=\"padding: 20px; border-radius: 10px\">\n",
    "<b>Комментарий ревьюера ❌</b></h5>\n",
    "\n",
    "<s>Поясни пожалуйста поподробнее, почему медиана предпочтительнее чем среднее значение?</div>"
   ]
  },
  {
   "cell_type": "markdown",
   "id": "35d3424e",
   "metadata": {},
   "source": [
    "<div class=\"alert-info\" style=\"padding: 20px; border-radius: 10px\">\n",
    "<b>  В данных есть выдающиеся значения разных категорий, не будет корректного анализа, поэтому лучше использовать медианну.💎</b>"
   ]
  },
  {
   "cell_type": "markdown",
   "id": "7da56728",
   "metadata": {},
   "source": [
    "<div class=\"alert-success\" style=\"padding: 20px; border-radius: 10px\">\n",
    "<b>Комментарий ревьюера V2 ✔️</b>\n",
    " \n",
    "Медиана менее чувствительна к выбросам, чем среднее значение. Для примера можешь рассчитать и сравнить медиану и среднее значение для столбца `days_employed`.</div>"
   ]
  },
  {
   "cell_type": "markdown",
   "id": "57bc304e",
   "metadata": {
    "deletable": false,
    "editable": false,
    "id": "57bc304e"
   },
   "source": [
    "### Шаг 4: общий вывод."
   ]
  },
  {
   "cell_type": "markdown",
   "id": "1ab75d1c",
   "metadata": {
    "deletable": false,
    "id": "1ab75d1c"
   },
   "source": [
    "Заказчик — кредитный отдел банка. Нужно разобраться, влияет ли семейное положение и количество детей клиента на факт погашения кредита в срок. Входные данные от банка — статистика о платёжеспособности клиентов.\n",
    "\n",
    "children — количество детей в семье\n",
    "days_employed — общий трудовой стаж в днях\n",
    "dob_years — возраст клиента в годах\n",
    "education — уровень образования клиента\n",
    "education_id — идентификатор уровня образования\n",
    "family_status — семейное положение\n",
    "family_status_id — идентификатор семейного положения\n",
    "gender — пол клиента\n",
    "income_type — тип занятости\n",
    "debt — имел ли задолженность по возврату кредитов\n",
    "total_income — ежемесячный доход\n",
    "purpose — цель получения кредита\n",
    "\n",
    "В ходе анализа исходных данных обнаружили, что есть пропущенные и отрицательные значения. Обработали данные: заменив пропуски на медианное значение. Преобразовали отрицательные значения, которые скорее всего были допущены в результате технической ошибки. Заменили вещественный тип данных в столбце \"total_income\" на целочисленный с помощью метода astupe(). Сгруппировали данные по доходу заемщика и по целям кредита. Для этого сформировали новые столбцы уже с сгруппированными данными. После группировки вывели в процентном соотношении зависимость долга заемщика от количества детей, семейного положения, дохода, и на какие цели взят кредит.\n",
    "\n",
    "По выдвинутым гипотезам можно судить, что корреляция невысокая. Нельзя утверждать, что какой-либо параметр проверенным нами однозначно влияет на возврат кредита в срок. Тем не менее можно сказать, что вероятнее всего просрочку по кредите допустит тот, у кого 1-2 ребенка, не состоящие в браке или же в гражданском браке, с уровнем дохода до 200 000, скорее всего целью кредита будет покупка автомобиля или получение образования. Совпадение всех факторов приведет к  проблеме возврата кредита в срок.\n",
    "\n",
    "При построении модели кредитного скоринга рекомендуем учитывать все данные факторы: наличие детей, семейное положение, уровень дохода, цель кредита. Для более точных результатов анализа рекомендуется более подробный сбор данных.\n"
   ]
  },
  {
   "cell_type": "markdown",
   "id": "62bbe237",
   "metadata": {},
   "source": [
    "<div class=\"alert-warning\" style=\"padding: 20px; border-radius: 10px\">\n",
    "<b>Комментарий ревьюера ⚠️</b>\n",
    "\n",
    "<s>Структура вывода правильная, но стоит описать выявленные зависимости в более общем виде, например:\n",
    "    \n",
    ">Чем больше у заемщика детей, тем выше риск просрочки."
   ]
  },
  {
   "cell_type": "markdown",
   "id": "b0456e6e",
   "metadata": {},
   "source": [
    "<div class=\"alert-info\" style=\"padding: 20px; border-radius: 10px\">\n",
    "<b>   ... По выдвинутым гипотезам можно судить, что корреляция невысокая. Нельзя утверждать, что какой-либо параметр проверенным нами однозначно влияет на возврат кредита в срок. Тем не менее можно сказать, что чем больше у заемщика детей, тем выше риск допустить просрочку. Люди, не состоящие в браке или в гражданском браке являются более надежными заемщиками. Заемщики, у которых заработная плата 200 000 и 1000 000 являются надежными в возврате кредита, но люди у которых заработная плата меньше 30 000 выплачивают кредит более охотно, чем те, у кого доход 1000 000. Люди, которые взяли кредит на операции с недвижимостью и проведение свадьбы с большей вероятностью выплатят его в срок, чем те кто взял кредит на покупку автомобиля\n",
    " Совпадение всех факторов приведет к проблеме возврата кредита в срок...💎</b>"
   ]
  },
  {
   "cell_type": "markdown",
   "id": "5cfe90b5",
   "metadata": {},
   "source": [
    "<div class=\"alert-success\" style=\"padding: 20px; border-radius: 10px\">\n",
    "<b>Комментарий ревьюера V2 ✔️</b>\n",
    "\n",
    "Хорошие дополнения к общему выводу.\n",
    "\n",
    "</div>"
   ]
  },
  {
   "cell_type": "markdown",
   "id": "6e60ee05",
   "metadata": {},
   "source": [
    "<div style=\"border:solid steelblue 3px; padding: 20px; border-radius: 10px\">\n",
    "\n",
    "<h5><b>🏁 Общий комментарий ревьюера:</b></h5>\n",
    "\n",
    "Ты хорошо поработала над проектом, в целом все круто, но нужно кое-что исправить, чтобы я его принял.\n",
    "\n",
    "У меня есть несколько критических замечаний:\n",
    "\n",
    "- по выявлению зависимости просрочки от уровня дохода\n",
    "- по вопросу касательно заполнения пропусков медианой\n",
    "\n",
    "Также, постарайся отработать желтые комментарии.\n",
    "\n",
    "Буду ждать твой доработанный проект. ⌛️</div>"
   ]
  },
  {
   "cell_type": "markdown",
   "id": "e38d118d",
   "metadata": {},
   "source": [
    "<div style=\"border:solid steelblue 3px; padding: 20px; border-radius: 10px\">\n",
    "\n",
    "<h5><b>🏁 Общий комментарий ревьюера V2</b></h5>\n",
    "\n",
    "Критических замечаний нет, отдельные моменты дополнительно прокомментировал, их стоит поправить в финальной версии твоего проекта для портфолио.\n",
    "\n",
    "Успехов в дальнейшем обучении! 🏆\n",
    "\n",
    "</div>"
   ]
  }
 ],
 "metadata": {
  "ExecuteTimeLog": [
   {
    "duration": 489,
    "start_time": "2023-10-05T10:53:36.829Z"
   },
   {
    "duration": 76,
    "start_time": "2023-10-09T06:19:24.153Z"
   },
   {
    "duration": 161,
    "start_time": "2023-10-09T06:21:48.760Z"
   },
   {
    "duration": 81,
    "start_time": "2023-10-09T06:21:52.027Z"
   },
   {
    "duration": 97,
    "start_time": "2023-10-09T06:22:43.110Z"
   },
   {
    "duration": 71,
    "start_time": "2023-10-09T06:23:57.899Z"
   },
   {
    "duration": 232,
    "start_time": "2023-10-09T06:29:19.971Z"
   },
   {
    "duration": 4,
    "start_time": "2023-10-09T06:30:05.710Z"
   },
   {
    "duration": 6,
    "start_time": "2023-10-09T06:30:08.945Z"
   },
   {
    "duration": 7,
    "start_time": "2023-10-09T06:32:25.369Z"
   },
   {
    "duration": 4,
    "start_time": "2023-10-09T06:34:16.363Z"
   },
   {
    "duration": 5,
    "start_time": "2023-10-09T06:34:18.914Z"
   },
   {
    "duration": 1149,
    "start_time": "2023-10-09T06:39:12.230Z"
   },
   {
    "duration": 30,
    "start_time": "2023-10-09T06:39:13.381Z"
   },
   {
    "duration": 14,
    "start_time": "2023-10-09T06:39:13.413Z"
   },
   {
    "duration": 26,
    "start_time": "2023-10-09T06:39:13.429Z"
   },
   {
    "duration": 30,
    "start_time": "2023-10-09T06:39:13.457Z"
   },
   {
    "duration": 3,
    "start_time": "2023-10-09T06:39:13.489Z"
   },
   {
    "duration": 43,
    "start_time": "2023-10-09T06:39:13.493Z"
   },
   {
    "duration": 18,
    "start_time": "2023-10-09T06:39:13.538Z"
   },
   {
    "duration": 8,
    "start_time": "2023-10-09T06:39:13.558Z"
   },
   {
    "duration": 9,
    "start_time": "2023-10-09T06:39:13.568Z"
   },
   {
    "duration": 45,
    "start_time": "2023-10-09T06:39:13.578Z"
   },
   {
    "duration": 15,
    "start_time": "2023-10-09T06:39:13.625Z"
   },
   {
    "duration": 14,
    "start_time": "2023-10-09T06:39:13.641Z"
   },
   {
    "duration": 16,
    "start_time": "2023-10-09T06:39:13.656Z"
   },
   {
    "duration": 28,
    "start_time": "2023-10-09T06:39:13.674Z"
   },
   {
    "duration": 16,
    "start_time": "2023-10-09T06:39:13.704Z"
   },
   {
    "duration": 3,
    "start_time": "2023-10-09T06:39:13.721Z"
   },
   {
    "duration": 31,
    "start_time": "2023-10-09T06:39:13.726Z"
   },
   {
    "duration": 9,
    "start_time": "2023-10-09T06:39:13.758Z"
   },
   {
    "duration": 3,
    "start_time": "2023-10-09T06:39:13.769Z"
   },
   {
    "duration": 18,
    "start_time": "2023-10-09T06:39:13.773Z"
   },
   {
    "duration": 3,
    "start_time": "2023-10-09T06:39:13.792Z"
   },
   {
    "duration": 29,
    "start_time": "2023-10-09T06:39:13.797Z"
   },
   {
    "duration": 2,
    "start_time": "2023-10-09T06:39:13.827Z"
   },
   {
    "duration": 19,
    "start_time": "2023-10-09T06:39:13.831Z"
   },
   {
    "duration": 18,
    "start_time": "2023-10-09T06:39:13.851Z"
   },
   {
    "duration": 28,
    "start_time": "2023-10-09T09:29:17.598Z"
   },
   {
    "duration": 54,
    "start_time": "2023-10-09T09:33:29.034Z"
   },
   {
    "duration": 4,
    "start_time": "2023-10-09T09:37:06.510Z"
   },
   {
    "duration": 444,
    "start_time": "2023-10-09T09:37:14.440Z"
   },
   {
    "duration": 19,
    "start_time": "2023-10-09T09:37:14.886Z"
   },
   {
    "duration": 13,
    "start_time": "2023-10-09T09:37:14.907Z"
   },
   {
    "duration": 20,
    "start_time": "2023-10-09T09:37:14.922Z"
   },
   {
    "duration": 35,
    "start_time": "2023-10-09T09:37:14.944Z"
   },
   {
    "duration": 3,
    "start_time": "2023-10-09T09:37:14.980Z"
   },
   {
    "duration": 13,
    "start_time": "2023-10-09T09:37:14.984Z"
   },
   {
    "duration": 44,
    "start_time": "2023-10-09T09:37:14.999Z"
   },
   {
    "duration": 25,
    "start_time": "2023-10-09T09:37:15.045Z"
   },
   {
    "duration": 15,
    "start_time": "2023-10-09T09:37:15.073Z"
   },
   {
    "duration": 42,
    "start_time": "2023-10-09T09:37:15.089Z"
   },
   {
    "duration": 7,
    "start_time": "2023-10-09T09:37:15.133Z"
   },
   {
    "duration": 7,
    "start_time": "2023-10-09T09:37:15.142Z"
   },
   {
    "duration": 13,
    "start_time": "2023-10-09T09:37:15.150Z"
   },
   {
    "duration": 18,
    "start_time": "2023-10-09T09:37:15.165Z"
   },
   {
    "duration": 17,
    "start_time": "2023-10-09T09:37:15.184Z"
   },
   {
    "duration": 9,
    "start_time": "2023-10-09T09:37:15.202Z"
   },
   {
    "duration": 27,
    "start_time": "2023-10-09T09:37:15.212Z"
   },
   {
    "duration": 13,
    "start_time": "2023-10-09T09:37:15.241Z"
   },
   {
    "duration": 5,
    "start_time": "2023-10-09T09:37:15.255Z"
   },
   {
    "duration": 9,
    "start_time": "2023-10-09T09:37:15.262Z"
   },
   {
    "duration": 6,
    "start_time": "2023-10-09T09:37:15.273Z"
   },
   {
    "duration": 35,
    "start_time": "2023-10-09T09:37:15.281Z"
   },
   {
    "duration": 4,
    "start_time": "2023-10-09T09:37:15.317Z"
   },
   {
    "duration": 57,
    "start_time": "2023-10-09T09:37:15.322Z"
   },
   {
    "duration": 3,
    "start_time": "2023-10-09T09:37:15.381Z"
   },
   {
    "duration": 75,
    "start_time": "2023-10-09T09:37:15.385Z"
   },
   {
    "duration": 4,
    "start_time": "2023-10-09T09:37:15.463Z"
   },
   {
    "duration": 58,
    "start_time": "2023-10-09T09:37:15.468Z"
   },
   {
    "duration": 7,
    "start_time": "2023-10-09T09:37:44.530Z"
   },
   {
    "duration": 446,
    "start_time": "2023-10-09T09:37:56.430Z"
   },
   {
    "duration": 19,
    "start_time": "2023-10-09T09:37:56.877Z"
   },
   {
    "duration": 22,
    "start_time": "2023-10-09T09:37:56.897Z"
   },
   {
    "duration": 8,
    "start_time": "2023-10-09T09:37:56.921Z"
   },
   {
    "duration": 38,
    "start_time": "2023-10-09T09:37:56.930Z"
   },
   {
    "duration": 3,
    "start_time": "2023-10-09T09:37:56.969Z"
   },
   {
    "duration": 8,
    "start_time": "2023-10-09T09:37:56.973Z"
   },
   {
    "duration": 9,
    "start_time": "2023-10-09T09:37:56.982Z"
   },
   {
    "duration": 7,
    "start_time": "2023-10-09T09:37:56.992Z"
   },
   {
    "duration": 4,
    "start_time": "2023-10-09T09:37:57.001Z"
   },
   {
    "duration": 37,
    "start_time": "2023-10-09T09:37:57.006Z"
   },
   {
    "duration": 8,
    "start_time": "2023-10-09T09:37:57.044Z"
   },
   {
    "duration": 3,
    "start_time": "2023-10-09T09:37:57.053Z"
   },
   {
    "duration": 13,
    "start_time": "2023-10-09T09:37:57.057Z"
   },
   {
    "duration": 18,
    "start_time": "2023-10-09T09:37:57.071Z"
   },
   {
    "duration": 15,
    "start_time": "2023-10-09T09:37:57.091Z"
   },
   {
    "duration": 3,
    "start_time": "2023-10-09T09:37:57.107Z"
   },
   {
    "duration": 32,
    "start_time": "2023-10-09T09:37:57.111Z"
   },
   {
    "duration": 5,
    "start_time": "2023-10-09T09:37:57.144Z"
   },
   {
    "duration": 21,
    "start_time": "2023-10-09T09:37:57.150Z"
   },
   {
    "duration": 30,
    "start_time": "2023-10-09T09:37:57.172Z"
   },
   {
    "duration": 7,
    "start_time": "2023-10-09T09:37:57.203Z"
   },
   {
    "duration": 30,
    "start_time": "2023-10-09T09:37:57.211Z"
   },
   {
    "duration": 3,
    "start_time": "2023-10-09T09:37:57.242Z"
   },
   {
    "duration": 32,
    "start_time": "2023-10-09T09:37:57.246Z"
   },
   {
    "duration": 5,
    "start_time": "2023-10-09T09:37:57.279Z"
   },
   {
    "duration": 56,
    "start_time": "2023-10-09T09:37:57.285Z"
   },
   {
    "duration": 3,
    "start_time": "2023-10-09T09:37:57.344Z"
   },
   {
    "duration": 39,
    "start_time": "2023-10-09T09:37:57.348Z"
   },
   {
    "duration": 3,
    "start_time": "2023-10-09T09:38:06.977Z"
   },
   {
    "duration": 7,
    "start_time": "2023-10-09T09:38:07.725Z"
   },
   {
    "duration": 9,
    "start_time": "2023-10-09T09:38:22.556Z"
   },
   {
    "duration": 7,
    "start_time": "2023-10-09T09:39:47.435Z"
   },
   {
    "duration": 30,
    "start_time": "2023-10-09T09:40:32.276Z"
   },
   {
    "duration": 78,
    "start_time": "2023-10-09T09:41:28.023Z"
   },
   {
    "duration": 28,
    "start_time": "2023-10-09T09:41:33.035Z"
   },
   {
    "duration": 728,
    "start_time": "2023-10-09T15:35:17.119Z"
   },
   {
    "duration": 20,
    "start_time": "2023-10-09T15:35:17.848Z"
   },
   {
    "duration": 16,
    "start_time": "2023-10-09T15:35:17.870Z"
   },
   {
    "duration": 18,
    "start_time": "2023-10-09T15:35:17.889Z"
   },
   {
    "duration": 35,
    "start_time": "2023-10-09T15:35:17.908Z"
   },
   {
    "duration": 6,
    "start_time": "2023-10-09T15:35:17.944Z"
   },
   {
    "duration": 16,
    "start_time": "2023-10-09T15:35:17.952Z"
   },
   {
    "duration": 7,
    "start_time": "2023-10-09T15:35:17.969Z"
   },
   {
    "duration": 23,
    "start_time": "2023-10-09T15:35:17.977Z"
   },
   {
    "duration": 13,
    "start_time": "2023-10-09T15:35:18.002Z"
   },
   {
    "duration": 33,
    "start_time": "2023-10-09T15:35:18.016Z"
   },
   {
    "duration": 9,
    "start_time": "2023-10-09T15:35:18.051Z"
   },
   {
    "duration": 13,
    "start_time": "2023-10-09T15:35:18.061Z"
   },
   {
    "duration": 14,
    "start_time": "2023-10-09T15:35:18.076Z"
   },
   {
    "duration": 35,
    "start_time": "2023-10-09T15:35:18.092Z"
   },
   {
    "duration": 15,
    "start_time": "2023-10-09T15:35:18.129Z"
   },
   {
    "duration": 3,
    "start_time": "2023-10-09T15:35:18.146Z"
   },
   {
    "duration": 30,
    "start_time": "2023-10-09T15:35:18.150Z"
   },
   {
    "duration": 10,
    "start_time": "2023-10-09T15:35:18.181Z"
   },
   {
    "duration": 15,
    "start_time": "2023-10-09T15:35:18.193Z"
   },
   {
    "duration": 28,
    "start_time": "2023-10-09T15:35:18.209Z"
   },
   {
    "duration": 8,
    "start_time": "2023-10-09T15:35:18.238Z"
   },
   {
    "duration": 37,
    "start_time": "2023-10-09T15:35:18.247Z"
   },
   {
    "duration": 5,
    "start_time": "2023-10-09T15:35:18.285Z"
   },
   {
    "duration": 39,
    "start_time": "2023-10-09T15:35:18.291Z"
   },
   {
    "duration": 4,
    "start_time": "2023-10-09T15:35:18.331Z"
   },
   {
    "duration": 34,
    "start_time": "2023-10-09T15:35:18.336Z"
   },
   {
    "duration": 4,
    "start_time": "2023-10-09T15:35:18.372Z"
   },
   {
    "duration": 48,
    "start_time": "2023-10-09T15:35:18.377Z"
   },
   {
    "duration": 91,
    "start_time": "2023-10-10T08:06:06.063Z"
   },
   {
    "duration": 40,
    "start_time": "2023-10-10T08:33:49.373Z"
   },
   {
    "duration": 5,
    "start_time": "2023-10-10T08:40:37.330Z"
   },
   {
    "duration": 7,
    "start_time": "2023-10-10T08:40:40.858Z"
   },
   {
    "duration": 796,
    "start_time": "2023-10-10T08:40:52.096Z"
   },
   {
    "duration": 24,
    "start_time": "2023-10-10T08:40:52.893Z"
   },
   {
    "duration": 14,
    "start_time": "2023-10-10T08:40:52.919Z"
   },
   {
    "duration": 10,
    "start_time": "2023-10-10T08:40:52.935Z"
   },
   {
    "duration": 34,
    "start_time": "2023-10-10T08:40:52.946Z"
   },
   {
    "duration": 3,
    "start_time": "2023-10-10T08:40:52.982Z"
   },
   {
    "duration": 10,
    "start_time": "2023-10-10T08:40:52.987Z"
   },
   {
    "duration": 5,
    "start_time": "2023-10-10T08:40:52.999Z"
   },
   {
    "duration": 35,
    "start_time": "2023-10-10T08:40:53.005Z"
   },
   {
    "duration": 4,
    "start_time": "2023-10-10T08:40:53.045Z"
   },
   {
    "duration": 78,
    "start_time": "2023-10-10T08:40:53.051Z"
   },
   {
    "duration": 10,
    "start_time": "2023-10-10T08:40:53.130Z"
   },
   {
    "duration": 14,
    "start_time": "2023-10-10T08:40:53.142Z"
   },
   {
    "duration": 17,
    "start_time": "2023-10-10T08:40:53.159Z"
   },
   {
    "duration": 25,
    "start_time": "2023-10-10T08:40:53.177Z"
   },
   {
    "duration": 18,
    "start_time": "2023-10-10T08:40:53.204Z"
   },
   {
    "duration": 18,
    "start_time": "2023-10-10T08:40:53.223Z"
   },
   {
    "duration": 15,
    "start_time": "2023-10-10T08:40:53.243Z"
   },
   {
    "duration": 36,
    "start_time": "2023-10-10T08:40:53.260Z"
   },
   {
    "duration": 11,
    "start_time": "2023-10-10T08:40:53.297Z"
   },
   {
    "duration": 21,
    "start_time": "2023-10-10T08:40:53.310Z"
   },
   {
    "duration": 5,
    "start_time": "2023-10-10T08:40:53.333Z"
   },
   {
    "duration": 34,
    "start_time": "2023-10-10T08:40:53.340Z"
   },
   {
    "duration": 39,
    "start_time": "2023-10-10T08:40:53.375Z"
   },
   {
    "duration": 24,
    "start_time": "2023-10-10T08:40:53.416Z"
   },
   {
    "duration": 34,
    "start_time": "2023-10-10T08:40:53.442Z"
   },
   {
    "duration": 4,
    "start_time": "2023-10-10T08:40:53.478Z"
   },
   {
    "duration": 55,
    "start_time": "2023-10-10T08:40:53.485Z"
   },
   {
    "duration": 29,
    "start_time": "2023-10-10T08:41:04.769Z"
   },
   {
    "duration": 20,
    "start_time": "2023-10-10T08:41:15.279Z"
   },
   {
    "duration": 23,
    "start_time": "2023-10-10T08:41:28.782Z"
   },
   {
    "duration": 479,
    "start_time": "2023-10-10T08:54:50.354Z"
   },
   {
    "duration": 295,
    "start_time": "2023-10-10T08:55:21.901Z"
   },
   {
    "duration": 475,
    "start_time": "2023-10-10T08:55:28.622Z"
   },
   {
    "duration": 21,
    "start_time": "2023-10-10T08:55:29.098Z"
   },
   {
    "duration": 54,
    "start_time": "2023-10-10T08:55:29.121Z"
   },
   {
    "duration": 39,
    "start_time": "2023-10-10T08:55:29.177Z"
   },
   {
    "duration": 67,
    "start_time": "2023-10-10T08:55:29.218Z"
   },
   {
    "duration": 5,
    "start_time": "2023-10-10T08:55:29.286Z"
   },
   {
    "duration": 47,
    "start_time": "2023-10-10T08:55:29.292Z"
   },
   {
    "duration": 38,
    "start_time": "2023-10-10T08:55:29.341Z"
   },
   {
    "duration": 47,
    "start_time": "2023-10-10T08:55:29.381Z"
   },
   {
    "duration": 13,
    "start_time": "2023-10-10T08:55:29.432Z"
   },
   {
    "duration": 72,
    "start_time": "2023-10-10T08:55:29.446Z"
   },
   {
    "duration": 13,
    "start_time": "2023-10-10T08:55:29.520Z"
   },
   {
    "duration": 108,
    "start_time": "2023-10-10T08:55:29.535Z"
   },
   {
    "duration": 17,
    "start_time": "2023-10-10T08:55:29.644Z"
   },
   {
    "duration": 27,
    "start_time": "2023-10-10T08:55:29.663Z"
   },
   {
    "duration": 25,
    "start_time": "2023-10-10T08:55:29.692Z"
   },
   {
    "duration": 5,
    "start_time": "2023-10-10T08:55:29.719Z"
   },
   {
    "duration": 22,
    "start_time": "2023-10-10T08:55:29.741Z"
   },
   {
    "duration": 120,
    "start_time": "2023-10-10T08:55:29.765Z"
   },
   {
    "duration": 4,
    "start_time": "2023-10-10T08:55:29.887Z"
   },
   {
    "duration": 15,
    "start_time": "2023-10-10T08:55:29.892Z"
   },
   {
    "duration": 4,
    "start_time": "2023-10-10T08:55:29.909Z"
   },
   {
    "duration": 67,
    "start_time": "2023-10-10T08:55:29.914Z"
   },
   {
    "duration": 4,
    "start_time": "2023-10-10T08:55:29.982Z"
   },
   {
    "duration": 36,
    "start_time": "2023-10-10T08:55:29.987Z"
   },
   {
    "duration": 4,
    "start_time": "2023-10-10T08:55:30.024Z"
   },
   {
    "duration": 90,
    "start_time": "2023-10-10T08:55:30.030Z"
   },
   {
    "duration": 15,
    "start_time": "2023-10-10T08:55:30.123Z"
   },
   {
    "duration": 79,
    "start_time": "2023-10-10T08:55:30.140Z"
   },
   {
    "duration": 271,
    "start_time": "2023-10-10T08:55:30.221Z"
   },
   {
    "duration": 392,
    "start_time": "2023-10-10T08:55:37.407Z"
   },
   {
    "duration": 704,
    "start_time": "2023-10-10T18:28:20.342Z"
   },
   {
    "duration": 21,
    "start_time": "2023-10-10T18:28:21.048Z"
   },
   {
    "duration": 49,
    "start_time": "2023-10-10T18:28:21.071Z"
   },
   {
    "duration": 29,
    "start_time": "2023-10-10T18:28:21.122Z"
   },
   {
    "duration": 62,
    "start_time": "2023-10-10T18:28:21.153Z"
   },
   {
    "duration": 4,
    "start_time": "2023-10-10T18:28:21.216Z"
   },
   {
    "duration": 28,
    "start_time": "2023-10-10T18:28:21.221Z"
   },
   {
    "duration": 21,
    "start_time": "2023-10-10T18:28:21.251Z"
   },
   {
    "duration": 20,
    "start_time": "2023-10-10T18:28:21.274Z"
   },
   {
    "duration": 12,
    "start_time": "2023-10-10T18:28:21.297Z"
   },
   {
    "duration": 53,
    "start_time": "2023-10-10T18:28:21.311Z"
   },
   {
    "duration": 12,
    "start_time": "2023-10-10T18:28:21.366Z"
   },
   {
    "duration": 8,
    "start_time": "2023-10-10T18:28:21.379Z"
   },
   {
    "duration": 40,
    "start_time": "2023-10-10T18:28:21.388Z"
   },
   {
    "duration": 38,
    "start_time": "2023-10-10T18:28:21.430Z"
   },
   {
    "duration": 21,
    "start_time": "2023-10-10T18:28:21.470Z"
   },
   {
    "duration": 10,
    "start_time": "2023-10-10T18:28:21.493Z"
   },
   {
    "duration": 21,
    "start_time": "2023-10-10T18:28:21.505Z"
   },
   {
    "duration": 12,
    "start_time": "2023-10-10T18:28:21.528Z"
   },
   {
    "duration": 14,
    "start_time": "2023-10-10T18:28:21.542Z"
   },
   {
    "duration": 53,
    "start_time": "2023-10-10T18:28:21.557Z"
   },
   {
    "duration": 10,
    "start_time": "2023-10-10T18:28:21.612Z"
   },
   {
    "duration": 47,
    "start_time": "2023-10-10T18:28:21.623Z"
   },
   {
    "duration": 4,
    "start_time": "2023-10-10T18:28:21.672Z"
   },
   {
    "duration": 64,
    "start_time": "2023-10-10T18:28:21.677Z"
   },
   {
    "duration": 5,
    "start_time": "2023-10-10T18:28:21.743Z"
   },
   {
    "duration": 55,
    "start_time": "2023-10-10T18:28:21.749Z"
   },
   {
    "duration": 10,
    "start_time": "2023-10-10T18:28:21.807Z"
   },
   {
    "duration": 101,
    "start_time": "2023-10-10T18:28:21.818Z"
   }
  ],
  "colab": {
   "provenance": []
  },
  "kernelspec": {
   "display_name": "Python 3 (ipykernel)",
   "language": "python",
   "name": "python3"
  },
  "language_info": {
   "codemirror_mode": {
    "name": "ipython",
    "version": 3
   },
   "file_extension": ".py",
   "mimetype": "text/x-python",
   "name": "python",
   "nbconvert_exporter": "python",
   "pygments_lexer": "ipython3",
   "version": "3.9.5"
  },
  "toc": {
   "base_numbering": 1,
   "nav_menu": {},
   "number_sections": true,
   "sideBar": true,
   "skip_h1_title": true,
   "title_cell": "Table of Contents",
   "title_sidebar": "Contents",
   "toc_cell": false,
   "toc_position": {
    "height": "calc(100% - 180px)",
    "left": "10px",
    "top": "150px",
    "width": "260.188px"
   },
   "toc_section_display": true,
   "toc_window_display": true
  }
 },
 "nbformat": 4,
 "nbformat_minor": 5
}
