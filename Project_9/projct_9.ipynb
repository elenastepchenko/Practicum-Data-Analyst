{
 "cells": [
  {
   "cell_type": "markdown",
   "metadata": {},
   "source": [
    "# Принятие решений в бизнесе. Анализ интернет-магазина."
   ]
  },
  {
   "cell_type": "markdown",
   "metadata": {},
   "source": [
    "### Описание данных"
   ]
  },
  {
   "cell_type": "markdown",
   "metadata": {},
   "source": [
    "**Входные данные**\n",
    "\n",
    "\n",
    "*    список гипотез (файл `hypothesis.csv`)\n",
    "\n",
    "`Hypothesis` — краткое описание гипотезы;   \n",
    "`Reach` — охват пользователей по 10-балльной шкале;   \n",
    "`Impact` — влияние на пользователей по 10-балльной шкале;   \n",
    "`Confidence` — уверенность в гипотезе по 10-балльной шкале;    \n",
    "`Efforts` — затраты ресурсов на проверку гипотезы по 10-балльной шкале.   \n",
    "\n",
    " \n",
    "*    информация о заказах пользователей в интернет-магазине (файл `orders.csv.`)    \n",
    "\n",
    "`transactionId` — идентификатор заказа;    \n",
    "`visitorId` — идентификатор пользователя, совершившего заказ;    \n",
    "`date` — дата, когда был совершён заказ;    \n",
    "`revenue` — выручка заказа;    \n",
    "`group` — группа A/B-теста, в которую попал заказ.    \n",
    "\n",
    " \n",
    "*    информация о посещениях пользователями интернет-магазина (файл `visitors.csv`)\n",
    "\n",
    "`date` — дата;   \n",
    "`group` — группа A/B-теста;    \n",
    "`visitors` — количество пользователей в указанную дату в указанной группе A/B-теста.    \n",
    " \n",
    " \n",
    " \n",
    "**Ход исследования**\n",
    "\n",
    "Исследование пройдёт в три этапа:\n",
    "\n",
    "*    Обзор  и предобработка данных;\n",
    "*    Приоритезация гипотез;\n",
    "*    Анализ А/В-теста;"
   ]
  },
  {
   "cell_type": "markdown",
   "metadata": {},
   "source": [
    "### Обзор данных"
   ]
  },
  {
   "cell_type": "code",
   "execution_count": null,
   "metadata": {},
   "outputs": [],
   "source": [
    "pip install missingno"
   ]
  },
  {
   "cell_type": "code",
   "execution_count": null,
   "metadata": {},
   "outputs": [],
   "source": [
    "#импортируем необходимые библиотеки \n",
    "import pandas as pd\n",
    "import numpy as np\n",
    "import scipy.stats as stats\n",
    "import matplotlib.pyplot as plt\n",
    "import missingno as msno\n",
    "import seaborn as sns\n",
    "from datetime import datetime\n",
    "from datetime import timedelta\n",
    "import math\n",
    "from scipy import stats as st"
   ]
  },
  {
   "cell_type": "code",
   "execution_count": null,
   "metadata": {},
   "outputs": [],
   "source": [
    "hypothesis = pd.read_csv('/datasets/hypothesis.csv')\n",
    "orders = pd.read_csv('/datasets/orders.csv')\n",
    "visitors = pd.read_csv('/datasets/visitors.csv') #загрузим данные "
   ]
  },
  {
   "cell_type": "code",
   "execution_count": null,
   "metadata": {},
   "outputs": [],
   "source": [
    "hypothesis.info()\n",
    "hypothesis"
   ]
  },
  {
   "cell_type": "code",
   "execution_count": null,
   "metadata": {},
   "outputs": [],
   "source": [
    "# Проверим датафрейм на наличие дубликатов\n",
    "print('Количество явных дубликатов во датафреймах:')\n",
    "print('hypothesis - ', hypothesis.duplicated().sum())"
   ]
  },
  {
   "cell_type": "code",
   "execution_count": null,
   "metadata": {},
   "outputs": [],
   "source": [
    "msno.matrix(hypothesis, labels=True) #оценим визуально пропуски в данных "
   ]
  },
  {
   "cell_type": "markdown",
   "metadata": {},
   "source": [
    "Выводы:\n",
    "\n",
    "Мы видим в данных 9 различных гипотез. У каждой по 4ём критериям оценки от 1 до 10. Здесь всё хорошо\n",
    "некорректные названия столбцов (заглавные буквы)\n",
    "пропусков нет, дубликатов нет, типы данных корректны."
   ]
  },
  {
   "cell_type": "code",
   "execution_count": null,
   "metadata": {},
   "outputs": [],
   "source": [
    "orders.info()\n",
    "orders.head(10)"
   ]
  },
  {
   "cell_type": "code",
   "execution_count": null,
   "metadata": {},
   "outputs": [],
   "source": [
    "# Проверим датафрейм на наличие дубликатов\n",
    "print('Количество явных дубликатов во датафреймах:')\n",
    "print('orders - ', orders.duplicated().sum())"
   ]
  },
  {
   "cell_type": "code",
   "execution_count": null,
   "metadata": {},
   "outputs": [],
   "source": [
    "msno.matrix(orders, labels=True) #оценим визуально пропуски в данных "
   ]
  },
  {
   "cell_type": "markdown",
   "metadata": {},
   "source": [
    "Выводы:\n",
    "- некорректные названия столбцов\n",
    "- некорреткный тип данных у столбца `date`\n",
    "- пропусков нет\n",
    "- явных дубликатов нет"
   ]
  },
  {
   "cell_type": "code",
   "execution_count": null,
   "metadata": {},
   "outputs": [],
   "source": [
    "visitors.info()\n",
    "visitors.head(10)"
   ]
  },
  {
   "cell_type": "code",
   "execution_count": null,
   "metadata": {},
   "outputs": [],
   "source": [
    "# Проверим датафрейм на наличие дубликатов\n",
    "print('Количество явных дубликатов во датафреймах:')\n",
    "print('visitors - ', visitors.duplicated().sum())"
   ]
  },
  {
   "cell_type": "code",
   "execution_count": null,
   "metadata": {},
   "outputs": [],
   "source": [
    "msno.matrix(visitors, labels=True) #оценим визуально пропуски в данных "
   ]
  },
  {
   "cell_type": "markdown",
   "metadata": {},
   "source": [
    "Выводы:\n",
    "- некорректный тип данных столбца `date`\n",
    "- пропусков нет\n",
    "- проверить на дубликаты( полные и неочевидные)"
   ]
  },
  {
   "cell_type": "markdown",
   "metadata": {},
   "source": [
    "### Предобработка данных"
   ]
  },
  {
   "cell_type": "markdown",
   "metadata": {},
   "source": [
    "Переименуем столбцы в таблицах"
   ]
  },
  {
   "cell_type": "code",
   "execution_count": null,
   "metadata": {},
   "outputs": [],
   "source": [
    "hypothesis.columns = ['hypothesis','reach','impact','confidence', 'efforts']\n",
    "orders.columns = ['transaction_id','visitor_id', 'date','revenue','group']"
   ]
  },
  {
   "cell_type": "markdown",
   "metadata": {},
   "source": [
    "Приведём столбцы с датами к корректному типу данных "
   ]
  },
  {
   "cell_type": "code",
   "execution_count": null,
   "metadata": {},
   "outputs": [],
   "source": [
    "orders['date'] = pd.to_datetime(orders['date'])\n",
    "visitors['date'] = pd.to_datetime(visitors['date'])"
   ]
  },
  {
   "cell_type": "markdown",
   "metadata": {},
   "source": [
    "Привели данные к хорошему стилю, изменили типы данных для дальнейшей работы"
   ]
  },
  {
   "cell_type": "markdown",
   "metadata": {},
   "source": [
    "<div class=\"alert alert-success\">\n",
    "  \n",
    "  <b>Комментарий ревьюера</b>\n",
    "    \n",
    "  ✔️ Данные получены и подготовлены к анализу! \n",
    "</div>"
   ]
  },
  {
   "cell_type": "markdown",
   "metadata": {},
   "source": [
    "Посчитаем количество уникальных пользоваталей в нашей A/B тесте"
   ]
  },
  {
   "cell_type": "code",
   "execution_count": null,
   "metadata": {},
   "outputs": [],
   "source": [
    "len(orders['visitor_id'].unique())"
   ]
  },
  {
   "cell_type": "markdown",
   "metadata": {},
   "source": [
    "А теперь посчитаем по группам:"
   ]
  },
  {
   "cell_type": "code",
   "execution_count": null,
   "metadata": {},
   "outputs": [],
   "source": [
    "group_A = orders.query('group == \"A\"')\n",
    "len(group_A['visitor_id'].unique())"
   ]
  },
  {
   "cell_type": "code",
   "execution_count": null,
   "metadata": {},
   "outputs": [],
   "source": [
    "group_B = orders.query('group == \"B\"')\n",
    "len(group_B['visitor_id'].unique())"
   ]
  },
  {
   "cell_type": "markdown",
   "metadata": {},
   "source": [
    "В общей таблице у нас 1031 уникальных пользоваталей. А при разделении на группы 503+586 = 1089. То есть есть 58 пользователей(1089-1031), которые попали в обе группы. Найдем их "
   ]
  },
  {
   "cell_type": "code",
   "execution_count": null,
   "metadata": {},
   "outputs": [],
   "source": [
    "union = group_A.merge(group_B,on = 'visitor_id')\n",
    "len(union['visitor_id'].unique())"
   ]
  },
  {
   "cell_type": "markdown",
   "metadata": {},
   "source": [
    "Нашли этих пользователей. Мы не можем определить в какую группу они должны были попасть. Чтобы не угадывать - просто удалим этих пользователей из первоначальной таблицы"
   ]
  },
  {
   "cell_type": "code",
   "execution_count": null,
   "metadata": {},
   "outputs": [],
   "source": [
    "visitor_both_group = union['visitor_id'].to_list()\n",
    "orders = orders[~orders['visitor_id'].isin(visitor_both_group)]\n",
    "len(orders['visitor_id'].unique())"
   ]
  },
  {
   "cell_type": "markdown",
   "metadata": {},
   "source": [
    "Было 1031 уникальный, осталось 973. Удалили 58 пользоваталей, которые попали в обе группы "
   ]
  },
  {
   "cell_type": "markdown",
   "metadata": {},
   "source": [
    "### Приоритезация гипотез"
   ]
  },
  {
   "cell_type": "markdown",
   "metadata": {},
   "source": [
    "Когда рассчитываеют гипотезы, обычно используют статистические методы, такие как тестирование гипотез, чтобы определить, является ли различие между группами или переменными статистически значимым. Один из инструментов, используемых для этого, - это p-значение, которое показывает вероятность того, что наблюдаемые данные могут быть получены случайно.\n",
    "\n",
    "Ранее мы увидели, что отдел Маркетинга подготовил список из 9-ти гипотез, каждый компонент которой оценен по шкале от 0 до 10.\n",
    "\n",
    "Применим один из самых популярных методов приоритезации гипотез - ICE (от. англ.: Impact, Confidence, Effort/ Влияние, Уверенность, Усилия)."
   ]
  },
  {
   "cell_type": "code",
   "execution_count": null,
   "metadata": {},
   "outputs": [],
   "source": [
    "pd.options.display.max_colwidth = 400"
   ]
  },
  {
   "cell_type": "code",
   "execution_count": null,
   "metadata": {},
   "outputs": [],
   "source": [
    "hypothesis['ice'] = hypothesis['impact'] * hypothesis['confidence'] / hypothesis['efforts']\n",
    "\n",
    "hypothesis[['hypothesis', 'ice']].sort_values(by='ice', ascending=False).head(5)"
   ]
  },
  {
   "cell_type": "code",
   "execution_count": null,
   "metadata": {},
   "outputs": [],
   "source": [
    "ax = (hypothesis[['hypothesis', 'ice']]\n",
    "      .set_index('hypothesis')\n",
    "      .sort_values('ice', ascending=False)\n",
    "      .plot(kind='barh', color='g', alpha=0.4)\n",
    "     )\n",
    "ax.grid(True)\n",
    "ax.set_xlabel('Приоритет')\n",
    "ax.set_ylabel(' ')\n",
    "ax.set_title('Приоритезация гипотез по методу ICE', loc='left')\n",
    "plt.show()"
   ]
  },
  {
   "cell_type": "markdown",
   "metadata": {},
   "source": [
    "Исходя из данных мы видим топ-5 гипотез, которым следует уделить пристальное внимание. Добавим к расчету параметр Reach (англ.: Охват) и приоритезируем гипотезы по методу RICE."
   ]
  },
  {
   "cell_type": "code",
   "execution_count": null,
   "metadata": {},
   "outputs": [],
   "source": [
    "hypothesis['rice'] = hypothesis['reach'] * hypothesis['impact'] * hypothesis['confidence'] / hypothesis['efforts']\n",
    "\n",
    "hypothesis[['hypothesis', 'rice']].sort_values(by='rice', ascending=False).head(5)"
   ]
  },
  {
   "cell_type": "code",
   "execution_count": null,
   "metadata": {},
   "outputs": [],
   "source": [
    "ax = (hypothesis[['hypothesis', 'rice']]\n",
    "      .set_index('hypothesis')\n",
    "      .sort_values('rice', ascending=False)\n",
    "      .plot(kind='barh', color='g', alpha=0.4)\n",
    "     )\n",
    "ax.grid(True)\n",
    "ax.set_xlabel('Приоритет')\n",
    "ax.set_ylabel(' ')\n",
    "ax.set_title('Приоритезация гипотез по методу RICE', loc='left')\n",
    "plt.show()"
   ]
  },
  {
   "cell_type": "markdown",
   "metadata": {},
   "source": [
    "Мы видим те же самые гипотезы, только в другой последовательности. Разница приоритезиций заключается в том, что одна учитывает кол-во пользователей, которых затронут изменения, а другая - нет."
   ]
  },
  {
   "cell_type": "code",
   "execution_count": null,
   "metadata": {},
   "outputs": [],
   "source": [
    "hypothesis[['hypothesis','ice', 'rice']].sort_values(by='rice', ascending=False).head(5)"
   ]
  },
  {
   "cell_type": "markdown",
   "metadata": {},
   "source": [
    "По фреймворку ICE наибольшую оценку имели гпиотезы 8,0 и 7. После применения фреймворка RICE приоритеты изменились на гпиотезы 7,2 и 0. Это объясняется тем, что в случае фреймворка ICE в отличие от RICE мы не учитывали охват изменений, тогда как это важная составляющая оценки гипотез.\n",
    "\n",
    "В нашем случае наиболее приоритетными гипотезами будут 7, 2, 0."
   ]
  },
  {
   "cell_type": "markdown",
   "metadata": {},
   "source": [
    "### Анализ A/B-теста"
   ]
  },
  {
   "cell_type": "markdown",
   "metadata": {},
   "source": [
    "Подготовим таблицу для анализа результатов A/B теста. Посчитаем средний чек и конверсию по группам/по дням"
   ]
  },
  {
   "cell_type": "code",
   "execution_count": null,
   "metadata": {},
   "outputs": [],
   "source": [
    "orders_grouped = (orders.groupby(['date','group'], as_index=False)\n",
    "                        .agg({'transaction_id':'nunique','visitor_id':'nunique','revenue':'sum'}))\\\n",
    "                        .rename(columns={'transaction_id':'orders','visitor_id':'buyers'})\n",
    "orders_grouped['group_copy'] = orders_grouped['group']\n",
    "orders_grouped = orders_grouped.set_index(['date','group'])\n",
    "orders_cumsum = orders_grouped.sort_values(['date','group']).groupby('group_copy').cumsum().reset_index()"
   ]
  },
  {
   "cell_type": "code",
   "execution_count": null,
   "metadata": {},
   "outputs": [],
   "source": [
    "orders_grouped"
   ]
  },
  {
   "cell_type": "code",
   "execution_count": null,
   "metadata": {},
   "outputs": [],
   "source": [
    "# посчитаем сумму визитов по дням в каждой группе\n",
    "visitors_cumsum = visitors.groupby(['date','group'], as_index=False).agg({'visitors':'sum'}).sort_values(['date','group'])\n",
    "# скопируем group чтобы провести по ней кумулятивную сумму\n",
    "visitors_cumsum['group_copy'] = visitors_cumsum['group']\n",
    "visitors_cumsum = visitors_cumsum.set_index(['date','group']).groupby('group_copy').cumsum().reset_index()    "
   ]
  },
  {
   "cell_type": "code",
   "execution_count": null,
   "metadata": {},
   "outputs": [],
   "source": [
    "cummulative = orders_cumsum.join(visitors_cumsum[['visitors']])"
   ]
  },
  {
   "cell_type": "code",
   "execution_count": null,
   "metadata": {},
   "outputs": [],
   "source": [
    "#считаем средний чек и конверсию \n",
    "cummulative['average_check'] = cummulative['revenue'] / cummulative['orders']\n",
    "cummulative['conversion'] = cummulative['orders'] / cummulative['visitors']"
   ]
  },
  {
   "cell_type": "code",
   "execution_count": null,
   "metadata": {},
   "outputs": [],
   "source": [
    "cummulative.head()"
   ]
  },
  {
   "cell_type": "markdown",
   "metadata": {},
   "source": [
    "Посчитали кумулятивные данные по группам и дням( количество заказов, покупателей, выручку, посетителей). А так же средний чек и конверсию. Теперь можно приступать к тестам."
   ]
  },
  {
   "cell_type": "markdown",
   "metadata": {},
   "source": [
    "#### График кумулятивной выручки по группам"
   ]
  },
  {
   "cell_type": "code",
   "execution_count": null,
   "metadata": {},
   "outputs": [],
   "source": [
    "cummulativeA = cummulative[cummulative['group']=='A'][['date', 'revenue']]\n",
    "cummulativeB = cummulative[cummulative['group']=='B'][['date', 'revenue']]\n",
    "plt.plot(cummulativeA.iloc[:,0].to_frame(), cummulativeA.iloc[:,1].to_frame(), label='A' )\n",
    "plt.plot(cummulativeB.iloc[:,0].to_frame(), cummulativeB.iloc[:,1].to_frame(), label='B')\n",
    "plt.title('График кумулятивной выручки по группам')\n",
    "plt.ylabel(\"Выручка\")\n",
    "plt.xticks(rotation=30)\n",
    "plt.legend()\n",
    "plt.show()"
   ]
  },
  {
   "cell_type": "markdown",
   "metadata": {},
   "source": [
    "Мы видим, что кумулятивная выручка группы А растет линейно,  и она меньше, чем у группы В.    \n",
    "При этом в группе В есть резкий скачок в районе 18-го августа, что может сигнализировать о всплесках числа заказов, либо о появлении очень дорогих заказов в выборке. "
   ]
  },
  {
   "cell_type": "markdown",
   "metadata": {},
   "source": [
    "#### График кумулятивного среднего чека по группам"
   ]
  },
  {
   "cell_type": "code",
   "execution_count": null,
   "metadata": {},
   "outputs": [],
   "source": [
    "cummulativeA = cummulative[cummulative['group']=='A'][['date', 'average_check']]\n",
    "cummulativeB = cummulative[cummulative['group']=='B'][['date', 'average_check']]\n",
    "plt.plot(cummulativeA.iloc[:,0].to_frame(), cummulativeA.iloc[:,1].to_frame(), label='A' )\n",
    "plt.plot(cummulativeB.iloc[:,0].to_frame(), cummulativeB.iloc[:,1].to_frame(), label='B')\n",
    "plt.title('График кумулятивного среднего чека по группам')\n",
    "plt.ylabel(\"Выручка\")\n",
    "plt.xticks(rotation=30)\n",
    "plt.legend()\n",
    "plt.show()"
   ]
  },
  {
   "cell_type": "markdown",
   "metadata": {},
   "source": [
    "Мы видим, что средний чек в группе А  через какое-то время стабилизировался. В тот же самый момент у группы B резкий скачок по кумулятивному среднему чеку, что говорит в пользу версии о дорогой покупке."
   ]
  },
  {
   "cell_type": "markdown",
   "metadata": {},
   "source": [
    "#### График относительного изменения кумулятивного среднего чека группы B к группе A"
   ]
  },
  {
   "cell_type": "code",
   "execution_count": null,
   "metadata": {},
   "outputs": [],
   "source": [
    "temp = (cummulativeA[['date', 'average_check']].merge(cummulativeB[['date', 'average_check']], \n",
    "                                            left_on='date', right_on='date', how='left', suffixes=['_A', '_B']))\n",
    "plt.plot(temp['date'], temp['average_check_B'] / temp['average_check_A']-1)\n",
    "plt.title('График относительного изменения кумулятивного среднего чека группы B к группе A')\n",
    "plt.axhline(y=0, color='black', linestyle='--')\n",
    "plt.xticks(rotation=30)\n",
    "plt.show()"
   ]
  },
  {
   "cell_type": "markdown",
   "metadata": {},
   "source": [
    "Этот график так же иллюстируют такую же картину. Средний чек по группе B выше, чем по группе A, возможно есть крупные чеки, которые провоцируют выбросы."
   ]
  },
  {
   "cell_type": "markdown",
   "metadata": {},
   "source": [
    "#### График кумулятивной конверсии по группам"
   ]
  },
  {
   "cell_type": "code",
   "execution_count": null,
   "metadata": {},
   "outputs": [],
   "source": [
    "cummulativeA = cummulative[cummulative['group']=='A'][['date', 'conversion']]\n",
    "cummulativeB = cummulative[cummulative['group']=='B'][['date', 'conversion']]\n",
    "plt.plot(cummulativeA.iloc[:,0].to_frame(), cummulativeA.iloc[:,1].to_frame(), label='A' )\n",
    "plt.plot(cummulativeB.iloc[:,0].to_frame(), cummulativeB.iloc[:,1].to_frame(), label='B')\n",
    "plt.title('График кумулятивной конверсии по группам')\n",
    "plt.ylabel(\"Выручка\")\n",
    "plt.ylim(0.001)\n",
    "plt.xticks(rotation=30)\n",
    "plt.legend()\n",
    "plt.show()"
   ]
  },
  {
   "cell_type": "markdown",
   "metadata": {},
   "source": [
    "Сначала конверсии колебались, но довольно быстро выровнялись; результат группы В кажется более привлекательным."
   ]
  },
  {
   "cell_type": "markdown",
   "metadata": {},
   "source": [
    "#### График относительного изменения кумулятивной конверсии группы B к группе A"
   ]
  },
  {
   "cell_type": "code",
   "execution_count": null,
   "metadata": {},
   "outputs": [],
   "source": [
    "temp = (cummulativeA[['date', 'conversion']].merge(cummulativeB[['date', 'conversion']], \n",
    "                                            left_on='date', right_on='date', how='left', suffixes=['_A', '_B']))\n",
    "plt.plot(temp['date'], temp['conversion_B'] / temp['conversion_A']-1)\n",
    "plt.title('График относительного изменения кумулятивной конверсии группы B к группе A')\n",
    "plt.axhline(y=0, color='black', linestyle='--')\n",
    "plt.xticks(rotation=45)\n",
    "plt.show()"
   ]
  },
  {
   "cell_type": "markdown",
   "metadata": {},
   "source": [
    "В начале теста группа В проигрывала группе А, но затем вырвалась вперед. Ее конверсия стремительно росла, далее начался медленный спад. Теперь конверсия группы В снова растет.   \n",
    "Но мы помним, что графики выше сигнализировали нам о наличии крупных заказов.\n"
   ]
  },
  {
   "cell_type": "markdown",
   "metadata": {},
   "source": [
    "#### График количества заказов по пользователям"
   ]
  },
  {
   "cell_type": "markdown",
   "metadata": {},
   "source": [
    "Пользователи, совершившие много заказов влияют на отношение количества заказов к количеству поситителей интернет-магазина за время теста.    \n",
    "\n",
    "\"Обычный\" пользователь редко совершает более одного-двух заказов в короткий срок (если только речь не идет о сайтах с регулярным спросом (например, продуктовый интернет-магазин,)). Посмотрим, что с количеством заказов происходит с участниками нашего тестирования."
   ]
  },
  {
   "cell_type": "code",
   "execution_count": null,
   "metadata": {},
   "outputs": [],
   "source": [
    "#создадим таблицу по количеству заказов каждого пользователя \n",
    "orders_per_user = orders.groupby('visitor_id', as_index=False).agg({'transaction_id':'nunique'})\\\n",
    "                         .rename(columns={'transaction_id':'orders'})\n",
    "orders_per_user.head()"
   ]
  },
  {
   "cell_type": "code",
   "execution_count": null,
   "metadata": {},
   "outputs": [],
   "source": [
    "x_values = pd.Series(range(0,len(orders_per_user['orders'])))\n",
    "plt.scatter(x_values, orders_per_user['orders'], color='red', alpha = 0.2)\n",
    "plt.show()"
   ]
  },
  {
   "cell_type": "markdown",
   "metadata": {},
   "source": [
    "Много пользователей с 2-3 заказами. Их точная доля не ясна, поэтому сложно понять, можно ли считать их выбросами или нет.    \n",
    "Посчитаем 95-й и 99-й перцентили количества заказов на пользователя и выберем границу для определения аномальных пользователей."
   ]
  },
  {
   "cell_type": "markdown",
   "metadata": {},
   "source": [
    "#### 95-й и 99-й перцентили количества заказов на пользователя. "
   ]
  },
  {
   "cell_type": "markdown",
   "metadata": {},
   "source": []
  },
  {
   "cell_type": "code",
   "execution_count": null,
   "metadata": {},
   "outputs": [],
   "source": [
    "print('95 перцентиль: %.2f' % (np.percentile(orders_per_user['orders'], [95])))\n",
    "print('99 перцентиль: %.2f' % (np.percentile(orders_per_user['orders'], [99])))"
   ]
  },
  {
   "cell_type": "markdown",
   "metadata": {},
   "source": [
    "Не более 5% пользователей совершали больше 2-х покупок в течение тестирования. И только 1% - четыре и более.   \n",
    "Примем за верхнюю границу **3 заказа** на одного пользователя."
   ]
  },
  {
   "cell_type": "code",
   "execution_count": null,
   "metadata": {},
   "outputs": [],
   "source": [
    "#введем список без аномальных заказов\n",
    "normal_orders = orders_per_user[orders_per_user['orders'] >= 3]['visitor_id'].to_list()"
   ]
  },
  {
   "cell_type": "markdown",
   "metadata": {},
   "source": [
    "#### График стоимостей заказов"
   ]
  },
  {
   "cell_type": "code",
   "execution_count": null,
   "metadata": {},
   "outputs": [],
   "source": [
    "x_values = pd.Series(range(0,len(orders['revenue'])))\n",
    "plt.scatter(x_values, orders['revenue'], color='red',alpha = 0.1)\n",
    "plt.show()"
   ]
  },
  {
   "cell_type": "code",
   "execution_count": null,
   "metadata": {},
   "outputs": [],
   "source": [
    "display(orders['revenue'].describe())\n",
    "\n",
    "# строим гистограмму\n",
    "plt.hist(orders['revenue'], alpha=0.5) \n",
    "plt.title('Распределение стоимости заказов по пользователям')\n",
    "plt.xlabel('Стоимость заказов')\n",
    "plt.ylabel('Количество пользователей')\n",
    "plt.show()"
   ]
  },
  {
   "cell_type": "markdown",
   "metadata": {},
   "source": [
    "Опять мы видим этот гигантский заказ(почти 1.3 млн.!), который вызвал всплеск на графиках кумулятивных метрик, а так же другие весомые заказы, которые могут повлиять на результат исследований."
   ]
  },
  {
   "cell_type": "code",
   "execution_count": null,
   "metadata": {},
   "outputs": [],
   "source": [
    "#отфильтруем и построим график без двух очень крупных выбросов\n",
    "orders_without_big_check = orders.query('revenue < 200000')\n",
    "x_values = pd.Series(range(0,len(orders_without_big_check['revenue'])))\n",
    "plt.scatter(x_values, orders_without_big_check['revenue'], color='red',alpha = 0.1)\n",
    "plt.show()"
   ]
  },
  {
   "cell_type": "markdown",
   "metadata": {},
   "source": [
    "Можем сказать,что среди остальные заказов так же есть несколько крупных выделяющихся (более 60000). Основная масса заказов не привышает 20000."
   ]
  },
  {
   "cell_type": "markdown",
   "metadata": {},
   "source": [
    "#### 95-й и 99-й перцентили стоимости заказов"
   ]
  },
  {
   "cell_type": "code",
   "execution_count": null,
   "metadata": {},
   "outputs": [],
   "source": [
    "print('95 перцентиль: %.2f' % (np.percentile(orders['revenue'], [95])))\n",
    "print('99 перцентиль: %.2f' % (np.percentile(orders['revenue'], [99])))"
   ]
  },
  {
   "cell_type": "markdown",
   "metadata": {},
   "source": [
    "Определяем границу по величине 99% перцентиля (53904)"
   ]
  },
  {
   "cell_type": "markdown",
   "metadata": {},
   "source": [
    "#### Cтатистическая значимость различий в конверсии между группами по «сырым» данным"
   ]
  },
  {
   "cell_type": "markdown",
   "metadata": {},
   "source": [
    "Ранее мы результаты A/B-теста визуально и выяснили, что в данных, скорее всего, есть выбросы. Потом увидели выбросы и нашли границу для их определения.\n",
    "\n",
    "Посчитаем статистическую значимость различий в конверсии между группами по «сырым» данным — без удаления аномальных пользователей.\n",
    "\n",
    "<p>Введем основную и альтернативные гипотезы:</p>\n",
    "\n",
    "$\\begin{equation*}\n",
    " \\begin{cases}\n",
    "   H_0 :\\text{различий в конверсии между группами нет}\\\\\n",
    "   H_1 :\\text{различия в конверсии между группами есть}\n",
    " \\end{cases}\n",
    "\\end{equation*}$\n",
    "\n",
    "Уровень значимости: $\\alpha = 0.05$ \n",
    "\n",
    "\n"
   ]
  },
  {
   "cell_type": "markdown",
   "metadata": {},
   "source": [
    "Так как данные о продажах и средних чеках редко бывают нормально распределены (это классический пример переменных, подверженных выбросам), для проверки гипотез будем использовать непараметрический тест Уилкоксона-Манна-Уитни.   \n",
    "Для уровеня значимости установим стандартный уровень статистической значимости, равный 0.05."
   ]
  },
  {
   "cell_type": "code",
   "execution_count": null,
   "metadata": {},
   "outputs": [],
   "source": [
    "visitors_daily_a = visitors[visitors['group'] == 'A'][['date', 'visitors']]\n",
    "visitors_daily_a.columns = ['date', 'visitors_per_date_a']\n",
    "\n",
    "visitors_cummulative_a = visitors_daily_a.apply(\n",
    "    lambda x: visitors_daily_a[visitors_daily_a['date'] <= x['date']].agg(\n",
    "        {'date': 'max', 'visitors_per_date_a': 'sum'}\n",
    "    ),\n",
    "    axis=1,\n",
    ")\n",
    "visitors_cummulative_a.columns = ['date', 'visitors_cummulative_a']\n",
    "\n",
    "visitors_daily_b = visitors[visitors['group'] == 'B'][['date', 'visitors']]\n",
    "visitors_daily_b.columns = ['date', 'visitors_per_date_b']\n",
    "\n",
    "visitors_cummulative_b = visitors_daily_b.apply(\n",
    "    lambda x: visitors_daily_b[visitors_daily_b['date'] <= x['date']].agg(\n",
    "        {'date': 'max', 'visitors_per_date_b': 'sum'}\n",
    "    ),\n",
    "    axis=1,\n",
    ")\n",
    "visitors_cummulative_b.columns = ['date', 'visitors_cummulative_b']\n",
    "\n",
    "orders_daily_a = (\n",
    "    orders[orders['group'] == 'A'][['date', 'transaction_id', 'visitor_id', 'revenue']]\n",
    "    .groupby('date', as_index=False)\n",
    "    .agg({'transaction_id': pd.Series.nunique, 'revenue': 'sum'})\n",
    ")\n",
    "orders_daily_a.columns = ['date', 'orders_daily_a', 'revenue_per_date_a']\n",
    "\n",
    "orders_cummulative_a = orders_daily_a.apply(\n",
    "    lambda x: orders_daily_a[orders_daily_a['date'] <= x['date']].agg(\n",
    "        {'date': 'max', 'orders_daily_a': 'sum', 'revenue_per_date_a': 'sum'}\n",
    "    ),\n",
    "    axis=1,\n",
    ").sort_values(by=['date'])\n",
    "\n",
    "orders_cummulative_a.columns = ['date','orders_cummulative_a','revenue_cummulative_a']\n",
    "\n",
    "orders_daily_b = (\n",
    "    orders[orders['group'] == 'B'][['date', 'transaction_id', 'visitor_id', 'revenue']]\n",
    "    .groupby('date', as_index=False)\n",
    "    .agg({'transaction_id': pd.Series.nunique, 'revenue': 'sum'})\n",
    ")\n",
    "orders_daily_b.columns = ['date', 'orders_daily_b', 'revenue_per_date_b']\n",
    "\n",
    "orders_cummulative_b = orders_daily_b.apply(\n",
    "    lambda x: orders_daily_b[orders_daily_b['date'] <= x['date']].agg(\n",
    "        {'date': 'max', 'orders_daily_b': 'sum', 'revenue_per_date_b': 'sum'}\n",
    "    ),\n",
    "    axis=1,\n",
    ").sort_values(by=['date'])\n",
    "\n",
    "orders_cummulative_b.columns = ['date','orders_cummulative_b','revenue_cummulative_b']\n",
    "\n",
    "\n",
    "data = (\n",
    "    orders_daily_a.merge(\n",
    "        orders_daily_b, left_on='date', right_on='date', how='left'\n",
    "    )\n",
    "    .merge(orders_cummulative_a, left_on='date', right_on='date', how='left')\n",
    "    .merge(orders_cummulative_b, left_on='date', right_on='date', how='left')\n",
    "    .merge(visitors_daily_a, left_on='date', right_on='date', how='left')\n",
    "    .merge(visitors_daily_b, left_on='date', right_on='date', how='left')\n",
    "    .merge(visitors_cummulative_a, left_on='date', right_on='date', how='left')\n",
    "    .merge(visitors_cummulative_b, left_on='date', right_on='date', how='left')\n",
    ")\n",
    "\n",
    "data.head(6)"
   ]
  },
  {
   "cell_type": "markdown",
   "metadata": {},
   "source": [
    "Создадим переменные orders_by_users_a и orders_by_users_a; в них для пользователей, которые заказывали хотя бы 1 раз, укажем число совершённых заказов."
   ]
  },
  {
   "cell_type": "code",
   "execution_count": null,
   "metadata": {},
   "outputs": [],
   "source": [
    "orders_by_users_a = (\n",
    "    orders[orders['group'] == 'A']\n",
    "    .groupby('visitor_id', as_index=False)\n",
    "    .agg({'transaction_id': pd.Series.nunique})\n",
    ")\n",
    "orders_by_users_a.columns = ['visitor_id', 'orders']\n",
    "\n",
    "orders_by_users_b = (\n",
    "    orders[orders['group'] == 'B']\n",
    "    .groupby('visitor_id', as_index=False)\n",
    "    .agg({'transaction_id': pd.Series.nunique})\n",
    ")\n",
    "orders_by_users_b.columns = ['visitor_id', 'orders']"
   ]
  },
  {
   "cell_type": "markdown",
   "metadata": {},
   "source": [
    "Объявим переменные sample_a и sample_b, в которых пользователям из разных групп будет соответствовать количество заказов. Тем, кто ничего не заказал, будут соответствовать нули. Это нужно, чтобы подготовить выборки к проверке критерием Манна-Уитни."
   ]
  },
  {
   "cell_type": "code",
   "execution_count": null,
   "metadata": {},
   "outputs": [],
   "source": [
    "sample_a = pd.concat([orders_by_users_a['orders'],\n",
    "                      pd.Series(\n",
    "                          0, \n",
    "                          index=np.arange(data['visitors_per_date_a'].sum() - \n",
    "                                          len(orders_by_users_a['orders'])), \n",
    "                          name='orders')],axis=0\n",
    "                    )\n",
    "\n",
    "sample_b = pd.concat([orders_by_users_b['orders'],\n",
    "                      pd.Series(\n",
    "                          0, \n",
    "                          index=np.arange(data['visitors_per_date_b'].sum() - \n",
    "                                          len(orders_by_users_b['orders'])), \n",
    "                          name='orders')],axis=0\n",
    "                    )\n"
   ]
  },
  {
   "cell_type": "markdown",
   "metadata": {},
   "source": [
    "Задаем функцию, в которой:\n",
    "- задаем уровень значимости alpha=0.05,   \n",
    "- применим критерий Манна-Уитни,   \n",
    "- отформатируем p-value, округлив его до трёх знаков после запятой,    \n",
    "- выведем относительный прирост конверсии группы B: конверсия группы B / конверсия группы A - 1, округлив до трёх знаков после запятой."
   ]
  },
  {
   "cell_type": "code",
   "execution_count": null,
   "metadata": {},
   "outputs": [],
   "source": [
    "# Функция для проверки гипотезы о равенстве групп data A и data B\n",
    "def stat_significance(data_a, data_b):\n",
    "    alpha = 0.05\n",
    "    p_value = stats.mannwhitneyu(data_a, data_b)[1]\n",
    "    print(\"P-value: {0:.3f}\".format(p_value))\n",
    "\n",
    "    if (p_value < alpha):\n",
    "        print(\"Отвергаем нулевую гипотезу: между группами есть разница\")\n",
    "    else:\n",
    "        print(\"Не получилось отвергнуть нулевую гипотезу, нет оснований считать группы разными\")\n",
    "    \n",
    "    print(\"Относительный прирост В к А: {0:.3%}\".format(data_b.mean() / data_a.mean()-1))"
   ]
  },
  {
   "cell_type": "code",
   "execution_count": null,
   "metadata": {},
   "outputs": [],
   "source": [
    "stat_significance(sample_a, sample_b)"
   ]
  },
  {
   "cell_type": "markdown",
   "metadata": {},
   "source": [
    "По неочищенным данным различия в конверсии между группами есть.   \n",
    "P-value = 0.011 меньше 0.05. Значит, нулевую гипотезу о том, что статистически значимых различий в конверсии между группами нет, отвергаем. Относительный выигрыш группы B равен 15.980%."
   ]
  },
  {
   "cell_type": "markdown",
   "metadata": {},
   "source": [
    "#### Cтатистическая значимость различий в среднем чеке заказа между группами по «сырым» данным"
   ]
  },
  {
   "cell_type": "markdown",
   "metadata": {},
   "source": [
    "Посчитаем статистическую значимость различий в среднем чеке между группами по «сырым» данным — без удаления аномальных пользователей.\n",
    "\n",
    "<p>Введем основную и альтернативные гипотезы:</p>\n",
    "\n",
    "$\\begin{equation*}\n",
    " \\begin{cases}\n",
    "   H_0 :\\text{различий в среднем чеке между группами нет}\\\\\n",
    "   H_1 :\\text{различия в среднем чеке между группами есть}\n",
    " \\end{cases}\n",
    "\\end{equation*}$\n",
    "\n",
    "Уровень значимости: $\\alpha = 0.05$ \n"
   ]
  },
  {
   "cell_type": "markdown",
   "metadata": {},
   "source": [
    "Так как в наших данных по средним чекам есть большие выбросы, воспользуемся критерием Манна - Уитни"
   ]
  },
  {
   "cell_type": "code",
   "execution_count": null,
   "metadata": {},
   "outputs": [],
   "source": [
    "stat_significance(orders[orders['group']=='A']['revenue'], orders[orders['group']=='B']['revenue'])  "
   ]
  },
  {
   "cell_type": "markdown",
   "metadata": {},
   "source": [
    "#### Cтатистическая значимость различий в конверсии между группами по «очищенным» данным"
   ]
  },
  {
   "cell_type": "markdown",
   "metadata": {},
   "source": [
    "Введем наш отфильтрованную таблицу orders. Мы принял, то что считаем аномальными 3 и более заказов, и заказы на сумму выше 53904. Узнаем, сколько всего аномальных пользователей методом shape()."
   ]
  },
  {
   "cell_type": "code",
   "execution_count": null,
   "metadata": {},
   "outputs": [],
   "source": [
    "orders_by_users = (\n",
    "    orders.groupby('visitor_id', as_index=False)\n",
    "    .agg({'transaction_id': 'nunique'})\n",
    ")\n",
    "\n",
    "orders_by_users.columns =  ['visitor_id', 'orders']\n",
    "many_orders = np.percentile(orders_by_users['orders'], 99)\n",
    "expensive_orders = np.percentile(orders['revenue'], 99)\n",
    "\n",
    "\n",
    "users_with_many_orders = pd.concat(\n",
    "    [\n",
    "        orders_by_users_a[orders_by_users_a['orders'] > many_orders]['visitor_id'],\n",
    "        orders_by_users_b[orders_by_users_b['orders'] > many_orders]['visitor_id'],\n",
    "    ],\n",
    "    axis=0,\n",
    ")\n",
    "\n",
    "\n",
    "users_with_expensive_orders = orders[orders['revenue'] > expensive_orders]['visitor_id']\n",
    "\n",
    "\n",
    "abnormal_users = (\n",
    "    pd.concat([users_with_many_orders, users_with_expensive_orders], axis=0)\n",
    "    .drop_duplicates()\n",
    "    .sort_values()\n",
    ")\n",
    "display(abnormal_users.head(5))\n",
    "abnormal_users.shape[0]"
   ]
  },
  {
   "cell_type": "markdown",
   "metadata": {},
   "source": [
    "Всего 16 аномальных пользователей.    \n",
    "Узнаем, как их действия повлияли на результаты теста. Посчитаем статистическую значимость различий в конверсии между группами теста по очищенным данным. Сначала подготовим выборки количества заказов по пользователям по группам теста."
   ]
  },
  {
   "cell_type": "code",
   "execution_count": null,
   "metadata": {},
   "outputs": [],
   "source": [
    "sample_a_filtered = pd.concat(\n",
    "    [\n",
    "        orders_by_users_a[\n",
    "            np.logical_not(orders_by_users_a['visitor_id'].isin(abnormal_users))\n",
    "        ]['orders'],\n",
    "        pd.Series(\n",
    "            0,\n",
    "            index=np.arange(\n",
    "                data['visitors_per_date_a'].sum() - len(orders_by_users_a['orders'])\n",
    "            ),\n",
    "            name='orders',\n",
    "        ),\n",
    "    ],\n",
    "    axis=0,\n",
    ")\n",
    "\n",
    "sample_b_filtered = pd.concat(\n",
    "    [\n",
    "        orders_by_users_b[\n",
    "            np.logical_not(orders_by_users_b['visitor_id'].isin(abnormal_users))\n",
    "        ]['orders'],\n",
    "        pd.Series(\n",
    "            0,\n",
    "            index=np.arange(\n",
    "                data['visitors_per_date_b'].sum() - len(orders_by_users_b['orders'])\n",
    "            ),\n",
    "            name='orders',\n",
    "        ),\n",
    "    ],\n",
    "    axis=0,\n",
    ")"
   ]
  },
  {
   "cell_type": "code",
   "execution_count": null,
   "metadata": {},
   "outputs": [],
   "source": [
    "stat_significance(sample_a_filtered, sample_b_filtered)"
   ]
  },
  {
   "cell_type": "markdown",
   "metadata": {},
   "source": [
    "На очищенных данных разница в конверсии между группами есть,  а относительный прирост конверсии группы В отнистельно группы А увеличился на 18.921%. "
   ]
  },
  {
   "cell_type": "markdown",
   "metadata": {},
   "source": [
    "#### Cтатистическую значимость различий в среднем чеке заказа между группами по «очищенным» данным"
   ]
  },
  {
   "cell_type": "markdown",
   "metadata": {},
   "source": [
    "Сформулируем 2 стат.гипотезы: \n",
    "- H0: Средний чек  в группе A статистически НЕ ОТЛИЧАЕТСЯ от  среднего чека  в группе B\n",
    "- Н1: Средний чек  в группе A статистически ОТЛИЧАЕТСЯ от среднего чека в группе B"
   ]
  },
  {
   "cell_type": "code",
   "execution_count": null,
   "metadata": {},
   "outputs": [],
   "source": [
    "stat_significance(\n",
    "    orders[(orders['group']=='A') & np.logical_not(orders['visitor_id'].isin(abnormal_users))]['revenue'], \n",
    "    orders[(orders['group']=='B') & np.logical_not(orders['visitor_id'].isin(abnormal_users))]['revenue']\n",
    "                  )"
   ]
  },
  {
   "cell_type": "markdown",
   "metadata": {},
   "source": [
    "   \n",
    " Значение P-значения (P-value) равное 0.788 говорит о том, что мы не можем отвергнуть нулевую гипотезу о том, что нет статистически значимых различий между группами A и B. Это означает, что на текущем уровне значимости (обычно 0.05) нет оснований полагать, что средние значения выборок A и B различаются.\n",
    "\n",
    "Относительный прирост B к А, равный -3.234%, указывает на то, что значение в группе B меньше на 3.234% по сравнению с группой A относительно базового значения (группы A).\n",
    "\n",
    "Таким образом, на основе данного теста мы не имеем статистически значимых оснований считать две группы разными.\n"
   ]
  },
  {
   "cell_type": "markdown",
   "metadata": {},
   "source": [
    "#### Графики кумулятивной конверсии и среднего чека по очищенным данным"
   ]
  },
  {
   "cell_type": "code",
   "execution_count": null,
   "metadata": {},
   "outputs": [],
   "source": [
    "stat_significance(\n",
    "    orders[(orders['group']=='A') & np.logical_not(orders['visitor_id'].isin(abnormal_users))]['revenue'], \n",
    "    orders[(orders['group']=='B') & np.logical_not(orders['visitor_id'].isin(abnormal_users))]['revenue']\n",
    "                  )"
   ]
  },
  {
   "cell_type": "markdown",
   "metadata": {},
   "source": [
    "P-value значительно больше 0.05. Значит, причин отвергать нулевую гипотезу и считать, что в среднем чеке есть различия, нет. По разнице средних чеков групп различий практически нет."
   ]
  },
  {
   "cell_type": "markdown",
   "metadata": {},
   "source": [
    "На основании входных данных, предоставленных интернет-магазином был проведено исследование и вынесены рекомендации, изложенные ниже.\n",
    "    \n",
    "**1. В части приоритизации гипотез из списка, предоставленных отделом Маркетинга следует в первую очередь обратить внимание на гипотезы:**   \n",
    "- \"Запустить акцию, дающую скидку на товар в день рождения\",   \n",
    "- \"Добавить два новых канала привлечения трафика, что позволит привлекать на 30% больше пользователей\",   \n",
    "- \"Добавить форму подписки на все основные страницы, чтобы собрать базу клиентов для email-рассылок\";      \n",
    "\n",
    "Если ранжирование гипотез должно включать в себя и охват пользователей интернет-магазина, то места необходимо распределить таким образом:   \n",
    "- \"Добавить форму подписки на все основные страницы, чтобы собрать базу клиентов для email-рассылок\",    \n",
    "- \"Добавить блоки рекомендаций товаров на сайт интернет магазина, чтобы повысить конверсию и средний чек заказа\",   \n",
    "- \"Добавить два новых канала привлечения трафика, что позволит привлекать на 30% больше пользователей\". \t\n",
    "\n",
    "\n",
    "**2. В части анализа А/В теста:**   \n",
    "\n",
    "* График кумулятивной конверсии стабилизировался и при проверке гипотез ( и по сырым, и по очищенным данным) мы можем говорить, что конверсия в группе B лучше, чем в группе A\n",
    "* График среднего чек не стабилизировался. График кумулятивного среднего чека по очищенным данным показывает, что график скачет и каждый день группа A и группа B меняются местами\n",
    "* Есть статистически значимое различие по конверсии между группами как по «сырым», так и по данным после фильтрации аномалий. Конверсия группы В выше, чем в А.  \n",
    "* Нет статистически значимого различия по среднему чеку между группами ни по «сырым», ни по данным после фильтрации аномалий. При этом средний чек группы В выше;   \n",
    "* График относительного изменения кумулятивной конверсии группы B к группе A показывает, что результаты группы В стабильно лучше группы А;\n",
    "\n",
    "\n",
    "Примем решение завершить тест и зафиксировать ,что \"группа В показала себя лучше\" (ее конверсия значительно  выше конверсии группы А). \n"
   ]
  },
  {
   "cell_type": "markdown",
   "metadata": {},
   "source": [
    "\n",
    "* Есть статистически значимое различие по конверсии между группами как по «сырым», так и по данным после фильтрации аномалий. Конверсия группы В выше, чем в А.  \n",
    "* Нет статистически значимого различия по среднему чеку между группами ни по «сырым», ни по данным после фильтрации аномалий. При этом средний чек группы В выше;   \n",
    "* График относительного изменения кумулятивной конверсии группы B к группе A показывает, что результаты группы В стабильно лучше группы А;\n",
    "\n",
    "\n",
    "Примем решение завершить тест и зафиксировать ,что \"группа В показала себя лучше\" (ее конверсия значительно  выше конверсии группы А). \n",
    " "
   ]
  },
  {
   "cell_type": "code",
   "execution_count": null,
   "metadata": {},
   "outputs": [],
   "source": []
  }
 ],
 "metadata": {
  "ExecuteTimeLog": [
   {
    "duration": 1288,
    "start_time": "2024-02-27T06:04:28.691Z"
   },
   {
    "duration": 178,
    "start_time": "2024-02-27T06:05:16.498Z"
   },
   {
    "duration": 19,
    "start_time": "2024-02-27T06:07:08.863Z"
   },
   {
    "duration": 2965,
    "start_time": "2024-02-27T06:12:06.076Z"
   },
   {
    "duration": 6,
    "start_time": "2024-02-27T06:12:50.237Z"
   },
   {
    "duration": 93,
    "start_time": "2024-02-27T06:13:40.514Z"
   },
   {
    "duration": 1156,
    "start_time": "2024-02-27T06:13:50.676Z"
   },
   {
    "duration": 2391,
    "start_time": "2024-02-27T06:13:51.834Z"
   },
   {
    "duration": 74,
    "start_time": "2024-02-27T06:13:54.227Z"
   },
   {
    "duration": 22,
    "start_time": "2024-02-27T06:13:54.303Z"
   },
   {
    "duration": 16,
    "start_time": "2024-02-27T06:13:54.327Z"
   },
   {
    "duration": 639,
    "start_time": "2024-02-27T06:13:54.344Z"
   },
   {
    "duration": 71,
    "start_time": "2024-02-27T06:13:54.984Z"
   },
   {
    "duration": 1119,
    "start_time": "2024-02-27T06:15:05.200Z"
   },
   {
    "duration": 2436,
    "start_time": "2024-02-27T06:15:06.321Z"
   },
   {
    "duration": 75,
    "start_time": "2024-02-27T06:15:08.758Z"
   },
   {
    "duration": 21,
    "start_time": "2024-02-27T06:15:08.835Z"
   },
   {
    "duration": 9,
    "start_time": "2024-02-27T06:15:08.858Z"
   },
   {
    "duration": 727,
    "start_time": "2024-02-27T06:15:08.869Z"
   },
   {
    "duration": 19,
    "start_time": "2024-02-27T06:15:09.597Z"
   },
   {
    "duration": 10,
    "start_time": "2024-02-27T06:15:09.617Z"
   },
   {
    "duration": 648,
    "start_time": "2024-02-27T06:15:09.628Z"
   },
   {
    "duration": 16,
    "start_time": "2024-02-27T06:17:12.581Z"
   },
   {
    "duration": 5,
    "start_time": "2024-02-27T06:17:14.928Z"
   },
   {
    "duration": 513,
    "start_time": "2024-02-27T06:17:16.906Z"
   },
   {
    "duration": 88,
    "start_time": "2024-02-27T06:17:31.606Z"
   },
   {
    "duration": 3,
    "start_time": "2024-02-27T06:18:30.541Z"
   },
   {
    "duration": 6,
    "start_time": "2024-02-27T06:19:14.383Z"
   },
   {
    "duration": 5,
    "start_time": "2024-02-27T06:19:33.491Z"
   },
   {
    "duration": 15,
    "start_time": "2024-02-27T06:25:25.764Z"
   },
   {
    "duration": 281,
    "start_time": "2024-02-27T06:25:39.961Z"
   },
   {
    "duration": 10,
    "start_time": "2024-02-27T06:26:25.934Z"
   },
   {
    "duration": 249,
    "start_time": "2024-02-27T06:26:46.184Z"
   },
   {
    "duration": 9,
    "start_time": "2024-02-27T06:27:35.444Z"
   },
   {
    "duration": 75,
    "start_time": "2024-02-27T06:27:58.708Z"
   },
   {
    "duration": 18,
    "start_time": "2024-02-27T06:45:40.696Z"
   },
   {
    "duration": 13,
    "start_time": "2024-02-27T06:45:49.433Z"
   },
   {
    "duration": 14,
    "start_time": "2024-02-27T06:46:10.835Z"
   },
   {
    "duration": 103,
    "start_time": "2024-02-27T06:46:26.036Z"
   },
   {
    "duration": 4,
    "start_time": "2024-02-27T06:46:30.009Z"
   },
   {
    "duration": 1165,
    "start_time": "2024-02-27T06:46:59.948Z"
   },
   {
    "duration": 2385,
    "start_time": "2024-02-27T06:47:01.115Z"
   },
   {
    "duration": 75,
    "start_time": "2024-02-27T06:47:03.502Z"
   },
   {
    "duration": 20,
    "start_time": "2024-02-27T06:47:03.579Z"
   },
   {
    "duration": 5,
    "start_time": "2024-02-27T06:47:03.601Z"
   },
   {
    "duration": 625,
    "start_time": "2024-02-27T06:47:03.608Z"
   },
   {
    "duration": 20,
    "start_time": "2024-02-27T06:47:04.234Z"
   },
   {
    "duration": 5,
    "start_time": "2024-02-27T06:47:04.264Z"
   },
   {
    "duration": 598,
    "start_time": "2024-02-27T06:47:04.271Z"
   },
   {
    "duration": 17,
    "start_time": "2024-02-27T06:47:04.871Z"
   },
   {
    "duration": 9,
    "start_time": "2024-02-27T06:47:04.889Z"
   },
   {
    "duration": 552,
    "start_time": "2024-02-27T06:47:04.899Z"
   },
   {
    "duration": 4,
    "start_time": "2024-02-27T06:47:05.452Z"
   },
   {
    "duration": 17,
    "start_time": "2024-02-27T06:47:05.457Z"
   },
   {
    "duration": 15,
    "start_time": "2024-02-27T06:47:05.476Z"
   },
   {
    "duration": 277,
    "start_time": "2024-02-27T06:47:05.493Z"
   },
   {
    "duration": 13,
    "start_time": "2024-02-27T06:47:05.772Z"
   },
   {
    "duration": 265,
    "start_time": "2024-02-27T06:47:05.787Z"
   },
   {
    "duration": 15,
    "start_time": "2024-02-27T06:47:06.054Z"
   },
   {
    "duration": 19,
    "start_time": "2024-02-27T06:47:06.071Z"
   },
   {
    "duration": 13,
    "start_time": "2024-02-27T06:47:06.092Z"
   },
   {
    "duration": 14,
    "start_time": "2024-02-27T06:47:06.107Z"
   },
   {
    "duration": 6,
    "start_time": "2024-02-27T06:47:06.123Z"
   },
   {
    "duration": 11,
    "start_time": "2024-02-27T06:47:06.131Z"
   },
   {
    "duration": 5,
    "start_time": "2024-02-27T06:47:15.291Z"
   },
   {
    "duration": 6,
    "start_time": "2024-02-27T06:47:15.890Z"
   },
   {
    "duration": 10,
    "start_time": "2024-02-27T06:47:26.029Z"
   },
   {
    "duration": 283,
    "start_time": "2024-02-27T06:49:03.640Z"
   },
   {
    "duration": 180,
    "start_time": "2024-02-27T06:51:10.902Z"
   },
   {
    "duration": 301,
    "start_time": "2024-02-27T06:54:19.656Z"
   },
   {
    "duration": 295,
    "start_time": "2024-02-27T06:55:45.668Z"
   },
   {
    "duration": 256,
    "start_time": "2024-02-27T06:58:25.699Z"
   },
   {
    "duration": 11,
    "start_time": "2024-02-27T06:59:48.496Z"
   },
   {
    "duration": 104,
    "start_time": "2024-02-27T07:00:00.037Z"
   },
   {
    "duration": 110,
    "start_time": "2024-02-27T07:01:48.140Z"
   },
   {
    "duration": 108,
    "start_time": "2024-02-27T07:01:57.321Z"
   },
   {
    "duration": 67,
    "start_time": "2024-02-27T07:02:23.806Z"
   },
   {
    "duration": 90,
    "start_time": "2024-02-27T07:02:28.379Z"
   },
   {
    "duration": 85,
    "start_time": "2024-02-27T07:02:31.627Z"
   },
   {
    "duration": 1143,
    "start_time": "2024-02-27T07:02:36.452Z"
   },
   {
    "duration": 2482,
    "start_time": "2024-02-27T07:02:37.596Z"
   },
   {
    "duration": 74,
    "start_time": "2024-02-27T07:02:40.081Z"
   },
   {
    "duration": 21,
    "start_time": "2024-02-27T07:02:40.156Z"
   },
   {
    "duration": 15,
    "start_time": "2024-02-27T07:02:40.179Z"
   },
   {
    "duration": 675,
    "start_time": "2024-02-27T07:02:40.196Z"
   },
   {
    "duration": 20,
    "start_time": "2024-02-27T07:02:40.872Z"
   },
   {
    "duration": 20,
    "start_time": "2024-02-27T07:02:40.893Z"
   },
   {
    "duration": 557,
    "start_time": "2024-02-27T07:02:40.915Z"
   },
   {
    "duration": 17,
    "start_time": "2024-02-27T07:02:41.474Z"
   },
   {
    "duration": 5,
    "start_time": "2024-02-27T07:02:41.493Z"
   },
   {
    "duration": 552,
    "start_time": "2024-02-27T07:02:41.501Z"
   },
   {
    "duration": 13,
    "start_time": "2024-02-27T07:02:42.055Z"
   },
   {
    "duration": 6,
    "start_time": "2024-02-27T07:02:42.071Z"
   },
   {
    "duration": 13,
    "start_time": "2024-02-27T07:02:42.079Z"
   },
   {
    "duration": 288,
    "start_time": "2024-02-27T07:02:42.094Z"
   },
   {
    "duration": 17,
    "start_time": "2024-02-27T07:02:42.383Z"
   },
   {
    "duration": 275,
    "start_time": "2024-02-27T07:02:42.402Z"
   },
   {
    "duration": 10,
    "start_time": "2024-02-27T07:02:42.679Z"
   },
   {
    "duration": 29,
    "start_time": "2024-02-27T07:02:42.691Z"
   },
   {
    "duration": 41,
    "start_time": "2024-02-27T07:02:42.723Z"
   },
   {
    "duration": 19,
    "start_time": "2024-02-27T07:02:42.766Z"
   },
   {
    "duration": 4,
    "start_time": "2024-02-27T07:02:42.786Z"
   },
   {
    "duration": 8,
    "start_time": "2024-02-27T07:02:42.791Z"
   },
   {
    "duration": 11,
    "start_time": "2024-02-27T07:02:42.800Z"
   },
   {
    "duration": 288,
    "start_time": "2024-02-27T07:02:42.812Z"
   },
   {
    "duration": 190,
    "start_time": "2024-02-27T07:02:43.102Z"
   },
   {
    "duration": 266,
    "start_time": "2024-02-27T07:02:43.294Z"
   },
   {
    "duration": 295,
    "start_time": "2024-02-27T07:02:43.565Z"
   },
   {
    "duration": 298,
    "start_time": "2024-02-27T07:02:43.861Z"
   },
   {
    "duration": 9,
    "start_time": "2024-02-27T07:02:44.164Z"
   },
   {
    "duration": 115,
    "start_time": "2024-02-27T07:02:44.175Z"
   },
   {
    "duration": 90,
    "start_time": "2024-02-27T07:02:44.291Z"
   },
   {
    "duration": 96,
    "start_time": "2024-02-27T07:03:10.845Z"
   },
   {
    "duration": 5,
    "start_time": "2024-02-27T07:03:22.152Z"
   },
   {
    "duration": 5,
    "start_time": "2024-02-27T07:04:18.904Z"
   },
   {
    "duration": 4,
    "start_time": "2024-02-27T07:04:46.690Z"
   },
   {
    "duration": 114,
    "start_time": "2024-02-27T07:05:14.179Z"
   },
   {
    "duration": 152,
    "start_time": "2024-02-27T07:06:52.936Z"
   },
   {
    "duration": 120,
    "start_time": "2024-02-27T07:08:44.626Z"
   },
   {
    "duration": 129,
    "start_time": "2024-02-27T07:08:54.319Z"
   },
   {
    "duration": 5,
    "start_time": "2024-02-27T07:10:06.302Z"
   },
   {
    "duration": 8,
    "start_time": "2024-02-27T07:10:56.424Z"
   },
   {
    "duration": 10,
    "start_time": "2024-02-27T07:11:46.013Z"
   },
   {
    "duration": 7,
    "start_time": "2024-02-27T07:11:52.535Z"
   },
   {
    "duration": 11,
    "start_time": "2024-02-27T07:13:54.282Z"
   },
   {
    "duration": 12,
    "start_time": "2024-02-27T07:14:05.938Z"
   },
   {
    "duration": 1128,
    "start_time": "2024-02-27T07:14:12.781Z"
   },
   {
    "duration": 2379,
    "start_time": "2024-02-27T07:14:13.911Z"
   },
   {
    "duration": 73,
    "start_time": "2024-02-27T07:14:16.292Z"
   },
   {
    "duration": 19,
    "start_time": "2024-02-27T07:14:16.367Z"
   },
   {
    "duration": 5,
    "start_time": "2024-02-27T07:14:16.388Z"
   },
   {
    "duration": 673,
    "start_time": "2024-02-27T07:14:16.394Z"
   },
   {
    "duration": 20,
    "start_time": "2024-02-27T07:14:17.068Z"
   },
   {
    "duration": 5,
    "start_time": "2024-02-27T07:14:17.090Z"
   },
   {
    "duration": 570,
    "start_time": "2024-02-27T07:14:17.097Z"
   },
   {
    "duration": 17,
    "start_time": "2024-02-27T07:14:17.669Z"
   },
   {
    "duration": 6,
    "start_time": "2024-02-27T07:14:17.688Z"
   },
   {
    "duration": 577,
    "start_time": "2024-02-27T07:14:17.696Z"
   },
   {
    "duration": 3,
    "start_time": "2024-02-27T07:14:18.274Z"
   },
   {
    "duration": 9,
    "start_time": "2024-02-27T07:14:18.280Z"
   },
   {
    "duration": 16,
    "start_time": "2024-02-27T07:14:18.290Z"
   },
   {
    "duration": 330,
    "start_time": "2024-02-27T07:14:18.308Z"
   },
   {
    "duration": 10,
    "start_time": "2024-02-27T07:14:18.640Z"
   },
   {
    "duration": 287,
    "start_time": "2024-02-27T07:14:18.652Z"
   },
   {
    "duration": 14,
    "start_time": "2024-02-27T07:14:18.941Z"
   },
   {
    "duration": 18,
    "start_time": "2024-02-27T07:14:18.965Z"
   },
   {
    "duration": 17,
    "start_time": "2024-02-27T07:14:18.984Z"
   },
   {
    "duration": 16,
    "start_time": "2024-02-27T07:14:19.003Z"
   },
   {
    "duration": 4,
    "start_time": "2024-02-27T07:14:19.021Z"
   },
   {
    "duration": 38,
    "start_time": "2024-02-27T07:14:19.027Z"
   },
   {
    "duration": 10,
    "start_time": "2024-02-27T07:14:19.067Z"
   },
   {
    "duration": 268,
    "start_time": "2024-02-27T07:14:19.078Z"
   },
   {
    "duration": 196,
    "start_time": "2024-02-27T07:14:19.347Z"
   },
   {
    "duration": 346,
    "start_time": "2024-02-27T07:14:19.545Z"
   },
   {
    "duration": 280,
    "start_time": "2024-02-27T07:14:19.893Z"
   },
   {
    "duration": 283,
    "start_time": "2024-02-27T07:14:20.174Z"
   },
   {
    "duration": 10,
    "start_time": "2024-02-27T07:14:20.464Z"
   },
   {
    "duration": 122,
    "start_time": "2024-02-27T07:14:20.476Z"
   },
   {
    "duration": 5,
    "start_time": "2024-02-27T07:14:20.600Z"
   },
   {
    "duration": 4,
    "start_time": "2024-02-27T07:14:20.606Z"
   },
   {
    "duration": 147,
    "start_time": "2024-02-27T07:14:20.612Z"
   },
   {
    "duration": 167,
    "start_time": "2024-02-27T07:14:20.761Z"
   },
   {
    "duration": 139,
    "start_time": "2024-02-27T07:14:20.930Z"
   },
   {
    "duration": 5,
    "start_time": "2024-02-27T07:14:21.071Z"
   },
   {
    "duration": 11,
    "start_time": "2024-02-27T07:14:21.077Z"
   },
   {
    "duration": 9,
    "start_time": "2024-02-27T07:14:21.090Z"
   },
   {
    "duration": 137,
    "start_time": "2024-02-27T07:14:21.102Z"
   },
   {
    "duration": 3,
    "start_time": "2024-02-27T07:16:07.219Z"
   },
   {
    "duration": 1135,
    "start_time": "2024-02-27T07:16:11.746Z"
   },
   {
    "duration": 2415,
    "start_time": "2024-02-27T07:16:12.882Z"
   },
   {
    "duration": 75,
    "start_time": "2024-02-27T07:16:15.299Z"
   },
   {
    "duration": 21,
    "start_time": "2024-02-27T07:16:15.376Z"
   },
   {
    "duration": 21,
    "start_time": "2024-02-27T07:16:15.399Z"
   },
   {
    "duration": 745,
    "start_time": "2024-02-27T07:16:15.422Z"
   },
   {
    "duration": 18,
    "start_time": "2024-02-27T07:16:16.168Z"
   },
   {
    "duration": 5,
    "start_time": "2024-02-27T07:16:16.188Z"
   },
   {
    "duration": 584,
    "start_time": "2024-02-27T07:16:16.194Z"
   },
   {
    "duration": 23,
    "start_time": "2024-02-27T07:16:16.781Z"
   },
   {
    "duration": 5,
    "start_time": "2024-02-27T07:16:16.805Z"
   },
   {
    "duration": 535,
    "start_time": "2024-02-27T07:16:16.811Z"
   },
   {
    "duration": 3,
    "start_time": "2024-02-27T07:16:17.347Z"
   },
   {
    "duration": 6,
    "start_time": "2024-02-27T07:16:17.367Z"
   },
   {
    "duration": 12,
    "start_time": "2024-02-27T07:16:17.375Z"
   },
   {
    "duration": 289,
    "start_time": "2024-02-27T07:16:17.389Z"
   },
   {
    "duration": 13,
    "start_time": "2024-02-27T07:16:17.680Z"
   },
   {
    "duration": 290,
    "start_time": "2024-02-27T07:16:17.695Z"
   },
   {
    "duration": 11,
    "start_time": "2024-02-27T07:16:17.987Z"
   },
   {
    "duration": 26,
    "start_time": "2024-02-27T07:16:18.000Z"
   },
   {
    "duration": 15,
    "start_time": "2024-02-27T07:16:18.027Z"
   },
   {
    "duration": 33,
    "start_time": "2024-02-27T07:16:18.044Z"
   },
   {
    "duration": 19,
    "start_time": "2024-02-27T07:16:18.079Z"
   },
   {
    "duration": 6,
    "start_time": "2024-02-27T07:16:18.100Z"
   },
   {
    "duration": 17,
    "start_time": "2024-02-27T07:16:18.108Z"
   },
   {
    "duration": 272,
    "start_time": "2024-02-27T07:16:18.127Z"
   },
   {
    "duration": 218,
    "start_time": "2024-02-27T07:16:18.400Z"
   },
   {
    "duration": 306,
    "start_time": "2024-02-27T07:16:18.620Z"
   },
   {
    "duration": 274,
    "start_time": "2024-02-27T07:16:18.928Z"
   },
   {
    "duration": 271,
    "start_time": "2024-02-27T07:16:19.204Z"
   },
   {
    "duration": 10,
    "start_time": "2024-02-27T07:16:19.476Z"
   },
   {
    "duration": 114,
    "start_time": "2024-02-27T07:16:19.487Z"
   },
   {
    "duration": 5,
    "start_time": "2024-02-27T07:16:19.603Z"
   },
   {
    "duration": 7,
    "start_time": "2024-02-27T07:16:19.609Z"
   },
   {
    "duration": 147,
    "start_time": "2024-02-27T07:16:19.618Z"
   },
   {
    "duration": 168,
    "start_time": "2024-02-27T07:16:19.767Z"
   },
   {
    "duration": 136,
    "start_time": "2024-02-27T07:16:19.937Z"
   },
   {
    "duration": 6,
    "start_time": "2024-02-27T07:16:20.075Z"
   },
   {
    "duration": 12,
    "start_time": "2024-02-27T07:16:20.082Z"
   },
   {
    "duration": 20,
    "start_time": "2024-02-27T07:16:20.096Z"
   },
   {
    "duration": 7,
    "start_time": "2024-02-27T07:16:20.121Z"
   },
   {
    "duration": 29,
    "start_time": "2024-02-27T07:17:02.163Z"
   },
   {
    "duration": 7,
    "start_time": "2024-02-27T07:17:17.312Z"
   },
   {
    "duration": 130,
    "start_time": "2024-02-27T07:18:48.887Z"
   },
   {
    "duration": 11,
    "start_time": "2024-02-27T07:19:38.937Z"
   },
   {
    "duration": 1104,
    "start_time": "2024-02-27T07:19:45.710Z"
   },
   {
    "duration": 2380,
    "start_time": "2024-02-27T07:19:46.815Z"
   },
   {
    "duration": 75,
    "start_time": "2024-02-27T07:19:49.198Z"
   },
   {
    "duration": 20,
    "start_time": "2024-02-27T07:19:49.275Z"
   },
   {
    "duration": 5,
    "start_time": "2024-02-27T07:19:49.297Z"
   },
   {
    "duration": 733,
    "start_time": "2024-02-27T07:19:49.303Z"
   },
   {
    "duration": 28,
    "start_time": "2024-02-27T07:19:50.037Z"
   },
   {
    "duration": 5,
    "start_time": "2024-02-27T07:19:50.066Z"
   },
   {
    "duration": 494,
    "start_time": "2024-02-27T07:19:50.073Z"
   },
   {
    "duration": 17,
    "start_time": "2024-02-27T07:19:50.568Z"
   },
   {
    "duration": 15,
    "start_time": "2024-02-27T07:19:50.587Z"
   },
   {
    "duration": 568,
    "start_time": "2024-02-27T07:19:50.603Z"
   },
   {
    "duration": 4,
    "start_time": "2024-02-27T07:19:51.172Z"
   },
   {
    "duration": 7,
    "start_time": "2024-02-27T07:19:51.178Z"
   },
   {
    "duration": 15,
    "start_time": "2024-02-27T07:19:51.186Z"
   },
   {
    "duration": 308,
    "start_time": "2024-02-27T07:19:51.202Z"
   },
   {
    "duration": 11,
    "start_time": "2024-02-27T07:19:51.512Z"
   },
   {
    "duration": 270,
    "start_time": "2024-02-27T07:19:51.525Z"
   },
   {
    "duration": 11,
    "start_time": "2024-02-27T07:19:51.797Z"
   },
   {
    "duration": 34,
    "start_time": "2024-02-27T07:19:51.809Z"
   },
   {
    "duration": 24,
    "start_time": "2024-02-27T07:19:51.845Z"
   },
   {
    "duration": 40,
    "start_time": "2024-02-27T07:19:51.871Z"
   },
   {
    "duration": 4,
    "start_time": "2024-02-27T07:19:51.913Z"
   },
   {
    "duration": 10,
    "start_time": "2024-02-27T07:19:51.919Z"
   },
   {
    "duration": 14,
    "start_time": "2024-02-27T07:19:51.930Z"
   },
   {
    "duration": 285,
    "start_time": "2024-02-27T07:19:51.945Z"
   },
   {
    "duration": 205,
    "start_time": "2024-02-27T07:19:52.232Z"
   },
   {
    "duration": 338,
    "start_time": "2024-02-27T07:19:52.439Z"
   },
   {
    "duration": 271,
    "start_time": "2024-02-27T07:19:52.778Z"
   },
   {
    "duration": 296,
    "start_time": "2024-02-27T07:19:53.050Z"
   },
   {
    "duration": 23,
    "start_time": "2024-02-27T07:19:53.348Z"
   },
   {
    "duration": 136,
    "start_time": "2024-02-27T07:19:53.373Z"
   },
   {
    "duration": 5,
    "start_time": "2024-02-27T07:19:53.510Z"
   },
   {
    "duration": 23,
    "start_time": "2024-02-27T07:19:53.516Z"
   },
   {
    "duration": 137,
    "start_time": "2024-02-27T07:19:53.541Z"
   },
   {
    "duration": 157,
    "start_time": "2024-02-27T07:19:53.679Z"
   },
   {
    "duration": 133,
    "start_time": "2024-02-27T07:19:53.838Z"
   },
   {
    "duration": 5,
    "start_time": "2024-02-27T07:19:53.972Z"
   },
   {
    "duration": 9,
    "start_time": "2024-02-27T07:19:53.979Z"
   },
   {
    "duration": 25,
    "start_time": "2024-02-27T07:19:53.990Z"
   },
   {
    "duration": 8,
    "start_time": "2024-02-27T07:19:54.019Z"
   },
   {
    "duration": 39,
    "start_time": "2024-02-27T07:19:54.029Z"
   },
   {
    "duration": 6,
    "start_time": "2024-02-27T07:19:54.069Z"
   },
   {
    "duration": 5,
    "start_time": "2024-02-27T07:19:54.077Z"
   },
   {
    "duration": 111,
    "start_time": "2024-02-27T07:19:54.083Z"
   },
   {
    "duration": 9,
    "start_time": "2024-02-27T07:20:26.177Z"
   },
   {
    "duration": 4,
    "start_time": "2024-02-27T07:20:26.848Z"
   },
   {
    "duration": 8,
    "start_time": "2024-02-27T07:20:27.408Z"
   },
   {
    "duration": 1114,
    "start_time": "2024-02-27T07:20:32.686Z"
   },
   {
    "duration": 2389,
    "start_time": "2024-02-27T07:20:33.802Z"
   },
   {
    "duration": 74,
    "start_time": "2024-02-27T07:20:36.193Z"
   },
   {
    "duration": 22,
    "start_time": "2024-02-27T07:20:36.270Z"
   },
   {
    "duration": 12,
    "start_time": "2024-02-27T07:20:36.294Z"
   },
   {
    "duration": 772,
    "start_time": "2024-02-27T07:20:36.308Z"
   },
   {
    "duration": 19,
    "start_time": "2024-02-27T07:20:37.082Z"
   },
   {
    "duration": 5,
    "start_time": "2024-02-27T07:20:37.103Z"
   },
   {
    "duration": 648,
    "start_time": "2024-02-27T07:20:37.109Z"
   },
   {
    "duration": 17,
    "start_time": "2024-02-27T07:20:37.764Z"
   },
   {
    "duration": 10,
    "start_time": "2024-02-27T07:20:37.782Z"
   },
   {
    "duration": 588,
    "start_time": "2024-02-27T07:20:37.793Z"
   },
   {
    "duration": 4,
    "start_time": "2024-02-27T07:20:38.383Z"
   },
   {
    "duration": 7,
    "start_time": "2024-02-27T07:20:38.389Z"
   },
   {
    "duration": 15,
    "start_time": "2024-02-27T07:20:38.398Z"
   },
   {
    "duration": 335,
    "start_time": "2024-02-27T07:20:38.414Z"
   },
   {
    "duration": 17,
    "start_time": "2024-02-27T07:20:38.751Z"
   },
   {
    "duration": 291,
    "start_time": "2024-02-27T07:20:38.769Z"
   },
   {
    "duration": 11,
    "start_time": "2024-02-27T07:20:39.062Z"
   },
   {
    "duration": 17,
    "start_time": "2024-02-27T07:20:39.075Z"
   },
   {
    "duration": 14,
    "start_time": "2024-02-27T07:20:39.093Z"
   },
   {
    "duration": 16,
    "start_time": "2024-02-27T07:20:39.108Z"
   },
   {
    "duration": 4,
    "start_time": "2024-02-27T07:20:39.126Z"
   },
   {
    "duration": 5,
    "start_time": "2024-02-27T07:20:39.166Z"
   },
   {
    "duration": 10,
    "start_time": "2024-02-27T07:20:39.173Z"
   },
   {
    "duration": 283,
    "start_time": "2024-02-27T07:20:39.185Z"
   },
   {
    "duration": 200,
    "start_time": "2024-02-27T07:20:39.470Z"
   },
   {
    "duration": 295,
    "start_time": "2024-02-27T07:20:39.675Z"
   },
   {
    "duration": 280,
    "start_time": "2024-02-27T07:20:39.972Z"
   },
   {
    "duration": 323,
    "start_time": "2024-02-27T07:20:40.254Z"
   },
   {
    "duration": 11,
    "start_time": "2024-02-27T07:20:40.578Z"
   },
   {
    "duration": 117,
    "start_time": "2024-02-27T07:20:40.591Z"
   },
   {
    "duration": 5,
    "start_time": "2024-02-27T07:20:40.709Z"
   },
   {
    "duration": 4,
    "start_time": "2024-02-27T07:20:40.716Z"
   },
   {
    "duration": 139,
    "start_time": "2024-02-27T07:20:40.721Z"
   },
   {
    "duration": 164,
    "start_time": "2024-02-27T07:20:40.862Z"
   },
   {
    "duration": 126,
    "start_time": "2024-02-27T07:20:41.028Z"
   },
   {
    "duration": 10,
    "start_time": "2024-02-27T07:20:41.156Z"
   },
   {
    "duration": 13,
    "start_time": "2024-02-27T07:20:41.168Z"
   },
   {
    "duration": 7,
    "start_time": "2024-02-27T07:20:41.182Z"
   },
   {
    "duration": 12,
    "start_time": "2024-02-27T07:20:41.191Z"
   },
   {
    "duration": 31,
    "start_time": "2024-02-27T07:20:41.205Z"
   },
   {
    "duration": 28,
    "start_time": "2024-02-27T07:20:41.238Z"
   },
   {
    "duration": 104,
    "start_time": "2024-02-27T07:20:41.268Z"
   },
   {
    "duration": 0,
    "start_time": "2024-02-27T07:20:41.373Z"
   },
   {
    "duration": 0,
    "start_time": "2024-02-27T07:20:41.374Z"
   },
   {
    "duration": 6,
    "start_time": "2024-02-27T07:21:35.298Z"
   },
   {
    "duration": 74,
    "start_time": "2024-02-27T07:30:24.468Z"
   },
   {
    "duration": 9,
    "start_time": "2024-02-27T07:31:31.846Z"
   },
   {
    "duration": 7,
    "start_time": "2024-02-27T07:32:58.013Z"
   },
   {
    "duration": 13,
    "start_time": "2024-02-27T07:33:10.035Z"
   },
   {
    "duration": 9,
    "start_time": "2024-02-27T07:33:29.519Z"
   },
   {
    "duration": 10,
    "start_time": "2024-02-27T07:34:44.159Z"
   },
   {
    "duration": 25,
    "start_time": "2024-02-27T07:37:15.877Z"
   },
   {
    "duration": 10,
    "start_time": "2024-02-27T07:42:59.508Z"
   },
   {
    "duration": 18,
    "start_time": "2024-02-27T07:43:45.108Z"
   },
   {
    "duration": 15,
    "start_time": "2024-02-27T07:43:55.936Z"
   },
   {
    "duration": 173,
    "start_time": "2024-02-27T07:44:24.449Z"
   },
   {
    "duration": 169,
    "start_time": "2024-02-27T07:44:26.901Z"
   },
   {
    "duration": 1142,
    "start_time": "2024-02-27T07:44:44.252Z"
   },
   {
    "duration": 2253,
    "start_time": "2024-02-27T07:44:45.396Z"
   },
   {
    "duration": 74,
    "start_time": "2024-02-27T07:44:47.651Z"
   },
   {
    "duration": 20,
    "start_time": "2024-02-27T07:44:47.727Z"
   },
   {
    "duration": 4,
    "start_time": "2024-02-27T07:44:47.749Z"
   },
   {
    "duration": 704,
    "start_time": "2024-02-27T07:44:47.755Z"
   },
   {
    "duration": 18,
    "start_time": "2024-02-27T07:44:48.465Z"
   },
   {
    "duration": 13,
    "start_time": "2024-02-27T07:44:48.485Z"
   },
   {
    "duration": 570,
    "start_time": "2024-02-27T07:44:48.499Z"
   },
   {
    "duration": 16,
    "start_time": "2024-02-27T07:44:49.072Z"
   },
   {
    "duration": 6,
    "start_time": "2024-02-27T07:44:49.089Z"
   },
   {
    "duration": 559,
    "start_time": "2024-02-27T07:44:49.097Z"
   },
   {
    "duration": 3,
    "start_time": "2024-02-27T07:44:49.665Z"
   },
   {
    "duration": 9,
    "start_time": "2024-02-27T07:44:49.670Z"
   },
   {
    "duration": 12,
    "start_time": "2024-02-27T07:44:49.680Z"
   },
   {
    "duration": 283,
    "start_time": "2024-02-27T07:44:49.693Z"
   },
   {
    "duration": 10,
    "start_time": "2024-02-27T07:44:49.978Z"
   },
   {
    "duration": 257,
    "start_time": "2024-02-27T07:44:49.989Z"
   },
   {
    "duration": 9,
    "start_time": "2024-02-27T07:44:50.247Z"
   },
   {
    "duration": 24,
    "start_time": "2024-02-27T07:44:50.258Z"
   },
   {
    "duration": 13,
    "start_time": "2024-02-27T07:44:50.283Z"
   },
   {
    "duration": 14,
    "start_time": "2024-02-27T07:44:50.297Z"
   },
   {
    "duration": 7,
    "start_time": "2024-02-27T07:44:50.313Z"
   },
   {
    "duration": 15,
    "start_time": "2024-02-27T07:44:50.321Z"
   },
   {
    "duration": 29,
    "start_time": "2024-02-27T07:44:50.337Z"
   },
   {
    "duration": 258,
    "start_time": "2024-02-27T07:44:50.367Z"
   },
   {
    "duration": 192,
    "start_time": "2024-02-27T07:44:50.626Z"
   },
   {
    "duration": 273,
    "start_time": "2024-02-27T07:44:50.821Z"
   },
   {
    "duration": 258,
    "start_time": "2024-02-27T07:44:51.095Z"
   },
   {
    "duration": 317,
    "start_time": "2024-02-27T07:44:51.355Z"
   },
   {
    "duration": 10,
    "start_time": "2024-02-27T07:44:51.673Z"
   },
   {
    "duration": 116,
    "start_time": "2024-02-27T07:44:51.684Z"
   },
   {
    "duration": 6,
    "start_time": "2024-02-27T07:44:51.801Z"
   },
   {
    "duration": 12,
    "start_time": "2024-02-27T07:44:51.808Z"
   },
   {
    "duration": 143,
    "start_time": "2024-02-27T07:44:51.822Z"
   },
   {
    "duration": 153,
    "start_time": "2024-02-27T07:44:51.966Z"
   },
   {
    "duration": 121,
    "start_time": "2024-02-27T07:44:52.121Z"
   },
   {
    "duration": 4,
    "start_time": "2024-02-27T07:44:52.244Z"
   },
   {
    "duration": 21,
    "start_time": "2024-02-27T07:44:52.249Z"
   },
   {
    "duration": 20,
    "start_time": "2024-02-27T07:44:52.272Z"
   },
   {
    "duration": 12,
    "start_time": "2024-02-27T07:44:52.293Z"
   },
   {
    "duration": 34,
    "start_time": "2024-02-27T07:44:52.306Z"
   },
   {
    "duration": 6,
    "start_time": "2024-02-27T07:44:52.341Z"
   },
   {
    "duration": 21,
    "start_time": "2024-02-27T07:44:52.348Z"
   },
   {
    "duration": 18,
    "start_time": "2024-02-27T07:44:52.371Z"
   },
   {
    "duration": 27,
    "start_time": "2024-02-27T07:44:52.391Z"
   },
   {
    "duration": 6,
    "start_time": "2024-02-27T07:44:52.420Z"
   },
   {
    "duration": 26,
    "start_time": "2024-02-27T07:44:52.427Z"
   },
   {
    "duration": 7,
    "start_time": "2024-02-27T07:44:52.455Z"
   },
   {
    "duration": 30,
    "start_time": "2024-02-27T07:44:52.463Z"
   },
   {
    "duration": 13,
    "start_time": "2024-02-27T07:44:52.494Z"
   },
   {
    "duration": 4,
    "start_time": "2024-02-27T07:44:52.508Z"
   },
   {
    "duration": 5,
    "start_time": "2024-02-27T07:44:52.513Z"
   },
   {
    "duration": 183,
    "start_time": "2024-02-27T07:44:52.519Z"
   },
   {
    "duration": 178,
    "start_time": "2024-02-27T07:44:52.703Z"
   },
   {
    "duration": 88,
    "start_time": "2024-02-27T07:47:43.022Z"
   },
   {
    "duration": 1170,
    "start_time": "2024-02-27T07:49:51.745Z"
   },
   {
    "duration": 2273,
    "start_time": "2024-02-27T07:49:52.917Z"
   },
   {
    "duration": 75,
    "start_time": "2024-02-27T07:49:55.195Z"
   },
   {
    "duration": 21,
    "start_time": "2024-02-27T07:49:55.273Z"
   },
   {
    "duration": 5,
    "start_time": "2024-02-27T07:49:55.295Z"
   },
   {
    "duration": 668,
    "start_time": "2024-02-27T07:49:55.301Z"
   },
   {
    "duration": 19,
    "start_time": "2024-02-27T07:49:55.971Z"
   },
   {
    "duration": 7,
    "start_time": "2024-02-27T07:49:55.992Z"
   },
   {
    "duration": 577,
    "start_time": "2024-02-27T07:49:56.000Z"
   },
   {
    "duration": 17,
    "start_time": "2024-02-27T07:49:56.579Z"
   },
   {
    "duration": 4,
    "start_time": "2024-02-27T07:49:56.597Z"
   },
   {
    "duration": 541,
    "start_time": "2024-02-27T07:49:56.603Z"
   },
   {
    "duration": 3,
    "start_time": "2024-02-27T07:49:57.145Z"
   },
   {
    "duration": 17,
    "start_time": "2024-02-27T07:49:57.150Z"
   },
   {
    "duration": 11,
    "start_time": "2024-02-27T07:49:57.169Z"
   },
   {
    "duration": 270,
    "start_time": "2024-02-27T07:49:57.182Z"
   },
   {
    "duration": 13,
    "start_time": "2024-02-27T07:49:57.453Z"
   },
   {
    "duration": 254,
    "start_time": "2024-02-27T07:49:57.467Z"
   },
   {
    "duration": 11,
    "start_time": "2024-02-27T07:49:57.722Z"
   },
   {
    "duration": 34,
    "start_time": "2024-02-27T07:49:57.734Z"
   },
   {
    "duration": 14,
    "start_time": "2024-02-27T07:49:57.770Z"
   },
   {
    "duration": 14,
    "start_time": "2024-02-27T07:49:57.786Z"
   },
   {
    "duration": 4,
    "start_time": "2024-02-27T07:49:57.801Z"
   },
   {
    "duration": 6,
    "start_time": "2024-02-27T07:49:57.807Z"
   },
   {
    "duration": 15,
    "start_time": "2024-02-27T07:49:57.815Z"
   },
   {
    "duration": 278,
    "start_time": "2024-02-27T07:49:57.831Z"
   },
   {
    "duration": 197,
    "start_time": "2024-02-27T07:49:58.111Z"
   },
   {
    "duration": 269,
    "start_time": "2024-02-27T07:49:58.311Z"
   },
   {
    "duration": 258,
    "start_time": "2024-02-27T07:49:58.582Z"
   },
   {
    "duration": 313,
    "start_time": "2024-02-27T07:49:58.842Z"
   },
   {
    "duration": 10,
    "start_time": "2024-02-27T07:49:59.165Z"
   },
   {
    "duration": 124,
    "start_time": "2024-02-27T07:49:59.177Z"
   },
   {
    "duration": 5,
    "start_time": "2024-02-27T07:49:59.302Z"
   },
   {
    "duration": 11,
    "start_time": "2024-02-27T07:49:59.308Z"
   },
   {
    "duration": 124,
    "start_time": "2024-02-27T07:49:59.320Z"
   },
   {
    "duration": 163,
    "start_time": "2024-02-27T07:49:59.445Z"
   },
   {
    "duration": 134,
    "start_time": "2024-02-27T07:49:59.610Z"
   },
   {
    "duration": 4,
    "start_time": "2024-02-27T07:49:59.746Z"
   },
   {
    "duration": 21,
    "start_time": "2024-02-27T07:49:59.751Z"
   },
   {
    "duration": 8,
    "start_time": "2024-02-27T07:49:59.773Z"
   },
   {
    "duration": 7,
    "start_time": "2024-02-27T07:49:59.783Z"
   },
   {
    "duration": 25,
    "start_time": "2024-02-27T07:49:59.791Z"
   },
   {
    "duration": 7,
    "start_time": "2024-02-27T07:49:59.817Z"
   },
   {
    "duration": 39,
    "start_time": "2024-02-27T07:49:59.826Z"
   },
   {
    "duration": 8,
    "start_time": "2024-02-27T07:49:59.867Z"
   },
   {
    "duration": 9,
    "start_time": "2024-02-27T07:49:59.876Z"
   },
   {
    "duration": 7,
    "start_time": "2024-02-27T07:49:59.887Z"
   },
   {
    "duration": 27,
    "start_time": "2024-02-27T07:49:59.896Z"
   },
   {
    "duration": 8,
    "start_time": "2024-02-27T07:49:59.925Z"
   },
   {
    "duration": 17,
    "start_time": "2024-02-27T07:49:59.966Z"
   },
   {
    "duration": 14,
    "start_time": "2024-02-27T07:49:59.984Z"
   },
   {
    "duration": 4,
    "start_time": "2024-02-27T07:49:59.999Z"
   },
   {
    "duration": 63,
    "start_time": "2024-02-27T07:50:00.005Z"
   },
   {
    "duration": 221,
    "start_time": "2024-02-27T07:50:00.069Z"
   },
   {
    "duration": 197,
    "start_time": "2024-02-27T07:50:00.292Z"
   },
   {
    "duration": 1060,
    "start_time": "2024-02-27T08:06:06.176Z"
   },
   {
    "duration": 0,
    "start_time": "2024-02-27T08:06:07.289Z"
   },
   {
    "duration": 0,
    "start_time": "2024-02-27T08:06:07.290Z"
   },
   {
    "duration": 0,
    "start_time": "2024-02-27T08:06:07.291Z"
   },
   {
    "duration": 0,
    "start_time": "2024-02-27T08:06:07.292Z"
   },
   {
    "duration": 0,
    "start_time": "2024-02-27T08:06:07.293Z"
   },
   {
    "duration": 0,
    "start_time": "2024-02-27T08:06:07.295Z"
   },
   {
    "duration": 0,
    "start_time": "2024-02-27T08:06:07.296Z"
   },
   {
    "duration": 0,
    "start_time": "2024-02-27T08:06:07.297Z"
   },
   {
    "duration": 0,
    "start_time": "2024-02-27T08:06:07.298Z"
   },
   {
    "duration": 0,
    "start_time": "2024-02-27T08:06:07.299Z"
   },
   {
    "duration": 0,
    "start_time": "2024-02-27T08:06:07.300Z"
   },
   {
    "duration": 0,
    "start_time": "2024-02-27T08:06:07.301Z"
   },
   {
    "duration": 0,
    "start_time": "2024-02-27T08:06:07.302Z"
   },
   {
    "duration": 0,
    "start_time": "2024-02-27T08:06:07.303Z"
   },
   {
    "duration": 0,
    "start_time": "2024-02-27T08:06:07.304Z"
   },
   {
    "duration": 0,
    "start_time": "2024-02-27T08:06:07.305Z"
   },
   {
    "duration": 0,
    "start_time": "2024-02-27T08:06:07.306Z"
   },
   {
    "duration": 0,
    "start_time": "2024-02-27T08:06:07.307Z"
   },
   {
    "duration": 0,
    "start_time": "2024-02-27T08:06:07.309Z"
   },
   {
    "duration": 0,
    "start_time": "2024-02-27T08:06:07.309Z"
   },
   {
    "duration": 0,
    "start_time": "2024-02-27T08:06:07.310Z"
   },
   {
    "duration": 0,
    "start_time": "2024-02-27T08:06:07.311Z"
   },
   {
    "duration": 0,
    "start_time": "2024-02-27T08:06:07.345Z"
   },
   {
    "duration": 0,
    "start_time": "2024-02-27T08:06:07.346Z"
   },
   {
    "duration": 0,
    "start_time": "2024-02-27T08:06:07.347Z"
   },
   {
    "duration": 0,
    "start_time": "2024-02-27T08:06:07.348Z"
   },
   {
    "duration": 0,
    "start_time": "2024-02-27T08:06:07.349Z"
   },
   {
    "duration": 0,
    "start_time": "2024-02-27T08:06:07.350Z"
   },
   {
    "duration": 0,
    "start_time": "2024-02-27T08:06:07.351Z"
   },
   {
    "duration": 0,
    "start_time": "2024-02-27T08:06:07.352Z"
   },
   {
    "duration": 0,
    "start_time": "2024-02-27T08:06:07.353Z"
   },
   {
    "duration": 0,
    "start_time": "2024-02-27T08:06:07.354Z"
   },
   {
    "duration": 0,
    "start_time": "2024-02-27T08:06:07.355Z"
   },
   {
    "duration": 0,
    "start_time": "2024-02-27T08:06:07.356Z"
   },
   {
    "duration": 0,
    "start_time": "2024-02-27T08:06:07.357Z"
   },
   {
    "duration": 0,
    "start_time": "2024-02-27T08:06:07.358Z"
   },
   {
    "duration": 0,
    "start_time": "2024-02-27T08:06:07.359Z"
   },
   {
    "duration": 0,
    "start_time": "2024-02-27T08:06:07.360Z"
   },
   {
    "duration": 0,
    "start_time": "2024-02-27T08:06:07.361Z"
   },
   {
    "duration": 0,
    "start_time": "2024-02-27T08:06:07.362Z"
   },
   {
    "duration": 0,
    "start_time": "2024-02-27T08:06:07.363Z"
   },
   {
    "duration": 0,
    "start_time": "2024-02-27T08:06:07.364Z"
   },
   {
    "duration": 0,
    "start_time": "2024-02-27T08:06:07.365Z"
   },
   {
    "duration": 0,
    "start_time": "2024-02-27T08:06:07.366Z"
   },
   {
    "duration": 0,
    "start_time": "2024-02-27T08:06:07.367Z"
   },
   {
    "duration": 0,
    "start_time": "2024-02-27T08:06:07.368Z"
   },
   {
    "duration": 0,
    "start_time": "2024-02-27T08:06:07.369Z"
   },
   {
    "duration": 0,
    "start_time": "2024-02-27T08:06:07.370Z"
   },
   {
    "duration": 0,
    "start_time": "2024-02-27T08:06:07.371Z"
   },
   {
    "duration": 0,
    "start_time": "2024-02-27T08:06:07.372Z"
   },
   {
    "duration": 0,
    "start_time": "2024-02-27T08:06:07.373Z"
   },
   {
    "duration": 0,
    "start_time": "2024-02-27T08:06:07.374Z"
   },
   {
    "duration": 0,
    "start_time": "2024-02-27T08:06:07.375Z"
   },
   {
    "duration": 0,
    "start_time": "2024-02-27T08:06:07.376Z"
   },
   {
    "duration": 1077,
    "start_time": "2024-02-27T08:06:25.474Z"
   },
   {
    "duration": 3262,
    "start_time": "2024-02-27T08:06:26.552Z"
   },
   {
    "duration": 78,
    "start_time": "2024-02-27T08:06:29.816Z"
   },
   {
    "duration": 19,
    "start_time": "2024-02-27T08:06:29.896Z"
   },
   {
    "duration": 4,
    "start_time": "2024-02-27T08:06:29.916Z"
   },
   {
    "duration": 97,
    "start_time": "2024-02-27T08:06:29.922Z"
   },
   {
    "duration": 0,
    "start_time": "2024-02-27T08:06:30.022Z"
   },
   {
    "duration": 0,
    "start_time": "2024-02-27T08:06:30.023Z"
   },
   {
    "duration": 0,
    "start_time": "2024-02-27T08:06:30.024Z"
   },
   {
    "duration": 0,
    "start_time": "2024-02-27T08:06:30.025Z"
   },
   {
    "duration": 0,
    "start_time": "2024-02-27T08:06:30.026Z"
   },
   {
    "duration": 0,
    "start_time": "2024-02-27T08:06:30.028Z"
   },
   {
    "duration": 0,
    "start_time": "2024-02-27T08:06:30.029Z"
   },
   {
    "duration": 0,
    "start_time": "2024-02-27T08:06:30.030Z"
   },
   {
    "duration": 0,
    "start_time": "2024-02-27T08:06:30.031Z"
   },
   {
    "duration": 0,
    "start_time": "2024-02-27T08:06:30.032Z"
   },
   {
    "duration": 0,
    "start_time": "2024-02-27T08:06:30.045Z"
   },
   {
    "duration": 0,
    "start_time": "2024-02-27T08:06:30.046Z"
   },
   {
    "duration": 0,
    "start_time": "2024-02-27T08:06:30.047Z"
   },
   {
    "duration": 0,
    "start_time": "2024-02-27T08:06:30.048Z"
   },
   {
    "duration": 0,
    "start_time": "2024-02-27T08:06:30.049Z"
   },
   {
    "duration": 0,
    "start_time": "2024-02-27T08:06:30.050Z"
   },
   {
    "duration": 0,
    "start_time": "2024-02-27T08:06:30.051Z"
   },
   {
    "duration": 0,
    "start_time": "2024-02-27T08:06:30.052Z"
   },
   {
    "duration": 0,
    "start_time": "2024-02-27T08:06:30.053Z"
   },
   {
    "duration": 0,
    "start_time": "2024-02-27T08:06:30.054Z"
   },
   {
    "duration": 0,
    "start_time": "2024-02-27T08:06:30.055Z"
   },
   {
    "duration": 0,
    "start_time": "2024-02-27T08:06:30.056Z"
   },
   {
    "duration": 0,
    "start_time": "2024-02-27T08:06:30.057Z"
   },
   {
    "duration": 0,
    "start_time": "2024-02-27T08:06:30.058Z"
   },
   {
    "duration": 0,
    "start_time": "2024-02-27T08:06:30.059Z"
   },
   {
    "duration": 0,
    "start_time": "2024-02-27T08:06:30.060Z"
   },
   {
    "duration": 0,
    "start_time": "2024-02-27T08:06:30.061Z"
   },
   {
    "duration": 0,
    "start_time": "2024-02-27T08:06:30.062Z"
   },
   {
    "duration": 0,
    "start_time": "2024-02-27T08:06:30.064Z"
   },
   {
    "duration": 0,
    "start_time": "2024-02-27T08:06:30.065Z"
   },
   {
    "duration": 0,
    "start_time": "2024-02-27T08:06:30.066Z"
   },
   {
    "duration": 0,
    "start_time": "2024-02-27T08:06:30.067Z"
   },
   {
    "duration": 0,
    "start_time": "2024-02-27T08:06:30.068Z"
   },
   {
    "duration": 0,
    "start_time": "2024-02-27T08:06:30.069Z"
   },
   {
    "duration": 0,
    "start_time": "2024-02-27T08:06:30.070Z"
   },
   {
    "duration": 0,
    "start_time": "2024-02-27T08:06:30.071Z"
   },
   {
    "duration": 0,
    "start_time": "2024-02-27T08:06:30.072Z"
   },
   {
    "duration": 0,
    "start_time": "2024-02-27T08:06:30.073Z"
   },
   {
    "duration": 0,
    "start_time": "2024-02-27T08:06:30.074Z"
   },
   {
    "duration": 0,
    "start_time": "2024-02-27T08:06:30.075Z"
   },
   {
    "duration": 0,
    "start_time": "2024-02-27T08:06:30.077Z"
   },
   {
    "duration": 0,
    "start_time": "2024-02-27T08:06:30.078Z"
   },
   {
    "duration": 0,
    "start_time": "2024-02-27T08:06:30.079Z"
   },
   {
    "duration": 0,
    "start_time": "2024-02-27T08:06:30.080Z"
   },
   {
    "duration": 0,
    "start_time": "2024-02-27T08:06:30.081Z"
   },
   {
    "duration": 0,
    "start_time": "2024-02-27T08:06:30.145Z"
   },
   {
    "duration": 0,
    "start_time": "2024-02-27T08:06:30.147Z"
   },
   {
    "duration": 0,
    "start_time": "2024-02-27T08:06:30.148Z"
   },
   {
    "duration": 0,
    "start_time": "2024-02-27T08:06:30.149Z"
   },
   {
    "duration": 3172,
    "start_time": "2024-02-27T08:06:52.227Z"
   },
   {
    "duration": 1037,
    "start_time": "2024-02-27T08:06:55.401Z"
   },
   {
    "duration": 80,
    "start_time": "2024-02-27T08:06:56.440Z"
   },
   {
    "duration": 18,
    "start_time": "2024-02-27T08:06:56.521Z"
   },
   {
    "duration": 19,
    "start_time": "2024-02-27T08:06:56.542Z"
   },
   {
    "duration": 568,
    "start_time": "2024-02-27T08:06:56.562Z"
   },
   {
    "duration": 30,
    "start_time": "2024-02-27T08:06:57.132Z"
   },
   {
    "duration": 16,
    "start_time": "2024-02-27T08:06:57.163Z"
   },
   {
    "duration": 597,
    "start_time": "2024-02-27T08:06:57.180Z"
   },
   {
    "duration": 15,
    "start_time": "2024-02-27T08:06:57.779Z"
   },
   {
    "duration": 5,
    "start_time": "2024-02-27T08:06:57.795Z"
   },
   {
    "duration": 525,
    "start_time": "2024-02-27T08:06:57.801Z"
   },
   {
    "duration": 3,
    "start_time": "2024-02-27T08:06:58.328Z"
   },
   {
    "duration": 12,
    "start_time": "2024-02-27T08:06:58.345Z"
   },
   {
    "duration": 32,
    "start_time": "2024-02-27T08:06:58.359Z"
   },
   {
    "duration": 255,
    "start_time": "2024-02-27T08:06:58.392Z"
   },
   {
    "duration": 10,
    "start_time": "2024-02-27T08:06:58.649Z"
   },
   {
    "duration": 246,
    "start_time": "2024-02-27T08:06:58.660Z"
   },
   {
    "duration": 9,
    "start_time": "2024-02-27T08:06:58.907Z"
   },
   {
    "duration": 31,
    "start_time": "2024-02-27T08:06:58.918Z"
   },
   {
    "duration": 22,
    "start_time": "2024-02-27T08:06:58.950Z"
   },
   {
    "duration": 13,
    "start_time": "2024-02-27T08:06:58.973Z"
   },
   {
    "duration": 3,
    "start_time": "2024-02-27T08:06:58.988Z"
   },
   {
    "duration": 10,
    "start_time": "2024-02-27T08:06:58.992Z"
   },
   {
    "duration": 21,
    "start_time": "2024-02-27T08:06:59.004Z"
   },
   {
    "duration": 239,
    "start_time": "2024-02-27T08:06:59.026Z"
   },
   {
    "duration": 184,
    "start_time": "2024-02-27T08:06:59.267Z"
   },
   {
    "duration": 300,
    "start_time": "2024-02-27T08:06:59.452Z"
   },
   {
    "duration": 238,
    "start_time": "2024-02-27T08:06:59.753Z"
   },
   {
    "duration": 254,
    "start_time": "2024-02-27T08:06:59.993Z"
   },
   {
    "duration": 9,
    "start_time": "2024-02-27T08:07:00.248Z"
   },
   {
    "duration": 149,
    "start_time": "2024-02-27T08:07:00.259Z"
   },
   {
    "duration": 5,
    "start_time": "2024-02-27T08:07:00.409Z"
   },
   {
    "duration": 74,
    "start_time": "2024-02-27T08:07:00.415Z"
   },
   {
    "duration": 139,
    "start_time": "2024-02-27T08:07:00.491Z"
   },
   {
    "duration": 146,
    "start_time": "2024-02-27T08:07:00.632Z"
   },
   {
    "duration": 122,
    "start_time": "2024-02-27T08:07:00.780Z"
   },
   {
    "duration": 5,
    "start_time": "2024-02-27T08:07:00.903Z"
   },
   {
    "duration": 50,
    "start_time": "2024-02-27T08:07:00.909Z"
   },
   {
    "duration": 72,
    "start_time": "2024-02-27T08:07:00.960Z"
   },
   {
    "duration": 56,
    "start_time": "2024-02-27T08:07:01.036Z"
   },
   {
    "duration": 66,
    "start_time": "2024-02-27T08:07:01.094Z"
   },
   {
    "duration": 23,
    "start_time": "2024-02-27T08:07:01.161Z"
   },
   {
    "duration": 30,
    "start_time": "2024-02-27T08:07:01.186Z"
   },
   {
    "duration": 39,
    "start_time": "2024-02-27T08:07:01.217Z"
   },
   {
    "duration": 45,
    "start_time": "2024-02-27T08:07:01.257Z"
   },
   {
    "duration": 45,
    "start_time": "2024-02-27T08:07:01.303Z"
   },
   {
    "duration": 47,
    "start_time": "2024-02-27T08:07:01.350Z"
   },
   {
    "duration": 13,
    "start_time": "2024-02-27T08:07:01.398Z"
   },
   {
    "duration": 33,
    "start_time": "2024-02-27T08:07:01.413Z"
   },
   {
    "duration": 36,
    "start_time": "2024-02-27T08:07:01.447Z"
   },
   {
    "duration": 38,
    "start_time": "2024-02-27T08:07:01.485Z"
   },
   {
    "duration": 32,
    "start_time": "2024-02-27T08:07:01.525Z"
   },
   {
    "duration": 195,
    "start_time": "2024-02-27T08:07:01.558Z"
   },
   {
    "duration": 180,
    "start_time": "2024-02-27T08:07:01.754Z"
   },
   {
    "duration": 19,
    "start_time": "2024-02-27T10:03:09.330Z"
   },
   {
    "duration": 15,
    "start_time": "2024-02-27T10:07:03.642Z"
   },
   {
    "duration": 4,
    "start_time": "2024-02-27T10:08:25.975Z"
   },
   {
    "duration": 10,
    "start_time": "2024-02-27T10:08:27.420Z"
   },
   {
    "duration": 47,
    "start_time": "2024-02-27T12:55:40.929Z"
   },
   {
    "duration": 3159,
    "start_time": "2024-02-27T12:58:11.680Z"
   },
   {
    "duration": 1248,
    "start_time": "2024-02-27T12:58:14.842Z"
   },
   {
    "duration": 187,
    "start_time": "2024-02-27T12:58:16.092Z"
   },
   {
    "duration": 18,
    "start_time": "2024-02-27T12:58:16.281Z"
   },
   {
    "duration": 25,
    "start_time": "2024-02-27T12:58:16.300Z"
   },
   {
    "duration": 763,
    "start_time": "2024-02-27T12:58:16.326Z"
   },
   {
    "duration": 15,
    "start_time": "2024-02-27T12:58:17.093Z"
   },
   {
    "duration": 86,
    "start_time": "2024-02-27T12:58:17.110Z"
   },
   {
    "duration": 599,
    "start_time": "2024-02-27T12:58:17.197Z"
   },
   {
    "duration": 14,
    "start_time": "2024-02-27T12:58:17.798Z"
   },
   {
    "duration": 100,
    "start_time": "2024-02-27T12:58:17.813Z"
   },
   {
    "duration": 620,
    "start_time": "2024-02-27T12:58:17.915Z"
   },
   {
    "duration": 3,
    "start_time": "2024-02-27T12:58:18.537Z"
   },
   {
    "duration": 6,
    "start_time": "2024-02-27T12:58:18.593Z"
   },
   {
    "duration": 26,
    "start_time": "2024-02-27T12:58:18.601Z"
   },
   {
    "duration": 23,
    "start_time": "2024-02-27T12:58:18.629Z"
   },
   {
    "duration": 49,
    "start_time": "2024-02-27T12:58:18.654Z"
   },
   {
    "duration": 40,
    "start_time": "2024-02-27T12:58:18.704Z"
   },
   {
    "duration": 15,
    "start_time": "2024-02-27T12:58:18.746Z"
   },
   {
    "duration": 34,
    "start_time": "2024-02-27T12:58:18.762Z"
   },
   {
    "duration": 20,
    "start_time": "2024-02-27T12:58:18.798Z"
   },
   {
    "duration": 587,
    "start_time": "2024-02-27T12:58:18.820Z"
   },
   {
    "duration": 14,
    "start_time": "2024-02-27T12:58:19.409Z"
   },
   {
    "duration": 431,
    "start_time": "2024-02-27T12:58:19.425Z"
   },
   {
    "duration": 9,
    "start_time": "2024-02-27T12:58:19.858Z"
   },
   {
    "duration": 31,
    "start_time": "2024-02-27T12:58:19.868Z"
   },
   {
    "duration": 17,
    "start_time": "2024-02-27T12:58:19.901Z"
   },
   {
    "duration": 43,
    "start_time": "2024-02-27T12:58:19.919Z"
   },
   {
    "duration": 11,
    "start_time": "2024-02-27T12:58:19.963Z"
   },
   {
    "duration": 20,
    "start_time": "2024-02-27T12:58:19.975Z"
   },
   {
    "duration": 37,
    "start_time": "2024-02-27T12:58:19.997Z"
   },
   {
    "duration": 286,
    "start_time": "2024-02-27T12:58:20.035Z"
   },
   {
    "duration": 187,
    "start_time": "2024-02-27T12:58:20.322Z"
   },
   {
    "duration": 354,
    "start_time": "2024-02-27T12:58:20.511Z"
   },
   {
    "duration": 189,
    "start_time": "2024-02-27T12:58:20.866Z"
   },
   {
    "duration": 288,
    "start_time": "2024-02-27T12:58:21.057Z"
   },
   {
    "duration": 10,
    "start_time": "2024-02-27T12:58:21.346Z"
   },
   {
    "duration": 159,
    "start_time": "2024-02-27T12:58:21.357Z"
   },
   {
    "duration": 5,
    "start_time": "2024-02-27T12:58:21.517Z"
   },
   {
    "duration": 29,
    "start_time": "2024-02-27T12:58:21.523Z"
   },
   {
    "duration": 149,
    "start_time": "2024-02-27T12:58:21.556Z"
   },
   {
    "duration": 145,
    "start_time": "2024-02-27T12:58:21.707Z"
   },
   {
    "duration": 116,
    "start_time": "2024-02-27T12:58:21.854Z"
   },
   {
    "duration": 5,
    "start_time": "2024-02-27T12:58:21.972Z"
   },
   {
    "duration": 41,
    "start_time": "2024-02-27T12:58:21.978Z"
   },
   {
    "duration": 52,
    "start_time": "2024-02-27T12:58:22.021Z"
   },
   {
    "duration": 24,
    "start_time": "2024-02-27T12:58:22.075Z"
   },
   {
    "duration": 46,
    "start_time": "2024-02-27T12:58:22.100Z"
   },
   {
    "duration": 27,
    "start_time": "2024-02-27T12:58:22.148Z"
   },
   {
    "duration": 36,
    "start_time": "2024-02-27T12:58:22.177Z"
   },
   {
    "duration": 25,
    "start_time": "2024-02-27T12:58:22.215Z"
   },
   {
    "duration": 28,
    "start_time": "2024-02-27T12:58:22.241Z"
   },
   {
    "duration": 23,
    "start_time": "2024-02-27T12:58:22.270Z"
   },
   {
    "duration": 81,
    "start_time": "2024-02-27T12:58:22.294Z"
   },
   {
    "duration": 9,
    "start_time": "2024-02-27T12:58:22.377Z"
   },
   {
    "duration": 31,
    "start_time": "2024-02-27T12:58:22.387Z"
   },
   {
    "duration": 35,
    "start_time": "2024-02-27T12:58:22.420Z"
   },
   {
    "duration": 37,
    "start_time": "2024-02-27T12:58:22.457Z"
   },
   {
    "duration": 31,
    "start_time": "2024-02-27T12:58:22.496Z"
   },
   {
    "duration": 238,
    "start_time": "2024-02-27T12:58:22.529Z"
   },
   {
    "duration": 185,
    "start_time": "2024-02-27T12:58:22.769Z"
   },
   {
    "duration": 2512,
    "start_time": "2024-02-27T13:02:24.267Z"
   },
   {
    "duration": 1193,
    "start_time": "2024-02-27T13:02:26.782Z"
   },
   {
    "duration": 73,
    "start_time": "2024-02-27T13:02:27.977Z"
   },
   {
    "duration": 18,
    "start_time": "2024-02-27T13:02:28.051Z"
   },
   {
    "duration": 16,
    "start_time": "2024-02-27T13:02:28.070Z"
   },
   {
    "duration": 601,
    "start_time": "2024-02-27T13:02:28.087Z"
   },
   {
    "duration": 17,
    "start_time": "2024-02-27T13:02:28.694Z"
   },
   {
    "duration": 19,
    "start_time": "2024-02-27T13:02:28.712Z"
   },
   {
    "duration": 569,
    "start_time": "2024-02-27T13:02:28.732Z"
   },
   {
    "duration": 15,
    "start_time": "2024-02-27T13:02:29.303Z"
   },
   {
    "duration": 24,
    "start_time": "2024-02-27T13:02:29.319Z"
   },
   {
    "duration": 540,
    "start_time": "2024-02-27T13:02:29.344Z"
   },
   {
    "duration": 9,
    "start_time": "2024-02-27T13:02:29.886Z"
   },
   {
    "duration": 8,
    "start_time": "2024-02-27T13:02:29.897Z"
   },
   {
    "duration": 18,
    "start_time": "2024-02-27T13:02:29.907Z"
   },
   {
    "duration": 8,
    "start_time": "2024-02-27T13:02:29.927Z"
   },
   {
    "duration": 10,
    "start_time": "2024-02-27T13:02:29.936Z"
   },
   {
    "duration": 9,
    "start_time": "2024-02-27T13:02:29.948Z"
   },
   {
    "duration": 6,
    "start_time": "2024-02-27T13:02:29.959Z"
   },
   {
    "duration": 3,
    "start_time": "2024-02-27T13:02:29.993Z"
   },
   {
    "duration": 29,
    "start_time": "2024-02-27T13:02:29.998Z"
   },
   {
    "duration": 309,
    "start_time": "2024-02-27T13:02:30.028Z"
   },
   {
    "duration": 11,
    "start_time": "2024-02-27T13:02:30.338Z"
   },
   {
    "duration": 380,
    "start_time": "2024-02-27T13:02:30.350Z"
   },
   {
    "duration": 9,
    "start_time": "2024-02-27T13:02:30.732Z"
   },
   {
    "duration": 87,
    "start_time": "2024-02-27T13:02:30.743Z"
   },
   {
    "duration": 164,
    "start_time": "2024-02-27T13:02:30.831Z"
   },
   {
    "duration": 115,
    "start_time": "2024-02-27T13:02:30.999Z"
   },
   {
    "duration": 137,
    "start_time": "2024-02-27T13:02:31.116Z"
   },
   {
    "duration": 390,
    "start_time": "2024-02-27T13:02:31.254Z"
   },
   {
    "duration": 124,
    "start_time": "2024-02-27T13:02:31.645Z"
   },
   {
    "duration": 315,
    "start_time": "2024-02-27T13:02:31.771Z"
   },
   {
    "duration": 191,
    "start_time": "2024-02-27T13:02:32.088Z"
   },
   {
    "duration": 306,
    "start_time": "2024-02-27T13:02:32.281Z"
   },
   {
    "duration": 502,
    "start_time": "2024-02-27T13:02:32.594Z"
   },
   {
    "duration": 302,
    "start_time": "2024-02-27T13:02:33.098Z"
   },
   {
    "duration": 12,
    "start_time": "2024-02-27T13:02:33.402Z"
   },
   {
    "duration": 144,
    "start_time": "2024-02-27T13:02:33.415Z"
   },
   {
    "duration": 5,
    "start_time": "2024-02-27T13:02:33.562Z"
   },
   {
    "duration": 71,
    "start_time": "2024-02-27T13:02:33.569Z"
   },
   {
    "duration": 173,
    "start_time": "2024-02-27T13:02:33.642Z"
   },
   {
    "duration": 431,
    "start_time": "2024-02-27T13:02:33.817Z"
   },
   {
    "duration": 121,
    "start_time": "2024-02-27T13:02:34.249Z"
   },
   {
    "duration": 5,
    "start_time": "2024-02-27T13:02:34.372Z"
   },
   {
    "duration": 21,
    "start_time": "2024-02-27T13:02:34.378Z"
   },
   {
    "duration": 27,
    "start_time": "2024-02-27T13:02:34.400Z"
   },
   {
    "duration": 46,
    "start_time": "2024-02-27T13:02:34.428Z"
   },
   {
    "duration": 33,
    "start_time": "2024-02-27T13:02:34.475Z"
   },
   {
    "duration": 5,
    "start_time": "2024-02-27T13:02:34.510Z"
   },
   {
    "duration": 21,
    "start_time": "2024-02-27T13:02:34.517Z"
   },
   {
    "duration": 26,
    "start_time": "2024-02-27T13:02:34.539Z"
   },
   {
    "duration": 56,
    "start_time": "2024-02-27T13:02:34.567Z"
   },
   {
    "duration": 9,
    "start_time": "2024-02-27T13:02:34.624Z"
   },
   {
    "duration": 37,
    "start_time": "2024-02-27T13:02:34.635Z"
   },
   {
    "duration": 9,
    "start_time": "2024-02-27T13:02:34.673Z"
   },
   {
    "duration": 18,
    "start_time": "2024-02-27T13:02:34.683Z"
   },
   {
    "duration": 16,
    "start_time": "2024-02-27T13:02:34.702Z"
   },
   {
    "duration": 5,
    "start_time": "2024-02-27T13:02:34.720Z"
   },
   {
    "duration": 6,
    "start_time": "2024-02-27T13:02:34.726Z"
   },
   {
    "duration": 211,
    "start_time": "2024-02-27T13:02:34.734Z"
   },
   {
    "duration": 207,
    "start_time": "2024-02-27T13:02:34.946Z"
   },
   {
    "duration": 3718,
    "start_time": "2024-02-28T05:40:06.209Z"
   },
   {
    "duration": 1405,
    "start_time": "2024-02-28T05:40:09.929Z"
   },
   {
    "duration": 183,
    "start_time": "2024-02-28T05:40:11.335Z"
   },
   {
    "duration": 19,
    "start_time": "2024-02-28T05:40:11.520Z"
   },
   {
    "duration": 5,
    "start_time": "2024-02-28T05:40:11.541Z"
   },
   {
    "duration": 751,
    "start_time": "2024-02-28T05:40:11.548Z"
   },
   {
    "duration": 17,
    "start_time": "2024-02-28T05:40:12.301Z"
   },
   {
    "duration": 6,
    "start_time": "2024-02-28T05:40:12.319Z"
   },
   {
    "duration": 576,
    "start_time": "2024-02-28T05:40:12.326Z"
   },
   {
    "duration": 15,
    "start_time": "2024-02-28T05:40:12.905Z"
   },
   {
    "duration": 11,
    "start_time": "2024-02-28T05:40:12.922Z"
   },
   {
    "duration": 553,
    "start_time": "2024-02-28T05:40:12.935Z"
   },
   {
    "duration": 3,
    "start_time": "2024-02-28T05:40:13.490Z"
   },
   {
    "duration": 9,
    "start_time": "2024-02-28T05:40:13.494Z"
   },
   {
    "duration": 6,
    "start_time": "2024-02-28T05:40:13.504Z"
   },
   {
    "duration": 17,
    "start_time": "2024-02-28T05:40:13.512Z"
   },
   {
    "duration": 7,
    "start_time": "2024-02-28T05:40:13.531Z"
   },
   {
    "duration": 10,
    "start_time": "2024-02-28T05:40:13.539Z"
   },
   {
    "duration": 35,
    "start_time": "2024-02-28T05:40:13.551Z"
   },
   {
    "duration": 10,
    "start_time": "2024-02-28T05:40:13.587Z"
   },
   {
    "duration": 17,
    "start_time": "2024-02-28T05:40:13.598Z"
   },
   {
    "duration": 313,
    "start_time": "2024-02-28T05:40:13.617Z"
   },
   {
    "duration": 12,
    "start_time": "2024-02-28T05:40:13.932Z"
   },
   {
    "duration": 315,
    "start_time": "2024-02-28T05:40:13.945Z"
   },
   {
    "duration": 11,
    "start_time": "2024-02-28T05:40:14.261Z"
   },
   {
    "duration": 28,
    "start_time": "2024-02-28T05:40:14.273Z"
   },
   {
    "duration": 15,
    "start_time": "2024-02-28T05:40:14.302Z"
   },
   {
    "duration": 14,
    "start_time": "2024-02-28T05:40:14.321Z"
   },
   {
    "duration": 4,
    "start_time": "2024-02-28T05:40:14.337Z"
   },
   {
    "duration": 39,
    "start_time": "2024-02-28T05:40:14.343Z"
   },
   {
    "duration": 12,
    "start_time": "2024-02-28T05:40:14.384Z"
   },
   {
    "duration": 275,
    "start_time": "2024-02-28T05:40:14.398Z"
   },
   {
    "duration": 203,
    "start_time": "2024-02-28T05:40:14.675Z"
   },
   {
    "duration": 291,
    "start_time": "2024-02-28T05:40:14.882Z"
   },
   {
    "duration": 310,
    "start_time": "2024-02-28T05:40:15.174Z"
   },
   {
    "duration": 286,
    "start_time": "2024-02-28T05:40:15.485Z"
   },
   {
    "duration": 17,
    "start_time": "2024-02-28T05:40:15.773Z"
   },
   {
    "duration": 148,
    "start_time": "2024-02-28T05:40:15.791Z"
   },
   {
    "duration": 4,
    "start_time": "2024-02-28T05:40:15.941Z"
   },
   {
    "duration": 24,
    "start_time": "2024-02-28T05:40:15.947Z"
   },
   {
    "duration": 127,
    "start_time": "2024-02-28T05:40:15.972Z"
   },
   {
    "duration": 155,
    "start_time": "2024-02-28T05:40:16.100Z"
   },
   {
    "duration": 136,
    "start_time": "2024-02-28T05:40:16.257Z"
   },
   {
    "duration": 5,
    "start_time": "2024-02-28T05:40:16.395Z"
   },
   {
    "duration": 10,
    "start_time": "2024-02-28T05:40:16.401Z"
   },
   {
    "duration": 11,
    "start_time": "2024-02-28T05:40:16.413Z"
   },
   {
    "duration": 14,
    "start_time": "2024-02-28T05:40:16.425Z"
   },
   {
    "duration": 58,
    "start_time": "2024-02-28T05:40:16.440Z"
   },
   {
    "duration": 6,
    "start_time": "2024-02-28T05:40:16.500Z"
   },
   {
    "duration": 131,
    "start_time": "2024-02-28T05:40:16.508Z"
   },
   {
    "duration": 0,
    "start_time": "2024-02-28T05:40:16.641Z"
   },
   {
    "duration": 0,
    "start_time": "2024-02-28T05:40:16.642Z"
   },
   {
    "duration": 0,
    "start_time": "2024-02-28T05:40:16.644Z"
   },
   {
    "duration": 0,
    "start_time": "2024-02-28T05:40:16.645Z"
   },
   {
    "duration": 0,
    "start_time": "2024-02-28T05:40:16.647Z"
   },
   {
    "duration": 0,
    "start_time": "2024-02-28T05:40:16.648Z"
   },
   {
    "duration": 0,
    "start_time": "2024-02-28T05:40:16.649Z"
   },
   {
    "duration": 0,
    "start_time": "2024-02-28T05:40:16.650Z"
   },
   {
    "duration": 0,
    "start_time": "2024-02-28T05:40:16.651Z"
   },
   {
    "duration": 0,
    "start_time": "2024-02-28T05:40:16.652Z"
   },
   {
    "duration": 0,
    "start_time": "2024-02-28T05:40:16.653Z"
   },
   {
    "duration": 4,
    "start_time": "2024-02-28T05:41:07.055Z"
   },
   {
    "duration": 15,
    "start_time": "2024-02-28T05:41:11.569Z"
   },
   {
    "duration": 9,
    "start_time": "2024-02-28T05:41:27.992Z"
   },
   {
    "duration": 15,
    "start_time": "2024-02-28T05:42:32.772Z"
   },
   {
    "duration": 70,
    "start_time": "2024-02-28T05:43:31.591Z"
   },
   {
    "duration": 84,
    "start_time": "2024-02-28T05:44:03.056Z"
   },
   {
    "duration": 11,
    "start_time": "2024-02-28T05:44:19.311Z"
   },
   {
    "duration": 250,
    "start_time": "2024-02-28T05:49:07.180Z"
   },
   {
    "duration": 96,
    "start_time": "2024-02-28T05:50:03.862Z"
   },
   {
    "duration": 130,
    "start_time": "2024-02-28T05:50:16.507Z"
   },
   {
    "duration": 7,
    "start_time": "2024-02-28T05:51:12.776Z"
   },
   {
    "duration": 9,
    "start_time": "2024-02-28T05:51:31.207Z"
   },
   {
    "duration": 4,
    "start_time": "2024-02-28T05:51:37.803Z"
   },
   {
    "duration": 11,
    "start_time": "2024-02-28T05:51:39.042Z"
   },
   {
    "duration": 2606,
    "start_time": "2024-02-28T05:51:58.640Z"
   },
   {
    "duration": 1216,
    "start_time": "2024-02-28T05:52:01.249Z"
   },
   {
    "duration": 74,
    "start_time": "2024-02-28T05:52:02.467Z"
   },
   {
    "duration": 21,
    "start_time": "2024-02-28T05:52:02.544Z"
   },
   {
    "duration": 12,
    "start_time": "2024-02-28T05:52:02.567Z"
   },
   {
    "duration": 832,
    "start_time": "2024-02-28T05:52:02.581Z"
   },
   {
    "duration": 69,
    "start_time": "2024-02-28T05:52:03.415Z"
   },
   {
    "duration": 6,
    "start_time": "2024-02-28T05:52:03.485Z"
   },
   {
    "duration": 833,
    "start_time": "2024-02-28T05:52:03.492Z"
   },
   {
    "duration": 66,
    "start_time": "2024-02-28T05:52:04.328Z"
   },
   {
    "duration": 5,
    "start_time": "2024-02-28T05:52:04.396Z"
   },
   {
    "duration": 682,
    "start_time": "2024-02-28T05:52:04.402Z"
   },
   {
    "duration": 3,
    "start_time": "2024-02-28T05:52:05.085Z"
   },
   {
    "duration": 11,
    "start_time": "2024-02-28T05:52:05.090Z"
   },
   {
    "duration": 4,
    "start_time": "2024-02-28T05:52:05.103Z"
   },
   {
    "duration": 8,
    "start_time": "2024-02-28T05:52:05.108Z"
   },
   {
    "duration": 19,
    "start_time": "2024-02-28T05:52:05.118Z"
   },
   {
    "duration": 10,
    "start_time": "2024-02-28T05:52:05.138Z"
   },
   {
    "duration": 5,
    "start_time": "2024-02-28T05:52:05.149Z"
   },
   {
    "duration": 3,
    "start_time": "2024-02-28T05:52:05.183Z"
   },
   {
    "duration": 16,
    "start_time": "2024-02-28T05:52:05.188Z"
   },
   {
    "duration": 314,
    "start_time": "2024-02-28T05:52:05.206Z"
   },
   {
    "duration": 12,
    "start_time": "2024-02-28T05:52:05.522Z"
   },
   {
    "duration": 288,
    "start_time": "2024-02-28T05:52:05.536Z"
   },
   {
    "duration": 12,
    "start_time": "2024-02-28T05:52:05.825Z"
   },
   {
    "duration": 45,
    "start_time": "2024-02-28T05:52:05.839Z"
   },
   {
    "duration": 17,
    "start_time": "2024-02-28T05:52:05.886Z"
   },
   {
    "duration": 26,
    "start_time": "2024-02-28T05:52:05.908Z"
   },
   {
    "duration": 5,
    "start_time": "2024-02-28T05:52:05.935Z"
   },
   {
    "duration": 7,
    "start_time": "2024-02-28T05:52:05.941Z"
   },
   {
    "duration": 38,
    "start_time": "2024-02-28T05:52:05.949Z"
   },
   {
    "duration": 274,
    "start_time": "2024-02-28T05:52:05.988Z"
   },
   {
    "duration": 209,
    "start_time": "2024-02-28T05:52:06.264Z"
   },
   {
    "duration": 415,
    "start_time": "2024-02-28T05:52:06.474Z"
   },
   {
    "duration": 214,
    "start_time": "2024-02-28T05:52:06.891Z"
   },
   {
    "duration": 267,
    "start_time": "2024-02-28T05:52:07.106Z"
   },
   {
    "duration": 15,
    "start_time": "2024-02-28T05:52:07.374Z"
   },
   {
    "duration": 146,
    "start_time": "2024-02-28T05:52:07.391Z"
   },
   {
    "duration": 5,
    "start_time": "2024-02-28T05:52:07.538Z"
   },
   {
    "duration": 15,
    "start_time": "2024-02-28T05:52:07.545Z"
   },
   {
    "duration": 145,
    "start_time": "2024-02-28T05:52:07.561Z"
   },
   {
    "duration": 163,
    "start_time": "2024-02-28T05:52:07.708Z"
   },
   {
    "duration": 143,
    "start_time": "2024-02-28T05:52:07.873Z"
   },
   {
    "duration": 5,
    "start_time": "2024-02-28T05:52:08.018Z"
   },
   {
    "duration": 244,
    "start_time": "2024-02-28T05:52:08.024Z"
   },
   {
    "duration": 142,
    "start_time": "2024-02-28T05:52:08.269Z"
   },
   {
    "duration": 7,
    "start_time": "2024-02-28T05:52:08.413Z"
   },
   {
    "duration": 10,
    "start_time": "2024-02-28T05:52:08.421Z"
   },
   {
    "duration": 123,
    "start_time": "2024-02-28T05:52:08.432Z"
   },
   {
    "duration": 0,
    "start_time": "2024-02-28T05:52:08.557Z"
   },
   {
    "duration": 0,
    "start_time": "2024-02-28T05:52:08.558Z"
   },
   {
    "duration": 0,
    "start_time": "2024-02-28T05:52:08.559Z"
   },
   {
    "duration": 0,
    "start_time": "2024-02-28T05:52:08.560Z"
   },
   {
    "duration": 0,
    "start_time": "2024-02-28T05:52:08.561Z"
   },
   {
    "duration": 0,
    "start_time": "2024-02-28T05:52:08.563Z"
   },
   {
    "duration": 0,
    "start_time": "2024-02-28T05:52:08.564Z"
   },
   {
    "duration": 0,
    "start_time": "2024-02-28T05:52:08.565Z"
   },
   {
    "duration": 0,
    "start_time": "2024-02-28T05:52:08.566Z"
   },
   {
    "duration": 0,
    "start_time": "2024-02-28T05:52:08.567Z"
   },
   {
    "duration": 0,
    "start_time": "2024-02-28T05:52:08.582Z"
   },
   {
    "duration": 0,
    "start_time": "2024-02-28T05:52:08.583Z"
   },
   {
    "duration": 0,
    "start_time": "2024-02-28T05:52:08.584Z"
   },
   {
    "duration": 0,
    "start_time": "2024-02-28T05:52:08.586Z"
   },
   {
    "duration": 2615,
    "start_time": "2024-02-28T05:53:43.391Z"
   },
   {
    "duration": 1143,
    "start_time": "2024-02-28T05:53:46.009Z"
   },
   {
    "duration": 73,
    "start_time": "2024-02-28T05:53:47.153Z"
   },
   {
    "duration": 20,
    "start_time": "2024-02-28T05:53:47.228Z"
   },
   {
    "duration": 5,
    "start_time": "2024-02-28T05:53:47.249Z"
   },
   {
    "duration": 627,
    "start_time": "2024-02-28T05:53:47.256Z"
   },
   {
    "duration": 17,
    "start_time": "2024-02-28T05:53:47.885Z"
   },
   {
    "duration": 5,
    "start_time": "2024-02-28T05:53:47.903Z"
   },
   {
    "duration": 594,
    "start_time": "2024-02-28T05:53:47.909Z"
   },
   {
    "duration": 17,
    "start_time": "2024-02-28T05:53:48.506Z"
   },
   {
    "duration": 10,
    "start_time": "2024-02-28T05:53:48.524Z"
   },
   {
    "duration": 549,
    "start_time": "2024-02-28T05:53:48.535Z"
   },
   {
    "duration": 4,
    "start_time": "2024-02-28T05:53:49.085Z"
   },
   {
    "duration": 9,
    "start_time": "2024-02-28T05:53:49.090Z"
   },
   {
    "duration": 14,
    "start_time": "2024-02-28T05:53:49.101Z"
   },
   {
    "duration": 13,
    "start_time": "2024-02-28T05:53:49.116Z"
   },
   {
    "duration": 6,
    "start_time": "2024-02-28T05:53:49.131Z"
   },
   {
    "duration": 10,
    "start_time": "2024-02-28T05:53:49.138Z"
   },
   {
    "duration": 36,
    "start_time": "2024-02-28T05:53:49.149Z"
   },
   {
    "duration": 3,
    "start_time": "2024-02-28T05:53:49.187Z"
   },
   {
    "duration": 12,
    "start_time": "2024-02-28T05:53:49.191Z"
   },
   {
    "duration": 304,
    "start_time": "2024-02-28T05:53:49.205Z"
   },
   {
    "duration": 11,
    "start_time": "2024-02-28T05:53:49.511Z"
   },
   {
    "duration": 295,
    "start_time": "2024-02-28T05:53:49.523Z"
   },
   {
    "duration": 11,
    "start_time": "2024-02-28T05:53:49.820Z"
   },
   {
    "duration": 19,
    "start_time": "2024-02-28T05:53:49.833Z"
   },
   {
    "duration": 39,
    "start_time": "2024-02-28T05:53:49.854Z"
   },
   {
    "duration": 19,
    "start_time": "2024-02-28T05:53:49.899Z"
   },
   {
    "duration": 4,
    "start_time": "2024-02-28T05:53:49.919Z"
   },
   {
    "duration": 14,
    "start_time": "2024-02-28T05:53:49.924Z"
   },
   {
    "duration": 44,
    "start_time": "2024-02-28T05:53:49.939Z"
   },
   {
    "duration": 316,
    "start_time": "2024-02-28T05:53:49.985Z"
   },
   {
    "duration": 222,
    "start_time": "2024-02-28T05:53:50.302Z"
   },
   {
    "duration": 269,
    "start_time": "2024-02-28T05:53:50.525Z"
   },
   {
    "duration": 296,
    "start_time": "2024-02-28T05:53:50.796Z"
   },
   {
    "duration": 312,
    "start_time": "2024-02-28T05:53:51.094Z"
   },
   {
    "duration": 11,
    "start_time": "2024-02-28T05:53:51.408Z"
   },
   {
    "duration": 173,
    "start_time": "2024-02-28T05:53:51.421Z"
   },
   {
    "duration": 5,
    "start_time": "2024-02-28T05:53:51.595Z"
   },
   {
    "duration": 15,
    "start_time": "2024-02-28T05:53:51.601Z"
   },
   {
    "duration": 141,
    "start_time": "2024-02-28T05:53:51.617Z"
   },
   {
    "duration": 173,
    "start_time": "2024-02-28T05:53:51.760Z"
   },
   {
    "duration": 138,
    "start_time": "2024-02-28T05:53:51.935Z"
   },
   {
    "duration": 9,
    "start_time": "2024-02-28T05:53:52.075Z"
   },
   {
    "duration": 246,
    "start_time": "2024-02-28T05:53:52.086Z"
   },
   {
    "duration": 155,
    "start_time": "2024-02-28T05:53:52.333Z"
   },
   {
    "duration": 6,
    "start_time": "2024-02-28T05:53:52.490Z"
   },
   {
    "duration": 15,
    "start_time": "2024-02-28T05:53:52.498Z"
   },
   {
    "duration": 121,
    "start_time": "2024-02-28T05:53:52.515Z"
   },
   {
    "duration": 0,
    "start_time": "2024-02-28T05:53:52.637Z"
   },
   {
    "duration": 0,
    "start_time": "2024-02-28T05:53:52.639Z"
   },
   {
    "duration": 0,
    "start_time": "2024-02-28T05:53:52.640Z"
   },
   {
    "duration": 0,
    "start_time": "2024-02-28T05:53:52.641Z"
   },
   {
    "duration": 0,
    "start_time": "2024-02-28T05:53:52.642Z"
   },
   {
    "duration": 0,
    "start_time": "2024-02-28T05:53:52.643Z"
   },
   {
    "duration": 0,
    "start_time": "2024-02-28T05:53:52.645Z"
   },
   {
    "duration": 0,
    "start_time": "2024-02-28T05:53:52.646Z"
   },
   {
    "duration": 0,
    "start_time": "2024-02-28T05:53:52.647Z"
   },
   {
    "duration": 1,
    "start_time": "2024-02-28T05:53:52.647Z"
   },
   {
    "duration": 0,
    "start_time": "2024-02-28T05:53:52.649Z"
   },
   {
    "duration": 0,
    "start_time": "2024-02-28T05:53:52.650Z"
   },
   {
    "duration": 0,
    "start_time": "2024-02-28T05:53:52.651Z"
   },
   {
    "duration": 0,
    "start_time": "2024-02-28T05:53:52.652Z"
   },
   {
    "duration": 11,
    "start_time": "2024-02-28T05:54:08.089Z"
   },
   {
    "duration": 2579,
    "start_time": "2024-02-28T05:55:09.827Z"
   },
   {
    "duration": 1214,
    "start_time": "2024-02-28T05:55:12.408Z"
   },
   {
    "duration": 72,
    "start_time": "2024-02-28T05:55:13.624Z"
   },
   {
    "duration": 19,
    "start_time": "2024-02-28T05:55:13.697Z"
   },
   {
    "duration": 12,
    "start_time": "2024-02-28T05:55:13.718Z"
   },
   {
    "duration": 686,
    "start_time": "2024-02-28T05:55:13.732Z"
   },
   {
    "duration": 69,
    "start_time": "2024-02-28T05:55:14.420Z"
   },
   {
    "duration": 16,
    "start_time": "2024-02-28T05:55:14.491Z"
   },
   {
    "duration": 802,
    "start_time": "2024-02-28T05:55:14.508Z"
   },
   {
    "duration": 77,
    "start_time": "2024-02-28T05:55:15.311Z"
   },
   {
    "duration": 52,
    "start_time": "2024-02-28T05:55:15.390Z"
   },
   {
    "duration": 780,
    "start_time": "2024-02-28T05:55:15.444Z"
   },
   {
    "duration": 3,
    "start_time": "2024-02-28T05:55:16.225Z"
   },
   {
    "duration": 11,
    "start_time": "2024-02-28T05:55:16.231Z"
   },
   {
    "duration": 9,
    "start_time": "2024-02-28T05:55:16.243Z"
   },
   {
    "duration": 9,
    "start_time": "2024-02-28T05:55:16.254Z"
   },
   {
    "duration": 20,
    "start_time": "2024-02-28T05:55:16.264Z"
   },
   {
    "duration": 20,
    "start_time": "2024-02-28T05:55:16.285Z"
   },
   {
    "duration": 6,
    "start_time": "2024-02-28T05:55:16.307Z"
   },
   {
    "duration": 3,
    "start_time": "2024-02-28T05:55:16.314Z"
   },
   {
    "duration": 14,
    "start_time": "2024-02-28T05:55:16.318Z"
   },
   {
    "duration": 316,
    "start_time": "2024-02-28T05:55:16.333Z"
   },
   {
    "duration": 11,
    "start_time": "2024-02-28T05:55:16.651Z"
   },
   {
    "duration": 315,
    "start_time": "2024-02-28T05:55:16.663Z"
   },
   {
    "duration": 13,
    "start_time": "2024-02-28T05:55:16.981Z"
   },
   {
    "duration": 39,
    "start_time": "2024-02-28T05:55:16.995Z"
   },
   {
    "duration": 15,
    "start_time": "2024-02-28T05:55:17.036Z"
   },
   {
    "duration": 35,
    "start_time": "2024-02-28T05:55:17.053Z"
   },
   {
    "duration": 28,
    "start_time": "2024-02-28T05:55:17.090Z"
   },
   {
    "duration": 7,
    "start_time": "2024-02-28T05:55:17.120Z"
   },
   {
    "duration": 17,
    "start_time": "2024-02-28T05:55:17.128Z"
   },
   {
    "duration": 263,
    "start_time": "2024-02-28T05:55:17.147Z"
   },
   {
    "duration": 205,
    "start_time": "2024-02-28T05:55:17.412Z"
   },
   {
    "duration": 363,
    "start_time": "2024-02-28T05:55:17.619Z"
   },
   {
    "duration": 227,
    "start_time": "2024-02-28T05:55:17.983Z"
   },
   {
    "duration": 280,
    "start_time": "2024-02-28T05:55:18.211Z"
   },
   {
    "duration": 11,
    "start_time": "2024-02-28T05:55:18.492Z"
   },
   {
    "duration": 151,
    "start_time": "2024-02-28T05:55:18.504Z"
   },
   {
    "duration": 5,
    "start_time": "2024-02-28T05:55:18.656Z"
   },
   {
    "duration": 12,
    "start_time": "2024-02-28T05:55:18.662Z"
   },
   {
    "duration": 125,
    "start_time": "2024-02-28T05:55:18.685Z"
   },
   {
    "duration": 154,
    "start_time": "2024-02-28T05:55:18.812Z"
   },
   {
    "duration": 132,
    "start_time": "2024-02-28T05:55:18.968Z"
   },
   {
    "duration": 4,
    "start_time": "2024-02-28T05:55:19.102Z"
   },
   {
    "duration": 261,
    "start_time": "2024-02-28T05:55:19.108Z"
   },
   {
    "duration": 157,
    "start_time": "2024-02-28T05:55:19.371Z"
   },
   {
    "duration": 6,
    "start_time": "2024-02-28T05:55:19.529Z"
   },
   {
    "duration": 7,
    "start_time": "2024-02-28T05:55:19.537Z"
   },
   {
    "duration": 47,
    "start_time": "2024-02-28T05:55:19.545Z"
   },
   {
    "duration": 26,
    "start_time": "2024-02-28T05:55:19.594Z"
   },
   {
    "duration": 5,
    "start_time": "2024-02-28T05:55:19.621Z"
   },
   {
    "duration": 8,
    "start_time": "2024-02-28T05:55:19.628Z"
   },
   {
    "duration": 5,
    "start_time": "2024-02-28T05:55:19.638Z"
   },
   {
    "duration": 9,
    "start_time": "2024-02-28T05:55:19.644Z"
   },
   {
    "duration": 7,
    "start_time": "2024-02-28T05:55:19.682Z"
   },
   {
    "duration": 71,
    "start_time": "2024-02-28T05:55:19.691Z"
   },
   {
    "duration": 9,
    "start_time": "2024-02-28T05:55:19.764Z"
   },
   {
    "duration": 18,
    "start_time": "2024-02-28T05:55:19.775Z"
   },
   {
    "duration": 17,
    "start_time": "2024-02-28T05:55:19.794Z"
   },
   {
    "duration": 4,
    "start_time": "2024-02-28T05:55:19.813Z"
   },
   {
    "duration": 5,
    "start_time": "2024-02-28T05:55:19.819Z"
   },
   {
    "duration": 225,
    "start_time": "2024-02-28T05:55:19.826Z"
   },
   {
    "duration": 202,
    "start_time": "2024-02-28T05:55:20.053Z"
   },
   {
    "duration": 8,
    "start_time": "2024-02-28T05:59:52.835Z"
   },
   {
    "duration": 123,
    "start_time": "2024-02-28T06:02:12.462Z"
   },
   {
    "duration": 17,
    "start_time": "2024-02-28T06:03:26.364Z"
   },
   {
    "duration": 8,
    "start_time": "2024-02-28T06:05:05.365Z"
   },
   {
    "duration": 35,
    "start_time": "2024-02-28T06:05:15.310Z"
   },
   {
    "duration": 10,
    "start_time": "2024-02-28T06:09:47.792Z"
   },
   {
    "duration": 24,
    "start_time": "2024-02-28T06:09:51.113Z"
   },
   {
    "duration": 9,
    "start_time": "2024-02-28T06:11:55.327Z"
   },
   {
    "duration": 2839,
    "start_time": "2024-02-28T06:23:00.712Z"
   },
   {
    "duration": 1251,
    "start_time": "2024-02-28T06:23:03.553Z"
   },
   {
    "duration": 72,
    "start_time": "2024-02-28T06:23:04.806Z"
   },
   {
    "duration": 21,
    "start_time": "2024-02-28T06:23:04.880Z"
   },
   {
    "duration": 7,
    "start_time": "2024-02-28T06:23:04.903Z"
   },
   {
    "duration": 650,
    "start_time": "2024-02-28T06:23:04.911Z"
   },
   {
    "duration": 27,
    "start_time": "2024-02-28T06:23:05.562Z"
   },
   {
    "duration": 10,
    "start_time": "2024-02-28T06:23:05.590Z"
   },
   {
    "duration": 695,
    "start_time": "2024-02-28T06:23:05.601Z"
   },
   {
    "duration": 16,
    "start_time": "2024-02-28T06:23:06.300Z"
   },
   {
    "duration": 5,
    "start_time": "2024-02-28T06:23:06.317Z"
   },
   {
    "duration": 670,
    "start_time": "2024-02-28T06:23:06.324Z"
   },
   {
    "duration": 4,
    "start_time": "2024-02-28T06:23:06.995Z"
   },
   {
    "duration": 9,
    "start_time": "2024-02-28T06:23:07.000Z"
   },
   {
    "duration": 6,
    "start_time": "2024-02-28T06:23:07.010Z"
   },
   {
    "duration": 10,
    "start_time": "2024-02-28T06:23:07.018Z"
   },
   {
    "duration": 10,
    "start_time": "2024-02-28T06:23:07.029Z"
   },
   {
    "duration": 47,
    "start_time": "2024-02-28T06:23:07.041Z"
   },
   {
    "duration": 8,
    "start_time": "2024-02-28T06:23:07.089Z"
   },
   {
    "duration": 20,
    "start_time": "2024-02-28T06:23:07.099Z"
   },
   {
    "duration": 12,
    "start_time": "2024-02-28T06:23:07.120Z"
   },
   {
    "duration": 321,
    "start_time": "2024-02-28T06:23:07.134Z"
   },
   {
    "duration": 21,
    "start_time": "2024-02-28T06:23:07.461Z"
   },
   {
    "duration": 293,
    "start_time": "2024-02-28T06:23:07.484Z"
   },
   {
    "duration": 12,
    "start_time": "2024-02-28T06:23:07.779Z"
   },
   {
    "duration": 24,
    "start_time": "2024-02-28T06:23:07.793Z"
   },
   {
    "duration": 24,
    "start_time": "2024-02-28T06:23:07.819Z"
   },
   {
    "duration": 44,
    "start_time": "2024-02-28T06:23:07.847Z"
   },
   {
    "duration": 5,
    "start_time": "2024-02-28T06:23:07.893Z"
   },
   {
    "duration": 13,
    "start_time": "2024-02-28T06:23:07.900Z"
   },
   {
    "duration": 16,
    "start_time": "2024-02-28T06:23:07.915Z"
   },
   {
    "duration": 289,
    "start_time": "2024-02-28T06:23:07.933Z"
   },
   {
    "duration": 234,
    "start_time": "2024-02-28T06:23:08.224Z"
   },
   {
    "duration": 339,
    "start_time": "2024-02-28T06:23:08.460Z"
   },
   {
    "duration": 297,
    "start_time": "2024-02-28T06:23:08.800Z"
   },
   {
    "duration": 308,
    "start_time": "2024-02-28T06:23:09.099Z"
   },
   {
    "duration": 10,
    "start_time": "2024-02-28T06:23:09.409Z"
   },
   {
    "duration": 147,
    "start_time": "2024-02-28T06:23:09.421Z"
   },
   {
    "duration": 13,
    "start_time": "2024-02-28T06:23:09.569Z"
   },
   {
    "duration": 8,
    "start_time": "2024-02-28T06:23:09.584Z"
   },
   {
    "duration": 132,
    "start_time": "2024-02-28T06:23:09.594Z"
   },
   {
    "duration": 172,
    "start_time": "2024-02-28T06:23:09.728Z"
   },
   {
    "duration": 140,
    "start_time": "2024-02-28T06:23:09.902Z"
   },
   {
    "duration": 5,
    "start_time": "2024-02-28T06:23:10.045Z"
   },
   {
    "duration": 261,
    "start_time": "2024-02-28T06:23:10.052Z"
   },
   {
    "duration": 133,
    "start_time": "2024-02-28T06:23:10.315Z"
   },
   {
    "duration": 7,
    "start_time": "2024-02-28T06:23:10.450Z"
   },
   {
    "duration": 4,
    "start_time": "2024-02-28T06:23:10.458Z"
   },
   {
    "duration": 43,
    "start_time": "2024-02-28T06:23:10.463Z"
   },
   {
    "duration": 8,
    "start_time": "2024-02-28T06:23:10.508Z"
   },
   {
    "duration": 30,
    "start_time": "2024-02-28T06:23:10.517Z"
   },
   {
    "duration": 12,
    "start_time": "2024-02-28T06:23:10.549Z"
   },
   {
    "duration": 36,
    "start_time": "2024-02-28T06:23:10.563Z"
   },
   {
    "duration": 10,
    "start_time": "2024-02-28T06:23:10.601Z"
   },
   {
    "duration": 125,
    "start_time": "2024-02-28T06:23:10.612Z"
   },
   {
    "duration": 0,
    "start_time": "2024-02-28T06:23:10.738Z"
   },
   {
    "duration": 0,
    "start_time": "2024-02-28T06:23:10.740Z"
   },
   {
    "duration": 0,
    "start_time": "2024-02-28T06:23:10.741Z"
   },
   {
    "duration": 0,
    "start_time": "2024-02-28T06:23:10.742Z"
   },
   {
    "duration": 0,
    "start_time": "2024-02-28T06:23:10.744Z"
   },
   {
    "duration": 10,
    "start_time": "2024-02-28T06:30:18.021Z"
   },
   {
    "duration": 3852,
    "start_time": "2024-02-28T10:37:21.392Z"
   },
   {
    "duration": 1160,
    "start_time": "2024-02-28T10:37:25.247Z"
   },
   {
    "duration": 74,
    "start_time": "2024-02-28T10:37:26.408Z"
   },
   {
    "duration": 20,
    "start_time": "2024-02-28T10:37:26.484Z"
   },
   {
    "duration": 6,
    "start_time": "2024-02-28T10:37:26.506Z"
   },
   {
    "duration": 594,
    "start_time": "2024-02-28T10:37:26.513Z"
   },
   {
    "duration": 17,
    "start_time": "2024-02-28T10:37:27.108Z"
   },
   {
    "duration": 15,
    "start_time": "2024-02-28T10:37:27.127Z"
   },
   {
    "duration": 577,
    "start_time": "2024-02-28T10:37:27.144Z"
   },
   {
    "duration": 17,
    "start_time": "2024-02-28T10:37:27.722Z"
   },
   {
    "duration": 10,
    "start_time": "2024-02-28T10:37:27.741Z"
   },
   {
    "duration": 540,
    "start_time": "2024-02-28T10:37:27.753Z"
   },
   {
    "duration": 3,
    "start_time": "2024-02-28T10:37:28.295Z"
   },
   {
    "duration": 7,
    "start_time": "2024-02-28T10:37:28.302Z"
   },
   {
    "duration": 9,
    "start_time": "2024-02-28T10:37:28.311Z"
   },
   {
    "duration": 10,
    "start_time": "2024-02-28T10:37:28.322Z"
   },
   {
    "duration": 9,
    "start_time": "2024-02-28T10:37:28.333Z"
   },
   {
    "duration": 9,
    "start_time": "2024-02-28T10:37:28.344Z"
   },
   {
    "duration": 40,
    "start_time": "2024-02-28T10:37:28.354Z"
   },
   {
    "duration": 2,
    "start_time": "2024-02-28T10:37:28.396Z"
   },
   {
    "duration": 26,
    "start_time": "2024-02-28T10:37:28.400Z"
   },
   {
    "duration": 331,
    "start_time": "2024-02-28T10:37:28.428Z"
   },
   {
    "duration": 12,
    "start_time": "2024-02-28T10:37:28.760Z"
   },
   {
    "duration": 301,
    "start_time": "2024-02-28T10:37:28.773Z"
   },
   {
    "duration": 17,
    "start_time": "2024-02-28T10:37:29.076Z"
   },
   {
    "duration": 33,
    "start_time": "2024-02-28T10:37:29.095Z"
   },
   {
    "duration": 15,
    "start_time": "2024-02-28T10:37:29.129Z"
   },
   {
    "duration": 29,
    "start_time": "2024-02-28T10:37:29.146Z"
   },
   {
    "duration": 4,
    "start_time": "2024-02-28T10:37:29.177Z"
   },
   {
    "duration": 14,
    "start_time": "2024-02-28T10:37:29.182Z"
   },
   {
    "duration": 29,
    "start_time": "2024-02-28T10:37:29.198Z"
   },
   {
    "duration": 302,
    "start_time": "2024-02-28T10:37:29.229Z"
   },
   {
    "duration": 216,
    "start_time": "2024-02-28T10:37:29.533Z"
   },
   {
    "duration": 403,
    "start_time": "2024-02-28T10:37:29.751Z"
   },
   {
    "duration": 237,
    "start_time": "2024-02-28T10:37:30.156Z"
   },
   {
    "duration": 299,
    "start_time": "2024-02-28T10:37:30.395Z"
   },
   {
    "duration": 11,
    "start_time": "2024-02-28T10:37:30.695Z"
   },
   {
    "duration": 286,
    "start_time": "2024-02-28T10:37:30.708Z"
   },
   {
    "duration": 4,
    "start_time": "2024-02-28T10:37:30.996Z"
   },
   {
    "duration": 62,
    "start_time": "2024-02-28T10:37:31.002Z"
   },
   {
    "duration": 162,
    "start_time": "2024-02-28T10:37:31.068Z"
   },
   {
    "duration": 175,
    "start_time": "2024-02-28T10:37:31.232Z"
   },
   {
    "duration": 141,
    "start_time": "2024-02-28T10:37:31.409Z"
   },
   {
    "duration": 6,
    "start_time": "2024-02-28T10:37:31.551Z"
   },
   {
    "duration": 298,
    "start_time": "2024-02-28T10:37:31.559Z"
   },
   {
    "duration": 158,
    "start_time": "2024-02-28T10:37:31.859Z"
   },
   {
    "duration": 8,
    "start_time": "2024-02-28T10:37:32.018Z"
   },
   {
    "duration": 59,
    "start_time": "2024-02-28T10:37:32.027Z"
   },
   {
    "duration": 47,
    "start_time": "2024-02-28T10:37:32.088Z"
   },
   {
    "duration": 15,
    "start_time": "2024-02-28T10:37:32.137Z"
   },
   {
    "duration": 23,
    "start_time": "2024-02-28T10:37:32.154Z"
   },
   {
    "duration": 13,
    "start_time": "2024-02-28T10:37:32.179Z"
   },
   {
    "duration": 38,
    "start_time": "2024-02-28T10:37:32.194Z"
   },
   {
    "duration": 10,
    "start_time": "2024-02-28T10:37:32.234Z"
   },
   {
    "duration": 22,
    "start_time": "2024-02-28T10:37:32.246Z"
   },
   {
    "duration": 51,
    "start_time": "2024-02-28T12:04:24.957Z"
   },
   {
    "duration": 3021,
    "start_time": "2024-02-28T12:12:53.974Z"
   },
   {
    "duration": 1279,
    "start_time": "2024-02-28T12:12:56.997Z"
   },
   {
    "duration": 201,
    "start_time": "2024-02-28T12:12:58.278Z"
   },
   {
    "duration": 18,
    "start_time": "2024-02-28T12:12:58.481Z"
   },
   {
    "duration": 6,
    "start_time": "2024-02-28T12:12:58.502Z"
   },
   {
    "duration": 668,
    "start_time": "2024-02-28T12:12:58.509Z"
   },
   {
    "duration": 15,
    "start_time": "2024-02-28T12:12:59.178Z"
   },
   {
    "duration": 24,
    "start_time": "2024-02-28T12:12:59.194Z"
   },
   {
    "duration": 553,
    "start_time": "2024-02-28T12:12:59.219Z"
   },
   {
    "duration": 14,
    "start_time": "2024-02-28T12:12:59.773Z"
   },
   {
    "duration": 13,
    "start_time": "2024-02-28T12:12:59.789Z"
   },
   {
    "duration": 562,
    "start_time": "2024-02-28T12:12:59.803Z"
   },
   {
    "duration": 4,
    "start_time": "2024-02-28T12:13:00.367Z"
   },
   {
    "duration": 127,
    "start_time": "2024-02-28T12:13:00.373Z"
   },
   {
    "duration": 110,
    "start_time": "2024-02-28T12:13:00.501Z"
   },
   {
    "duration": 272,
    "start_time": "2024-02-28T12:13:00.613Z"
   },
   {
    "duration": 289,
    "start_time": "2024-02-28T12:13:00.886Z"
   },
   {
    "duration": 87,
    "start_time": "2024-02-28T12:13:01.177Z"
   },
   {
    "duration": 95,
    "start_time": "2024-02-28T12:13:01.266Z"
   },
   {
    "duration": 115,
    "start_time": "2024-02-28T12:13:01.363Z"
   },
   {
    "duration": 68,
    "start_time": "2024-02-28T12:13:01.480Z"
   },
   {
    "duration": 368,
    "start_time": "2024-02-28T12:13:01.549Z"
   },
   {
    "duration": 11,
    "start_time": "2024-02-28T12:13:01.919Z"
   },
   {
    "duration": 303,
    "start_time": "2024-02-28T12:13:01.932Z"
   },
   {
    "duration": 10,
    "start_time": "2024-02-28T12:13:02.237Z"
   },
   {
    "duration": 30,
    "start_time": "2024-02-28T12:13:02.249Z"
   },
   {
    "duration": 34,
    "start_time": "2024-02-28T12:13:02.281Z"
   },
   {
    "duration": 20,
    "start_time": "2024-02-28T12:13:02.317Z"
   },
   {
    "duration": 17,
    "start_time": "2024-02-28T12:13:02.339Z"
   },
   {
    "duration": 12,
    "start_time": "2024-02-28T12:13:02.358Z"
   },
   {
    "duration": 24,
    "start_time": "2024-02-28T12:13:02.372Z"
   },
   {
    "duration": 291,
    "start_time": "2024-02-28T12:13:02.398Z"
   },
   {
    "duration": 214,
    "start_time": "2024-02-28T12:13:02.691Z"
   },
   {
    "duration": 362,
    "start_time": "2024-02-28T12:13:02.907Z"
   },
   {
    "duration": 222,
    "start_time": "2024-02-28T12:13:03.271Z"
   },
   {
    "duration": 271,
    "start_time": "2024-02-28T12:13:03.494Z"
   },
   {
    "duration": 23,
    "start_time": "2024-02-28T12:13:03.767Z"
   },
   {
    "duration": 184,
    "start_time": "2024-02-28T12:13:03.792Z"
   },
   {
    "duration": 5,
    "start_time": "2024-02-28T12:13:03.978Z"
   },
   {
    "duration": 14,
    "start_time": "2024-02-28T12:13:03.984Z"
   },
   {
    "duration": 128,
    "start_time": "2024-02-28T12:13:04.002Z"
   },
   {
    "duration": 160,
    "start_time": "2024-02-28T12:13:04.131Z"
   },
   {
    "duration": 129,
    "start_time": "2024-02-28T12:13:04.293Z"
   },
   {
    "duration": 5,
    "start_time": "2024-02-28T12:13:04.424Z"
   },
   {
    "duration": 244,
    "start_time": "2024-02-28T12:13:04.430Z"
   },
   {
    "duration": 142,
    "start_time": "2024-02-28T12:13:04.676Z"
   },
   {
    "duration": 6,
    "start_time": "2024-02-28T12:13:04.819Z"
   },
   {
    "duration": 134,
    "start_time": "2024-02-28T12:13:04.826Z"
   },
   {
    "duration": 61,
    "start_time": "2024-02-28T12:13:04.962Z"
   },
   {
    "duration": 24,
    "start_time": "2024-02-28T12:13:05.025Z"
   },
   {
    "duration": 44,
    "start_time": "2024-02-28T12:13:05.050Z"
   },
   {
    "duration": 102,
    "start_time": "2024-02-28T12:13:05.095Z"
   },
   {
    "duration": 89,
    "start_time": "2024-02-28T12:13:05.199Z"
   },
   {
    "duration": 26,
    "start_time": "2024-02-28T12:13:05.290Z"
   },
   {
    "duration": 35,
    "start_time": "2024-02-28T12:13:05.318Z"
   },
   {
    "duration": 3751,
    "start_time": "2024-02-28T15:45:56.851Z"
   },
   {
    "duration": 1162,
    "start_time": "2024-02-28T15:46:00.604Z"
   },
   {
    "duration": 78,
    "start_time": "2024-02-28T15:46:01.767Z"
   },
   {
    "duration": 22,
    "start_time": "2024-02-28T15:46:01.847Z"
   },
   {
    "duration": 45,
    "start_time": "2024-02-28T15:46:01.870Z"
   },
   {
    "duration": 608,
    "start_time": "2024-02-28T15:46:01.916Z"
   },
   {
    "duration": 21,
    "start_time": "2024-02-28T15:46:02.526Z"
   },
   {
    "duration": 42,
    "start_time": "2024-02-28T15:46:02.548Z"
   },
   {
    "duration": 546,
    "start_time": "2024-02-28T15:46:02.592Z"
   },
   {
    "duration": 14,
    "start_time": "2024-02-28T15:46:03.140Z"
   },
   {
    "duration": 57,
    "start_time": "2024-02-28T15:46:03.155Z"
   },
   {
    "duration": 512,
    "start_time": "2024-02-28T15:46:03.213Z"
   },
   {
    "duration": 7,
    "start_time": "2024-02-28T15:46:03.727Z"
   },
   {
    "duration": 32,
    "start_time": "2024-02-28T15:46:03.736Z"
   },
   {
    "duration": 38,
    "start_time": "2024-02-28T15:46:03.770Z"
   },
   {
    "duration": 39,
    "start_time": "2024-02-28T15:46:03.810Z"
   },
   {
    "duration": 56,
    "start_time": "2024-02-28T15:46:03.851Z"
   },
   {
    "duration": 54,
    "start_time": "2024-02-28T15:46:03.909Z"
   },
   {
    "duration": 61,
    "start_time": "2024-02-28T15:46:03.965Z"
   },
   {
    "duration": 29,
    "start_time": "2024-02-28T15:46:04.028Z"
   },
   {
    "duration": 38,
    "start_time": "2024-02-28T15:46:04.059Z"
   },
   {
    "duration": 299,
    "start_time": "2024-02-28T15:46:04.099Z"
   },
   {
    "duration": 9,
    "start_time": "2024-02-28T15:46:04.400Z"
   },
   {
    "duration": 303,
    "start_time": "2024-02-28T15:46:04.411Z"
   },
   {
    "duration": 9,
    "start_time": "2024-02-28T15:46:04.716Z"
   },
   {
    "duration": 86,
    "start_time": "2024-02-28T15:46:04.726Z"
   },
   {
    "duration": 45,
    "start_time": "2024-02-28T15:46:04.814Z"
   },
   {
    "duration": 65,
    "start_time": "2024-02-28T15:46:04.862Z"
   },
   {
    "duration": 35,
    "start_time": "2024-02-28T15:46:04.929Z"
   },
   {
    "duration": 60,
    "start_time": "2024-02-28T15:46:04.965Z"
   },
   {
    "duration": 68,
    "start_time": "2024-02-28T15:46:05.027Z"
   },
   {
    "duration": 289,
    "start_time": "2024-02-28T15:46:05.097Z"
   },
   {
    "duration": 201,
    "start_time": "2024-02-28T15:46:05.388Z"
   },
   {
    "duration": 269,
    "start_time": "2024-02-28T15:46:05.590Z"
   },
   {
    "duration": 258,
    "start_time": "2024-02-28T15:46:05.861Z"
   },
   {
    "duration": 281,
    "start_time": "2024-02-28T15:46:06.120Z"
   },
   {
    "duration": 9,
    "start_time": "2024-02-28T15:46:06.402Z"
   },
   {
    "duration": 128,
    "start_time": "2024-02-28T15:46:06.413Z"
   },
   {
    "duration": 5,
    "start_time": "2024-02-28T15:46:06.543Z"
   },
   {
    "duration": 9,
    "start_time": "2024-02-28T15:46:06.550Z"
   },
   {
    "duration": 131,
    "start_time": "2024-02-28T15:46:06.561Z"
   },
   {
    "duration": 149,
    "start_time": "2024-02-28T15:46:06.693Z"
   },
   {
    "duration": 126,
    "start_time": "2024-02-28T15:46:06.844Z"
   },
   {
    "duration": 4,
    "start_time": "2024-02-28T15:46:06.972Z"
   },
   {
    "duration": 229,
    "start_time": "2024-02-28T15:46:06.977Z"
   },
   {
    "duration": 129,
    "start_time": "2024-02-28T15:46:07.208Z"
   },
   {
    "duration": 5,
    "start_time": "2024-02-28T15:46:07.339Z"
   },
   {
    "duration": 14,
    "start_time": "2024-02-28T15:46:07.346Z"
   },
   {
    "duration": 42,
    "start_time": "2024-02-28T15:46:07.362Z"
   },
   {
    "duration": 10,
    "start_time": "2024-02-28T15:46:07.406Z"
   },
   {
    "duration": 25,
    "start_time": "2024-02-28T15:46:07.417Z"
   },
   {
    "duration": 7,
    "start_time": "2024-02-28T15:46:07.443Z"
   },
   {
    "duration": 35,
    "start_time": "2024-02-28T15:46:07.452Z"
   },
   {
    "duration": 8,
    "start_time": "2024-02-28T15:46:07.488Z"
   },
   {
    "duration": 21,
    "start_time": "2024-02-28T15:46:07.498Z"
   }
  ],
  "kernelspec": {
   "display_name": "Python 3 (ipykernel)",
   "language": "python",
   "name": "python3"
  },
  "language_info": {
   "codemirror_mode": {
    "name": "ipython",
    "version": 3
   },
   "file_extension": ".py",
   "mimetype": "text/x-python",
   "name": "python",
   "nbconvert_exporter": "python",
   "pygments_lexer": "ipython3",
   "version": "3.11.5"
  },
  "toc": {
   "base_numbering": 1,
   "nav_menu": {},
   "number_sections": true,
   "sideBar": true,
   "skip_h1_title": true,
   "title_cell": "Table of Contents",
   "title_sidebar": "Contents",
   "toc_cell": false,
   "toc_position": {},
   "toc_section_display": true,
   "toc_window_display": true
  }
 },
 "nbformat": 4,
 "nbformat_minor": 2
}
