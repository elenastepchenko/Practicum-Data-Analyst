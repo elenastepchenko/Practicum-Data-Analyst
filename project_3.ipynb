{
 "cells": [
  {
   "cell_type": "markdown",
   "metadata": {},
   "source": [
    "# Исследование объявлений о продаже квартир\n",
    "\n",
    "В вашем распоряжении данные сервиса Яндекс.Недвижимость — архив объявлений о продаже квартир в Санкт-Петербурге и соседних населённых пунктов за несколько лет. Нужно научиться определять рыночную стоимость объектов недвижимости. Ваша задача — установить параметры. Это позволит построить автоматизированную систему: она отследит аномалии и мошенническую деятельность. \n",
    "\n",
    "По каждой квартире на продажу доступны два вида данных. Первые вписаны пользователем, вторые — получены автоматически на основе картографических данных. Например, расстояние до центра, аэропорта, ближайшего парка и водоёма. "
   ]
  },
  {
   "cell_type": "markdown",
   "metadata": {},
   "source": [
    "### Откройте файл с данными и изучите общую информацию. "
   ]
  },
  {
   "cell_type": "code",
   "execution_count": 1,
   "metadata": {},
   "outputs": [
    {
     "name": "stdout",
     "output_type": "stream",
     "text": [
      "Collecting missingno\n",
      "  Downloading missingno-0.5.2-py3-none-any.whl (8.7 kB)\n",
      "Requirement already satisfied: scipy in /opt/conda/lib/python3.9/site-packages (from missingno) (1.9.1)\n",
      "Requirement already satisfied: seaborn in /opt/conda/lib/python3.9/site-packages (from missingno) (0.11.1)\n",
      "Requirement already satisfied: numpy in /opt/conda/lib/python3.9/site-packages (from missingno) (1.21.1)\n",
      "Requirement already satisfied: matplotlib in /opt/conda/lib/python3.9/site-packages (from missingno) (3.3.4)\n",
      "Requirement already satisfied: kiwisolver>=1.0.1 in /opt/conda/lib/python3.9/site-packages (from matplotlib->missingno) (1.4.4)\n",
      "Requirement already satisfied: python-dateutil>=2.1 in /opt/conda/lib/python3.9/site-packages (from matplotlib->missingno) (2.8.1)\n",
      "Requirement already satisfied: cycler>=0.10 in /opt/conda/lib/python3.9/site-packages (from matplotlib->missingno) (0.11.0)\n",
      "Requirement already satisfied: pillow>=6.2.0 in /opt/conda/lib/python3.9/site-packages (from matplotlib->missingno) (8.4.0)\n",
      "Requirement already satisfied: pyparsing!=2.0.4,!=2.1.2,!=2.1.6,>=2.0.3 in /opt/conda/lib/python3.9/site-packages (from matplotlib->missingno) (2.4.7)\n",
      "Requirement already satisfied: six>=1.5 in /opt/conda/lib/python3.9/site-packages (from python-dateutil>=2.1->matplotlib->missingno) (1.16.0)\n",
      "Requirement already satisfied: pandas>=0.23 in /opt/conda/lib/python3.9/site-packages (from seaborn->missingno) (1.2.4)\n",
      "Requirement already satisfied: pytz>=2017.3 in /opt/conda/lib/python3.9/site-packages (from pandas>=0.23->seaborn->missingno) (2021.1)\n",
      "Installing collected packages: missingno\n",
      "Successfully installed missingno-0.5.2\n"
     ]
    }
   ],
   "source": [
    "!pip install missingno"
   ]
  },
  {
   "cell_type": "code",
   "execution_count": 2,
   "metadata": {},
   "outputs": [],
   "source": [
    "import pandas as pd\n",
    "import matplotlib.pyplot as plt\n",
    "import numpy as ny \n",
    "import missingno as mi\n",
    "data = pd.read_csv('/datasets/real_estate_data.csv', sep = '\\t')"
   ]
  },
  {
   "cell_type": "code",
   "execution_count": 3,
   "metadata": {},
   "outputs": [
    {
     "name": "stdout",
     "output_type": "stream",
     "text": [
      "<class 'pandas.core.frame.DataFrame'>\n",
      "RangeIndex: 23699 entries, 0 to 23698\n",
      "Data columns (total 22 columns):\n",
      " #   Column                Non-Null Count  Dtype  \n",
      "---  ------                --------------  -----  \n",
      " 0   total_images          23699 non-null  int64  \n",
      " 1   last_price            23699 non-null  float64\n",
      " 2   total_area            23699 non-null  float64\n",
      " 3   first_day_exposition  23699 non-null  object \n",
      " 4   rooms                 23699 non-null  int64  \n",
      " 5   ceiling_height        14504 non-null  float64\n",
      " 6   floors_total          23613 non-null  float64\n",
      " 7   living_area           21796 non-null  float64\n",
      " 8   floor                 23699 non-null  int64  \n",
      " 9   is_apartment          2775 non-null   object \n",
      " 10  studio                23699 non-null  bool   \n",
      " 11  open_plan             23699 non-null  bool   \n",
      " 12  kitchen_area          21421 non-null  float64\n",
      " 13  balcony               12180 non-null  float64\n",
      " 14  locality_name         23650 non-null  object \n",
      " 15  airports_nearest      18157 non-null  float64\n",
      " 16  cityCenters_nearest   18180 non-null  float64\n",
      " 17  parks_around3000      18181 non-null  float64\n",
      " 18  parks_nearest         8079 non-null   float64\n",
      " 19  ponds_around3000      18181 non-null  float64\n",
      " 20  ponds_nearest         9110 non-null   float64\n",
      " 21  days_exposition       20518 non-null  float64\n",
      "dtypes: bool(2), float64(14), int64(3), object(3)\n",
      "memory usage: 3.7+ MB\n"
     ]
    },
    {
     "data": {
      "text/plain": [
       "None"
      ]
     },
     "metadata": {},
     "output_type": "display_data"
    }
   ],
   "source": [
    "display(data.info())"
   ]
  },
  {
   "cell_type": "code",
   "execution_count": 4,
   "metadata": {},
   "outputs": [
    {
     "data": {
      "text/html": [
       "<div>\n",
       "<style scoped>\n",
       "    .dataframe tbody tr th:only-of-type {\n",
       "        vertical-align: middle;\n",
       "    }\n",
       "\n",
       "    .dataframe tbody tr th {\n",
       "        vertical-align: top;\n",
       "    }\n",
       "\n",
       "    .dataframe thead th {\n",
       "        text-align: right;\n",
       "    }\n",
       "</style>\n",
       "<table border=\"1\" class=\"dataframe\">\n",
       "  <thead>\n",
       "    <tr style=\"text-align: right;\">\n",
       "      <th></th>\n",
       "      <th>total_images</th>\n",
       "      <th>last_price</th>\n",
       "      <th>total_area</th>\n",
       "      <th>first_day_exposition</th>\n",
       "      <th>rooms</th>\n",
       "      <th>ceiling_height</th>\n",
       "      <th>floors_total</th>\n",
       "      <th>living_area</th>\n",
       "      <th>floor</th>\n",
       "      <th>is_apartment</th>\n",
       "      <th>...</th>\n",
       "      <th>kitchen_area</th>\n",
       "      <th>balcony</th>\n",
       "      <th>locality_name</th>\n",
       "      <th>airports_nearest</th>\n",
       "      <th>cityCenters_nearest</th>\n",
       "      <th>parks_around3000</th>\n",
       "      <th>parks_nearest</th>\n",
       "      <th>ponds_around3000</th>\n",
       "      <th>ponds_nearest</th>\n",
       "      <th>days_exposition</th>\n",
       "    </tr>\n",
       "  </thead>\n",
       "  <tbody>\n",
       "    <tr>\n",
       "      <th>0</th>\n",
       "      <td>20</td>\n",
       "      <td>13000000.0</td>\n",
       "      <td>108.0</td>\n",
       "      <td>2019-03-07T00:00:00</td>\n",
       "      <td>3</td>\n",
       "      <td>2.70</td>\n",
       "      <td>16.0</td>\n",
       "      <td>51.0</td>\n",
       "      <td>8</td>\n",
       "      <td>NaN</td>\n",
       "      <td>...</td>\n",
       "      <td>25.0</td>\n",
       "      <td>NaN</td>\n",
       "      <td>Санкт-Петербург</td>\n",
       "      <td>18863.0</td>\n",
       "      <td>16028.0</td>\n",
       "      <td>1.0</td>\n",
       "      <td>482.0</td>\n",
       "      <td>2.0</td>\n",
       "      <td>755.0</td>\n",
       "      <td>NaN</td>\n",
       "    </tr>\n",
       "    <tr>\n",
       "      <th>1</th>\n",
       "      <td>7</td>\n",
       "      <td>3350000.0</td>\n",
       "      <td>40.4</td>\n",
       "      <td>2018-12-04T00:00:00</td>\n",
       "      <td>1</td>\n",
       "      <td>NaN</td>\n",
       "      <td>11.0</td>\n",
       "      <td>18.6</td>\n",
       "      <td>1</td>\n",
       "      <td>NaN</td>\n",
       "      <td>...</td>\n",
       "      <td>11.0</td>\n",
       "      <td>2.0</td>\n",
       "      <td>посёлок Шушары</td>\n",
       "      <td>12817.0</td>\n",
       "      <td>18603.0</td>\n",
       "      <td>0.0</td>\n",
       "      <td>NaN</td>\n",
       "      <td>0.0</td>\n",
       "      <td>NaN</td>\n",
       "      <td>81.0</td>\n",
       "    </tr>\n",
       "    <tr>\n",
       "      <th>2</th>\n",
       "      <td>10</td>\n",
       "      <td>5196000.0</td>\n",
       "      <td>56.0</td>\n",
       "      <td>2015-08-20T00:00:00</td>\n",
       "      <td>2</td>\n",
       "      <td>NaN</td>\n",
       "      <td>5.0</td>\n",
       "      <td>34.3</td>\n",
       "      <td>4</td>\n",
       "      <td>NaN</td>\n",
       "      <td>...</td>\n",
       "      <td>8.3</td>\n",
       "      <td>0.0</td>\n",
       "      <td>Санкт-Петербург</td>\n",
       "      <td>21741.0</td>\n",
       "      <td>13933.0</td>\n",
       "      <td>1.0</td>\n",
       "      <td>90.0</td>\n",
       "      <td>2.0</td>\n",
       "      <td>574.0</td>\n",
       "      <td>558.0</td>\n",
       "    </tr>\n",
       "    <tr>\n",
       "      <th>3</th>\n",
       "      <td>0</td>\n",
       "      <td>64900000.0</td>\n",
       "      <td>159.0</td>\n",
       "      <td>2015-07-24T00:00:00</td>\n",
       "      <td>3</td>\n",
       "      <td>NaN</td>\n",
       "      <td>14.0</td>\n",
       "      <td>NaN</td>\n",
       "      <td>9</td>\n",
       "      <td>NaN</td>\n",
       "      <td>...</td>\n",
       "      <td>NaN</td>\n",
       "      <td>0.0</td>\n",
       "      <td>Санкт-Петербург</td>\n",
       "      <td>28098.0</td>\n",
       "      <td>6800.0</td>\n",
       "      <td>2.0</td>\n",
       "      <td>84.0</td>\n",
       "      <td>3.0</td>\n",
       "      <td>234.0</td>\n",
       "      <td>424.0</td>\n",
       "    </tr>\n",
       "    <tr>\n",
       "      <th>4</th>\n",
       "      <td>2</td>\n",
       "      <td>10000000.0</td>\n",
       "      <td>100.0</td>\n",
       "      <td>2018-06-19T00:00:00</td>\n",
       "      <td>2</td>\n",
       "      <td>3.03</td>\n",
       "      <td>14.0</td>\n",
       "      <td>32.0</td>\n",
       "      <td>13</td>\n",
       "      <td>NaN</td>\n",
       "      <td>...</td>\n",
       "      <td>41.0</td>\n",
       "      <td>NaN</td>\n",
       "      <td>Санкт-Петербург</td>\n",
       "      <td>31856.0</td>\n",
       "      <td>8098.0</td>\n",
       "      <td>2.0</td>\n",
       "      <td>112.0</td>\n",
       "      <td>1.0</td>\n",
       "      <td>48.0</td>\n",
       "      <td>121.0</td>\n",
       "    </tr>\n",
       "  </tbody>\n",
       "</table>\n",
       "<p>5 rows × 22 columns</p>\n",
       "</div>"
      ],
      "text/plain": [
       "   total_images  last_price  total_area first_day_exposition  rooms  \\\n",
       "0            20  13000000.0       108.0  2019-03-07T00:00:00      3   \n",
       "1             7   3350000.0        40.4  2018-12-04T00:00:00      1   \n",
       "2            10   5196000.0        56.0  2015-08-20T00:00:00      2   \n",
       "3             0  64900000.0       159.0  2015-07-24T00:00:00      3   \n",
       "4             2  10000000.0       100.0  2018-06-19T00:00:00      2   \n",
       "\n",
       "   ceiling_height  floors_total  living_area  floor is_apartment  ...  \\\n",
       "0            2.70          16.0         51.0      8          NaN  ...   \n",
       "1             NaN          11.0         18.6      1          NaN  ...   \n",
       "2             NaN           5.0         34.3      4          NaN  ...   \n",
       "3             NaN          14.0          NaN      9          NaN  ...   \n",
       "4            3.03          14.0         32.0     13          NaN  ...   \n",
       "\n",
       "   kitchen_area  balcony    locality_name  airports_nearest  \\\n",
       "0          25.0      NaN  Санкт-Петербург           18863.0   \n",
       "1          11.0      2.0   посёлок Шушары           12817.0   \n",
       "2           8.3      0.0  Санкт-Петербург           21741.0   \n",
       "3           NaN      0.0  Санкт-Петербург           28098.0   \n",
       "4          41.0      NaN  Санкт-Петербург           31856.0   \n",
       "\n",
       "  cityCenters_nearest  parks_around3000  parks_nearest  ponds_around3000  \\\n",
       "0             16028.0               1.0          482.0               2.0   \n",
       "1             18603.0               0.0            NaN               0.0   \n",
       "2             13933.0               1.0           90.0               2.0   \n",
       "3              6800.0               2.0           84.0               3.0   \n",
       "4              8098.0               2.0          112.0               1.0   \n",
       "\n",
       "   ponds_nearest  days_exposition  \n",
       "0          755.0              NaN  \n",
       "1            NaN             81.0  \n",
       "2          574.0            558.0  \n",
       "3          234.0            424.0  \n",
       "4           48.0            121.0  \n",
       "\n",
       "[5 rows x 22 columns]"
      ]
     },
     "execution_count": 4,
     "metadata": {},
     "output_type": "execute_result"
    }
   ],
   "source": [
    "data.head()"
   ]
  },
  {
   "cell_type": "code",
   "execution_count": 5,
   "metadata": {
    "scrolled": true
   },
   "outputs": [
    {
     "data": {
      "text/html": [
       "<div>\n",
       "<style scoped>\n",
       "    .dataframe tbody tr th:only-of-type {\n",
       "        vertical-align: middle;\n",
       "    }\n",
       "\n",
       "    .dataframe tbody tr th {\n",
       "        vertical-align: top;\n",
       "    }\n",
       "\n",
       "    .dataframe thead th {\n",
       "        text-align: right;\n",
       "    }\n",
       "</style>\n",
       "<table border=\"1\" class=\"dataframe\">\n",
       "  <thead>\n",
       "    <tr style=\"text-align: right;\">\n",
       "      <th></th>\n",
       "      <th>total_images</th>\n",
       "      <th>last_price</th>\n",
       "      <th>total_area</th>\n",
       "      <th>rooms</th>\n",
       "      <th>ceiling_height</th>\n",
       "      <th>floors_total</th>\n",
       "      <th>living_area</th>\n",
       "      <th>floor</th>\n",
       "      <th>kitchen_area</th>\n",
       "      <th>balcony</th>\n",
       "      <th>airports_nearest</th>\n",
       "      <th>cityCenters_nearest</th>\n",
       "      <th>parks_around3000</th>\n",
       "      <th>parks_nearest</th>\n",
       "      <th>ponds_around3000</th>\n",
       "      <th>ponds_nearest</th>\n",
       "      <th>days_exposition</th>\n",
       "    </tr>\n",
       "  </thead>\n",
       "  <tbody>\n",
       "    <tr>\n",
       "      <th>count</th>\n",
       "      <td>23699.000000</td>\n",
       "      <td>2.369900e+04</td>\n",
       "      <td>23699.000000</td>\n",
       "      <td>23699.000000</td>\n",
       "      <td>14504.000000</td>\n",
       "      <td>23613.000000</td>\n",
       "      <td>21796.000000</td>\n",
       "      <td>23699.000000</td>\n",
       "      <td>21421.000000</td>\n",
       "      <td>12180.000000</td>\n",
       "      <td>18157.000000</td>\n",
       "      <td>18180.000000</td>\n",
       "      <td>18181.000000</td>\n",
       "      <td>8079.000000</td>\n",
       "      <td>18181.000000</td>\n",
       "      <td>9110.000000</td>\n",
       "      <td>20518.000000</td>\n",
       "    </tr>\n",
       "    <tr>\n",
       "      <th>mean</th>\n",
       "      <td>9.858475</td>\n",
       "      <td>6.541549e+06</td>\n",
       "      <td>60.348651</td>\n",
       "      <td>2.070636</td>\n",
       "      <td>2.771499</td>\n",
       "      <td>10.673824</td>\n",
       "      <td>34.457852</td>\n",
       "      <td>5.892358</td>\n",
       "      <td>10.569807</td>\n",
       "      <td>1.150082</td>\n",
       "      <td>28793.672193</td>\n",
       "      <td>14191.277833</td>\n",
       "      <td>0.611408</td>\n",
       "      <td>490.804555</td>\n",
       "      <td>0.770255</td>\n",
       "      <td>517.980900</td>\n",
       "      <td>180.888634</td>\n",
       "    </tr>\n",
       "    <tr>\n",
       "      <th>std</th>\n",
       "      <td>5.682529</td>\n",
       "      <td>1.088701e+07</td>\n",
       "      <td>35.654083</td>\n",
       "      <td>1.078405</td>\n",
       "      <td>1.261056</td>\n",
       "      <td>6.597173</td>\n",
       "      <td>22.030445</td>\n",
       "      <td>4.885249</td>\n",
       "      <td>5.905438</td>\n",
       "      <td>1.071300</td>\n",
       "      <td>12630.880622</td>\n",
       "      <td>8608.386210</td>\n",
       "      <td>0.802074</td>\n",
       "      <td>342.317995</td>\n",
       "      <td>0.938346</td>\n",
       "      <td>277.720643</td>\n",
       "      <td>219.727988</td>\n",
       "    </tr>\n",
       "    <tr>\n",
       "      <th>min</th>\n",
       "      <td>0.000000</td>\n",
       "      <td>1.219000e+04</td>\n",
       "      <td>12.000000</td>\n",
       "      <td>0.000000</td>\n",
       "      <td>1.000000</td>\n",
       "      <td>1.000000</td>\n",
       "      <td>2.000000</td>\n",
       "      <td>1.000000</td>\n",
       "      <td>1.300000</td>\n",
       "      <td>0.000000</td>\n",
       "      <td>0.000000</td>\n",
       "      <td>181.000000</td>\n",
       "      <td>0.000000</td>\n",
       "      <td>1.000000</td>\n",
       "      <td>0.000000</td>\n",
       "      <td>13.000000</td>\n",
       "      <td>1.000000</td>\n",
       "    </tr>\n",
       "    <tr>\n",
       "      <th>25%</th>\n",
       "      <td>6.000000</td>\n",
       "      <td>3.400000e+06</td>\n",
       "      <td>40.000000</td>\n",
       "      <td>1.000000</td>\n",
       "      <td>2.520000</td>\n",
       "      <td>5.000000</td>\n",
       "      <td>18.600000</td>\n",
       "      <td>2.000000</td>\n",
       "      <td>7.000000</td>\n",
       "      <td>0.000000</td>\n",
       "      <td>18585.000000</td>\n",
       "      <td>9238.000000</td>\n",
       "      <td>0.000000</td>\n",
       "      <td>288.000000</td>\n",
       "      <td>0.000000</td>\n",
       "      <td>294.000000</td>\n",
       "      <td>45.000000</td>\n",
       "    </tr>\n",
       "    <tr>\n",
       "      <th>50%</th>\n",
       "      <td>9.000000</td>\n",
       "      <td>4.650000e+06</td>\n",
       "      <td>52.000000</td>\n",
       "      <td>2.000000</td>\n",
       "      <td>2.650000</td>\n",
       "      <td>9.000000</td>\n",
       "      <td>30.000000</td>\n",
       "      <td>4.000000</td>\n",
       "      <td>9.100000</td>\n",
       "      <td>1.000000</td>\n",
       "      <td>26726.000000</td>\n",
       "      <td>13098.500000</td>\n",
       "      <td>0.000000</td>\n",
       "      <td>455.000000</td>\n",
       "      <td>1.000000</td>\n",
       "      <td>502.000000</td>\n",
       "      <td>95.000000</td>\n",
       "    </tr>\n",
       "    <tr>\n",
       "      <th>75%</th>\n",
       "      <td>14.000000</td>\n",
       "      <td>6.800000e+06</td>\n",
       "      <td>69.900000</td>\n",
       "      <td>3.000000</td>\n",
       "      <td>2.800000</td>\n",
       "      <td>16.000000</td>\n",
       "      <td>42.300000</td>\n",
       "      <td>8.000000</td>\n",
       "      <td>12.000000</td>\n",
       "      <td>2.000000</td>\n",
       "      <td>37273.000000</td>\n",
       "      <td>16293.000000</td>\n",
       "      <td>1.000000</td>\n",
       "      <td>612.000000</td>\n",
       "      <td>1.000000</td>\n",
       "      <td>729.000000</td>\n",
       "      <td>232.000000</td>\n",
       "    </tr>\n",
       "    <tr>\n",
       "      <th>max</th>\n",
       "      <td>50.000000</td>\n",
       "      <td>7.630000e+08</td>\n",
       "      <td>900.000000</td>\n",
       "      <td>19.000000</td>\n",
       "      <td>100.000000</td>\n",
       "      <td>60.000000</td>\n",
       "      <td>409.700000</td>\n",
       "      <td>33.000000</td>\n",
       "      <td>112.000000</td>\n",
       "      <td>5.000000</td>\n",
       "      <td>84869.000000</td>\n",
       "      <td>65968.000000</td>\n",
       "      <td>3.000000</td>\n",
       "      <td>3190.000000</td>\n",
       "      <td>3.000000</td>\n",
       "      <td>1344.000000</td>\n",
       "      <td>1580.000000</td>\n",
       "    </tr>\n",
       "  </tbody>\n",
       "</table>\n",
       "</div>"
      ],
      "text/plain": [
       "       total_images    last_price    total_area         rooms  ceiling_height  \\\n",
       "count  23699.000000  2.369900e+04  23699.000000  23699.000000    14504.000000   \n",
       "mean       9.858475  6.541549e+06     60.348651      2.070636        2.771499   \n",
       "std        5.682529  1.088701e+07     35.654083      1.078405        1.261056   \n",
       "min        0.000000  1.219000e+04     12.000000      0.000000        1.000000   \n",
       "25%        6.000000  3.400000e+06     40.000000      1.000000        2.520000   \n",
       "50%        9.000000  4.650000e+06     52.000000      2.000000        2.650000   \n",
       "75%       14.000000  6.800000e+06     69.900000      3.000000        2.800000   \n",
       "max       50.000000  7.630000e+08    900.000000     19.000000      100.000000   \n",
       "\n",
       "       floors_total   living_area         floor  kitchen_area       balcony  \\\n",
       "count  23613.000000  21796.000000  23699.000000  21421.000000  12180.000000   \n",
       "mean      10.673824     34.457852      5.892358     10.569807      1.150082   \n",
       "std        6.597173     22.030445      4.885249      5.905438      1.071300   \n",
       "min        1.000000      2.000000      1.000000      1.300000      0.000000   \n",
       "25%        5.000000     18.600000      2.000000      7.000000      0.000000   \n",
       "50%        9.000000     30.000000      4.000000      9.100000      1.000000   \n",
       "75%       16.000000     42.300000      8.000000     12.000000      2.000000   \n",
       "max       60.000000    409.700000     33.000000    112.000000      5.000000   \n",
       "\n",
       "       airports_nearest  cityCenters_nearest  parks_around3000  parks_nearest  \\\n",
       "count      18157.000000         18180.000000      18181.000000    8079.000000   \n",
       "mean       28793.672193         14191.277833          0.611408     490.804555   \n",
       "std        12630.880622          8608.386210          0.802074     342.317995   \n",
       "min            0.000000           181.000000          0.000000       1.000000   \n",
       "25%        18585.000000          9238.000000          0.000000     288.000000   \n",
       "50%        26726.000000         13098.500000          0.000000     455.000000   \n",
       "75%        37273.000000         16293.000000          1.000000     612.000000   \n",
       "max        84869.000000         65968.000000          3.000000    3190.000000   \n",
       "\n",
       "       ponds_around3000  ponds_nearest  days_exposition  \n",
       "count      18181.000000    9110.000000     20518.000000  \n",
       "mean           0.770255     517.980900       180.888634  \n",
       "std            0.938346     277.720643       219.727988  \n",
       "min            0.000000      13.000000         1.000000  \n",
       "25%            0.000000     294.000000        45.000000  \n",
       "50%            1.000000     502.000000        95.000000  \n",
       "75%            1.000000     729.000000       232.000000  \n",
       "max            3.000000    1344.000000      1580.000000  "
      ]
     },
     "execution_count": 5,
     "metadata": {},
     "output_type": "execute_result"
    }
   ],
   "source": [
    "data.describe()"
   ]
  },
  {
   "cell_type": "markdown",
   "metadata": {},
   "source": [
    "Посмотрели общую информацию о данных: количество столбцов, наличие пропусков, типы данных в столбцах. Посмотрели визуально на данные.\n",
    "Открыли библиотеку matplotlib.pyplot для построения графиков."
   ]
  },
  {
   "cell_type": "code",
   "execution_count": 6,
   "metadata": {},
   "outputs": [
    {
     "data": {
      "image/png": "[encoded data removed]",
      "text/plain": [
       "<Figure size 1080x1440 with 20 Axes>"
      ]
     },
     "metadata": {
      "needs_background": "light"
     },
     "output_type": "display_data"
    }
   ],
   "source": [
    "data.hist(bins=50, figsize=(15, 20))\n",
    "plt.show()"
   ]
  },
  {
   "cell_type": "markdown",
   "metadata": {},
   "source": [
    "Вывод:\n",
    "\n",
    " 1 total_images - число фотографий квартиры в объявлении. Пустых ячеек нет, целые значения, 3 пика: 0, около 10 и 20, тип данных (int64) менять не нужно.\n",
    " \n",
    " 2 last_price - цена на момент снятия с публикации. Пустых ячеек нет, основное количество цен представлены, предположительно, в рублях (максимальная цена 763 000 000, в среднем около 6 540 000), но есть большое количество данных, предположительно, в тысячах рублей (минимально 12 190), они могут повлиять на анализ, эти данные нужно обработать, тип данных (float64) менять не нужно.\n",
    " \n",
    " 3 total_area - общая площадь квартиры в квадратных метрах. Пустых ячеек нет, тип данных (float64) менять не нужно.\n",
    " \n",
    " 4 rooms - число комнат. Пустых ячеек нет,но есть нулевые( возможно студии), тип данных (int64) менять не нужно.\n",
    " \n",
    " 5 ceiling_height - Высота потолков. Большое количество пропущенных значений( скорее всего пользователи не указывают эту информацию при размещении объявления), есть очень большие значения (максимальное 100 метров), возможно, ошибка во время внесения данных пользователем, тип данных (float64) менять не нужно.\n",
    " \n",
    " 6 floors_total - Всего этажей в доме. Есть пропущенные значения, тип данных (float64) нужно сменить на int64.\n",
    " \n",
    " 7 living_area - Жилая площадь в квадратных метрах. Есть пропущенные значения, имеются очень маленькие значения( вероятно, ошибка внесения данных), тип данных (float64) менять не нужно.\n",
    " \n",
    " 8  floor - Этаж. Пустых ячеек нет, тип данных (int64) менять не нужно.\n",
    " \n",
    " 9 kitchen_area - Площадь кухни в квадратных метрах. Есть пропущенные значения, есть очень маленькие значения(вероятно ошибка при внесении данных пользователем) , тип данных (float64) менять не нужно.\n",
    " \n",
    " 10 balcony - число балконов. Большое количество пропущенных значений, ( нужно проанализировать, возможно балконов нет) тип данных (float64) нужно сменить на int64.\n",
    " \n",
    " 11 airports_nearest - расстояние до ближайшего аэропорта в метрах. Есть пропущенные значения, тип float64 менять не нужно.\n",
    " \n",
    " 12 cityCenters_nearest - расстояние до центра города. Есть пропущенные значения, тип float64 менять не нужно.\n",
    " \n",
    " 13 parks_around3000 - число парков в радиусе 3 км. Есть пропущенные значения, тип данных (float64) нужно сменить на int64.\n",
    " \n",
    " 14 parks_nearest - расстояние до ближайшего парка. Большое количество пропущенных значений, тип float64 менять не нужно.\n",
    " \n",
    " 15 ponds_around3000 - число водоемов в радиусе 3 км. Есть пропущенные значения, тип данных (float64) нужно сменить на int64.\n",
    " \n",
    " 16 ponds_nearest - расстояние до ближайшего водоема. Большое количество пропущенных значений, значения в [13, 1344], тип float64 менять не нужно.\n",
    " \n",
    " 17 days_exposition - Сколько дней было размещено объявление. Есть пропущенные значения, тип данных (float64) нужно сменить на int64.\n",
    " \n",
    " 18 first_day_exposition - дата публикации. Пустых ячеек нет, тип данных (object) нужно сменить на datetime.\n",
    " \n",
    " 19 is_apartment - апартаменты. В большей части объявлений пустые значения, тип данных (object) нужно сменить на bool.\n",
    " \n",
    " 20 locality_name - названия населенного пункта. Есть пропущенные значения, уникальных значений 364, нужно убедиться в их уникальности( есть ли логические повторы), тип object менять не нужно.\n",
    " \n",
    " 21 open_plan - свободная планировка. Пустых ячеек нет, тип данных (bool) менять не нужно.\n",
    " \n",
    " 22 studio -  квартира- студия. Пустых ячеек нет, тип данных (bool) менять не нужно.\n"
   ]
  },
  {
   "cell_type": "markdown",
   "metadata": {},
   "source": [
    "### Предобработка данных"
   ]
  },
  {
   "cell_type": "markdown",
   "metadata": {},
   "source": [
    "Преобразуем столбец last_price, так как в нем есть подозрительно низкие значения."
   ]
  },
  {
   "cell_type": "code",
   "execution_count": 7,
   "metadata": {},
   "outputs": [
    {
     "data": {
      "text/plain": [
       "8793         12190.0\n",
       "17456       430000.0\n",
       "14911       430000.0\n",
       "16274       440000.0\n",
       "17676       450000.0\n",
       "            ...     \n",
       "15651    300000000.0\n",
       "1436     330000000.0\n",
       "14706    401300000.0\n",
       "19540    420000000.0\n",
       "12971    763000000.0\n",
       "Name: last_price, Length: 23699, dtype: float64"
      ]
     },
     "execution_count": 7,
     "metadata": {},
     "output_type": "execute_result"
    }
   ],
   "source": [
    "data['last_price'].sort_values()"
   ]
  },
  {
   "cell_type": "code",
   "execution_count": 8,
   "metadata": {},
   "outputs": [],
   "source": [
    "data.loc[8793, 'last_price'] = data.loc[8793, 'last_price'] * 1000"
   ]
  },
  {
   "cell_type": "code",
   "execution_count": 9,
   "metadata": {},
   "outputs": [
    {
     "data": {
      "text/plain": [
       "count    2.369900e+04\n",
       "mean     6.542063e+06\n",
       "std      1.088699e+07\n",
       "min      4.300000e+05\n",
       "25%      3.400000e+06\n",
       "50%      4.650000e+06\n",
       "75%      6.800000e+06\n",
       "max      7.630000e+08\n",
       "Name: last_price, dtype: float64"
      ]
     },
     "execution_count": 9,
     "metadata": {},
     "output_type": "execute_result"
    }
   ],
   "source": [
    "data['last_price'].describe()"
   ]
  },
  {
   "cell_type": "markdown",
   "metadata": {},
   "source": [
    "Скорее всего была допущена ошибка пользователем, при заполнении данных о цене. Преобразовали в единый формат числа. Вывели общую информацию о столбце."
   ]
  },
  {
   "cell_type": "markdown",
   "metadata": {},
   "source": [
    "Преобразуем столбец first_day_exposition на тип datetime."
   ]
  },
  {
   "cell_type": "code",
   "execution_count": 10,
   "metadata": {},
   "outputs": [],
   "source": [
    "data['first_day_exposition'] = pd.to_datetime(data['first_day_exposition'], format='%Y-%m-%dT%')"
   ]
  },
  {
   "cell_type": "code",
   "execution_count": 11,
   "metadata": {},
   "outputs": [
    {
     "data": {
      "text/plain": [
       "0   2019-03-07\n",
       "1   2018-12-04\n",
       "2   2015-08-20\n",
       "3   2015-07-24\n",
       "4   2018-06-19\n",
       "Name: first_day_exposition, dtype: datetime64[ns]"
      ]
     },
     "execution_count": 11,
     "metadata": {},
     "output_type": "execute_result"
    }
   ],
   "source": [
    "data['first_day_exposition'].head()"
   ]
  },
  {
   "cell_type": "markdown",
   "metadata": {},
   "source": [
    "Посмотрим столбец rooms, предположим, сколько квартир студий."
   ]
  },
  {
   "cell_type": "code",
   "execution_count": 12,
   "metadata": {},
   "outputs": [
    {
     "data": {
      "text/plain": [
       "197"
      ]
     },
     "execution_count": 12,
     "metadata": {},
     "output_type": "execute_result"
    }
   ],
   "source": [
    "sum(data['rooms'] == 0)"
   ]
  },
  {
   "cell_type": "markdown",
   "metadata": {},
   "source": [
    "Посмотрим столбец ceiling_height и его уникальные значения. Можно увидеть, что есть не правдоподобные значения ( начинаются с 6 м), пропущенные, значения а так же равные 100, 1.2, 1 удалим. Значения в [20, 32] преобразуем, это скорее всего, ошибка единицы измерения, допущенная при внесении данных. Пустые значения, которые скорее всего появились, в результате ошибки пользователя при заполнении, заменим медианным значением по столбцу."
   ]
  },
  {
   "cell_type": "code",
   "execution_count": 13,
   "metadata": {},
   "outputs": [
    {
     "data": {
      "text/plain": [
       "<AxesSubplot:>"
      ]
     },
     "execution_count": 13,
     "metadata": {},
     "output_type": "execute_result"
    },
    {
     "data": {
      "image/png": "[encoded data removed]",
      "text/plain": [
       "<Figure size 1800x720 with 3 Axes>"
      ]
     },
     "metadata": {
      "needs_background": "light"
     },
     "output_type": "display_data"
    }
   ],
   "source": [
    "mi.bar(data)"
   ]
  },
  {
   "cell_type": "code",
   "execution_count": 14,
   "metadata": {},
   "outputs": [
    {
     "data": {
      "text/plain": [
       "array([  2.7 ,    nan,   3.03,   2.5 ,   2.67,   2.56,   3.05,   2.75,\n",
       "         2.6 ,   2.9 ,   2.8 ,   2.55,   3.  ,   2.65,   3.2 ,   2.61,\n",
       "         3.25,   3.45,   2.77,   2.85,   2.64,   2.57,   4.15,   3.5 ,\n",
       "         3.3 ,   2.71,   4.  ,   2.47,   2.73,   2.84,   3.1 ,   2.34,\n",
       "         3.4 ,   3.06,   2.72,   2.54,   2.51,   2.78,   2.76,  25.  ,\n",
       "         2.58,   3.7 ,   2.52,   5.2 ,   2.87,   2.66,   2.59,   2.  ,\n",
       "         2.45,   3.6 ,   2.92,   3.11,   3.13,   3.8 ,   3.15,   3.55,\n",
       "         3.16,   3.62,   3.12,   2.53,   2.74,   2.96,   2.46,   5.3 ,\n",
       "         5.  ,   2.79,   2.95,   4.06,   2.94,   3.82,   3.54,   3.53,\n",
       "         2.83,   4.7 ,   2.4 ,   3.38,   3.01,   5.6 ,   3.65,   3.9 ,\n",
       "         3.18,   3.35,   2.3 ,   3.57,   2.48,   2.62,   2.82,   3.98,\n",
       "         2.63,   3.83,   3.52,   3.95,   3.75,   2.88,   3.67,   3.87,\n",
       "         3.66,   3.85,   3.86,   4.19,   3.24,   4.8 ,   4.5 ,   4.2 ,\n",
       "         3.36,  32.  ,   3.08,   3.68,   3.07,   3.37,   3.09,   8.  ,\n",
       "         3.26,   3.34,   2.81,   3.44,   2.97,   3.14,   4.37,   2.68,\n",
       "         3.22,   3.27,  27.  ,   4.1 ,   2.93,   3.46,  24.  ,   3.47,\n",
       "         3.33,   3.63,   3.32,  26.  ,   1.2 ,   8.3 ,   2.98,   2.86,\n",
       "         3.17,   4.4 ,   3.28,   3.04,   4.45,   5.5 ,   3.84,   3.23,\n",
       "         3.02,   3.21,   3.43,   3.78,   4.3 ,   3.39,   2.69,   3.31,\n",
       "         4.65,   3.56,   2.2 ,   3.51,   3.93,   3.42,   2.99,   3.49,\n",
       "        14.  ,   4.14,   2.91,   3.88,   1.75,   4.25,   3.29,  20.  ,\n",
       "         2.25,   3.76,   3.69,   6.  ,  22.6 ,   2.89,   3.58,   5.8 ,\n",
       "        27.5 ,   2.49,   4.9 ,   3.48,  10.3 ,   1.  , 100.  ,   3.59])"
      ]
     },
     "execution_count": 14,
     "metadata": {},
     "output_type": "execute_result"
    }
   ],
   "source": [
    "data['ceiling_height'].unique()"
   ]
  },
  {
   "cell_type": "code",
   "execution_count": 15,
   "metadata": {},
   "outputs": [
    {
     "data": {
      "text/plain": [
       "3474       8.0\n",
       "17442      8.0\n",
       "15743      8.0\n",
       "5863       8.3\n",
       "22309     10.3\n",
       "15061     14.0\n",
       "17496     20.0\n",
       "20507     22.6\n",
       "5076      24.0\n",
       "355       25.0\n",
       "18545     25.0\n",
       "11285     25.0\n",
       "14382     25.0\n",
       "9379      25.0\n",
       "6246      25.0\n",
       "4643      25.0\n",
       "5669      26.0\n",
       "5807      27.0\n",
       "5246      27.0\n",
       "17857     27.0\n",
       "4876      27.0\n",
       "20478     27.0\n",
       "21824     27.0\n",
       "10773     27.0\n",
       "22938     27.0\n",
       "21377     27.5\n",
       "3148      32.0\n",
       "22336     32.0\n",
       "22869    100.0\n",
       "Name: ceiling_height, dtype: float64"
      ]
     },
     "execution_count": 15,
     "metadata": {},
     "output_type": "execute_result"
    }
   ],
   "source": [
    "data[data['ceiling_height'] > 6]['ceiling_height'].sort_values()"
   ]
  },
  {
   "cell_type": "code",
   "execution_count": 16,
   "metadata": {},
   "outputs": [
    {
     "data": {
      "text/plain": [
       "22590    1.0\n",
       "5712     1.2\n",
       "Name: ceiling_height, dtype: float64"
      ]
     },
     "execution_count": 16,
     "metadata": {},
     "output_type": "execute_result"
    }
   ],
   "source": [
    "data[data['ceiling_height'] < 1.5]['ceiling_height'].sort_values()"
   ]
  },
  {
   "cell_type": "code",
   "execution_count": 17,
   "metadata": {},
   "outputs": [
    {
     "data": {
      "text/plain": [
       "(23690, 22)"
      ]
     },
     "execution_count": 17,
     "metadata": {},
     "output_type": "execute_result"
    }
   ],
   "source": [
    "data.drop(data[(data['ceiling_height'] < 1.5) |\n",
    "               ((data['ceiling_height'] > 6) & (data['ceiling_height'] < 20)) |\n",
    "               (data['ceiling_height'] == 100)].index, inplace=True) #отфильтруем лишнии строки с неподходящей высотой\n",
    "data.shape #проверим, сработала ли фильтрация"
   ]
  },
  {
   "cell_type": "code",
   "execution_count": 18,
   "metadata": {},
   "outputs": [
    {
     "data": {
      "text/plain": [
       "Int64Index([  355,  3148,  4643,  4876,  5076,  5246,  5669,  5807,  6246,\n",
       "             9379, 10773, 11285, 14382, 17496, 17857, 18545, 20478, 20507,\n",
       "            21377, 21824, 22336, 22938],\n",
       "           dtype='int64')"
      ]
     },
     "execution_count": 18,
     "metadata": {},
     "output_type": "execute_result"
    }
   ],
   "source": [
    "ceiling_height_new = data[(data['ceiling_height'] >= 20) & (data['ceiling_height'] <= 32)].index\n",
    "ceiling_height_new"
   ]
  },
  {
   "cell_type": "code",
   "execution_count": 19,
   "metadata": {},
   "outputs": [],
   "source": [
    "data.loc[ceiling_height_new, 'ceiling_height'] = data.loc[ceiling_height_new, 'ceiling_height'] / 10 #преобразуем значения к единому виду"
   ]
  },
  {
   "cell_type": "code",
   "execution_count": 20,
   "metadata": {},
   "outputs": [
    {
     "data": {
      "text/plain": [
       "count    14495.000000\n",
       "mean         2.726556\n",
       "std          0.278811\n",
       "min          1.750000\n",
       "25%          2.510000\n",
       "50%          2.650000\n",
       "75%          2.800000\n",
       "max          6.000000\n",
       "Name: ceiling_height, dtype: float64"
      ]
     },
     "execution_count": 20,
     "metadata": {},
     "output_type": "execute_result"
    }
   ],
   "source": [
    "data.ceiling_height.describe()"
   ]
  },
  {
   "cell_type": "code",
   "execution_count": 21,
   "metadata": {},
   "outputs": [
    {
     "data": {
      "text/plain": [
       "2.65"
      ]
     },
     "execution_count": 21,
     "metadata": {},
     "output_type": "execute_result"
    }
   ],
   "source": [
    "ceiling_height_median = data['ceiling_height'].median() #заполним пропуски медианым значением, она менее подвержина выбросам\n",
    "ceiling_height_median"
   ]
  },
  {
   "cell_type": "code",
   "execution_count": 22,
   "metadata": {},
   "outputs": [
    {
     "data": {
      "text/plain": [
       "0"
      ]
     },
     "execution_count": 22,
     "metadata": {},
     "output_type": "execute_result"
    }
   ],
   "source": [
    "data['ceiling_height'].fillna(ceiling_height_median, inplace=True) #добавим медианые значения в таблицу\n",
    "data['ceiling_height'].isna().sum() #проверим, действительно ли избавились от пропусков"
   ]
  },
  {
   "cell_type": "markdown",
   "metadata": {},
   "source": [
    "Столбец floors_total нужна преобразовать на тип int64. Заполнить пропуски медианными значениями floors_total для групп полученных по floor. Данные могут отсутствуют по причине необязательности заполнения этих столбцов пользователем."
   ]
  },
  {
   "cell_type": "code",
   "execution_count": 23,
   "metadata": {},
   "outputs": [
    {
     "data": {
      "text/plain": [
       "86"
      ]
     },
     "execution_count": 23,
     "metadata": {},
     "output_type": "execute_result"
    }
   ],
   "source": [
    "data['floors_total'].isna().sum() #посмотрим сколько пропусков в столбце"
   ]
  },
  {
   "cell_type": "code",
   "execution_count": 24,
   "metadata": {},
   "outputs": [
    {
     "data": {
      "text/plain": [
       "0"
      ]
     },
     "execution_count": 24,
     "metadata": {},
     "output_type": "execute_result"
    }
   ],
   "source": [
    "data['floors_total'].fillna(data.groupby('floor')['floors_total'].transform('median'), inplace=True) #преобразуем таблицу, сгруппировав по колличеству комнат, и заполним пропуски мединным значением\n",
    "data['floors_total'].isna().sum() #убедимся, что пропусков не осталось"
   ]
  },
  {
   "cell_type": "code",
   "execution_count": 25,
   "metadata": {},
   "outputs": [
    {
     "data": {
      "text/plain": [
       "0    16\n",
       "1    11\n",
       "2     5\n",
       "3    14\n",
       "4    14\n",
       "Name: floors_total, dtype: int64"
      ]
     },
     "execution_count": 25,
     "metadata": {},
     "output_type": "execute_result"
    }
   ],
   "source": [
    "data['floors_total'] = data['floors_total'].astype('int64') #преобразуем данные в целочисленный формат\n",
    "data['floors_total'].head()"
   ]
  },
  {
   "cell_type": "markdown",
   "metadata": {},
   "source": [
    "living_area и kitchen_area - Скорее всего эти поля необязательны для заполнения, заполним пропуски средним значением."
   ]
  },
  {
   "cell_type": "code",
   "execution_count": 26,
   "metadata": {},
   "outputs": [
    {
     "data": {
      "text/plain": [
       "1903"
      ]
     },
     "execution_count": 26,
     "metadata": {},
     "output_type": "execute_result"
    }
   ],
   "source": [
    "data['living_area'].isna().sum() #посмотрим количество пропусков"
   ]
  },
  {
   "cell_type": "code",
   "execution_count": 27,
   "metadata": {},
   "outputs": [
    {
     "data": {
      "text/plain": [
       "1464"
      ]
     },
     "execution_count": 27,
     "metadata": {},
     "output_type": "execute_result"
    }
   ],
   "source": [
    "data['living_area'].fillna(data['total_area'] - data['kitchen_area'], inplace=True) #заполним пропущенные значения столбца 'living_area' разностью между значениями столбца 'total_area' и 'kitchen_area', а затем подсчитывает количество оставшихся пропущенных значений.\n",
    "data['living_area'].isna().sum()"
   ]
  },
  {
   "cell_type": "code",
   "execution_count": 28,
   "metadata": {},
   "outputs": [
    {
     "data": {
      "text/plain": [
       "0"
      ]
     },
     "execution_count": 28,
     "metadata": {},
     "output_type": "execute_result"
    }
   ],
   "source": [
    "data['living_area'].fillna(data['total_area'] / (data['rooms'] + 1) * data['rooms'], inplace=True) #если отсудвуют оба значения, то заполним его +1 от общего числа комнат\n",
    "data['living_area'].isna().sum()"
   ]
  },
  {
   "cell_type": "code",
   "execution_count": 29,
   "metadata": {},
   "outputs": [
    {
     "data": {
      "text/plain": [
       "2276"
      ]
     },
     "execution_count": 29,
     "metadata": {},
     "output_type": "execute_result"
    }
   ],
   "source": [
    "data['kitchen_area'].isna().sum() #посмотрим пропуски в столбце площади кухни"
   ]
  },
  {
   "cell_type": "code",
   "execution_count": 30,
   "metadata": {},
   "outputs": [
    {
     "data": {
      "text/plain": [
       "0"
      ]
     },
     "execution_count": 30,
     "metadata": {},
     "output_type": "execute_result"
    }
   ],
   "source": [
    "data['kitchen_area'].fillna(data['total_area'] - data['living_area'], inplace=True) #заполним пропуски, отношением общей площади квартиры к жилой площади\n",
    "data['kitchen_area'].isna().sum() #проверим все ли пропущеные значения устранили"
   ]
  },
  {
   "cell_type": "markdown",
   "metadata": {},
   "source": [
    "is_apartment - Много пропущенных значений, скорее всего связаны с незнанием пользователей, о категории апартаменты, те кто понимал, заполнил эту графу, но скорее всего она была на обязательна. Изменим тип данных object на bool."
   ]
  },
  {
   "cell_type": "code",
   "execution_count": 31,
   "metadata": {},
   "outputs": [
    {
     "data": {
      "text/plain": [
       "False    2724\n",
       "True       49\n",
       "Name: is_apartment, dtype: int64"
      ]
     },
     "execution_count": 31,
     "metadata": {},
     "output_type": "execute_result"
    }
   ],
   "source": [
    "data['is_apartment'].value_counts() #посмотрим количество пропусков в формате False и True"
   ]
  },
  {
   "cell_type": "code",
   "execution_count": 32,
   "metadata": {},
   "outputs": [],
   "source": [
    "data['is_apartment'] = data['is_apartment'].astype('bool')"
   ]
  },
  {
   "cell_type": "code",
   "execution_count": 33,
   "metadata": {},
   "outputs": [
    {
     "data": {
      "text/plain": [
       "0        True\n",
       "1        True\n",
       "2        True\n",
       "3        True\n",
       "4        True\n",
       "         ... \n",
       "23694    True\n",
       "23695    True\n",
       "23696    True\n",
       "23697    True\n",
       "23698    True\n",
       "Name: is_apartment, Length: 23690, dtype: bool"
      ]
     },
     "execution_count": 33,
     "metadata": {},
     "output_type": "execute_result"
    }
   ],
   "source": [
    "data['is_apartment']"
   ]
  },
  {
   "cell_type": "markdown",
   "metadata": {},
   "source": [
    "balcony - пропущенные значений возникли, потому что пользователи не имеющие балкон не заполнили значение, заполним пропуски на 0, тип данных (float64) сменим на int64."
   ]
  },
  {
   "cell_type": "code",
   "execution_count": 34,
   "metadata": {},
   "outputs": [
    {
     "data": {
      "text/plain": [
       "11514"
      ]
     },
     "execution_count": 34,
     "metadata": {},
     "output_type": "execute_result"
    }
   ],
   "source": [
    "data['balcony'].isna().sum() #посмотрим число пропусков"
   ]
  },
  {
   "cell_type": "code",
   "execution_count": 35,
   "metadata": {},
   "outputs": [
    {
     "data": {
      "text/plain": [
       "0"
      ]
     },
     "execution_count": 35,
     "metadata": {},
     "output_type": "execute_result"
    }
   ],
   "source": [
    "data['balcony'].fillna(0, inplace=True) #заменим пропуски на 0, убедимся, что пропусков нет\n",
    "data['balcony'].isna().sum()"
   ]
  },
  {
   "cell_type": "code",
   "execution_count": 36,
   "metadata": {},
   "outputs": [
    {
     "data": {
      "text/plain": [
       "0        0\n",
       "1        2\n",
       "2        0\n",
       "3        0\n",
       "4        0\n",
       "        ..\n",
       "23694    0\n",
       "23695    0\n",
       "23696    0\n",
       "23697    2\n",
       "23698    0\n",
       "Name: balcony, Length: 23690, dtype: int64"
      ]
     },
     "execution_count": 36,
     "metadata": {},
     "output_type": "execute_result"
    }
   ],
   "source": [
    "data['balcony'] = data['balcony'].astype('int64') #изменим тип данных на челочисленый.\n",
    "data['balcony']"
   ]
  },
  {
   "cell_type": "markdown",
   "metadata": {},
   "source": [
    "locality_name уменьшаем количество уникальных населенных пунктов отбросив тип населенных пунктов. Можно найти строки с airports_nearest и cityCenters_nearest такими же как для пропущеного, но с заполненым названием населенного пункта и заполнить часть пустых значений"
   ]
  },
  {
   "cell_type": "code",
   "execution_count": 37,
   "metadata": {},
   "outputs": [
    {
     "data": {
      "text/plain": [
       "364"
      ]
     },
     "execution_count": 37,
     "metadata": {},
     "output_type": "execute_result"
    }
   ],
   "source": [
    "data['locality_name'].nunique() #посмотрим сколько уникальных наименований "
   ]
  },
  {
   "cell_type": "code",
   "execution_count": 38,
   "metadata": {},
   "outputs": [
    {
     "data": {
      "text/plain": [
       "364"
      ]
     },
     "execution_count": 38,
     "metadata": {},
     "output_type": "execute_result"
    }
   ],
   "source": [
    "data['locality_name'] = data['locality_name'].str.lower() #преобразуем все к единому регистру\n",
    "data['locality_name'].nunique()"
   ]
  },
  {
   "cell_type": "code",
   "execution_count": 39,
   "metadata": {},
   "outputs": [
    {
     "data": {
      "text/plain": [
       "['бокситогорск',\n",
       " 'волосово',\n",
       " 'волхов',\n",
       " 'всеволожск',\n",
       " 'выборг',\n",
       " 'высоцк',\n",
       " 'гатчина',\n",
       " 'городской поселок большая ижора',\n",
       " 'городской поселок янино-1',\n",
       " 'городской посёлок будогощь',\n",
       " 'городской посёлок виллози',\n",
       " 'городской посёлок лесогорский',\n",
       " 'городской посёлок мга',\n",
       " 'городской посёлок назия',\n",
       " 'городской посёлок новоселье',\n",
       " 'городской посёлок павлово',\n",
       " 'городской посёлок рощино',\n",
       " 'городской посёлок свирьстрой',\n",
       " 'городской посёлок советский',\n",
       " 'городской посёлок фёдоровское',\n",
       " 'городской посёлок янино-1',\n",
       " 'деревня агалатово',\n",
       " 'деревня аро',\n",
       " 'деревня батово',\n",
       " 'деревня бегуницы',\n",
       " 'деревня белогорка',\n",
       " 'деревня большая вруда',\n",
       " 'деревня большая пустомержа',\n",
       " 'деревня большие колпаны',\n",
       " 'деревня большое рейзино',\n",
       " 'деревня большой сабск',\n",
       " 'деревня бор',\n",
       " 'деревня борисова грива',\n",
       " 'деревня ваганово',\n",
       " 'деревня вартемяги',\n",
       " 'деревня вахнова кара',\n",
       " 'деревня выскатка',\n",
       " 'деревня гарболово',\n",
       " 'деревня глинка',\n",
       " 'деревня горбунки',\n",
       " 'деревня гостилицы',\n",
       " 'деревня заклинье',\n",
       " 'деревня заневка',\n",
       " 'деревня зимитицы',\n",
       " 'деревня извара',\n",
       " 'деревня иссад',\n",
       " 'деревня калитино',\n",
       " 'деревня кальтино',\n",
       " 'деревня камышовка',\n",
       " 'деревня каськово',\n",
       " 'деревня келози',\n",
       " 'деревня кипень',\n",
       " 'деревня кисельня',\n",
       " 'деревня колтуши',\n",
       " 'деревня коркино',\n",
       " 'деревня котлы',\n",
       " 'деревня кривко',\n",
       " 'деревня кудрово',\n",
       " 'деревня кузьмолово',\n",
       " 'деревня курковицы',\n",
       " 'деревня куровицы',\n",
       " 'деревня куттузи',\n",
       " 'деревня лаврики',\n",
       " 'деревня лаголово',\n",
       " 'деревня лампово',\n",
       " 'деревня лесколово',\n",
       " 'деревня лопухинка',\n",
       " 'деревня лупполово',\n",
       " 'деревня малая романовка',\n",
       " 'деревня малое верево',\n",
       " 'деревня малое карлино',\n",
       " 'деревня малые колпаны',\n",
       " 'деревня мануйлово',\n",
       " 'деревня меньково',\n",
       " 'деревня мины',\n",
       " 'деревня мистолово',\n",
       " 'деревня ненимяки',\n",
       " 'деревня нижние осельки',\n",
       " 'деревня нижняя',\n",
       " 'деревня низино',\n",
       " 'деревня новое девяткино',\n",
       " 'деревня новолисино',\n",
       " 'деревня нурма',\n",
       " 'деревня оржицы',\n",
       " 'деревня парицы',\n",
       " 'деревня пельгора',\n",
       " 'деревня пеники',\n",
       " 'деревня пижма',\n",
       " 'деревня пикколово',\n",
       " 'деревня пудомяги',\n",
       " 'деревня пустынка',\n",
       " 'деревня пчева',\n",
       " 'деревня рабитицы',\n",
       " 'деревня разбегаево',\n",
       " 'деревня раздолье',\n",
       " 'деревня разметелево',\n",
       " 'деревня рапполово',\n",
       " 'деревня реброво',\n",
       " 'деревня русско',\n",
       " 'деревня сижно',\n",
       " 'деревня снегирёвка',\n",
       " 'деревня старая',\n",
       " 'деревня старая пустошь',\n",
       " 'деревня старое хинколово',\n",
       " 'деревня старополье',\n",
       " 'деревня старосиверская',\n",
       " 'деревня старые бегуницы',\n",
       " 'деревня суоранда',\n",
       " 'деревня сяськелево',\n",
       " 'деревня тарасово',\n",
       " 'деревня терпилицы',\n",
       " 'деревня тихковицы',\n",
       " 'деревня тойворово',\n",
       " 'деревня торосово',\n",
       " 'деревня торошковичи',\n",
       " 'деревня трубников бор',\n",
       " 'деревня фалилеево',\n",
       " 'деревня фёдоровское',\n",
       " 'деревня хапо-ое',\n",
       " 'деревня хязельки',\n",
       " 'деревня чудской бор',\n",
       " 'деревня шпаньково',\n",
       " 'деревня щеглово',\n",
       " 'деревня юкки',\n",
       " 'деревня ялгино',\n",
       " 'деревня яльгелево',\n",
       " 'деревня ям-тесово',\n",
       " 'зеленогорск',\n",
       " 'ивангород',\n",
       " 'каменногорск',\n",
       " 'кингисепп',\n",
       " 'кириши',\n",
       " 'кировск',\n",
       " 'колпино',\n",
       " 'коммунар',\n",
       " 'коттеджный поселок кивеннапа север',\n",
       " 'коттеджный поселок счастье',\n",
       " 'коттеджный посёлок лесное',\n",
       " 'красное село',\n",
       " 'кронштадт',\n",
       " 'кудрово',\n",
       " 'лодейное поле',\n",
       " 'ломоносов',\n",
       " 'луга',\n",
       " 'любань',\n",
       " 'мурино',\n",
       " 'никольское',\n",
       " 'новая ладога',\n",
       " 'отрадное',\n",
       " 'павловск',\n",
       " 'петергоф',\n",
       " 'пикалёво',\n",
       " 'подпорожье',\n",
       " 'поселок аннино',\n",
       " 'поселок барышево',\n",
       " 'поселок бугры',\n",
       " 'поселок возрождение',\n",
       " 'поселок войсковицы',\n",
       " 'поселок володарское',\n",
       " 'поселок гаврилово',\n",
       " 'поселок гарболово',\n",
       " 'поселок гладкое',\n",
       " 'поселок глажево',\n",
       " 'поселок глебычево',\n",
       " 'поселок гончарово',\n",
       " 'поселок городского типа большая ижора',\n",
       " 'поселок городского типа вырица',\n",
       " 'поселок городского типа дружная горка',\n",
       " 'поселок городского типа дубровка',\n",
       " 'поселок городского типа ефимовский',\n",
       " 'поселок городского типа имени свердлова',\n",
       " 'поселок городского типа кондратьево',\n",
       " 'поселок городского типа красный бор',\n",
       " 'поселок городского типа кузьмоловский',\n",
       " 'поселок городского типа лебяжье',\n",
       " 'поселок городского типа лесогорский',\n",
       " 'поселок городского типа назия',\n",
       " 'поселок городского типа никольский',\n",
       " 'поселок городского типа приладожский',\n",
       " 'поселок городского типа рахья',\n",
       " 'поселок городского типа рощино',\n",
       " 'поселок городского типа рябово',\n",
       " 'поселок городского типа синявино',\n",
       " 'поселок городского типа советский',\n",
       " 'поселок городского типа токсово',\n",
       " 'поселок городского типа форносово',\n",
       " 'поселок громово',\n",
       " 'поселок дружноселье',\n",
       " 'поселок елизаветино',\n",
       " 'поселок жилгородок',\n",
       " 'поселок жилпосёлок',\n",
       " 'поселок житково',\n",
       " 'поселок заводской',\n",
       " 'поселок запорожское',\n",
       " 'поселок зимитицы',\n",
       " 'поселок ильичёво',\n",
       " 'поселок калитино',\n",
       " 'поселок каложицы',\n",
       " 'поселок кингисеппский',\n",
       " 'поселок кирпичное',\n",
       " 'поселок кобралово',\n",
       " 'поселок кобринское',\n",
       " 'поселок коммунары',\n",
       " 'поселок коробицыно',\n",
       " 'поселок котельский',\n",
       " 'поселок красная долина',\n",
       " 'поселок красносельское',\n",
       " 'поселок лесное',\n",
       " 'поселок лисий нос',\n",
       " 'поселок лукаши',\n",
       " 'поселок любань',\n",
       " 'поселок мельниково',\n",
       " 'поселок мичуринское',\n",
       " 'поселок молодцово',\n",
       " 'поселок мурино',\n",
       " 'поселок новый свет',\n",
       " 'поселок новый учхоз',\n",
       " 'поселок оредеж',\n",
       " 'поселок пансионат зелёный бор',\n",
       " 'поселок первомайское',\n",
       " 'поселок перово',\n",
       " 'поселок петровское',\n",
       " 'поселок победа',\n",
       " 'поселок поляны',\n",
       " 'поселок почап',\n",
       " 'поселок починок',\n",
       " 'поселок пушное',\n",
       " 'поселок пчевжа',\n",
       " 'поселок рабитицы',\n",
       " 'поселок романовка',\n",
       " 'поселок ромашки',\n",
       " 'поселок рябово',\n",
       " 'поселок севастьяново',\n",
       " 'поселок селезнёво',\n",
       " 'поселок сельцо',\n",
       " 'поселок семиозерье',\n",
       " 'поселок семрино',\n",
       " 'поселок серебрянский',\n",
       " 'поселок совхозный',\n",
       " 'поселок станции вещево',\n",
       " 'поселок станции корнево',\n",
       " 'поселок станции лужайка',\n",
       " 'поселок станции приветнинское',\n",
       " 'поселок старая малукса',\n",
       " 'поселок стеклянный',\n",
       " 'поселок сумино',\n",
       " 'поселок суходолье',\n",
       " 'поселок тельмана',\n",
       " 'поселок терволово',\n",
       " 'поселок торковичи',\n",
       " 'поселок тёсово-4',\n",
       " 'поселок углово',\n",
       " 'поселок усть-луга',\n",
       " 'поселок ушаки',\n",
       " 'поселок цвелодубово',\n",
       " 'поселок цвылёво',\n",
       " 'посёлок александровская',\n",
       " 'посёлок алексеевка',\n",
       " 'посёлок аннино',\n",
       " 'посёлок белоостров',\n",
       " 'посёлок бугры',\n",
       " 'посёлок возрождение',\n",
       " 'посёлок войскорово',\n",
       " 'посёлок высокоключевой',\n",
       " 'посёлок гаврилово',\n",
       " 'посёлок городского типа важины',\n",
       " 'посёлок городского типа вознесенье',\n",
       " 'посёлок городского типа вырица',\n",
       " 'посёлок городского типа имени морозова',\n",
       " 'посёлок городского типа имени свердлова',\n",
       " 'посёлок городского типа красный бор',\n",
       " 'посёлок городского типа кузнечное',\n",
       " 'посёлок городского типа кузьмоловский',\n",
       " 'посёлок городского типа лебяжье',\n",
       " 'посёлок городского типа мга',\n",
       " 'посёлок городского типа павлово',\n",
       " 'посёлок городского типа рощино',\n",
       " 'посёлок городского типа рябово',\n",
       " 'посёлок городского типа сиверский',\n",
       " 'посёлок городского типа тайцы',\n",
       " 'посёлок городского типа токсово',\n",
       " 'посёлок городского типа ульяновка',\n",
       " 'посёлок городского типа форносово',\n",
       " 'посёлок дзержинского',\n",
       " 'посёлок жилгородок',\n",
       " 'посёлок ильичёво',\n",
       " 'посёлок кикерино',\n",
       " 'посёлок кобралово',\n",
       " 'посёлок коробицыно',\n",
       " 'посёлок левашово',\n",
       " 'посёлок ленинское',\n",
       " 'посёлок лисий нос',\n",
       " 'посёлок мельниково',\n",
       " 'посёлок металлострой',\n",
       " 'посёлок мичуринское',\n",
       " 'посёлок молодёжное',\n",
       " 'посёлок мурино',\n",
       " 'посёлок мыза-ивановка',\n",
       " 'посёлок новогорелово',\n",
       " 'посёлок новый свет',\n",
       " 'посёлок пансионат зелёный бор',\n",
       " 'посёлок парголово',\n",
       " 'посёлок перово',\n",
       " 'посёлок песочный',\n",
       " 'посёлок петро-славянка',\n",
       " 'посёлок петровское',\n",
       " 'посёлок платформа 69-й километр',\n",
       " 'посёлок плодовое',\n",
       " 'посёлок плоское',\n",
       " 'посёлок победа',\n",
       " 'посёлок поляны',\n",
       " 'посёлок понтонный',\n",
       " 'посёлок при железнодорожной станции вещево',\n",
       " 'посёлок при железнодорожной станции приветнинское',\n",
       " 'посёлок пригородный',\n",
       " 'посёлок пудость',\n",
       " 'посёлок репино',\n",
       " 'посёлок ропша',\n",
       " 'посёлок сапёрное',\n",
       " 'посёлок сапёрный',\n",
       " 'посёлок сосново',\n",
       " 'посёлок станции громово',\n",
       " 'посёлок станции свирь',\n",
       " 'посёлок старая малукса',\n",
       " 'посёлок стеклянный',\n",
       " 'посёлок стрельна',\n",
       " 'посёлок суйда',\n",
       " 'посёлок сумино',\n",
       " 'посёлок тельмана',\n",
       " 'посёлок терволово',\n",
       " 'посёлок торфяное',\n",
       " 'посёлок усть-ижора',\n",
       " 'посёлок усть-луга',\n",
       " 'посёлок форт красная горка',\n",
       " 'посёлок шугозеро',\n",
       " 'посёлок шушары',\n",
       " 'посёлок щеглово',\n",
       " 'приморск',\n",
       " 'приозерск',\n",
       " 'пушкин',\n",
       " 'садоводческое некоммерческое товарищество лесная поляна',\n",
       " 'садовое товарищество новая ропша',\n",
       " 'садовое товарищество приладожский',\n",
       " 'садовое товарищество рахья',\n",
       " 'садовое товарищество садко',\n",
       " 'санкт-петербург',\n",
       " 'светогорск',\n",
       " 'село копорье',\n",
       " 'село никольское',\n",
       " 'село павлово',\n",
       " 'село паша',\n",
       " 'село путилово',\n",
       " 'село рождествено',\n",
       " 'село русско-высоцкое',\n",
       " 'село старая ладога',\n",
       " 'село шум',\n",
       " 'сертолово',\n",
       " 'сестрорецк',\n",
       " 'сланцы',\n",
       " 'сосновый бор',\n",
       " 'сясьстрой',\n",
       " 'тихвин',\n",
       " 'тосно',\n",
       " 'шлиссельбург']"
      ]
     },
     "execution_count": 39,
     "metadata": {},
     "output_type": "execute_result"
    }
   ],
   "source": [
    "sorted(data[~data['locality_name'].isna()]['locality_name'].unique())"
   ]
  },
  {
   "cell_type": "code",
   "execution_count": 40,
   "metadata": {},
   "outputs": [],
   "source": [
    "def locality_type_new(locality_name): #создадим функцию, которая отфильтрует повторяющиеся названия по типу населеного пункта, удалит их\n",
    "    locality_types = ['городской поселок ', \n",
    "                      'городской посёлок ',\n",
    "                      'деревня ',\n",
    "                      'коттеджный поселок ', \n",
    "                      'поселок ',\n",
    "                      'поселок городского типа ',\n",
    "                      'поселок станции ',\n",
    "                      'посёлок ',\n",
    "                      'посёлок городского типа ',\n",
    "                      'посёлок при железнодорожной станции ',\n",
    "                      'посёлок станции ',\n",
    "                      'садоводческое некоммерческое товарищество ',\n",
    "                      'садовое товарищество ',\n",
    "                      'село ', \n",
    "                      'станции ', \n",
    "                      'городского типа ', \n",
    "                      'при железнодорожной станции ',\n",
    "                      'коттеджный ',\n",
    "                      'при железнодорожной ']\n",
    "    try:\n",
    "        for locality_type in locality_types:\n",
    "            locality_name = locality_name.replace(locality_type, '')\n",
    "        return locality_name\n",
    "    except:\n",
    "        return locality_name"
   ]
  },
  {
   "cell_type": "code",
   "execution_count": 41,
   "metadata": {},
   "outputs": [
    {
     "data": {
      "text/plain": [
       "305"
      ]
     },
     "execution_count": 41,
     "metadata": {},
     "output_type": "execute_result"
    }
   ],
   "source": [
    "data['locality_name'] = data['locality_name'].apply(locality_type_new)\n",
    "data['locality_name'].nunique() #вставим рузультаты фильтрации, и посмотрим на сколько уменьшилось уникальных значений."
   ]
  },
  {
   "cell_type": "code",
   "execution_count": 42,
   "metadata": {},
   "outputs": [
    {
     "data": {
      "text/plain": [
       "['агалатово',\n",
       " 'александровская',\n",
       " 'алексеевка',\n",
       " 'аннино',\n",
       " 'аро',\n",
       " 'барышево',\n",
       " 'батово',\n",
       " 'бегуницы',\n",
       " 'белогорка',\n",
       " 'белоостров',\n",
       " 'бокситогорск',\n",
       " 'большая вруда',\n",
       " 'большая ижора',\n",
       " 'большая пустомержа',\n",
       " 'большие колпаны',\n",
       " 'большое рейзино',\n",
       " 'большой сабск',\n",
       " 'бор',\n",
       " 'борисова грива',\n",
       " 'бугры',\n",
       " 'будогощь',\n",
       " 'ваганово',\n",
       " 'важины',\n",
       " 'вартемяги',\n",
       " 'вахнова кара',\n",
       " 'вещево',\n",
       " 'виллози',\n",
       " 'вознесенье',\n",
       " 'возрождение',\n",
       " 'войсковицы',\n",
       " 'войскорово',\n",
       " 'володарское',\n",
       " 'волосово',\n",
       " 'волхов',\n",
       " 'всеволожск',\n",
       " 'выборг',\n",
       " 'вырица',\n",
       " 'выскатка',\n",
       " 'высокоключевой',\n",
       " 'высоцк',\n",
       " 'гаврилово',\n",
       " 'гарболово',\n",
       " 'гатчина',\n",
       " 'гладкое',\n",
       " 'глажево',\n",
       " 'глебычево',\n",
       " 'глинка',\n",
       " 'гончарово',\n",
       " 'горбунки',\n",
       " 'гостилицы',\n",
       " 'громово',\n",
       " 'дзержинского',\n",
       " 'дружная горка',\n",
       " 'дружноселье',\n",
       " 'дубровка',\n",
       " 'елизаветино',\n",
       " 'ефимовский',\n",
       " 'жилгородок',\n",
       " 'жилпосёлок',\n",
       " 'житково',\n",
       " 'заводской',\n",
       " 'заклинье',\n",
       " 'заневка',\n",
       " 'запорожское',\n",
       " 'зеленогорск',\n",
       " 'зимитицы',\n",
       " 'ивангород',\n",
       " 'извара',\n",
       " 'ильичёво',\n",
       " 'имени морозова',\n",
       " 'имени свердлова',\n",
       " 'иссад',\n",
       " 'калитино',\n",
       " 'каложицы',\n",
       " 'кальтино',\n",
       " 'каменногорск',\n",
       " 'камышовка',\n",
       " 'каськово',\n",
       " 'келози',\n",
       " 'кивеннапа север',\n",
       " 'кикерино',\n",
       " 'кингисепп',\n",
       " 'кингисеппский',\n",
       " 'кипень',\n",
       " 'кириши',\n",
       " 'кировск',\n",
       " 'кирпичное',\n",
       " 'кисельня',\n",
       " 'кобралово',\n",
       " 'кобринское',\n",
       " 'колпино',\n",
       " 'колтуши',\n",
       " 'коммунар',\n",
       " 'коммунары',\n",
       " 'кондратьево',\n",
       " 'копорье',\n",
       " 'коркино',\n",
       " 'корнево',\n",
       " 'коробицыно',\n",
       " 'котельский',\n",
       " 'котлы',\n",
       " 'красная долина',\n",
       " 'красное село',\n",
       " 'красносельское',\n",
       " 'красный бор',\n",
       " 'кривко',\n",
       " 'кронштадт',\n",
       " 'кудрово',\n",
       " 'кузнечное',\n",
       " 'кузьмолово',\n",
       " 'кузьмоловский',\n",
       " 'курковицы',\n",
       " 'куровицы',\n",
       " 'куттузи',\n",
       " 'лаврики',\n",
       " 'лаголово',\n",
       " 'лампово',\n",
       " 'лебяжье',\n",
       " 'левашово',\n",
       " 'ленинское',\n",
       " 'лесколово',\n",
       " 'лесная поляна',\n",
       " 'лесное',\n",
       " 'лесогорский',\n",
       " 'лисий нос',\n",
       " 'лодейное поле',\n",
       " 'ломоносов',\n",
       " 'лопухинка',\n",
       " 'луга',\n",
       " 'лужайка',\n",
       " 'лукаши',\n",
       " 'лупполово',\n",
       " 'любань',\n",
       " 'малая романовка',\n",
       " 'малое верево',\n",
       " 'малое карлино',\n",
       " 'малые колпаны',\n",
       " 'мануйлово',\n",
       " 'мга',\n",
       " 'мельниково',\n",
       " 'меньково',\n",
       " 'металлострой',\n",
       " 'мины',\n",
       " 'мистолово',\n",
       " 'мичуринское',\n",
       " 'молодцово',\n",
       " 'молодёжное',\n",
       " 'мурино',\n",
       " 'мыза-ивановка',\n",
       " 'назия',\n",
       " 'ненимяки',\n",
       " 'нижние осельки',\n",
       " 'нижняя',\n",
       " 'низино',\n",
       " 'никольский',\n",
       " 'никольское',\n",
       " 'новая ладога',\n",
       " 'новая ропша',\n",
       " 'новогорелово',\n",
       " 'новое девяткино',\n",
       " 'новолисино',\n",
       " 'новоселье',\n",
       " 'новый свет',\n",
       " 'новый учхоз',\n",
       " 'нурма',\n",
       " 'оредеж',\n",
       " 'оржицы',\n",
       " 'отрадное',\n",
       " 'павлово',\n",
       " 'павловск',\n",
       " 'пансионат зелёный бор',\n",
       " 'парголово',\n",
       " 'парицы',\n",
       " 'паша',\n",
       " 'пельгора',\n",
       " 'пеники',\n",
       " 'первомайское',\n",
       " 'перово',\n",
       " 'песочный',\n",
       " 'петергоф',\n",
       " 'петро-славянка',\n",
       " 'петровское',\n",
       " 'пижма',\n",
       " 'пикалёво',\n",
       " 'пикколово',\n",
       " 'платформа 69-й километр',\n",
       " 'плодовое',\n",
       " 'плоское',\n",
       " 'победа',\n",
       " 'подпорожье',\n",
       " 'поляны',\n",
       " 'понтонный',\n",
       " 'почап',\n",
       " 'починок',\n",
       " 'приветнинское',\n",
       " 'пригородный',\n",
       " 'приладожский',\n",
       " 'приморск',\n",
       " 'приозерск',\n",
       " 'пудомяги',\n",
       " 'пудость',\n",
       " 'пустынка',\n",
       " 'путилово',\n",
       " 'пушкин',\n",
       " 'пушное',\n",
       " 'пчева',\n",
       " 'пчевжа',\n",
       " 'рабитицы',\n",
       " 'разбегаево',\n",
       " 'раздолье',\n",
       " 'разметелево',\n",
       " 'рапполово',\n",
       " 'рахья',\n",
       " 'реброво',\n",
       " 'репино',\n",
       " 'рождествено',\n",
       " 'романовка',\n",
       " 'ромашки',\n",
       " 'ропша',\n",
       " 'рощино',\n",
       " 'русско',\n",
       " 'русско-высоцкое',\n",
       " 'рябово',\n",
       " 'садко',\n",
       " 'санкт-петербург',\n",
       " 'сапёрное',\n",
       " 'сапёрный',\n",
       " 'светогорск',\n",
       " 'свирь',\n",
       " 'свирьстрой',\n",
       " 'севастьяново',\n",
       " 'селезнёво',\n",
       " 'сельцо',\n",
       " 'семиозерье',\n",
       " 'семрино',\n",
       " 'серебрянский',\n",
       " 'сертолово',\n",
       " 'сестрорецк',\n",
       " 'сиверский',\n",
       " 'сижно',\n",
       " 'синявино',\n",
       " 'сланцы',\n",
       " 'снегирёвка',\n",
       " 'советский',\n",
       " 'совхозный',\n",
       " 'сосново',\n",
       " 'сосновый бор',\n",
       " 'старая',\n",
       " 'старая ладога',\n",
       " 'старая малукса',\n",
       " 'старая пустошь',\n",
       " 'старое хинколово',\n",
       " 'старополье',\n",
       " 'старосиверская',\n",
       " 'старые бегуницы',\n",
       " 'стеклянный',\n",
       " 'стрельна',\n",
       " 'суйда',\n",
       " 'сумино',\n",
       " 'суоранда',\n",
       " 'суходолье',\n",
       " 'счастье',\n",
       " 'сяськелево',\n",
       " 'сясьстрой',\n",
       " 'тайцы',\n",
       " 'тарасово',\n",
       " 'тельмана',\n",
       " 'терволово',\n",
       " 'терпилицы',\n",
       " 'тихвин',\n",
       " 'тихковицы',\n",
       " 'тойворово',\n",
       " 'токсово',\n",
       " 'торковичи',\n",
       " 'торосово',\n",
       " 'торошковичи',\n",
       " 'торфяное',\n",
       " 'тосно',\n",
       " 'трубников бор',\n",
       " 'тёсово-4',\n",
       " 'углово',\n",
       " 'ульяновка',\n",
       " 'усть-ижора',\n",
       " 'усть-луга',\n",
       " 'ушаки',\n",
       " 'фалилеево',\n",
       " 'форносово',\n",
       " 'форт красная горка',\n",
       " 'фёдоровское',\n",
       " 'хапо-ое',\n",
       " 'хязельки',\n",
       " 'цвелодубово',\n",
       " 'цвылёво',\n",
       " 'чудской бор',\n",
       " 'шлиссельбург',\n",
       " 'шпаньково',\n",
       " 'шугозеро',\n",
       " 'шум',\n",
       " 'шушары',\n",
       " 'щеглово',\n",
       " 'юкки',\n",
       " 'ялгино',\n",
       " 'яльгелево',\n",
       " 'ям-тесово',\n",
       " 'янино-1']"
      ]
     },
     "execution_count": 42,
     "metadata": {},
     "output_type": "execute_result"
    }
   ],
   "source": [
    "sorted(data[~data['locality_name'].isna()]['locality_name'].unique()) #отсортируем уникальные значения locality_name, исключая пропуски."
   ]
  },
  {
   "cell_type": "code",
   "execution_count": 43,
   "metadata": {},
   "outputs": [
    {
     "data": {
      "text/plain": [
       "array(['санкт-петербург', 'шушары', 'парголово', 'ломоносов', 'петергоф',\n",
       "       'пушкин', 'колпино', 'кронштадт', 'металлострой', 'павловск',\n",
       "       'сестрорецк', 'красное село', 'понтонный', 'зеленогорск',\n",
       "       'молодёжное', 'стрельна', 'александровская', nan, 'песочный',\n",
       "       'петро-славянка', 'репино', 'сапёрный', 'щеглово', 'лисий нос',\n",
       "       'левашово', 'белоостров', 'мурино', 'усть-ижора'], dtype=object)"
      ]
     },
     "execution_count": 43,
     "metadata": {},
     "output_type": "execute_result"
    }
   ],
   "source": [
    "data[~data['airports_nearest'].isna()]['locality_name'].unique() #Выведем уникальные значения столбца locality_name из строк, где значение столбца airports_nearest не имеет пропуска.Так мы узнаем список населенных пунктов, для которых указано расстояние до аэропорта."
   ]
  },
  {
   "cell_type": "code",
   "execution_count": 44,
   "metadata": {},
   "outputs": [
    {
     "data": {
      "text/plain": [
       "array(['санкт-петербург', 'шушары', 'парголово', 'ломоносов', 'петергоф',\n",
       "       'пушкин', 'колпино', 'кронштадт', 'металлострой', 'павловск',\n",
       "       'сестрорецк', 'красное село', 'понтонный', 'зеленогорск',\n",
       "       'молодёжное', 'стрельна', 'александровская', nan, 'песочный',\n",
       "       'петро-славянка', 'репино', 'сапёрный', 'щеглово', 'лисий нос',\n",
       "       'левашово', 'белоостров', 'мурино', 'усть-ижора'], dtype=object)"
      ]
     },
     "execution_count": 44,
     "metadata": {},
     "output_type": "execute_result"
    }
   ],
   "source": [
    "data[~data['cityCenters_nearest'].isna()]['locality_name'].unique() #Проверим то же самое для столбца cityCenters_nearest"
   ]
  },
  {
   "cell_type": "code",
   "execution_count": 45,
   "metadata": {},
   "outputs": [
    {
     "data": {
      "text/plain": [
       "0        санкт-петербург\n",
       "1                 шушары\n",
       "2        санкт-петербург\n",
       "3        санкт-петербург\n",
       "4        санкт-петербург\n",
       "              ...       \n",
       "23694    санкт-петербург\n",
       "23695                NaN\n",
       "23696                NaN\n",
       "23697    санкт-петербург\n",
       "23698                NaN\n",
       "Name: locality_name, Length: 23690, dtype: object"
      ]
     },
     "execution_count": 45,
     "metadata": {},
     "output_type": "execute_result"
    }
   ],
   "source": [
    "data.groupby(['airports_nearest', 'cityCenters_nearest'])['locality_name'].transform('first') #Выведим каждое значение соответствует первому значению столбца locality_name в соответствующей группы, сгруппированной по airports_neares и cityCenters_nearest."
   ]
  },
  {
   "cell_type": "code",
   "execution_count": 46,
   "metadata": {},
   "outputs": [
    {
     "data": {
      "text/plain": [
       "49"
      ]
     },
     "execution_count": 46,
     "metadata": {},
     "output_type": "execute_result"
    }
   ],
   "source": [
    "data['locality_name'].isna().sum() "
   ]
  },
  {
   "cell_type": "code",
   "execution_count": 47,
   "metadata": {},
   "outputs": [
    {
     "data": {
      "text/plain": [
       "31"
      ]
     },
     "execution_count": 47,
     "metadata": {},
     "output_type": "execute_result"
    }
   ],
   "source": [
    "data['locality_name'].fillna(data.groupby(['airports_nearest', 'cityCenters_nearest'])['locality_name'].transform('first'), inplace=True) #заполним пропуски первыми значениями из столбцов\n",
    "data['locality_name'].isna().sum() #видим, что колличество еще сократилось"
   ]
  },
  {
   "cell_type": "code",
   "execution_count": 48,
   "metadata": {},
   "outputs": [
    {
     "data": {
      "text/plain": [
       "0"
      ]
     },
     "execution_count": 48,
     "metadata": {},
     "output_type": "execute_result"
    }
   ],
   "source": [
    "data.dropna(subset=['locality_name'], inplace=True) #удалим оставшиеся пропуски\n",
    "data['locality_name'].isna().sum()"
   ]
  },
  {
   "cell_type": "markdown",
   "metadata": {},
   "source": [
    "airports_nearest, cityCenters_nearest, parks_around3000, parks_nearest, ponds_around3000, ponds_nearest, какие возможно, пропущенные значения заполню медианными по населенному пункту. Эти столбцы были загружены автоматически, пропуски связаны с тем, что загрузка скорее всего была для самых крупных. Возможно также, была потеря информации, невозможность определения геолокации и тп. Для airports_nearest - найти таблицу расстоянии от аэропорта до каждого населенного пункта Ленинградской области и заполнить оставшиеся пропуски с помощью такой таблицы. С остальными показателями задача сложнее. Оставшиеся пропуски не будим изменять."
   ]
  },
  {
   "cell_type": "code",
   "execution_count": 49,
   "metadata": {},
   "outputs": [],
   "source": [
    "distance = ['airports_nearest', 'cityCenters_nearest', 'parks_around3000', 'parks_nearest', 'ponds_around3000', 'ponds_nearest']"
   ]
  },
  {
   "cell_type": "code",
   "execution_count": 50,
   "metadata": {},
   "outputs": [
    {
     "data": {
      "text/plain": [
       "airports_nearest        5532\n",
       "cityCenters_nearest     5509\n",
       "parks_around3000        5508\n",
       "parks_nearest          15596\n",
       "ponds_around3000        5508\n",
       "ponds_nearest          14563\n",
       "dtype: int64"
      ]
     },
     "execution_count": 50,
     "metadata": {},
     "output_type": "execute_result"
    }
   ],
   "source": [
    "data[distance].isna().sum()"
   ]
  },
  {
   "cell_type": "code",
   "execution_count": 51,
   "metadata": {},
   "outputs": [],
   "source": [
    "for column in distance:\n",
    "    data[column].fillna(data.groupby('locality_name')[column].transform('median'), inplace=True) #Создадим функцию, которая заполнение пропущенных значений в каждом столбце из списка auto_columns в соответствии с медианой для каждого уникального значения в столбце "
   ]
  },
  {
   "cell_type": "code",
   "execution_count": 52,
   "metadata": {},
   "outputs": [
    {
     "data": {
      "text/plain": [
       "airports_nearest       4827\n",
       "cityCenters_nearest    4827\n",
       "parks_around3000       4827\n",
       "parks_nearest          5996\n",
       "ponds_around3000       4827\n",
       "ponds_nearest          4936\n",
       "dtype: int64"
      ]
     },
     "execution_count": 52,
     "metadata": {},
     "output_type": "execute_result"
    }
   ],
   "source": [
    "data[distance].isna().sum()"
   ]
  },
  {
   "cell_type": "code",
   "execution_count": 53,
   "metadata": {},
   "outputs": [
    {
     "name": "stdout",
     "output_type": "stream",
     "text": [
      "тип: airports_nearest, количество населенных пунктов: 27\n",
      "тип: cityCenters_nearest, количество населенных пунктов: 27\n",
      "тип: parks_around3000, количество населенных пунктов: 27\n",
      "тип: parks_nearest, количество населенных пунктов: 12\n",
      "тип: ponds_around3000, количество населенных пунктов: 27\n",
      "тип: ponds_nearest, количество населенных пунктов: 19\n"
     ]
    }
   ],
   "source": [
    "for column in distance:\n",
    "    print(f'тип: {column}, количество населенных пунктов: {data[~data[column].isna()][\"locality_name\"].nunique()}')"
   ]
  },
  {
   "cell_type": "markdown",
   "metadata": {},
   "source": [
    "days_exposition - пустые значения означают, что объявление, еще не снято с публикации."
   ]
  },
  {
   "cell_type": "code",
   "execution_count": 54,
   "metadata": {},
   "outputs": [
    {
     "data": {
      "text/plain": [
       "3180"
      ]
     },
     "execution_count": 54,
     "metadata": {},
     "output_type": "execute_result"
    }
   ],
   "source": [
    "data['days_exposition'].isna().sum() #посмотрим сколько пропусков"
   ]
  },
  {
   "cell_type": "code",
   "execution_count": 55,
   "metadata": {},
   "outputs": [
    {
     "data": {
      "text/plain": [
       "0"
      ]
     },
     "execution_count": 55,
     "metadata": {},
     "output_type": "execute_result"
    }
   ],
   "source": [
    "data.duplicated().sum()"
   ]
  },
  {
   "cell_type": "markdown",
   "metadata": {},
   "source": [
    "### Посчитайте и добавьте в таблицу новые столбцы"
   ]
  },
  {
   "cell_type": "markdown",
   "metadata": {},
   "source": [
    "Вычислим и добавим в таблицу цену одного квадратного метра."
   ]
  },
  {
   "cell_type": "code",
   "execution_count": 56,
   "metadata": {},
   "outputs": [
    {
     "data": {
      "text/plain": [
       "count      23659.000\n",
       "mean       99417.367\n",
       "std        50221.387\n",
       "min         7962.963\n",
       "25%        76635.344\n",
       "50%        95000.000\n",
       "75%       114259.259\n",
       "max      1907500.000\n",
       "Name: price_m2, dtype: float64"
      ]
     },
     "execution_count": 56,
     "metadata": {},
     "output_type": "execute_result"
    }
   ],
   "source": [
    "data['price_m2'] = data['last_price']/data['total_area']\n",
    "data['price_m2'].describe().round(3)"
   ]
  },
  {
   "cell_type": "markdown",
   "metadata": {},
   "source": [
    "Можно увидеть, что цена одного квадратного метра, минимально 7962.963, максимальная 1907500,0. "
   ]
  },
  {
   "cell_type": "markdown",
   "metadata": {},
   "source": [
    "Добавим в таблицу год, месяц публикации объявления."
   ]
  },
  {
   "cell_type": "code",
   "execution_count": 57,
   "metadata": {},
   "outputs": [],
   "source": [
    "data['year'] = data['first_day_exposition'].apply(lambda x: x.year)"
   ]
  },
  {
   "cell_type": "code",
   "execution_count": 58,
   "metadata": {},
   "outputs": [
    {
     "data": {
      "text/plain": [
       "0    2019\n",
       "1    2018\n",
       "2    2015\n",
       "3    2015\n",
       "4    2018\n",
       "Name: year, dtype: int64"
      ]
     },
     "execution_count": 58,
     "metadata": {},
     "output_type": "execute_result"
    }
   ],
   "source": [
    "data['year'].head()"
   ]
  },
  {
   "cell_type": "code",
   "execution_count": 59,
   "metadata": {},
   "outputs": [
    {
     "data": {
      "text/plain": [
       "0     3\n",
       "1    12\n",
       "2     8\n",
       "3     7\n",
       "4     6\n",
       "Name: month, dtype: int64"
      ]
     },
     "execution_count": 59,
     "metadata": {},
     "output_type": "execute_result"
    }
   ],
   "source": [
    "data['month'] = data['first_day_exposition'].apply(lambda x: x.month)\n",
    "data['month'].head()"
   ]
  },
  {
   "cell_type": "markdown",
   "metadata": {},
   "source": [
    "Добавим день недели публикации объявления, где 1 - понедельник, 7 - воскресенье."
   ]
  },
  {
   "cell_type": "code",
   "execution_count": 60,
   "metadata": {},
   "outputs": [
    {
     "data": {
      "text/plain": [
       "0    3\n",
       "1    1\n",
       "2    3\n",
       "3    4\n",
       "4    1\n",
       "Name: weekday_exposition, dtype: int64"
      ]
     },
     "execution_count": 60,
     "metadata": {},
     "output_type": "execute_result"
    }
   ],
   "source": [
    "data['weekday_exposition'] = data['first_day_exposition'].dt.weekday\n",
    "data['weekday_exposition'].head()"
   ]
  },
  {
   "cell_type": "markdown",
   "metadata": {},
   "source": [
    "Добавим тип этажа квартиры (значения — «первый», «последний», «другой»)"
   ]
  },
  {
   "cell_type": "code",
   "execution_count": 61,
   "metadata": {},
   "outputs": [
    {
     "data": {
      "text/html": [
       "<div>\n",
       "<style scoped>\n",
       "    .dataframe tbody tr th:only-of-type {\n",
       "        vertical-align: middle;\n",
       "    }\n",
       "\n",
       "    .dataframe tbody tr th {\n",
       "        vertical-align: top;\n",
       "    }\n",
       "\n",
       "    .dataframe thead th {\n",
       "        text-align: right;\n",
       "    }\n",
       "</style>\n",
       "<table border=\"1\" class=\"dataframe\">\n",
       "  <thead>\n",
       "    <tr style=\"text-align: right;\">\n",
       "      <th></th>\n",
       "      <th>floor</th>\n",
       "      <th>floors_total</th>\n",
       "      <th>floor_type</th>\n",
       "    </tr>\n",
       "  </thead>\n",
       "  <tbody>\n",
       "    <tr>\n",
       "      <th>0</th>\n",
       "      <td>8</td>\n",
       "      <td>16</td>\n",
       "      <td>другой</td>\n",
       "    </tr>\n",
       "    <tr>\n",
       "      <th>1</th>\n",
       "      <td>1</td>\n",
       "      <td>11</td>\n",
       "      <td>первый</td>\n",
       "    </tr>\n",
       "    <tr>\n",
       "      <th>2</th>\n",
       "      <td>4</td>\n",
       "      <td>5</td>\n",
       "      <td>другой</td>\n",
       "    </tr>\n",
       "    <tr>\n",
       "      <th>3</th>\n",
       "      <td>9</td>\n",
       "      <td>14</td>\n",
       "      <td>другой</td>\n",
       "    </tr>\n",
       "    <tr>\n",
       "      <th>4</th>\n",
       "      <td>13</td>\n",
       "      <td>14</td>\n",
       "      <td>другой</td>\n",
       "    </tr>\n",
       "    <tr>\n",
       "      <th>5</th>\n",
       "      <td>5</td>\n",
       "      <td>12</td>\n",
       "      <td>другой</td>\n",
       "    </tr>\n",
       "    <tr>\n",
       "      <th>6</th>\n",
       "      <td>6</td>\n",
       "      <td>26</td>\n",
       "      <td>другой</td>\n",
       "    </tr>\n",
       "    <tr>\n",
       "      <th>7</th>\n",
       "      <td>22</td>\n",
       "      <td>24</td>\n",
       "      <td>другой</td>\n",
       "    </tr>\n",
       "    <tr>\n",
       "      <th>8</th>\n",
       "      <td>26</td>\n",
       "      <td>27</td>\n",
       "      <td>другой</td>\n",
       "    </tr>\n",
       "    <tr>\n",
       "      <th>9</th>\n",
       "      <td>7</td>\n",
       "      <td>9</td>\n",
       "      <td>другой</td>\n",
       "    </tr>\n",
       "    <tr>\n",
       "      <th>10</th>\n",
       "      <td>3</td>\n",
       "      <td>12</td>\n",
       "      <td>другой</td>\n",
       "    </tr>\n",
       "    <tr>\n",
       "      <th>11</th>\n",
       "      <td>4</td>\n",
       "      <td>5</td>\n",
       "      <td>другой</td>\n",
       "    </tr>\n",
       "    <tr>\n",
       "      <th>12</th>\n",
       "      <td>5</td>\n",
       "      <td>5</td>\n",
       "      <td>последний</td>\n",
       "    </tr>\n",
       "    <tr>\n",
       "      <th>13</th>\n",
       "      <td>5</td>\n",
       "      <td>5</td>\n",
       "      <td>последний</td>\n",
       "    </tr>\n",
       "    <tr>\n",
       "      <th>14</th>\n",
       "      <td>1</td>\n",
       "      <td>6</td>\n",
       "      <td>первый</td>\n",
       "    </tr>\n",
       "    <tr>\n",
       "      <th>15</th>\n",
       "      <td>5</td>\n",
       "      <td>14</td>\n",
       "      <td>другой</td>\n",
       "    </tr>\n",
       "    <tr>\n",
       "      <th>16</th>\n",
       "      <td>1</td>\n",
       "      <td>5</td>\n",
       "      <td>первый</td>\n",
       "    </tr>\n",
       "    <tr>\n",
       "      <th>17</th>\n",
       "      <td>7</td>\n",
       "      <td>17</td>\n",
       "      <td>другой</td>\n",
       "    </tr>\n",
       "    <tr>\n",
       "      <th>18</th>\n",
       "      <td>2</td>\n",
       "      <td>5</td>\n",
       "      <td>другой</td>\n",
       "    </tr>\n",
       "    <tr>\n",
       "      <th>19</th>\n",
       "      <td>8</td>\n",
       "      <td>16</td>\n",
       "      <td>другой</td>\n",
       "    </tr>\n",
       "  </tbody>\n",
       "</table>\n",
       "</div>"
      ],
      "text/plain": [
       "    floor  floors_total floor_type\n",
       "0       8            16     другой\n",
       "1       1            11     первый\n",
       "2       4             5     другой\n",
       "3       9            14     другой\n",
       "4      13            14     другой\n",
       "5       5            12     другой\n",
       "6       6            26     другой\n",
       "7      22            24     другой\n",
       "8      26            27     другой\n",
       "9       7             9     другой\n",
       "10      3            12     другой\n",
       "11      4             5     другой\n",
       "12      5             5  последний\n",
       "13      5             5  последний\n",
       "14      1             6     первый\n",
       "15      5            14     другой\n",
       "16      1             5     первый\n",
       "17      7            17     другой\n",
       "18      2             5     другой\n",
       "19      8            16     другой"
      ]
     },
     "execution_count": 61,
     "metadata": {},
     "output_type": "execute_result"
    }
   ],
   "source": [
    "def floor_type(floor, floors_total): #создадим функцую, которая определяет тип этажа в здании на основе значения текущего этажа и общего количества этажей.\n",
    "    if floor == 1:\n",
    "        return 'первый'\n",
    "    elif floor == floors_total:\n",
    "        return 'последний'\n",
    "    return 'другой'\n",
    "data['floor_type'] = data.apply(lambda x: floor_type(x['floor'], x['floors_total']), axis=1) #добавим новый столбец со значением\n",
    "data[['floor', 'floors_total', 'floor_type']].head(20)"
   ]
  },
  {
   "cell_type": "markdown",
   "metadata": {},
   "source": [
    "Найдем расстояние до центра города в километрах (переведем из м в км и округлите до целых значений)"
   ]
  },
  {
   "cell_type": "code",
   "execution_count": 62,
   "metadata": {},
   "outputs": [
    {
     "data": {
      "text/plain": [
       "0        16.0\n",
       "1        19.0\n",
       "2        14.0\n",
       "3         7.0\n",
       "4         8.0\n",
       "         ... \n",
       "23694     4.0\n",
       "23695     NaN\n",
       "23696     NaN\n",
       "23697    10.0\n",
       "23698     NaN\n",
       "Name: cityCenters_nearest_km, Length: 23659, dtype: float64"
      ]
     },
     "execution_count": 62,
     "metadata": {},
     "output_type": "execute_result"
    }
   ],
   "source": [
    "data['cityCenters_nearest_km'] = (data['cityCenters_nearest'] / 1000).round()\n",
    "data['cityCenters_nearest_km']"
   ]
  },
  {
   "cell_type": "markdown",
   "metadata": {},
   "source": [
    "### Проведите исследовательский анализ данных"
   ]
  },
  {
   "cell_type": "markdown",
   "metadata": {},
   "source": [
    "Изучим данные площади общей, жилой и площадь кухни. Построим по ним гистрограмму для наглядности данных. "
   ]
  },
  {
   "cell_type": "code",
   "execution_count": 63,
   "metadata": {},
   "outputs": [
    {
     "data": {
      "text/html": [
       "<div>\n",
       "<style scoped>\n",
       "    .dataframe tbody tr th:only-of-type {\n",
       "        vertical-align: middle;\n",
       "    }\n",
       "\n",
       "    .dataframe tbody tr th {\n",
       "        vertical-align: top;\n",
       "    }\n",
       "\n",
       "    .dataframe thead th {\n",
       "        text-align: right;\n",
       "    }\n",
       "</style>\n",
       "<table border=\"1\" class=\"dataframe\">\n",
       "  <thead>\n",
       "    <tr style=\"text-align: right;\">\n",
       "      <th></th>\n",
       "      <th>total_area</th>\n",
       "      <th>living_area</th>\n",
       "      <th>kitchen_area</th>\n",
       "    </tr>\n",
       "  </thead>\n",
       "  <tbody>\n",
       "    <tr>\n",
       "      <th>count</th>\n",
       "      <td>23659.000000</td>\n",
       "      <td>23659.000000</td>\n",
       "      <td>23659.000000</td>\n",
       "    </tr>\n",
       "    <tr>\n",
       "      <th>mean</th>\n",
       "      <td>60.332744</td>\n",
       "      <td>35.293528</td>\n",
       "      <td>11.414991</td>\n",
       "    </tr>\n",
       "    <tr>\n",
       "      <th>std</th>\n",
       "      <td>35.658607</td>\n",
       "      <td>24.073388</td>\n",
       "      <td>7.628379</td>\n",
       "    </tr>\n",
       "    <tr>\n",
       "      <th>min</th>\n",
       "      <td>12.000000</td>\n",
       "      <td>0.000000</td>\n",
       "      <td>0.000000</td>\n",
       "    </tr>\n",
       "    <tr>\n",
       "      <th>25%</th>\n",
       "      <td>40.000000</td>\n",
       "      <td>19.000000</td>\n",
       "      <td>7.200000</td>\n",
       "    </tr>\n",
       "    <tr>\n",
       "      <th>50%</th>\n",
       "      <td>52.000000</td>\n",
       "      <td>30.200000</td>\n",
       "      <td>9.800000</td>\n",
       "    </tr>\n",
       "    <tr>\n",
       "      <th>75%</th>\n",
       "      <td>69.725000</td>\n",
       "      <td>43.000000</td>\n",
       "      <td>13.000000</td>\n",
       "    </tr>\n",
       "    <tr>\n",
       "      <th>max</th>\n",
       "      <td>900.000000</td>\n",
       "      <td>571.000000</td>\n",
       "      <td>371.000000</td>\n",
       "    </tr>\n",
       "  </tbody>\n",
       "</table>\n",
       "</div>"
      ],
      "text/plain": [
       "         total_area   living_area  kitchen_area\n",
       "count  23659.000000  23659.000000  23659.000000\n",
       "mean      60.332744     35.293528     11.414991\n",
       "std       35.658607     24.073388      7.628379\n",
       "min       12.000000      0.000000      0.000000\n",
       "25%       40.000000     19.000000      7.200000\n",
       "50%       52.000000     30.200000      9.800000\n",
       "75%       69.725000     43.000000     13.000000\n",
       "max      900.000000    571.000000    371.000000"
      ]
     },
     "execution_count": 63,
     "metadata": {},
     "output_type": "execute_result"
    }
   ],
   "source": [
    "data[['total_area', 'living_area', 'kitchen_area']].describe()"
   ]
  },
  {
   "cell_type": "code",
   "execution_count": 64,
   "metadata": {},
   "outputs": [
    {
     "data": {
      "image/png": "[encoded data removed]",
      "text/plain": [
       "<Figure size 648x1440 with 3 Axes>"
      ]
     },
     "metadata": {
      "needs_background": "light"
     },
     "output_type": "display_data"
    }
   ],
   "source": [
    "data[['total_area', 'living_area', 'kitchen_area']].plot(kind='hist', \n",
    "                                         subplots=True,\n",
    "                                         title='Площадь общая, жилая, площадь кухни',                \n",
    "                                         xticks=range(0, 200, 10), \n",
    "                                         bins=50, range=(0, 200),\n",
    "                                         grid=True,figsize=(9, 20));"
   ]
  },
  {
   "cell_type": "markdown",
   "metadata": {},
   "source": [
    "Построим гистраграмму и изучим данные цены объекта. "
   ]
  },
  {
   "cell_type": "code",
   "execution_count": 65,
   "metadata": {},
   "outputs": [
    {
     "data": {
      "text/plain": [
       "count        23659.0\n",
       "mean       6541402.0\n",
       "std       10894520.0\n",
       "min         430000.0\n",
       "25%        3400000.0\n",
       "50%        4650000.0\n",
       "75%        6799000.0\n",
       "max      763000000.0\n",
       "Name: last_price, dtype: float64"
      ]
     },
     "execution_count": 65,
     "metadata": {},
     "output_type": "execute_result"
    }
   ],
   "source": [
    "data['last_price'].describe().round()"
   ]
  },
  {
   "cell_type": "code",
   "execution_count": 114,
   "metadata": {
    "scrolled": true
   },
   "outputs": [
    {
     "data": {
      "image/png": "[encoded data removed]",
      "text/plain": [
       "<Figure size 576x216 with 1 Axes>"
      ]
     },
     "metadata": {
      "needs_background": "light"
     },
     "output_type": "display_data"
    }
   ],
   "source": [
    "data['last_price'].plot(kind='hist', \n",
    "                        figsize=(8, 3), \n",
    "                        bins=50,\n",
    "                        legend=True,\n",
    "                        grid=True,\n",
    "                        range=(0, 100000000),\n",
    "                        title='last_price');"
   ]
  },
  {
   "cell_type": "markdown",
   "metadata": {},
   "source": [
    "Построим гистограмму количества комнат."
   ]
  },
  {
   "cell_type": "code",
   "execution_count": 115,
   "metadata": {},
   "outputs": [
    {
     "data": {
      "image/png": "[encoded data removed]",
      "text/plain": [
       "<Figure size 576x216 with 1 Axes>"
      ]
     },
     "metadata": {
      "needs_background": "light"
     },
     "output_type": "display_data"
    }
   ],
   "source": [
    "data['rooms'].plot(kind='hist',\n",
    "                   figsize=(8, 3),\n",
    "                   bins=10,\n",
    "                   legend=True,\n",
    "                   grid=True,\n",
    "                   range=(0, 10),\n",
    "                   title='rooms');"
   ]
  },
  {
   "cell_type": "markdown",
   "metadata": {},
   "source": [
    "Построим гистограму высоты потолков."
   ]
  },
  {
   "cell_type": "code",
   "execution_count": 116,
   "metadata": {},
   "outputs": [
    {
     "data": {
      "image/png": "[encoded data removed]",
      "text/plain": [
       "<Figure size 648x432 with 1 Axes>"
      ]
     },
     "metadata": {
      "needs_background": "light"
     },
     "output_type": "display_data"
    }
   ],
   "source": [
    "data['ceiling_height'].plot(kind='hist',\n",
    "                            figsize=(9, 6),\n",
    "                            range=(2,5),\n",
    "                            bins=20,\n",
    "                            grid=True,\n",
    "                            legend=True,\n",
    "                            title='ceiling_height'\n",
    "                           );"
   ]
  },
  {
   "cell_type": "markdown",
   "metadata": {},
   "source": [
    "Построим гистограмму общее колличество этажей в доме."
   ]
  },
  {
   "cell_type": "code",
   "execution_count": 118,
   "metadata": {},
   "outputs": [
    {
     "data": {
      "image/png": "[encoded data removed]",
      "text/plain": [
       "<Figure size 360x576 with 1 Axes>"
      ]
     },
     "metadata": {
      "needs_background": "light"
     },
     "output_type": "display_data"
    }
   ],
   "source": [
    "data[ 'floors_total'].plot(kind='hist',\n",
    "                                     subplots=True,\n",
    "                                     grid=True,\n",
    "                                     range=(0, 40),\n",
    "                                     bins=10,\n",
    "                                     figsize=(5, 8),\n",
    "                                     title='floors_total');"
   ]
  },
  {
   "cell_type": "markdown",
   "metadata": {},
   "source": [
    "Гистограмма тип этажа квартиры («первый», «последний», «другой»)"
   ]
  },
  {
   "cell_type": "code",
   "execution_count": 120,
   "metadata": {},
   "outputs": [
    {
     "data": {
      "image/png": "[encoded data removed]",
      "text/plain": [
       "<Figure size 504x288 with 1 Axes>"
      ]
     },
     "metadata": {
      "needs_background": "light"
     },
     "output_type": "display_data"
    }
   ],
   "source": [
    "data['floor_type'].hist(legend=True, figsize=(7, 4));"
   ]
  },
  {
   "cell_type": "markdown",
   "metadata": {},
   "source": [
    "Построим графики расстояния до центра города в метрах и расстояние до ближайшего аэропорта."
   ]
  },
  {
   "cell_type": "code",
   "execution_count": 71,
   "metadata": {},
   "outputs": [
    {
     "data": {
      "image/png": "[encoded data removed]",
      "text/plain": [
       "<Figure size 648x864 with 2 Axes>"
      ]
     },
     "metadata": {
      "needs_background": "light"
     },
     "output_type": "display_data"
    }
   ],
   "source": [
    "data[['cityCenters_nearest', 'airports_nearest']].plot(kind='hist',\n",
    "                                                       subplots=True,\n",
    "                                                       grid=True,\n",
    "                                                       bins=30,\n",
    "                                                       figsize=(9, 12));"
   ]
  },
  {
   "cell_type": "markdown",
   "metadata": {},
   "source": [
    "Гистограмма расстояние до ближайшего парка."
   ]
  },
  {
   "cell_type": "code",
   "execution_count": 121,
   "metadata": {},
   "outputs": [
    {
     "data": {
      "image/png": "[encoded data removed]",
      "text/plain": [
       "<Figure size 648x432 with 1 Axes>"
      ]
     },
     "metadata": {
      "needs_background": "light"
     },
     "output_type": "display_data"
    }
   ],
   "source": [
    "data['parks_nearest'].plot(kind='hist',\n",
    "                           grid=True,\n",
    "                           bins=30,\n",
    "                           range=(0, 1500),\n",
    "                           legend=True,\n",
    "                           figsize=(9, 6),\n",
    "                           title='parks_nearest');"
   ]
  },
  {
   "cell_type": "markdown",
   "metadata": {},
   "source": [
    "Посмотрим график месяца публикации."
   ]
  },
  {
   "cell_type": "code",
   "execution_count": 122,
   "metadata": {},
   "outputs": [
    {
     "data": {
      "text/plain": [
       "<AxesSubplot:title={'center':'month'}, ylabel='Frequency'>"
      ]
     },
     "execution_count": 122,
     "metadata": {},
     "output_type": "execute_result"
    },
    {
     "data": {
      "image/png": "[encoded data removed]",
      "text/plain": [
       "<Figure size 648x432 with 1 Axes>"
      ]
     },
     "metadata": {
      "needs_background": "light"
     },
     "output_type": "display_data"
    }
   ],
   "source": [
    "data['month'].plot(kind='hist',\n",
    "                              legend=True,\n",
    "                              bins=12,\n",
    "                              grid=True,\n",
    "                              figsize=(9, 6),\n",
    "                              title='month')"
   ]
  },
  {
   "cell_type": "markdown",
   "metadata": {},
   "source": [
    "И график публикаций по дням."
   ]
  },
  {
   "cell_type": "code",
   "execution_count": 123,
   "metadata": {},
   "outputs": [
    {
     "data": {
      "text/plain": [
       "<AxesSubplot:title={'center':'weekday_exposition'}, ylabel='Frequency'>"
      ]
     },
     "execution_count": 123,
     "metadata": {},
     "output_type": "execute_result"
    },
    {
     "data": {
      "image/png": "[encoded data removed]",
      "text/plain": [
       "<Figure size 648x432 with 1 Axes>"
      ]
     },
     "metadata": {
      "needs_background": "light"
     },
     "output_type": "display_data"
    }
   ],
   "source": [
    "data['weekday_exposition'].plot(kind='hist',\n",
    "                                legend=True,\n",
    "                                grid=True,\n",
    "                                figsize=(9, 6),\n",
    "                                title='weekday_exposition')"
   ]
  },
  {
   "cell_type": "markdown",
   "metadata": {},
   "source": [
    "Вывод:\n",
    "\n",
    " Большая часть квартир имеет размер от 30 до 80 кв.м., пик приходится на 50 кв.м. Максимальная площадь 900 кв.м, но квартир с такой площадью очень мало, минимальная площадь 12кв.м, это скорее всего квартиры студии. В среднем цена на недвижимость варьируется от 3.4 мл до 6,7мл.Первого и последнего этажей в выборке примерно одинаково, остальных значительно больше. Расстояние до ближайшего парка имеет пик в 500 м, возможно, потому что эти данные собирались не по всем населённым пунктам. В будни объявления размещают равномерно, в выходные более неохотно. По месяцам просадки в подаче объявлений наблюдаются в декабре, январе, мае,так же имеется сезонность, летом количество объявлений меньше. Большинство признаков имеют распределения похожие на распределение Пуассона( смещено влево).\n"
   ]
  },
  {
   "cell_type": "markdown",
   "metadata": {},
   "source": [
    "Проанализируем скорость продажи квартир."
   ]
  },
  {
   "cell_type": "code",
   "execution_count": 75,
   "metadata": {},
   "outputs": [
    {
     "data": {
      "text/plain": [
       "count    20479.0\n",
       "mean       181.0\n",
       "std        220.0\n",
       "min          1.0\n",
       "25%         45.0\n",
       "50%         95.0\n",
       "75%        231.0\n",
       "max       1580.0\n",
       "Name: days_exposition, dtype: float64"
      ]
     },
     "execution_count": 75,
     "metadata": {},
     "output_type": "execute_result"
    }
   ],
   "source": [
    "data['days_exposition'].describe().round()"
   ]
  },
  {
   "cell_type": "code",
   "execution_count": 76,
   "metadata": {},
   "outputs": [
    {
     "data": {
      "text/plain": [
       "95.0"
      ]
     },
     "execution_count": 76,
     "metadata": {},
     "output_type": "execute_result"
    }
   ],
   "source": [
    "data['days_exposition'].median()"
   ]
  },
  {
   "cell_type": "code",
   "execution_count": 124,
   "metadata": {
    "scrolled": true
   },
   "outputs": [
    {
     "data": {
      "text/plain": [
       "<AxesSubplot:title={'center':'days_exposition'}, ylabel='Frequency'>"
      ]
     },
     "execution_count": 124,
     "metadata": {},
     "output_type": "execute_result"
    },
    {
     "data": {
      "image/png": "[encoded data removed]",
      "text/plain": [
       "<Figure size 648x432 with 1 Axes>"
      ]
     },
     "metadata": {
      "needs_background": "light"
     },
     "output_type": "display_data"
    }
   ],
   "source": [
    "data['days_exposition'].plot(kind='hist',\n",
    "                             legend=True,\n",
    "                             bins=50,\n",
    "                             xticks=range(0, 1601, 100),\n",
    "                             grid=True,\n",
    "                             figsize=(9, 6),\n",
    "                             title='days_exposition')"
   ]
  },
  {
   "cell_type": "code",
   "execution_count": 99,
   "metadata": {},
   "outputs": [
    {
     "data": {
      "text/plain": [
       "<AxesSubplot:>"
      ]
     },
     "execution_count": 99,
     "metadata": {},
     "output_type": "execute_result"
    },
    {
     "data": {
      "image/png": "[encoded data removed]",
      "text/plain": [
       "<Figure size 432x288 with 1 Axes>"
      ]
     },
     "metadata": {
      "needs_background": "light"
     },
     "output_type": "display_data"
    }
   ],
   "source": [
    "data.boxplot(column='days_exposition')"
   ]
  },
  {
   "cell_type": "code",
   "execution_count": 101,
   "metadata": {},
   "outputs": [
    {
     "data": {
      "text/plain": [
       "<AxesSubplot:>"
      ]
     },
     "execution_count": 101,
     "metadata": {},
     "output_type": "execute_result"
    },
    {
     "data": {
      "image/png": "[encoded data removed]",
      "text/plain": [
       "<Figure size 720x216 with 1 Axes>"
      ]
     },
     "metadata": {
      "needs_background": "light"
     },
     "output_type": "display_data"
    }
   ],
   "source": [
    "data.query('40<days_exposition<65')['days_exposition'].hist(bins=70, figsize=(10,3))"
   ]
  },
  {
   "cell_type": "markdown",
   "metadata": {},
   "source": [
    "Исходи из данных можно судить, что половина всех снятых с продажи объявлений продались за от 45 до 231 дней. Среднее время продажи 181 день ( 6 месяцев), а медианное 95 дней (3 месяца). Быстрыми можно назвать те объявление, которые сняли меньше, чем через 45 дней (быстрее, чем 75%). Долгими можно назвать те объявление, которые сняли больше, чем через 231 день (дольше, чем 75%). Большие значения возможно были допущены из-за того, что объявления после продажи не закрывали после сделки."
   ]
  },
  {
   "cell_type": "markdown",
   "metadata": {},
   "source": [
    "Посмотрим факторы влияющие на зависимость цены от общей площади квартиры."
   ]
  },
  {
   "cell_type": "code",
   "execution_count": 78,
   "metadata": {},
   "outputs": [
    {
     "data": {
      "image/png": "[encoded data removed]",
      "text/plain": [
       "<Figure size 648x432 with 1 Axes>"
      ]
     },
     "metadata": {
      "needs_background": "light"
     },
     "output_type": "display_data"
    }
   ],
   "source": [
    "data.plot(kind='scatter', \n",
    "          x='last_price', \n",
    "          y='total_area',  \n",
    "          figsize=(9, 6),\n",
    "          grid=True, alpha=0.3);"
   ]
  },
  {
   "cell_type": "code",
   "execution_count": 79,
   "metadata": {},
   "outputs": [
    {
     "data": {
      "text/html": [
       "<div>\n",
       "<style scoped>\n",
       "    .dataframe tbody tr th:only-of-type {\n",
       "        vertical-align: middle;\n",
       "    }\n",
       "\n",
       "    .dataframe tbody tr th {\n",
       "        vertical-align: top;\n",
       "    }\n",
       "\n",
       "    .dataframe thead th {\n",
       "        text-align: right;\n",
       "    }\n",
       "</style>\n",
       "<table border=\"1\" class=\"dataframe\">\n",
       "  <thead>\n",
       "    <tr style=\"text-align: right;\">\n",
       "      <th></th>\n",
       "      <th>last_price</th>\n",
       "      <th>total_area</th>\n",
       "    </tr>\n",
       "  </thead>\n",
       "  <tbody>\n",
       "    <tr>\n",
       "      <th>last_price</th>\n",
       "      <td>1.00000</td>\n",
       "      <td>0.65386</td>\n",
       "    </tr>\n",
       "    <tr>\n",
       "      <th>total_area</th>\n",
       "      <td>0.65386</td>\n",
       "      <td>1.00000</td>\n",
       "    </tr>\n",
       "  </tbody>\n",
       "</table>\n",
       "</div>"
      ],
      "text/plain": [
       "            last_price  total_area\n",
       "last_price     1.00000     0.65386\n",
       "total_area     0.65386     1.00000"
      ]
     },
     "execution_count": 79,
     "metadata": {},
     "output_type": "execute_result"
    }
   ],
   "source": [
    "data[['last_price', 'total_area']].corr()"
   ]
  },
  {
   "cell_type": "markdown",
   "metadata": {},
   "source": [
    "Зависимость цены от жилой площади."
   ]
  },
  {
   "cell_type": "code",
   "execution_count": 80,
   "metadata": {},
   "outputs": [
    {
     "data": {
      "text/html": [
       "<div>\n",
       "<style scoped>\n",
       "    .dataframe tbody tr th:only-of-type {\n",
       "        vertical-align: middle;\n",
       "    }\n",
       "\n",
       "    .dataframe tbody tr th {\n",
       "        vertical-align: top;\n",
       "    }\n",
       "\n",
       "    .dataframe thead th {\n",
       "        text-align: right;\n",
       "    }\n",
       "</style>\n",
       "<table border=\"1\" class=\"dataframe\">\n",
       "  <thead>\n",
       "    <tr style=\"text-align: right;\">\n",
       "      <th></th>\n",
       "      <th>last_price</th>\n",
       "      <th>living_area</th>\n",
       "    </tr>\n",
       "  </thead>\n",
       "  <tbody>\n",
       "    <tr>\n",
       "      <th>last_price</th>\n",
       "      <td>1.000000</td>\n",
       "      <td>0.576929</td>\n",
       "    </tr>\n",
       "    <tr>\n",
       "      <th>living_area</th>\n",
       "      <td>0.576929</td>\n",
       "      <td>1.000000</td>\n",
       "    </tr>\n",
       "  </tbody>\n",
       "</table>\n",
       "</div>"
      ],
      "text/plain": [
       "             last_price  living_area\n",
       "last_price     1.000000     0.576929\n",
       "living_area    0.576929     1.000000"
      ]
     },
     "execution_count": 80,
     "metadata": {},
     "output_type": "execute_result"
    }
   ],
   "source": [
    "data[['last_price', 'living_area']].corr()"
   ]
  },
  {
   "cell_type": "code",
   "execution_count": 81,
   "metadata": {},
   "outputs": [
    {
     "data": {
      "image/png": "[encoded data removed]",
      "text/plain": [
       "<Figure size 648x432 with 1 Axes>"
      ]
     },
     "metadata": {
      "needs_background": "light"
     },
     "output_type": "display_data"
    }
   ],
   "source": [
    "data.plot(kind='scatter', \n",
    "          x='last_price', \n",
    "          y='living_area',  \n",
    "          figsize=(9, 6),\n",
    "          grid=True, alpha=0.3);"
   ]
  },
  {
   "cell_type": "markdown",
   "metadata": {},
   "source": [
    "Зависимость цены от площади кухни."
   ]
  },
  {
   "cell_type": "code",
   "execution_count": 82,
   "metadata": {},
   "outputs": [
    {
     "data": {
      "text/html": [
       "<div>\n",
       "<style scoped>\n",
       "    .dataframe tbody tr th:only-of-type {\n",
       "        vertical-align: middle;\n",
       "    }\n",
       "\n",
       "    .dataframe tbody tr th {\n",
       "        vertical-align: top;\n",
       "    }\n",
       "\n",
       "    .dataframe thead th {\n",
       "        text-align: right;\n",
       "    }\n",
       "</style>\n",
       "<table border=\"1\" class=\"dataframe\">\n",
       "  <thead>\n",
       "    <tr style=\"text-align: right;\">\n",
       "      <th></th>\n",
       "      <th>last_price</th>\n",
       "      <th>kitchen_area</th>\n",
       "    </tr>\n",
       "  </thead>\n",
       "  <tbody>\n",
       "    <tr>\n",
       "      <th>last_price</th>\n",
       "      <td>1.000000</td>\n",
       "      <td>0.463312</td>\n",
       "    </tr>\n",
       "    <tr>\n",
       "      <th>kitchen_area</th>\n",
       "      <td>0.463312</td>\n",
       "      <td>1.000000</td>\n",
       "    </tr>\n",
       "  </tbody>\n",
       "</table>\n",
       "</div>"
      ],
      "text/plain": [
       "              last_price  kitchen_area\n",
       "last_price      1.000000      0.463312\n",
       "kitchen_area    0.463312      1.000000"
      ]
     },
     "execution_count": 82,
     "metadata": {},
     "output_type": "execute_result"
    }
   ],
   "source": [
    "data[['last_price', 'kitchen_area']].corr()"
   ]
  },
  {
   "cell_type": "code",
   "execution_count": 83,
   "metadata": {},
   "outputs": [
    {
     "data": {
      "image/png": "[encoded data removed]",
      "text/plain": [
       "<Figure size 648x432 with 1 Axes>"
      ]
     },
     "metadata": {
      "needs_background": "light"
     },
     "output_type": "display_data"
    }
   ],
   "source": [
    "data.plot(kind='scatter', \n",
    "          x='last_price', \n",
    "          y='kitchen_area',  \n",
    "          figsize=(9, 6),\n",
    "          grid=True, alpha=0.3);"
   ]
  },
  {
   "cell_type": "markdown",
   "metadata": {},
   "source": [
    "Зависимость цены от количества комнат."
   ]
  },
  {
   "cell_type": "code",
   "execution_count": 84,
   "metadata": {},
   "outputs": [
    {
     "data": {
      "text/html": [
       "<div>\n",
       "<style scoped>\n",
       "    .dataframe tbody tr th:only-of-type {\n",
       "        vertical-align: middle;\n",
       "    }\n",
       "\n",
       "    .dataframe tbody tr th {\n",
       "        vertical-align: top;\n",
       "    }\n",
       "\n",
       "    .dataframe thead th {\n",
       "        text-align: right;\n",
       "    }\n",
       "</style>\n",
       "<table border=\"1\" class=\"dataframe\">\n",
       "  <thead>\n",
       "    <tr style=\"text-align: right;\">\n",
       "      <th></th>\n",
       "      <th>mean_price</th>\n",
       "      <th>median_price</th>\n",
       "      <th>count</th>\n",
       "    </tr>\n",
       "    <tr>\n",
       "      <th>rooms</th>\n",
       "      <th></th>\n",
       "      <th></th>\n",
       "      <th></th>\n",
       "    </tr>\n",
       "  </thead>\n",
       "  <tbody>\n",
       "    <tr>\n",
       "      <th>0</th>\n",
       "      <td>3.337724e+06</td>\n",
       "      <td>2700000.0</td>\n",
       "      <td>197</td>\n",
       "    </tr>\n",
       "    <tr>\n",
       "      <th>1</th>\n",
       "      <td>3.832211e+06</td>\n",
       "      <td>3600000.0</td>\n",
       "      <td>8038</td>\n",
       "    </tr>\n",
       "    <tr>\n",
       "      <th>2</th>\n",
       "      <td>5.593649e+06</td>\n",
       "      <td>4772669.0</td>\n",
       "      <td>7926</td>\n",
       "    </tr>\n",
       "    <tr>\n",
       "      <th>3</th>\n",
       "      <td>8.181581e+06</td>\n",
       "      <td>6200000.0</td>\n",
       "      <td>5800</td>\n",
       "    </tr>\n",
       "    <tr>\n",
       "      <th>4</th>\n",
       "      <td>1.342118e+07</td>\n",
       "      <td>9000000.0</td>\n",
       "      <td>1177</td>\n",
       "    </tr>\n",
       "    <tr>\n",
       "      <th>5</th>\n",
       "      <td>2.376208e+07</td>\n",
       "      <td>14000000.0</td>\n",
       "      <td>326</td>\n",
       "    </tr>\n",
       "    <tr>\n",
       "      <th>6</th>\n",
       "      <td>3.170975e+07</td>\n",
       "      <td>19000000.0</td>\n",
       "      <td>105</td>\n",
       "    </tr>\n",
       "    <tr>\n",
       "      <th>7</th>\n",
       "      <td>5.147007e+07</td>\n",
       "      <td>24900000.0</td>\n",
       "      <td>59</td>\n",
       "    </tr>\n",
       "    <tr>\n",
       "      <th>8</th>\n",
       "      <td>5.022417e+07</td>\n",
       "      <td>23095000.0</td>\n",
       "      <td>12</td>\n",
       "    </tr>\n",
       "    <tr>\n",
       "      <th>9</th>\n",
       "      <td>3.415236e+07</td>\n",
       "      <td>23750000.0</td>\n",
       "      <td>8</td>\n",
       "    </tr>\n",
       "    <tr>\n",
       "      <th>10</th>\n",
       "      <td>2.616667e+07</td>\n",
       "      <td>23000000.0</td>\n",
       "      <td>3</td>\n",
       "    </tr>\n",
       "    <tr>\n",
       "      <th>11</th>\n",
       "      <td>2.525000e+07</td>\n",
       "      <td>25250000.0</td>\n",
       "      <td>2</td>\n",
       "    </tr>\n",
       "    <tr>\n",
       "      <th>12</th>\n",
       "      <td>4.200000e+08</td>\n",
       "      <td>420000000.0</td>\n",
       "      <td>1</td>\n",
       "    </tr>\n",
       "    <tr>\n",
       "      <th>14</th>\n",
       "      <td>2.682950e+07</td>\n",
       "      <td>26829500.0</td>\n",
       "      <td>2</td>\n",
       "    </tr>\n",
       "    <tr>\n",
       "      <th>15</th>\n",
       "      <td>6.500000e+07</td>\n",
       "      <td>65000000.0</td>\n",
       "      <td>1</td>\n",
       "    </tr>\n",
       "    <tr>\n",
       "      <th>16</th>\n",
       "      <td>2.850000e+07</td>\n",
       "      <td>28500000.0</td>\n",
       "      <td>1</td>\n",
       "    </tr>\n",
       "    <tr>\n",
       "      <th>19</th>\n",
       "      <td>3.225000e+07</td>\n",
       "      <td>32250000.0</td>\n",
       "      <td>1</td>\n",
       "    </tr>\n",
       "  </tbody>\n",
       "</table>\n",
       "</div>"
      ],
      "text/plain": [
       "         mean_price  median_price  count\n",
       "rooms                                   \n",
       "0      3.337724e+06     2700000.0    197\n",
       "1      3.832211e+06     3600000.0   8038\n",
       "2      5.593649e+06     4772669.0   7926\n",
       "3      8.181581e+06     6200000.0   5800\n",
       "4      1.342118e+07     9000000.0   1177\n",
       "5      2.376208e+07    14000000.0    326\n",
       "6      3.170975e+07    19000000.0    105\n",
       "7      5.147007e+07    24900000.0     59\n",
       "8      5.022417e+07    23095000.0     12\n",
       "9      3.415236e+07    23750000.0      8\n",
       "10     2.616667e+07    23000000.0      3\n",
       "11     2.525000e+07    25250000.0      2\n",
       "12     4.200000e+08   420000000.0      1\n",
       "14     2.682950e+07    26829500.0      2\n",
       "15     6.500000e+07    65000000.0      1\n",
       "16     2.850000e+07    28500000.0      1\n",
       "19     3.225000e+07    32250000.0      1"
      ]
     },
     "execution_count": 84,
     "metadata": {},
     "output_type": "execute_result"
    }
   ],
   "source": [
    "price_rooms = data.pivot_table(index='rooms', \n",
    "                                       values='last_price', \n",
    "                                       aggfunc = ['mean', 'median', 'count'])\n",
    "price_rooms.columns = ['mean_price', 'median_price', 'count']\n",
    "price_rooms"
   ]
  },
  {
   "cell_type": "code",
   "execution_count": 85,
   "metadata": {},
   "outputs": [
    {
     "data": {
      "image/png": "[encoded data removed]",
      "text/plain": [
       "<Figure size 648x432 with 1 Axes>"
      ]
     },
     "metadata": {
      "needs_background": "light"
     },
     "output_type": "display_data"
    }
   ],
   "source": [
    "price_rooms.plot(kind='line',\n",
    "                         y=['mean_price', 'median_price'],\n",
    "                         figsize=(9, 6),\n",
    "                         grid=True,\n",
    "                         xticks=range(0, 20),\n",
    "                         style='o-');"
   ]
  },
  {
   "cell_type": "markdown",
   "metadata": {},
   "source": [
    "Зависимость цены от этажа, на котором расположена квартира (первый, последний, другой)"
   ]
  },
  {
   "cell_type": "code",
   "execution_count": 86,
   "metadata": {},
   "outputs": [
    {
     "data": {
      "text/html": [
       "<div>\n",
       "<style scoped>\n",
       "    .dataframe tbody tr th:only-of-type {\n",
       "        vertical-align: middle;\n",
       "    }\n",
       "\n",
       "    .dataframe tbody tr th {\n",
       "        vertical-align: top;\n",
       "    }\n",
       "\n",
       "    .dataframe thead th {\n",
       "        text-align: right;\n",
       "    }\n",
       "</style>\n",
       "<table border=\"1\" class=\"dataframe\">\n",
       "  <thead>\n",
       "    <tr style=\"text-align: right;\">\n",
       "      <th></th>\n",
       "      <th>mean_price</th>\n",
       "      <th>median_price</th>\n",
       "    </tr>\n",
       "    <tr>\n",
       "      <th>floor_type</th>\n",
       "      <th></th>\n",
       "      <th></th>\n",
       "    </tr>\n",
       "  </thead>\n",
       "  <tbody>\n",
       "    <tr>\n",
       "      <th>другой</th>\n",
       "      <td>6.675648e+06</td>\n",
       "      <td>4850000.0</td>\n",
       "    </tr>\n",
       "    <tr>\n",
       "      <th>первый</th>\n",
       "      <td>4.801324e+06</td>\n",
       "      <td>3900000.0</td>\n",
       "    </tr>\n",
       "    <tr>\n",
       "      <th>последний</th>\n",
       "      <td>7.359366e+06</td>\n",
       "      <td>4300000.0</td>\n",
       "    </tr>\n",
       "  </tbody>\n",
       "</table>\n",
       "</div>"
      ],
      "text/plain": [
       "              mean_price  median_price\n",
       "floor_type                            \n",
       "другой      6.675648e+06     4850000.0\n",
       "первый      4.801324e+06     3900000.0\n",
       "последний   7.359366e+06     4300000.0"
      ]
     },
     "execution_count": 86,
     "metadata": {},
     "output_type": "execute_result"
    }
   ],
   "source": [
    "price_floor_type = data.pivot_table(index='floor_type', \n",
    "                                       values='last_price', \n",
    "                                       aggfunc = ['mean', 'median'])\n",
    "price_floor_type.columns = ['mean_price', 'median_price']\n",
    "price_floor_type"
   ]
  },
  {
   "cell_type": "code",
   "execution_count": 87,
   "metadata": {},
   "outputs": [
    {
     "data": {
      "image/png": "[encoded data removed]",
      "text/plain": [
       "<Figure size 648x432 with 1 Axes>"
      ]
     },
     "metadata": {
      "needs_background": "light"
     },
     "output_type": "display_data"
    }
   ],
   "source": [
    "price_floor_type.plot(kind='line',\n",
    "                              y=['mean_price', 'median_price'],\n",
    "                              figsize=(9, 6),\n",
    "                              grid=True, \n",
    "                              style='o-');"
   ]
  },
  {
   "cell_type": "markdown",
   "metadata": {},
   "source": [
    "Зависимость цены от даты размещения (день недели, месяц, год)"
   ]
  },
  {
   "cell_type": "code",
   "execution_count": 88,
   "metadata": {},
   "outputs": [
    {
     "data": {
      "text/html": [
       "<div>\n",
       "<style scoped>\n",
       "    .dataframe tbody tr th:only-of-type {\n",
       "        vertical-align: middle;\n",
       "    }\n",
       "\n",
       "    .dataframe tbody tr th {\n",
       "        vertical-align: top;\n",
       "    }\n",
       "\n",
       "    .dataframe thead th {\n",
       "        text-align: right;\n",
       "    }\n",
       "</style>\n",
       "<table border=\"1\" class=\"dataframe\">\n",
       "  <thead>\n",
       "    <tr style=\"text-align: right;\">\n",
       "      <th></th>\n",
       "      <th>mean_price</th>\n",
       "      <th>median_price</th>\n",
       "    </tr>\n",
       "    <tr>\n",
       "      <th>weekday_exposition</th>\n",
       "      <th></th>\n",
       "      <th></th>\n",
       "    </tr>\n",
       "  </thead>\n",
       "  <tbody>\n",
       "    <tr>\n",
       "      <th>0</th>\n",
       "      <td>6.512205e+06</td>\n",
       "      <td>4650000.0</td>\n",
       "    </tr>\n",
       "    <tr>\n",
       "      <th>1</th>\n",
       "      <td>6.396238e+06</td>\n",
       "      <td>4714595.0</td>\n",
       "    </tr>\n",
       "    <tr>\n",
       "      <th>2</th>\n",
       "      <td>6.626101e+06</td>\n",
       "      <td>4700000.0</td>\n",
       "    </tr>\n",
       "    <tr>\n",
       "      <th>3</th>\n",
       "      <td>6.710496e+06</td>\n",
       "      <td>4650000.0</td>\n",
       "    </tr>\n",
       "    <tr>\n",
       "      <th>4</th>\n",
       "      <td>6.365205e+06</td>\n",
       "      <td>4577500.0</td>\n",
       "    </tr>\n",
       "    <tr>\n",
       "      <th>5</th>\n",
       "      <td>6.983381e+06</td>\n",
       "      <td>4567500.0</td>\n",
       "    </tr>\n",
       "    <tr>\n",
       "      <th>6</th>\n",
       "      <td>6.246203e+06</td>\n",
       "      <td>4550000.0</td>\n",
       "    </tr>\n",
       "  </tbody>\n",
       "</table>\n",
       "</div>"
      ],
      "text/plain": [
       "                      mean_price  median_price\n",
       "weekday_exposition                            \n",
       "0                   6.512205e+06     4650000.0\n",
       "1                   6.396238e+06     4714595.0\n",
       "2                   6.626101e+06     4700000.0\n",
       "3                   6.710496e+06     4650000.0\n",
       "4                   6.365205e+06     4577500.0\n",
       "5                   6.983381e+06     4567500.0\n",
       "6                   6.246203e+06     4550000.0"
      ]
     },
     "execution_count": 88,
     "metadata": {},
     "output_type": "execute_result"
    }
   ],
   "source": [
    "price_weekday = data.pivot_table(index='weekday_exposition', \n",
    "                                       values='last_price', \n",
    "                                       aggfunc = ['mean', 'median'])\n",
    "price_weekday.columns = ['mean_price', 'median_price']\n",
    "price_weekday"
   ]
  },
  {
   "cell_type": "code",
   "execution_count": 89,
   "metadata": {},
   "outputs": [
    {
     "data": {
      "image/png": "[encoded data removed]",
      "text/plain": [
       "<Figure size 648x432 with 1 Axes>"
      ]
     },
     "metadata": {
      "needs_background": "light"
     },
     "output_type": "display_data"
    }
   ],
   "source": [
    "price_weekday.plot(kind='line',\n",
    "                              y=['mean_price', 'median_price'],\n",
    "                              figsize=(9, 6),\n",
    "                              grid=True,\n",
    "                              style='o-');"
   ]
  },
  {
   "cell_type": "code",
   "execution_count": 90,
   "metadata": {},
   "outputs": [
    {
     "data": {
      "text/html": [
       "<div>\n",
       "<style scoped>\n",
       "    .dataframe tbody tr th:only-of-type {\n",
       "        vertical-align: middle;\n",
       "    }\n",
       "\n",
       "    .dataframe tbody tr th {\n",
       "        vertical-align: top;\n",
       "    }\n",
       "\n",
       "    .dataframe thead th {\n",
       "        text-align: right;\n",
       "    }\n",
       "</style>\n",
       "<table border=\"1\" class=\"dataframe\">\n",
       "  <thead>\n",
       "    <tr style=\"text-align: right;\">\n",
       "      <th></th>\n",
       "      <th>mean_price</th>\n",
       "      <th>median_price</th>\n",
       "    </tr>\n",
       "    <tr>\n",
       "      <th>month</th>\n",
       "      <th></th>\n",
       "      <th></th>\n",
       "    </tr>\n",
       "  </thead>\n",
       "  <tbody>\n",
       "    <tr>\n",
       "      <th>1</th>\n",
       "      <td>6.667711e+06</td>\n",
       "      <td>4600000.0</td>\n",
       "    </tr>\n",
       "    <tr>\n",
       "      <th>2</th>\n",
       "      <td>6.464463e+06</td>\n",
       "      <td>4650000.0</td>\n",
       "    </tr>\n",
       "    <tr>\n",
       "      <th>3</th>\n",
       "      <td>6.365902e+06</td>\n",
       "      <td>4660000.0</td>\n",
       "    </tr>\n",
       "    <tr>\n",
       "      <th>4</th>\n",
       "      <td>6.738903e+06</td>\n",
       "      <td>4800000.0</td>\n",
       "    </tr>\n",
       "    <tr>\n",
       "      <th>5</th>\n",
       "      <td>6.595561e+06</td>\n",
       "      <td>4500000.0</td>\n",
       "    </tr>\n",
       "    <tr>\n",
       "      <th>6</th>\n",
       "      <td>6.308784e+06</td>\n",
       "      <td>4400000.0</td>\n",
       "    </tr>\n",
       "    <tr>\n",
       "      <th>7</th>\n",
       "      <td>6.636387e+06</td>\n",
       "      <td>4650000.0</td>\n",
       "    </tr>\n",
       "    <tr>\n",
       "      <th>8</th>\n",
       "      <td>6.356032e+06</td>\n",
       "      <td>4570000.0</td>\n",
       "    </tr>\n",
       "    <tr>\n",
       "      <th>9</th>\n",
       "      <td>6.826241e+06</td>\n",
       "      <td>4700000.0</td>\n",
       "    </tr>\n",
       "    <tr>\n",
       "      <th>10</th>\n",
       "      <td>6.234757e+06</td>\n",
       "      <td>4560000.0</td>\n",
       "    </tr>\n",
       "    <tr>\n",
       "      <th>11</th>\n",
       "      <td>6.464136e+06</td>\n",
       "      <td>4700000.0</td>\n",
       "    </tr>\n",
       "    <tr>\n",
       "      <th>12</th>\n",
       "      <td>7.011807e+06</td>\n",
       "      <td>4700000.0</td>\n",
       "    </tr>\n",
       "  </tbody>\n",
       "</table>\n",
       "</div>"
      ],
      "text/plain": [
       "         mean_price  median_price\n",
       "month                            \n",
       "1      6.667711e+06     4600000.0\n",
       "2      6.464463e+06     4650000.0\n",
       "3      6.365902e+06     4660000.0\n",
       "4      6.738903e+06     4800000.0\n",
       "5      6.595561e+06     4500000.0\n",
       "6      6.308784e+06     4400000.0\n",
       "7      6.636387e+06     4650000.0\n",
       "8      6.356032e+06     4570000.0\n",
       "9      6.826241e+06     4700000.0\n",
       "10     6.234757e+06     4560000.0\n",
       "11     6.464136e+06     4700000.0\n",
       "12     7.011807e+06     4700000.0"
      ]
     },
     "execution_count": 90,
     "metadata": {},
     "output_type": "execute_result"
    }
   ],
   "source": [
    "price_month = data.pivot_table(index='month', \n",
    "                                       values='last_price', \n",
    "                                       aggfunc = ['mean', 'median'])\n",
    "price_month.columns = ['mean_price', 'median_price']\n",
    "price_month"
   ]
  },
  {
   "cell_type": "code",
   "execution_count": 91,
   "metadata": {},
   "outputs": [
    {
     "data": {
      "image/png": "[encoded data removed]",
      "text/plain": [
       "<Figure size 648x432 with 1 Axes>"
      ]
     },
     "metadata": {
      "needs_background": "light"
     },
     "output_type": "display_data"
    }
   ],
   "source": [
    "price_month.plot(kind='line',\n",
    "                         y=['mean_price', 'median_price'],\n",
    "                         figsize=(9, 6),\n",
    "                         grid=True,\n",
    "                         xticks=range(1, 13),\n",
    "                         style='o-');"
   ]
  },
  {
   "cell_type": "code",
   "execution_count": 92,
   "metadata": {},
   "outputs": [
    {
     "data": {
      "text/html": [
       "<div>\n",
       "<style scoped>\n",
       "    .dataframe tbody tr th:only-of-type {\n",
       "        vertical-align: middle;\n",
       "    }\n",
       "\n",
       "    .dataframe tbody tr th {\n",
       "        vertical-align: top;\n",
       "    }\n",
       "\n",
       "    .dataframe thead th {\n",
       "        text-align: right;\n",
       "    }\n",
       "</style>\n",
       "<table border=\"1\" class=\"dataframe\">\n",
       "  <thead>\n",
       "    <tr style=\"text-align: right;\">\n",
       "      <th></th>\n",
       "      <th>mean_price</th>\n",
       "      <th>median_price</th>\n",
       "    </tr>\n",
       "    <tr>\n",
       "      <th>year</th>\n",
       "      <th></th>\n",
       "      <th></th>\n",
       "    </tr>\n",
       "  </thead>\n",
       "  <tbody>\n",
       "    <tr>\n",
       "      <th>2014</th>\n",
       "      <td>1.208714e+07</td>\n",
       "      <td>7700000.0</td>\n",
       "    </tr>\n",
       "    <tr>\n",
       "      <th>2015</th>\n",
       "      <td>8.570131e+06</td>\n",
       "      <td>5312500.0</td>\n",
       "    </tr>\n",
       "    <tr>\n",
       "      <th>2016</th>\n",
       "      <td>6.823800e+06</td>\n",
       "      <td>4500000.0</td>\n",
       "    </tr>\n",
       "    <tr>\n",
       "      <th>2017</th>\n",
       "      <td>6.586601e+06</td>\n",
       "      <td>4500000.0</td>\n",
       "    </tr>\n",
       "    <tr>\n",
       "      <th>2018</th>\n",
       "      <td>5.951759e+06</td>\n",
       "      <td>4550000.0</td>\n",
       "    </tr>\n",
       "    <tr>\n",
       "      <th>2019</th>\n",
       "      <td>6.786618e+06</td>\n",
       "      <td>5050000.0</td>\n",
       "    </tr>\n",
       "  </tbody>\n",
       "</table>\n",
       "</div>"
      ],
      "text/plain": [
       "        mean_price  median_price\n",
       "year                            \n",
       "2014  1.208714e+07     7700000.0\n",
       "2015  8.570131e+06     5312500.0\n",
       "2016  6.823800e+06     4500000.0\n",
       "2017  6.586601e+06     4500000.0\n",
       "2018  5.951759e+06     4550000.0\n",
       "2019  6.786618e+06     5050000.0"
      ]
     },
     "execution_count": 92,
     "metadata": {},
     "output_type": "execute_result"
    }
   ],
   "source": [
    "price_year = data.pivot_table(index='year', \n",
    "                                       values='last_price', \n",
    "                                       aggfunc = ['mean', 'median'])\n",
    "price_year.columns = ['mean_price', 'median_price']\n",
    "price_year"
   ]
  },
  {
   "cell_type": "code",
   "execution_count": 93,
   "metadata": {},
   "outputs": [
    {
     "data": {
      "image/png": "[encoded data removed]",
      "text/plain": [
       "<Figure size 648x432 with 1 Axes>"
      ]
     },
     "metadata": {
      "needs_background": "light"
     },
     "output_type": "display_data"
    }
   ],
   "source": [
    "price_year.plot(kind='line',\n",
    "                         y=['mean_price', 'median_price'],\n",
    "                         figsize=(9, 6),\n",
    "                         grid=True,\n",
    "                         style='o-');"
   ]
  },
  {
   "cell_type": "markdown",
   "metadata": {},
   "source": [
    "Больше всего на цену влияют общая площадь и количество комнат, жилая площадь и площадь кухни тоже коррелируют с ценой, но влияние слабее. Первые и последнии этажи в среднем стоят меньше, чем другие. День недели не оказывает влияние на цену. Медиана цены проседает в мае-июне. С 2014 до 2018 наблюдается спад цен на недвижимость, в 2019 случился рост цен. "
   ]
  },
  {
   "cell_type": "markdown",
   "metadata": {},
   "source": [
    "Посчитаем среднюю цену одного метра в 10 населенных пунктах и наибольшем числом объявлений."
   ]
  },
  {
   "cell_type": "code",
   "execution_count": 112,
   "metadata": {},
   "outputs": [
    {
     "data": {
      "text/html": [
       "<div>\n",
       "<style scoped>\n",
       "    .dataframe tbody tr th:only-of-type {\n",
       "        vertical-align: middle;\n",
       "    }\n",
       "\n",
       "    .dataframe tbody tr th {\n",
       "        vertical-align: top;\n",
       "    }\n",
       "\n",
       "    .dataframe thead th {\n",
       "        text-align: right;\n",
       "    }\n",
       "</style>\n",
       "<table border=\"1\" class=\"dataframe\">\n",
       "  <thead>\n",
       "    <tr style=\"text-align: right;\">\n",
       "      <th></th>\n",
       "      <th>count</th>\n",
       "      <th>mean_square_meter</th>\n",
       "    </tr>\n",
       "    <tr>\n",
       "      <th>locality_name</th>\n",
       "      <th></th>\n",
       "      <th></th>\n",
       "    </tr>\n",
       "  </thead>\n",
       "  <tbody>\n",
       "    <tr>\n",
       "      <th>санкт-петербург</th>\n",
       "      <td>15733</td>\n",
       "      <td>114807.404862</td>\n",
       "    </tr>\n",
       "    <tr>\n",
       "      <th>мурино</th>\n",
       "      <td>590</td>\n",
       "      <td>86087.512050</td>\n",
       "    </tr>\n",
       "    <tr>\n",
       "      <th>кудрово</th>\n",
       "      <td>472</td>\n",
       "      <td>95324.930544</td>\n",
       "    </tr>\n",
       "    <tr>\n",
       "      <th>шушары</th>\n",
       "      <td>440</td>\n",
       "      <td>78677.364217</td>\n",
       "    </tr>\n",
       "    <tr>\n",
       "      <th>всеволожск</th>\n",
       "      <td>398</td>\n",
       "      <td>68654.473986</td>\n",
       "    </tr>\n",
       "    <tr>\n",
       "      <th>пушкин</th>\n",
       "      <td>369</td>\n",
       "      <td>103125.819291</td>\n",
       "    </tr>\n",
       "    <tr>\n",
       "      <th>колпино</th>\n",
       "      <td>338</td>\n",
       "      <td>75424.579098</td>\n",
       "    </tr>\n",
       "    <tr>\n",
       "      <th>парголово</th>\n",
       "      <td>327</td>\n",
       "      <td>90175.913458</td>\n",
       "    </tr>\n",
       "    <tr>\n",
       "      <th>гатчина</th>\n",
       "      <td>307</td>\n",
       "      <td>68746.146763</td>\n",
       "    </tr>\n",
       "    <tr>\n",
       "      <th>выборг</th>\n",
       "      <td>237</td>\n",
       "      <td>58141.909153</td>\n",
       "    </tr>\n",
       "  </tbody>\n",
       "</table>\n",
       "</div>"
      ],
      "text/plain": [
       "                 count  mean_square_meter\n",
       "locality_name                            \n",
       "санкт-петербург  15733      114807.404862\n",
       "мурино             590       86087.512050\n",
       "кудрово            472       95324.930544\n",
       "шушары             440       78677.364217\n",
       "всеволожск         398       68654.473986\n",
       "пушкин             369      103125.819291\n",
       "колпино            338       75424.579098\n",
       "парголово          327       90175.913458\n",
       "гатчина            307       68746.146763\n",
       "выборг             237       58141.909153"
      ]
     },
     "execution_count": 112,
     "metadata": {},
     "output_type": "execute_result"
    }
   ],
   "source": [
    "mean_price = data.groupby('locality_name')['price_m2'].agg(['count', 'mean']) #создадим сводную таблицу\n",
    "mean_price.columns = ['count', 'mean_square_meter']\n",
    "mean_price.sort_values(by='count', ascending=False)['mean_square_meter'].astype(int)#отсортируем таблицу\n",
    "mean_price.sort_values(by='count', ascending=False).head(10)"
   ]
  },
  {
   "cell_type": "markdown",
   "metadata": {},
   "source": [
    "Самое дорогое жилье в Санкт-Петербурге и в Пушкино, а самое дешевое в Выборге. Это скорее всего связано с расстоянием от центра, чем дальше от Санкт-Петербурга, тем дешевле можно купить квартиру."
   ]
  },
  {
   "cell_type": "markdown",
   "metadata": {},
   "source": [
    "Выделим квартиры в Санкт-Петербурге с помощью столбца locality_name и вычислим среднюю цену каждого километра."
   ]
  },
  {
   "cell_type": "code",
   "execution_count": 95,
   "metadata": {},
   "outputs": [
    {
     "data": {
      "text/html": [
       "<div>\n",
       "<style scoped>\n",
       "    .dataframe tbody tr th:only-of-type {\n",
       "        vertical-align: middle;\n",
       "    }\n",
       "\n",
       "    .dataframe tbody tr th {\n",
       "        vertical-align: top;\n",
       "    }\n",
       "\n",
       "    .dataframe thead th {\n",
       "        text-align: right;\n",
       "    }\n",
       "</style>\n",
       "<table border=\"1\" class=\"dataframe\">\n",
       "  <thead>\n",
       "    <tr style=\"text-align: right;\">\n",
       "      <th></th>\n",
       "      <th>mean_price</th>\n",
       "      <th>count</th>\n",
       "    </tr>\n",
       "    <tr>\n",
       "      <th>cityCenters_nearest_km</th>\n",
       "      <th></th>\n",
       "      <th></th>\n",
       "    </tr>\n",
       "  </thead>\n",
       "  <tbody>\n",
       "    <tr>\n",
       "      <th>0.0</th>\n",
       "      <td>3.144912e+07</td>\n",
       "      <td>27</td>\n",
       "    </tr>\n",
       "    <tr>\n",
       "      <th>1.0</th>\n",
       "      <td>2.115871e+07</td>\n",
       "      <td>193</td>\n",
       "    </tr>\n",
       "    <tr>\n",
       "      <th>2.0</th>\n",
       "      <td>1.778832e+07</td>\n",
       "      <td>310</td>\n",
       "    </tr>\n",
       "    <tr>\n",
       "      <th>3.0</th>\n",
       "      <td>1.112658e+07</td>\n",
       "      <td>350</td>\n",
       "    </tr>\n",
       "    <tr>\n",
       "      <th>4.0</th>\n",
       "      <td>1.329268e+07</td>\n",
       "      <td>691</td>\n",
       "    </tr>\n",
       "    <tr>\n",
       "      <th>5.0</th>\n",
       "      <td>1.448978e+07</td>\n",
       "      <td>921</td>\n",
       "    </tr>\n",
       "    <tr>\n",
       "      <th>6.0</th>\n",
       "      <td>1.533842e+07</td>\n",
       "      <td>618</td>\n",
       "    </tr>\n",
       "    <tr>\n",
       "      <th>7.0</th>\n",
       "      <td>1.477515e+07</td>\n",
       "      <td>420</td>\n",
       "    </tr>\n",
       "    <tr>\n",
       "      <th>8.0</th>\n",
       "      <td>9.949257e+06</td>\n",
       "      <td>596</td>\n",
       "    </tr>\n",
       "    <tr>\n",
       "      <th>9.0</th>\n",
       "      <td>6.959022e+06</td>\n",
       "      <td>595</td>\n",
       "    </tr>\n",
       "    <tr>\n",
       "      <th>10.0</th>\n",
       "      <td>6.504119e+06</td>\n",
       "      <td>719</td>\n",
       "    </tr>\n",
       "    <tr>\n",
       "      <th>11.0</th>\n",
       "      <td>6.251879e+06</td>\n",
       "      <td>1176</td>\n",
       "    </tr>\n",
       "    <tr>\n",
       "      <th>12.0</th>\n",
       "      <td>6.189565e+06</td>\n",
       "      <td>1667</td>\n",
       "    </tr>\n",
       "    <tr>\n",
       "      <th>13.0</th>\n",
       "      <td>6.083141e+06</td>\n",
       "      <td>1457</td>\n",
       "    </tr>\n",
       "    <tr>\n",
       "      <th>14.0</th>\n",
       "      <td>5.628834e+06</td>\n",
       "      <td>1277</td>\n",
       "    </tr>\n",
       "    <tr>\n",
       "      <th>15.0</th>\n",
       "      <td>5.884751e+06</td>\n",
       "      <td>1568</td>\n",
       "    </tr>\n",
       "    <tr>\n",
       "      <th>16.0</th>\n",
       "      <td>5.373131e+06</td>\n",
       "      <td>1265</td>\n",
       "    </tr>\n",
       "    <tr>\n",
       "      <th>17.0</th>\n",
       "      <td>5.280423e+06</td>\n",
       "      <td>892</td>\n",
       "    </tr>\n",
       "    <tr>\n",
       "      <th>18.0</th>\n",
       "      <td>5.091331e+06</td>\n",
       "      <td>261</td>\n",
       "    </tr>\n",
       "    <tr>\n",
       "      <th>19.0</th>\n",
       "      <td>5.037675e+06</td>\n",
       "      <td>157</td>\n",
       "    </tr>\n",
       "    <tr>\n",
       "      <th>20.0</th>\n",
       "      <td>5.951465e+06</td>\n",
       "      <td>49</td>\n",
       "    </tr>\n",
       "    <tr>\n",
       "      <th>21.0</th>\n",
       "      <td>5.493469e+06</td>\n",
       "      <td>117</td>\n",
       "    </tr>\n",
       "    <tr>\n",
       "      <th>22.0</th>\n",
       "      <td>5.415524e+06</td>\n",
       "      <td>202</td>\n",
       "    </tr>\n",
       "    <tr>\n",
       "      <th>23.0</th>\n",
       "      <td>4.985376e+06</td>\n",
       "      <td>85</td>\n",
       "    </tr>\n",
       "    <tr>\n",
       "      <th>24.0</th>\n",
       "      <td>3.854430e+06</td>\n",
       "      <td>26</td>\n",
       "    </tr>\n",
       "    <tr>\n",
       "      <th>25.0</th>\n",
       "      <td>4.052840e+06</td>\n",
       "      <td>26</td>\n",
       "    </tr>\n",
       "    <tr>\n",
       "      <th>26.0</th>\n",
       "      <td>3.973013e+06</td>\n",
       "      <td>53</td>\n",
       "    </tr>\n",
       "    <tr>\n",
       "      <th>27.0</th>\n",
       "      <td>8.300000e+06</td>\n",
       "      <td>2</td>\n",
       "    </tr>\n",
       "    <tr>\n",
       "      <th>28.0</th>\n",
       "      <td>5.026429e+06</td>\n",
       "      <td>7</td>\n",
       "    </tr>\n",
       "    <tr>\n",
       "      <th>29.0</th>\n",
       "      <td>4.236667e+06</td>\n",
       "      <td>6</td>\n",
       "    </tr>\n",
       "  </tbody>\n",
       "</table>\n",
       "</div>"
      ],
      "text/plain": [
       "                          mean_price  count\n",
       "cityCenters_nearest_km                     \n",
       "0.0                     3.144912e+07     27\n",
       "1.0                     2.115871e+07    193\n",
       "2.0                     1.778832e+07    310\n",
       "3.0                     1.112658e+07    350\n",
       "4.0                     1.329268e+07    691\n",
       "5.0                     1.448978e+07    921\n",
       "6.0                     1.533842e+07    618\n",
       "7.0                     1.477515e+07    420\n",
       "8.0                     9.949257e+06    596\n",
       "9.0                     6.959022e+06    595\n",
       "10.0                    6.504119e+06    719\n",
       "11.0                    6.251879e+06   1176\n",
       "12.0                    6.189565e+06   1667\n",
       "13.0                    6.083141e+06   1457\n",
       "14.0                    5.628834e+06   1277\n",
       "15.0                    5.884751e+06   1568\n",
       "16.0                    5.373131e+06   1265\n",
       "17.0                    5.280423e+06    892\n",
       "18.0                    5.091331e+06    261\n",
       "19.0                    5.037675e+06    157\n",
       "20.0                    5.951465e+06     49\n",
       "21.0                    5.493469e+06    117\n",
       "22.0                    5.415524e+06    202\n",
       "23.0                    4.985376e+06     85\n",
       "24.0                    3.854430e+06     26\n",
       "25.0                    4.052840e+06     26\n",
       "26.0                    3.973013e+06     53\n",
       "27.0                    8.300000e+06      2\n",
       "28.0                    5.026429e+06      7\n",
       "29.0                    4.236667e+06      6"
      ]
     },
     "execution_count": 95,
     "metadata": {},
     "output_type": "execute_result"
    }
   ],
   "source": [
    "km_price_spb = data[data['locality_name'] == 'санкт-петербург'].groupby('cityCenters_nearest_km')['last_price'].agg(['mean', 'count'])\n",
    "km_price_spb.columns = ['mean_price', 'count']\n",
    "km_price_spb"
   ]
  },
  {
   "cell_type": "code",
   "execution_count": 96,
   "metadata": {},
   "outputs": [
    {
     "data": {
      "image/png": "[encoded data removed]",
      "text/plain": [
       "<Figure size 648x432 with 1 Axes>"
      ]
     },
     "metadata": {
      "needs_background": "light"
     },
     "output_type": "display_data"
    }
   ],
   "source": [
    "km_price_spb.plot(kind='line', \n",
    "                  y='mean_price',\n",
    "                  figsize=(9, 6),\n",
    "                  grid=True,\n",
    "                  style='o-');"
   ]
  },
  {
   "cell_type": "markdown",
   "metadata": {},
   "source": [
    "Предсказуемо, чем недвижимость ближе к центру, тем она дороже. От 0го до 3го км от центра цены стремительно снижаются. 4, 5, 6, 7 км показывают примерно один уровень средней цены. 8 км на уровне 3 км. После 9го есть тренд на снижение средней цены, но он небольшой. 27й км выбивается из графика, возможно, это какое-то место с большим количеством достопримечательностей."
   ]
  },
  {
   "cell_type": "markdown",
   "metadata": {},
   "source": [
    "### Общий вывод"
   ]
  },
  {
   "cell_type": "markdown",
   "metadata": {},
   "source": [
    " Из проведенного иследования можно сделать вывод, что чем больше площадь квартиры, больше комнат, колличество жилой площади, тем выше цена, соответвенно и выше цена за квадратный метр. На первом этаже квартира дешевле, чем на остальных; на последнем дороже, чем на первом. Квартира в самом центре будет стоить дороже всего. В выходной день подается в два раза меньше объявлений чем в будний. Люди меньше подают объявления в декабре, январеь, мае, а так же в летний период. В среднем квартира продается до 3 месяца. С 2014 до 2018 цены на квартиры падали, в 2019 случился рост цен на недвижимость."
   ]
  }
 ],
 "metadata": {
  "ExecuteTimeLog": [
   {
    "duration": 93,
    "start_time": "2023-10-18T08:19:02.727Z"
   },
   {
    "duration": 431,
    "start_time": "2023-10-18T08:19:08.801Z"
   },
   {
    "duration": 305,
    "start_time": "2023-10-18T08:19:51.688Z"
   },
   {
    "duration": 489,
    "start_time": "2023-10-18T08:20:02.179Z"
   },
   {
    "duration": 85,
    "start_time": "2023-10-18T08:20:08.159Z"
   },
   {
    "duration": 89,
    "start_time": "2023-10-18T08:20:24.570Z"
   },
   {
    "duration": 90,
    "start_time": "2023-10-18T08:20:42.767Z"
   },
   {
    "duration": 83,
    "start_time": "2023-10-18T08:20:58.341Z"
   },
   {
    "duration": 907,
    "start_time": "2023-10-19T12:19:51.509Z"
   },
   {
    "duration": 139,
    "start_time": "2023-10-19T12:20:25.116Z"
   },
   {
    "duration": 121,
    "start_time": "2023-10-19T12:21:27.975Z"
   },
   {
    "duration": 23,
    "start_time": "2023-10-19T12:22:29.969Z"
   },
   {
    "duration": 485,
    "start_time": "2023-10-19T12:22:42.790Z"
   },
   {
    "duration": 11,
    "start_time": "2023-10-19T12:23:02.399Z"
   },
   {
    "duration": 78,
    "start_time": "2023-10-19T12:33:32.172Z"
   },
   {
    "duration": 20,
    "start_time": "2023-10-19T12:33:37.567Z"
   },
   {
    "duration": 15,
    "start_time": "2023-10-19T12:33:45.169Z"
   },
   {
    "duration": 154,
    "start_time": "2023-10-19T12:35:34.095Z"
   },
   {
    "duration": 21,
    "start_time": "2023-10-19T12:36:22.356Z"
   },
   {
    "duration": 108,
    "start_time": "2023-10-19T12:36:24.483Z"
   },
   {
    "duration": 607,
    "start_time": "2023-10-19T12:36:32.438Z"
   },
   {
    "duration": 34,
    "start_time": "2023-10-19T12:36:33.049Z"
   },
   {
    "duration": 2435,
    "start_time": "2023-10-19T12:45:25.794Z"
   },
   {
    "duration": 76,
    "start_time": "2023-10-19T12:46:32.217Z"
   },
   {
    "duration": 29,
    "start_time": "2023-10-19T12:46:41.946Z"
   },
   {
    "duration": 22,
    "start_time": "2023-10-19T12:46:59.606Z"
   },
   {
    "duration": 233,
    "start_time": "2023-10-19T12:50:12.161Z"
   },
   {
    "duration": 11,
    "start_time": "2023-10-19T12:51:34.465Z"
   },
   {
    "duration": 10,
    "start_time": "2023-10-19T12:51:58.169Z"
   },
   {
    "duration": 53,
    "start_time": "2023-10-24T11:24:14.332Z"
   },
   {
    "duration": 1468,
    "start_time": "2023-10-24T11:24:31.042Z"
   },
   {
    "duration": 20,
    "start_time": "2023-10-24T11:24:32.513Z"
   },
   {
    "duration": 48,
    "start_time": "2023-10-24T11:24:32.536Z"
   },
   {
    "duration": 94,
    "start_time": "2023-10-24T11:24:32.586Z"
   },
   {
    "duration": 13,
    "start_time": "2023-10-24T11:24:35.880Z"
   },
   {
    "duration": 8,
    "start_time": "2023-10-24T11:34:13.300Z"
   },
   {
    "duration": 16,
    "start_time": "2023-10-24T11:50:02.892Z"
   },
   {
    "duration": 28,
    "start_time": "2023-10-24T11:50:13.502Z"
   },
   {
    "duration": 95,
    "start_time": "2023-10-24T11:50:30.386Z"
   },
   {
    "duration": 3154,
    "start_time": "2023-10-24T11:53:15.996Z"
   },
   {
    "duration": 60,
    "start_time": "2023-10-25T06:58:45.002Z"
   },
   {
    "duration": 7,
    "start_time": "2023-10-25T06:58:52.683Z"
   },
   {
    "duration": 1196,
    "start_time": "2023-10-25T06:59:00.515Z"
   },
   {
    "duration": 22,
    "start_time": "2023-10-25T06:59:01.713Z"
   },
   {
    "duration": 40,
    "start_time": "2023-10-25T06:59:01.737Z"
   },
   {
    "duration": 119,
    "start_time": "2023-10-25T06:59:01.779Z"
   },
   {
    "duration": 3366,
    "start_time": "2023-10-25T06:59:01.900Z"
   },
   {
    "duration": 8,
    "start_time": "2023-10-25T07:43:18.169Z"
   },
   {
    "duration": 9,
    "start_time": "2023-10-25T07:43:24.171Z"
   },
   {
    "duration": 9,
    "start_time": "2023-10-25T07:43:31.775Z"
   },
   {
    "duration": 8,
    "start_time": "2023-10-25T07:46:44.599Z"
   },
   {
    "duration": 4,
    "start_time": "2023-10-25T07:46:46.974Z"
   },
   {
    "duration": 903,
    "start_time": "2023-10-25T07:46:53.016Z"
   },
   {
    "duration": 24,
    "start_time": "2023-10-25T07:46:53.922Z"
   },
   {
    "duration": 54,
    "start_time": "2023-10-25T07:46:53.948Z"
   },
   {
    "duration": 144,
    "start_time": "2023-10-25T07:46:54.006Z"
   },
   {
    "duration": 3837,
    "start_time": "2023-10-25T07:46:54.153Z"
   },
   {
    "duration": 12,
    "start_time": "2023-10-25T07:46:57.992Z"
   },
   {
    "duration": 26,
    "start_time": "2023-10-25T07:46:58.007Z"
   },
   {
    "duration": 14,
    "start_time": "2023-10-25T07:47:14.664Z"
   },
   {
    "duration": 5,
    "start_time": "2023-10-25T08:09:27.431Z"
   },
   {
    "duration": 15,
    "start_time": "2023-10-25T08:09:51.697Z"
   },
   {
    "duration": 5,
    "start_time": "2023-10-25T08:10:02.059Z"
   },
   {
    "duration": 8,
    "start_time": "2023-10-25T08:10:57.089Z"
   },
   {
    "duration": 13,
    "start_time": "2023-10-25T08:10:59.565Z"
   },
   {
    "duration": 811,
    "start_time": "2023-10-25T08:11:05.399Z"
   },
   {
    "duration": 20,
    "start_time": "2023-10-25T08:11:06.213Z"
   },
   {
    "duration": 28,
    "start_time": "2023-10-25T08:11:06.235Z"
   },
   {
    "duration": 107,
    "start_time": "2023-10-25T08:11:06.265Z"
   },
   {
    "duration": 3313,
    "start_time": "2023-10-25T08:11:06.374Z"
   },
   {
    "duration": 9,
    "start_time": "2023-10-25T08:11:09.688Z"
   },
   {
    "duration": 10,
    "start_time": "2023-10-25T08:11:09.698Z"
   },
   {
    "duration": 42,
    "start_time": "2023-10-25T08:11:09.710Z"
   },
   {
    "duration": 37,
    "start_time": "2023-10-25T08:11:09.754Z"
   },
   {
    "duration": 28,
    "start_time": "2023-10-25T08:11:09.822Z"
   },
   {
    "duration": 31,
    "start_time": "2023-10-25T08:17:43.670Z"
   },
   {
    "duration": 74,
    "start_time": "2023-10-25T08:51:11.314Z"
   },
   {
    "duration": 7,
    "start_time": "2023-10-25T08:51:32.079Z"
   },
   {
    "duration": 9,
    "start_time": "2023-10-25T08:58:41.689Z"
   },
   {
    "duration": 8,
    "start_time": "2023-10-25T08:58:54.505Z"
   },
   {
    "duration": 9,
    "start_time": "2023-10-25T08:59:41.891Z"
   },
   {
    "duration": 11,
    "start_time": "2023-10-25T09:01:03.772Z"
   },
   {
    "duration": 25,
    "start_time": "2023-10-25T09:03:09.664Z"
   },
   {
    "duration": 21,
    "start_time": "2023-10-25T09:07:22.397Z"
   },
   {
    "duration": 18,
    "start_time": "2023-10-25T09:07:28.364Z"
   },
   {
    "duration": 16,
    "start_time": "2023-10-25T09:07:42.248Z"
   },
   {
    "duration": 12,
    "start_time": "2023-10-25T09:08:12.032Z"
   },
   {
    "duration": 8,
    "start_time": "2023-10-25T09:10:42.827Z"
   },
   {
    "duration": 5,
    "start_time": "2023-10-25T09:11:48.431Z"
   },
   {
    "duration": 11,
    "start_time": "2023-10-25T09:11:49.570Z"
   },
   {
    "duration": 7,
    "start_time": "2023-10-25T09:11:53.674Z"
   },
   {
    "duration": 6,
    "start_time": "2023-10-25T09:11:57.775Z"
   },
   {
    "duration": 14,
    "start_time": "2023-10-25T09:21:40.620Z"
   },
   {
    "duration": 6,
    "start_time": "2023-10-25T09:23:10.957Z"
   },
   {
    "duration": 21,
    "start_time": "2023-10-25T09:30:41.830Z"
   },
   {
    "duration": 8,
    "start_time": "2023-10-25T09:35:28.258Z"
   },
   {
    "duration": 19,
    "start_time": "2023-10-25T09:36:16.617Z"
   },
   {
    "duration": 29,
    "start_time": "2023-10-25T09:52:17.462Z"
   },
   {
    "duration": 12,
    "start_time": "2023-10-25T10:12:39.493Z"
   },
   {
    "duration": 9,
    "start_time": "2023-10-25T10:15:11.776Z"
   },
   {
    "duration": 9,
    "start_time": "2023-10-25T10:16:14.144Z"
   },
   {
    "duration": 7,
    "start_time": "2023-10-25T10:16:31.738Z"
   },
   {
    "duration": 7,
    "start_time": "2023-10-25T10:16:38.986Z"
   },
   {
    "duration": 7,
    "start_time": "2023-10-25T10:16:48.281Z"
   },
   {
    "duration": 8,
    "start_time": "2023-10-25T10:17:04.619Z"
   },
   {
    "duration": 5,
    "start_time": "2023-10-25T10:29:37.096Z"
   },
   {
    "duration": 8,
    "start_time": "2023-10-25T10:29:45.881Z"
   },
   {
    "duration": 7,
    "start_time": "2023-10-25T10:34:43.936Z"
   },
   {
    "duration": 7,
    "start_time": "2023-10-25T10:35:03.819Z"
   },
   {
    "duration": 5,
    "start_time": "2023-10-25T10:44:53.774Z"
   },
   {
    "duration": 7,
    "start_time": "2023-10-25T10:45:45.434Z"
   },
   {
    "duration": 8,
    "start_time": "2023-10-25T10:55:26.094Z"
   },
   {
    "duration": 10,
    "start_time": "2023-10-25T10:55:40.897Z"
   },
   {
    "duration": 6,
    "start_time": "2023-10-25T10:58:43.691Z"
   },
   {
    "duration": 4,
    "start_time": "2023-10-25T10:58:46.072Z"
   },
   {
    "duration": 789,
    "start_time": "2023-10-25T10:58:52.927Z"
   },
   {
    "duration": 20,
    "start_time": "2023-10-25T10:58:53.718Z"
   },
   {
    "duration": 32,
    "start_time": "2023-10-25T10:58:53.740Z"
   },
   {
    "duration": 91,
    "start_time": "2023-10-25T10:58:53.774Z"
   },
   {
    "duration": 3112,
    "start_time": "2023-10-25T10:58:53.866Z"
   },
   {
    "duration": 9,
    "start_time": "2023-10-25T10:58:56.980Z"
   },
   {
    "duration": 10,
    "start_time": "2023-10-25T10:58:56.990Z"
   },
   {
    "duration": 21,
    "start_time": "2023-10-25T10:58:57.001Z"
   },
   {
    "duration": 8,
    "start_time": "2023-10-25T10:58:57.023Z"
   },
   {
    "duration": 11,
    "start_time": "2023-10-25T10:58:57.034Z"
   },
   {
    "duration": 13,
    "start_time": "2023-10-25T10:58:57.046Z"
   },
   {
    "duration": 12,
    "start_time": "2023-10-25T10:58:57.061Z"
   },
   {
    "duration": 15,
    "start_time": "2023-10-25T10:58:57.074Z"
   },
   {
    "duration": 24,
    "start_time": "2023-10-25T10:58:57.091Z"
   },
   {
    "duration": 24,
    "start_time": "2023-10-25T10:58:57.118Z"
   },
   {
    "duration": 32,
    "start_time": "2023-10-25T10:58:57.144Z"
   },
   {
    "duration": 22,
    "start_time": "2023-10-25T10:58:57.179Z"
   },
   {
    "duration": 32,
    "start_time": "2023-10-25T10:58:57.203Z"
   },
   {
    "duration": 11,
    "start_time": "2023-10-25T10:58:57.237Z"
   },
   {
    "duration": 17,
    "start_time": "2023-10-25T10:58:57.250Z"
   },
   {
    "duration": 44,
    "start_time": "2023-10-25T10:58:57.269Z"
   },
   {
    "duration": 45,
    "start_time": "2023-10-25T10:58:57.316Z"
   },
   {
    "duration": 28,
    "start_time": "2023-10-25T10:58:57.364Z"
   },
   {
    "duration": 51,
    "start_time": "2023-10-25T10:58:57.395Z"
   },
   {
    "duration": 195,
    "start_time": "2023-10-25T10:58:57.448Z"
   },
   {
    "duration": 201,
    "start_time": "2023-10-25T10:58:57.645Z"
   },
   {
    "duration": 31,
    "start_time": "2023-10-25T10:58:57.848Z"
   },
   {
    "duration": 22,
    "start_time": "2023-10-25T10:58:57.882Z"
   },
   {
    "duration": 16,
    "start_time": "2023-10-25T10:58:57.952Z"
   },
   {
    "duration": 6,
    "start_time": "2023-10-25T10:59:13.118Z"
   },
   {
    "duration": 5,
    "start_time": "2023-10-25T10:59:27.499Z"
   },
   {
    "duration": 820,
    "start_time": "2023-10-25T11:00:46.594Z"
   },
   {
    "duration": 29,
    "start_time": "2023-10-25T11:00:47.416Z"
   },
   {
    "duration": 29,
    "start_time": "2023-10-25T11:00:47.447Z"
   },
   {
    "duration": 95,
    "start_time": "2023-10-25T11:00:47.478Z"
   },
   {
    "duration": 3043,
    "start_time": "2023-10-25T11:00:47.575Z"
   },
   {
    "duration": 9,
    "start_time": "2023-10-25T11:00:50.620Z"
   },
   {
    "duration": 56,
    "start_time": "2023-10-25T11:00:50.631Z"
   },
   {
    "duration": 102,
    "start_time": "2023-10-25T11:00:50.689Z"
   },
   {
    "duration": 158,
    "start_time": "2023-10-25T11:00:50.792Z"
   },
   {
    "duration": 60,
    "start_time": "2023-10-25T11:00:50.953Z"
   },
   {
    "duration": 120,
    "start_time": "2023-10-25T11:00:51.015Z"
   },
   {
    "duration": 76,
    "start_time": "2023-10-25T11:00:51.137Z"
   },
   {
    "duration": 102,
    "start_time": "2023-10-25T11:00:51.215Z"
   },
   {
    "duration": 51,
    "start_time": "2023-10-25T11:00:51.318Z"
   },
   {
    "duration": 66,
    "start_time": "2023-10-25T11:00:51.371Z"
   },
   {
    "duration": 50,
    "start_time": "2023-10-25T11:00:51.438Z"
   },
   {
    "duration": 61,
    "start_time": "2023-10-25T11:00:51.491Z"
   },
   {
    "duration": 28,
    "start_time": "2023-10-25T11:00:51.554Z"
   },
   {
    "duration": 22,
    "start_time": "2023-10-25T11:00:51.584Z"
   },
   {
    "duration": 87,
    "start_time": "2023-10-25T11:00:51.608Z"
   },
   {
    "duration": 52,
    "start_time": "2023-10-25T11:00:51.697Z"
   },
   {
    "duration": 44,
    "start_time": "2023-10-25T11:00:51.751Z"
   },
   {
    "duration": 53,
    "start_time": "2023-10-25T11:00:51.797Z"
   },
   {
    "duration": 70,
    "start_time": "2023-10-25T11:00:51.852Z"
   },
   {
    "duration": 60,
    "start_time": "2023-10-25T11:00:51.924Z"
   },
   {
    "duration": 45,
    "start_time": "2023-10-25T11:00:51.986Z"
   },
   {
    "duration": 48,
    "start_time": "2023-10-25T11:00:52.033Z"
   },
   {
    "duration": 56,
    "start_time": "2023-10-25T11:00:52.084Z"
   },
   {
    "duration": 42,
    "start_time": "2023-10-25T11:00:52.185Z"
   },
   {
    "duration": 81,
    "start_time": "2023-10-25T11:00:52.229Z"
   },
   {
    "duration": 7,
    "start_time": "2023-10-25T11:03:35.926Z"
   },
   {
    "duration": 4,
    "start_time": "2023-10-25T11:06:32.721Z"
   },
   {
    "duration": 3,
    "start_time": "2023-10-25T11:06:35.162Z"
   },
   {
    "duration": 5,
    "start_time": "2023-10-25T11:06:39.407Z"
   },
   {
    "duration": 5,
    "start_time": "2023-10-25T11:14:58.041Z"
   },
   {
    "duration": 6,
    "start_time": "2023-10-25T11:16:02.900Z"
   },
   {
    "duration": 8,
    "start_time": "2023-10-25T11:16:28.796Z"
   },
   {
    "duration": 3514,
    "start_time": "2023-10-25T11:18:48.329Z"
   },
   {
    "duration": 3557,
    "start_time": "2023-10-25T11:19:00.300Z"
   },
   {
    "duration": 214,
    "start_time": "2023-10-25T11:21:59.511Z"
   },
   {
    "duration": 9,
    "start_time": "2023-10-25T11:22:08.443Z"
   },
   {
    "duration": 9,
    "start_time": "2023-10-25T11:22:58.800Z"
   },
   {
    "duration": 76,
    "start_time": "2023-10-25T11:23:07.291Z"
   },
   {
    "duration": 9,
    "start_time": "2023-10-25T11:51:43.247Z"
   },
   {
    "duration": 25,
    "start_time": "2023-10-25T11:51:52.639Z"
   },
   {
    "duration": 16,
    "start_time": "2023-10-25T12:00:35.739Z"
   },
   {
    "duration": 8,
    "start_time": "2023-10-25T12:03:27.217Z"
   },
   {
    "duration": 8,
    "start_time": "2023-10-25T12:04:28.930Z"
   },
   {
    "duration": 9,
    "start_time": "2023-10-25T12:05:14.414Z"
   },
   {
    "duration": 811,
    "start_time": "2023-10-25T12:05:19.494Z"
   },
   {
    "duration": 20,
    "start_time": "2023-10-25T12:05:20.307Z"
   },
   {
    "duration": 54,
    "start_time": "2023-10-25T12:05:20.330Z"
   },
   {
    "duration": 88,
    "start_time": "2023-10-25T12:05:20.386Z"
   },
   {
    "duration": 3139,
    "start_time": "2023-10-25T12:05:20.476Z"
   },
   {
    "duration": 9,
    "start_time": "2023-10-25T12:05:23.617Z"
   },
   {
    "duration": 16,
    "start_time": "2023-10-25T12:05:23.627Z"
   },
   {
    "duration": 22,
    "start_time": "2023-10-25T12:05:23.645Z"
   },
   {
    "duration": 14,
    "start_time": "2023-10-25T12:05:23.669Z"
   },
   {
    "duration": 15,
    "start_time": "2023-10-25T12:05:23.686Z"
   },
   {
    "duration": 13,
    "start_time": "2023-10-25T12:05:23.703Z"
   },
   {
    "duration": 42,
    "start_time": "2023-10-25T12:05:23.718Z"
   },
   {
    "duration": 31,
    "start_time": "2023-10-25T12:05:23.762Z"
   },
   {
    "duration": 19,
    "start_time": "2023-10-25T12:05:23.795Z"
   },
   {
    "duration": 24,
    "start_time": "2023-10-25T12:05:23.815Z"
   },
   {
    "duration": 24,
    "start_time": "2023-10-25T12:05:23.841Z"
   },
   {
    "duration": 5,
    "start_time": "2023-10-25T12:05:23.867Z"
   },
   {
    "duration": 15,
    "start_time": "2023-10-25T12:05:23.874Z"
   },
   {
    "duration": 11,
    "start_time": "2023-10-25T12:05:23.891Z"
   },
   {
    "duration": 16,
    "start_time": "2023-10-25T12:05:23.903Z"
   },
   {
    "duration": 13,
    "start_time": "2023-10-25T12:05:23.921Z"
   },
   {
    "duration": 39,
    "start_time": "2023-10-25T12:05:23.936Z"
   },
   {
    "duration": 22,
    "start_time": "2023-10-25T12:05:23.977Z"
   },
   {
    "duration": 25,
    "start_time": "2023-10-25T12:05:24.001Z"
   },
   {
    "duration": 24,
    "start_time": "2023-10-25T12:05:24.028Z"
   },
   {
    "duration": 10,
    "start_time": "2023-10-25T12:05:24.054Z"
   },
   {
    "duration": 21,
    "start_time": "2023-10-25T12:05:24.066Z"
   },
   {
    "duration": 13,
    "start_time": "2023-10-25T12:05:24.090Z"
   },
   {
    "duration": 8,
    "start_time": "2023-10-25T12:05:24.105Z"
   },
   {
    "duration": 18,
    "start_time": "2023-10-25T12:05:24.115Z"
   },
   {
    "duration": 19,
    "start_time": "2023-10-25T12:05:24.135Z"
   },
   {
    "duration": 43,
    "start_time": "2023-10-25T12:05:24.156Z"
   },
   {
    "duration": 15,
    "start_time": "2023-10-25T12:05:24.201Z"
   },
   {
    "duration": 14,
    "start_time": "2023-10-25T12:05:24.219Z"
   },
   {
    "duration": 13,
    "start_time": "2023-10-25T12:05:24.235Z"
   },
   {
    "duration": 32,
    "start_time": "2023-10-25T12:05:24.251Z"
   },
   {
    "duration": 30,
    "start_time": "2023-10-25T12:05:24.285Z"
   },
   {
    "duration": 4,
    "start_time": "2023-10-25T12:05:24.317Z"
   },
   {
    "duration": 45,
    "start_time": "2023-10-25T12:05:24.410Z"
   },
   {
    "duration": 5,
    "start_time": "2023-10-25T12:05:58.511Z"
   },
   {
    "duration": 51,
    "start_time": "2023-10-25T12:05:59.668Z"
   },
   {
    "duration": 15,
    "start_time": "2023-10-25T12:10:42.743Z"
   },
   {
    "duration": 11,
    "start_time": "2023-10-25T12:14:10.459Z"
   },
   {
    "duration": 16,
    "start_time": "2023-10-25T12:18:39.249Z"
   },
   {
    "duration": 7,
    "start_time": "2023-10-25T12:22:20.977Z"
   },
   {
    "duration": 19,
    "start_time": "2023-10-25T12:22:58.813Z"
   },
   {
    "duration": 13,
    "start_time": "2023-10-25T12:23:00.711Z"
   },
   {
    "duration": 3,
    "start_time": "2023-10-25T12:36:47.968Z"
   },
   {
    "duration": 8,
    "start_time": "2023-10-25T12:37:07.485Z"
   },
   {
    "duration": 7,
    "start_time": "2023-10-25T12:40:49.925Z"
   },
   {
    "duration": 76,
    "start_time": "2023-10-25T12:41:18.470Z"
   },
   {
    "duration": 37,
    "start_time": "2023-10-25T12:42:04.939Z"
   },
   {
    "duration": 34,
    "start_time": "2023-10-25T12:42:24.323Z"
   },
   {
    "duration": 6,
    "start_time": "2023-10-25T12:43:34.741Z"
   },
   {
    "duration": 34,
    "start_time": "2023-10-25T12:43:43.784Z"
   },
   {
    "duration": 48,
    "start_time": "2023-10-26T06:32:47.092Z"
   },
   {
    "duration": 1141,
    "start_time": "2023-10-26T06:33:03.742Z"
   },
   {
    "duration": 22,
    "start_time": "2023-10-26T06:33:04.885Z"
   },
   {
    "duration": 29,
    "start_time": "2023-10-26T06:33:04.909Z"
   },
   {
    "duration": 100,
    "start_time": "2023-10-26T06:33:04.941Z"
   },
   {
    "duration": 2936,
    "start_time": "2023-10-26T06:33:05.042Z"
   },
   {
    "duration": 9,
    "start_time": "2023-10-26T06:33:07.980Z"
   },
   {
    "duration": 9,
    "start_time": "2023-10-26T06:33:07.991Z"
   },
   {
    "duration": 27,
    "start_time": "2023-10-26T06:33:08.001Z"
   },
   {
    "duration": 13,
    "start_time": "2023-10-26T06:33:08.030Z"
   },
   {
    "duration": 17,
    "start_time": "2023-10-26T06:33:08.047Z"
   },
   {
    "duration": 10,
    "start_time": "2023-10-26T06:33:08.066Z"
   },
   {
    "duration": 9,
    "start_time": "2023-10-26T06:33:08.077Z"
   },
   {
    "duration": 13,
    "start_time": "2023-10-26T06:33:08.088Z"
   },
   {
    "duration": 7,
    "start_time": "2023-10-26T06:33:08.103Z"
   },
   {
    "duration": 12,
    "start_time": "2023-10-26T06:33:08.112Z"
   },
   {
    "duration": 10,
    "start_time": "2023-10-26T06:33:08.125Z"
   },
   {
    "duration": 8,
    "start_time": "2023-10-26T06:33:08.137Z"
   },
   {
    "duration": 25,
    "start_time": "2023-10-26T06:33:08.146Z"
   },
   {
    "duration": 8,
    "start_time": "2023-10-26T06:33:08.173Z"
   },
   {
    "duration": 26,
    "start_time": "2023-10-26T06:33:08.182Z"
   },
   {
    "duration": 7,
    "start_time": "2023-10-26T06:33:08.209Z"
   },
   {
    "duration": 12,
    "start_time": "2023-10-26T06:33:08.218Z"
   },
   {
    "duration": 10,
    "start_time": "2023-10-26T06:33:08.231Z"
   },
   {
    "duration": 5,
    "start_time": "2023-10-26T06:33:08.243Z"
   },
   {
    "duration": 7,
    "start_time": "2023-10-26T06:33:08.249Z"
   },
   {
    "duration": 44,
    "start_time": "2023-10-26T06:33:08.258Z"
   },
   {
    "duration": 5,
    "start_time": "2023-10-26T06:33:08.304Z"
   },
   {
    "duration": 19,
    "start_time": "2023-10-26T06:33:08.312Z"
   },
   {
    "duration": 15,
    "start_time": "2023-10-26T06:33:08.333Z"
   },
   {
    "duration": 16,
    "start_time": "2023-10-26T06:33:08.350Z"
   },
   {
    "duration": 10,
    "start_time": "2023-10-26T06:33:08.368Z"
   },
   {
    "duration": 13,
    "start_time": "2023-10-26T06:33:08.380Z"
   },
   {
    "duration": 11,
    "start_time": "2023-10-26T06:33:08.395Z"
   },
   {
    "duration": 10,
    "start_time": "2023-10-26T06:33:08.408Z"
   },
   {
    "duration": 8,
    "start_time": "2023-10-26T06:33:08.420Z"
   },
   {
    "duration": 32,
    "start_time": "2023-10-26T06:33:08.430Z"
   },
   {
    "duration": 16,
    "start_time": "2023-10-26T06:33:08.464Z"
   },
   {
    "duration": 21,
    "start_time": "2023-10-26T06:33:08.481Z"
   },
   {
    "duration": 72,
    "start_time": "2023-10-26T06:33:08.504Z"
   },
   {
    "duration": 13,
    "start_time": "2023-10-26T06:33:08.578Z"
   },
   {
    "duration": 25,
    "start_time": "2023-10-26T06:33:08.592Z"
   },
   {
    "duration": 31,
    "start_time": "2023-10-26T06:33:08.618Z"
   },
   {
    "duration": 49,
    "start_time": "2023-10-26T06:33:08.651Z"
   },
   {
    "duration": 24,
    "start_time": "2023-10-26T06:33:08.703Z"
   },
   {
    "duration": 44,
    "start_time": "2023-10-26T06:33:08.729Z"
   },
   {
    "duration": 12,
    "start_time": "2023-10-26T06:33:08.775Z"
   },
   {
    "duration": 9,
    "start_time": "2023-10-26T06:33:08.789Z"
   },
   {
    "duration": 36,
    "start_time": "2023-10-26T06:33:08.799Z"
   },
   {
    "duration": 98,
    "start_time": "2023-10-26T06:33:08.836Z"
   },
   {
    "duration": 0,
    "start_time": "2023-10-26T06:33:08.936Z"
   },
   {
    "duration": 0,
    "start_time": "2023-10-26T06:33:08.937Z"
   },
   {
    "duration": 0,
    "start_time": "2023-10-26T06:33:08.938Z"
   },
   {
    "duration": 0,
    "start_time": "2023-10-26T06:33:08.939Z"
   },
   {
    "duration": 0,
    "start_time": "2023-10-26T06:33:08.940Z"
   },
   {
    "duration": 5,
    "start_time": "2023-10-26T06:33:09.698Z"
   },
   {
    "duration": 4,
    "start_time": "2023-10-26T06:33:12.887Z"
   },
   {
    "duration": 6,
    "start_time": "2023-10-26T06:33:25.162Z"
   },
   {
    "duration": 9,
    "start_time": "2023-10-26T06:35:47.579Z"
   },
   {
    "duration": 30,
    "start_time": "2023-10-26T06:35:52.164Z"
   },
   {
    "duration": 27,
    "start_time": "2023-10-26T06:35:54.785Z"
   },
   {
    "duration": 11,
    "start_time": "2023-10-26T06:35:55.911Z"
   },
   {
    "duration": 38,
    "start_time": "2023-10-26T06:36:00.699Z"
   },
   {
    "duration": 10,
    "start_time": "2023-10-26T06:36:42.822Z"
   },
   {
    "duration": 14,
    "start_time": "2023-10-26T06:42:23.086Z"
   },
   {
    "duration": 129,
    "start_time": "2023-10-26T06:45:16.331Z"
   },
   {
    "duration": 292,
    "start_time": "2023-10-26T06:45:18.038Z"
   },
   {
    "duration": 9,
    "start_time": "2023-10-26T06:47:35.167Z"
   },
   {
    "duration": 1146,
    "start_time": "2023-10-26T06:48:33.160Z"
   },
   {
    "duration": 1051,
    "start_time": "2023-10-26T06:48:35.335Z"
   },
   {
    "duration": 5,
    "start_time": "2023-10-26T06:48:48.196Z"
   },
   {
    "duration": 91,
    "start_time": "2023-10-26T06:49:20.387Z"
   },
   {
    "duration": 291,
    "start_time": "2023-10-26T06:50:34.653Z"
   },
   {
    "duration": 281,
    "start_time": "2023-10-26T06:54:22.845Z"
   },
   {
    "duration": 7,
    "start_time": "2023-10-26T06:57:39.545Z"
   },
   {
    "duration": 873,
    "start_time": "2023-10-26T07:17:44.422Z"
   },
   {
    "duration": 784,
    "start_time": "2023-10-26T07:18:24.997Z"
   },
   {
    "duration": 2608,
    "start_time": "2023-10-26T07:20:23.929Z"
   },
   {
    "duration": 30,
    "start_time": "2023-10-26T07:20:57.821Z"
   },
   {
    "duration": 891,
    "start_time": "2023-10-26T07:23:28.922Z"
   },
   {
    "duration": 382,
    "start_time": "2023-10-26T07:31:50.854Z"
   },
   {
    "duration": 359,
    "start_time": "2023-10-26T07:32:47.174Z"
   },
   {
    "duration": 444,
    "start_time": "2023-10-26T07:33:29.940Z"
   },
   {
    "duration": 436,
    "start_time": "2023-10-26T07:33:39.590Z"
   },
   {
    "duration": 385,
    "start_time": "2023-10-26T07:34:09.454Z"
   },
   {
    "duration": 340,
    "start_time": "2023-10-26T07:35:37.426Z"
   },
   {
    "duration": 194,
    "start_time": "2023-10-26T07:35:45.465Z"
   },
   {
    "duration": 12,
    "start_time": "2023-10-26T07:36:42.518Z"
   },
   {
    "duration": 11,
    "start_time": "2023-10-26T07:37:42.145Z"
   },
   {
    "duration": 9,
    "start_time": "2023-10-26T07:59:07.622Z"
   },
   {
    "duration": 215,
    "start_time": "2023-10-26T08:02:12.333Z"
   },
   {
    "duration": 232,
    "start_time": "2023-10-26T08:07:04.766Z"
   },
   {
    "duration": 275,
    "start_time": "2023-10-26T08:07:21.714Z"
   },
   {
    "duration": 405,
    "start_time": "2023-10-26T08:09:06.978Z"
   },
   {
    "duration": 211,
    "start_time": "2023-10-26T08:11:46.101Z"
   },
   {
    "duration": 191,
    "start_time": "2023-10-26T08:12:05.023Z"
   },
   {
    "duration": 183,
    "start_time": "2023-10-26T08:12:11.866Z"
   },
   {
    "duration": 264,
    "start_time": "2023-10-26T08:12:49.977Z"
   },
   {
    "duration": 231,
    "start_time": "2023-10-26T08:13:06.744Z"
   },
   {
    "duration": 469,
    "start_time": "2023-10-26T08:14:30.166Z"
   },
   {
    "duration": 478,
    "start_time": "2023-10-26T08:16:02.762Z"
   },
   {
    "duration": 1444,
    "start_time": "2023-10-26T08:16:21.373Z"
   },
   {
    "duration": 280,
    "start_time": "2023-10-26T08:16:34.199Z"
   },
   {
    "duration": 90,
    "start_time": "2023-10-26T08:17:02.019Z"
   },
   {
    "duration": 245,
    "start_time": "2023-10-26T08:17:12.852Z"
   },
   {
    "duration": 198,
    "start_time": "2023-10-26T08:17:23.132Z"
   },
   {
    "duration": 210,
    "start_time": "2023-10-26T08:17:33.543Z"
   },
   {
    "duration": 542,
    "start_time": "2023-10-26T08:18:15.686Z"
   },
   {
    "duration": 236,
    "start_time": "2023-10-26T08:18:32.263Z"
   },
   {
    "duration": 1573,
    "start_time": "2023-10-26T08:21:42.027Z"
   },
   {
    "duration": 2027,
    "start_time": "2023-10-26T08:21:50.683Z"
   },
   {
    "duration": 307,
    "start_time": "2023-10-26T08:22:03.037Z"
   },
   {
    "duration": 197,
    "start_time": "2023-10-26T08:22:47.978Z"
   },
   {
    "duration": 986,
    "start_time": "2023-10-26T08:25:43.143Z"
   },
   {
    "duration": 958,
    "start_time": "2023-10-26T08:26:16.599Z"
   },
   {
    "duration": 1168,
    "start_time": "2023-10-26T08:27:38.671Z"
   },
   {
    "duration": 11,
    "start_time": "2023-10-26T08:36:03.979Z"
   },
   {
    "duration": 13,
    "start_time": "2023-10-26T08:36:38.022Z"
   },
   {
    "duration": 14,
    "start_time": "2023-10-26T08:36:41.820Z"
   },
   {
    "duration": 11,
    "start_time": "2023-10-26T08:36:47.071Z"
   },
   {
    "duration": 11,
    "start_time": "2023-10-26T08:41:44.137Z"
   },
   {
    "duration": 10,
    "start_time": "2023-10-26T08:41:58.777Z"
   },
   {
    "duration": 18,
    "start_time": "2023-10-26T08:42:08.219Z"
   },
   {
    "duration": 17,
    "start_time": "2023-10-26T08:52:14.230Z"
   },
   {
    "duration": 10,
    "start_time": "2023-10-26T08:52:28.969Z"
   },
   {
    "duration": 5,
    "start_time": "2023-10-26T08:52:53.959Z"
   },
   {
    "duration": 85,
    "start_time": "2023-10-26T08:53:32.010Z"
   },
   {
    "duration": 155,
    "start_time": "2023-10-26T08:53:39.799Z"
   },
   {
    "duration": 89,
    "start_time": "2023-10-26T08:53:45.927Z"
   },
   {
    "duration": 242,
    "start_time": "2023-10-26T08:53:53.161Z"
   },
   {
    "duration": 3684,
    "start_time": "2023-10-26T09:04:03.986Z"
   },
   {
    "duration": 213,
    "start_time": "2023-10-26T09:07:41.782Z"
   },
   {
    "duration": 15,
    "start_time": "2023-10-26T09:08:10.116Z"
   },
   {
    "duration": 14,
    "start_time": "2023-10-26T09:10:17.190Z"
   },
   {
    "duration": 227,
    "start_time": "2023-10-26T09:10:26.638Z"
   },
   {
    "duration": 13,
    "start_time": "2023-10-26T09:11:36.072Z"
   },
   {
    "duration": 275,
    "start_time": "2023-10-26T09:11:44.818Z"
   },
   {
    "duration": 31,
    "start_time": "2023-10-26T09:12:38.933Z"
   },
   {
    "duration": 32,
    "start_time": "2023-10-26T09:13:17.861Z"
   },
   {
    "duration": 30,
    "start_time": "2023-10-26T09:13:36.944Z"
   },
   {
    "duration": 36,
    "start_time": "2023-10-26T09:14:06.407Z"
   },
   {
    "duration": 279,
    "start_time": "2023-10-26T09:14:22.062Z"
   },
   {
    "duration": 9,
    "start_time": "2023-10-26T09:17:27.168Z"
   },
   {
    "duration": 34,
    "start_time": "2023-10-26T09:17:50.184Z"
   },
   {
    "duration": 10,
    "start_time": "2023-10-26T09:17:58.078Z"
   },
   {
    "duration": 227,
    "start_time": "2023-10-26T09:18:14.340Z"
   },
   {
    "duration": 25,
    "start_time": "2023-10-26T09:18:45.122Z"
   },
   {
    "duration": 186,
    "start_time": "2023-10-26T09:19:07.159Z"
   },
   {
    "duration": 22,
    "start_time": "2023-10-26T09:20:50.833Z"
   },
   {
    "duration": 198,
    "start_time": "2023-10-26T09:21:11.755Z"
   },
   {
    "duration": 36,
    "start_time": "2023-10-26T09:21:40.704Z"
   },
   {
    "duration": 24,
    "start_time": "2023-10-26T09:21:56.068Z"
   },
   {
    "duration": 263,
    "start_time": "2023-10-26T09:22:31.345Z"
   },
   {
    "duration": 21,
    "start_time": "2023-10-26T09:23:01.663Z"
   },
   {
    "duration": 292,
    "start_time": "2023-10-26T09:23:17.770Z"
   },
   {
    "duration": 14,
    "start_time": "2023-10-26T09:30:10.679Z"
   },
   {
    "duration": 16,
    "start_time": "2023-10-26T09:31:45.877Z"
   },
   {
    "duration": 16,
    "start_time": "2023-10-26T09:33:24.215Z"
   },
   {
    "duration": 1081,
    "start_time": "2023-10-26T09:33:30.139Z"
   },
   {
    "duration": 22,
    "start_time": "2023-10-26T09:33:31.222Z"
   },
   {
    "duration": 342,
    "start_time": "2023-10-26T09:33:31.245Z"
   },
   {
    "duration": 146,
    "start_time": "2023-10-26T09:33:31.589Z"
   },
   {
    "duration": 3634,
    "start_time": "2023-10-26T09:33:31.737Z"
   },
   {
    "duration": 12,
    "start_time": "2023-10-26T09:33:35.373Z"
   },
   {
    "duration": 5,
    "start_time": "2023-10-26T09:33:35.386Z"
   },
   {
    "duration": 45,
    "start_time": "2023-10-26T09:33:35.392Z"
   },
   {
    "duration": 10,
    "start_time": "2023-10-26T09:33:35.438Z"
   },
   {
    "duration": 27,
    "start_time": "2023-10-26T09:33:35.450Z"
   },
   {
    "duration": 29,
    "start_time": "2023-10-26T09:33:35.478Z"
   },
   {
    "duration": 31,
    "start_time": "2023-10-26T09:33:35.509Z"
   },
   {
    "duration": 19,
    "start_time": "2023-10-26T09:33:35.542Z"
   },
   {
    "duration": 27,
    "start_time": "2023-10-26T09:33:35.563Z"
   },
   {
    "duration": 21,
    "start_time": "2023-10-26T09:33:35.592Z"
   },
   {
    "duration": 12,
    "start_time": "2023-10-26T09:33:35.615Z"
   },
   {
    "duration": 12,
    "start_time": "2023-10-26T09:33:35.631Z"
   },
   {
    "duration": 45,
    "start_time": "2023-10-26T09:33:35.645Z"
   },
   {
    "duration": 30,
    "start_time": "2023-10-26T09:33:35.691Z"
   },
   {
    "duration": 11,
    "start_time": "2023-10-26T09:33:35.723Z"
   },
   {
    "duration": 39,
    "start_time": "2023-10-26T09:33:35.736Z"
   },
   {
    "duration": 48,
    "start_time": "2023-10-26T09:33:35.778Z"
   },
   {
    "duration": 25,
    "start_time": "2023-10-26T09:33:35.828Z"
   },
   {
    "duration": 12,
    "start_time": "2023-10-26T09:33:35.855Z"
   },
   {
    "duration": 65,
    "start_time": "2023-10-26T09:33:35.869Z"
   },
   {
    "duration": 34,
    "start_time": "2023-10-26T09:33:35.937Z"
   },
   {
    "duration": 11,
    "start_time": "2023-10-26T09:33:35.973Z"
   },
   {
    "duration": 35,
    "start_time": "2023-10-26T09:33:35.988Z"
   },
   {
    "duration": 75,
    "start_time": "2023-10-26T09:33:36.025Z"
   },
   {
    "duration": 283,
    "start_time": "2023-10-26T09:33:36.108Z"
   },
   {
    "duration": 34,
    "start_time": "2023-10-26T09:33:36.394Z"
   },
   {
    "duration": 22,
    "start_time": "2023-10-26T09:33:36.430Z"
   },
   {
    "duration": 33,
    "start_time": "2023-10-26T09:33:36.454Z"
   },
   {
    "duration": 55,
    "start_time": "2023-10-26T09:33:36.489Z"
   },
   {
    "duration": 27,
    "start_time": "2023-10-26T09:33:36.546Z"
   },
   {
    "duration": 61,
    "start_time": "2023-10-26T09:33:36.575Z"
   },
   {
    "duration": 68,
    "start_time": "2023-10-26T09:33:36.640Z"
   },
   {
    "duration": 5,
    "start_time": "2023-10-26T09:33:36.710Z"
   },
   {
    "duration": 77,
    "start_time": "2023-10-26T09:33:36.717Z"
   },
   {
    "duration": 23,
    "start_time": "2023-10-26T09:33:36.796Z"
   },
   {
    "duration": 32,
    "start_time": "2023-10-26T09:33:36.825Z"
   },
   {
    "duration": 24,
    "start_time": "2023-10-26T09:33:36.859Z"
   },
   {
    "duration": 26,
    "start_time": "2023-10-26T09:33:36.885Z"
   },
   {
    "duration": 8,
    "start_time": "2023-10-26T09:33:36.913Z"
   },
   {
    "duration": 85,
    "start_time": "2023-10-26T09:33:36.923Z"
   },
   {
    "duration": 19,
    "start_time": "2023-10-26T09:33:37.010Z"
   },
   {
    "duration": 6,
    "start_time": "2023-10-26T09:33:37.031Z"
   },
   {
    "duration": 36,
    "start_time": "2023-10-26T09:33:37.040Z"
   },
   {
    "duration": 42,
    "start_time": "2023-10-26T09:33:37.078Z"
   },
   {
    "duration": 13,
    "start_time": "2023-10-26T09:33:37.124Z"
   },
   {
    "duration": 56,
    "start_time": "2023-10-26T09:33:37.141Z"
   },
   {
    "duration": 15,
    "start_time": "2023-10-26T09:33:37.199Z"
   },
   {
    "duration": 34,
    "start_time": "2023-10-26T09:33:37.221Z"
   },
   {
    "duration": 11,
    "start_time": "2023-10-26T09:33:37.257Z"
   },
   {
    "duration": 134,
    "start_time": "2023-10-26T09:33:37.269Z"
   },
   {
    "duration": 14,
    "start_time": "2023-10-26T09:33:37.405Z"
   },
   {
    "duration": 158,
    "start_time": "2023-10-26T09:33:37.428Z"
   },
   {
    "duration": 70,
    "start_time": "2023-10-26T09:33:37.588Z"
   },
   {
    "duration": 466,
    "start_time": "2023-10-26T09:33:37.660Z"
   },
   {
    "duration": 9,
    "start_time": "2023-10-26T09:33:38.131Z"
   },
   {
    "duration": 101,
    "start_time": "2023-10-26T09:33:38.143Z"
   },
   {
    "duration": 1166,
    "start_time": "2023-10-26T09:33:38.246Z"
   },
   {
    "duration": 15,
    "start_time": "2023-10-26T09:33:39.419Z"
   },
   {
    "duration": 249,
    "start_time": "2023-10-26T09:33:39.437Z"
   },
   {
    "duration": 174,
    "start_time": "2023-10-26T09:33:39.689Z"
   },
   {
    "duration": 221,
    "start_time": "2023-10-26T09:33:39.865Z"
   },
   {
    "duration": 190,
    "start_time": "2023-10-26T09:33:40.088Z"
   },
   {
    "duration": 171,
    "start_time": "2023-10-26T09:33:40.280Z"
   },
   {
    "duration": 556,
    "start_time": "2023-10-26T09:33:40.452Z"
   },
   {
    "duration": 244,
    "start_time": "2023-10-26T09:33:41.011Z"
   },
   {
    "duration": 215,
    "start_time": "2023-10-26T09:33:41.257Z"
   },
   {
    "duration": 232,
    "start_time": "2023-10-26T09:33:41.475Z"
   },
   {
    "duration": 17,
    "start_time": "2023-10-26T09:33:41.712Z"
   },
   {
    "duration": 13,
    "start_time": "2023-10-26T09:33:41.732Z"
   },
   {
    "duration": 269,
    "start_time": "2023-10-26T09:33:41.747Z"
   },
   {
    "duration": 231,
    "start_time": "2023-10-26T09:33:42.018Z"
   },
   {
    "duration": 9,
    "start_time": "2023-10-26T09:33:42.251Z"
   },
   {
    "duration": 18,
    "start_time": "2023-10-26T09:33:42.262Z"
   },
   {
    "duration": 247,
    "start_time": "2023-10-26T09:33:42.281Z"
   },
   {
    "duration": 11,
    "start_time": "2023-10-26T09:33:42.531Z"
   },
   {
    "duration": 252,
    "start_time": "2023-10-26T09:33:42.545Z"
   },
   {
    "duration": 50,
    "start_time": "2023-10-26T09:33:42.808Z"
   },
   {
    "duration": 262,
    "start_time": "2023-10-26T09:33:42.860Z"
   },
   {
    "duration": 27,
    "start_time": "2023-10-26T09:33:43.126Z"
   },
   {
    "duration": 205,
    "start_time": "2023-10-26T09:33:43.155Z"
   },
   {
    "duration": 21,
    "start_time": "2023-10-26T09:33:43.362Z"
   },
   {
    "duration": 299,
    "start_time": "2023-10-26T09:33:43.385Z"
   },
   {
    "duration": 37,
    "start_time": "2023-10-26T09:33:43.685Z"
   },
   {
    "duration": 233,
    "start_time": "2023-10-26T09:33:43.724Z"
   },
   {
    "duration": 21,
    "start_time": "2023-10-26T09:33:43.959Z"
   },
   {
    "duration": 204,
    "start_time": "2023-10-26T09:33:43.982Z"
   },
   {
    "duration": 0,
    "start_time": "2023-10-26T09:33:44.297Z"
   },
   {
    "duration": 11,
    "start_time": "2023-10-26T09:33:49.163Z"
   },
   {
    "duration": 16,
    "start_time": "2023-10-26T09:39:23.991Z"
   },
   {
    "duration": 13,
    "start_time": "2023-10-26T09:39:39.187Z"
   },
   {
    "duration": 25,
    "start_time": "2023-10-26T09:47:11.142Z"
   },
   {
    "duration": 190,
    "start_time": "2023-10-26T09:47:58.231Z"
   },
   {
    "duration": 102,
    "start_time": "2023-10-27T05:50:39.093Z"
   },
   {
    "duration": 91,
    "start_time": "2023-10-27T05:50:44.414Z"
   },
   {
    "duration": 10,
    "start_time": "2023-10-27T05:51:04.474Z"
   },
   {
    "duration": 71,
    "start_time": "2023-10-27T05:52:26.979Z"
   },
   {
    "duration": 112,
    "start_time": "2023-10-27T05:52:50.385Z"
   },
   {
    "duration": 4277,
    "start_time": "2023-10-27T05:55:08.001Z"
   },
   {
    "duration": 743,
    "start_time": "2023-10-27T05:55:32.408Z"
   },
   {
    "duration": 69,
    "start_time": "2023-10-27T05:56:12.109Z"
   },
   {
    "duration": 16,
    "start_time": "2023-10-27T05:56:56.684Z"
   },
   {
    "duration": 2180,
    "start_time": "2023-10-27T05:57:51.738Z"
   },
   {
    "duration": 168,
    "start_time": "2023-10-27T06:14:02.334Z"
   },
   {
    "duration": 14,
    "start_time": "2023-10-27T06:15:37.994Z"
   },
   {
    "duration": 89,
    "start_time": "2023-10-27T06:15:50.150Z"
   },
   {
    "duration": 922,
    "start_time": "2023-10-27T06:16:04.530Z"
   },
   {
    "duration": 267,
    "start_time": "2023-10-27T06:20:03.234Z"
   },
   {
    "duration": 886,
    "start_time": "2023-10-27T06:21:13.566Z"
   },
   {
    "duration": 940,
    "start_time": "2023-10-27T06:22:55.331Z"
   },
   {
    "duration": 850,
    "start_time": "2023-10-27T06:23:03.997Z"
   },
   {
    "duration": 93,
    "start_time": "2023-10-27T06:23:53.683Z"
   },
   {
    "duration": 1078,
    "start_time": "2023-10-27T06:38:19.509Z"
   },
   {
    "duration": 97,
    "start_time": "2023-10-27T06:39:04.074Z"
   },
   {
    "duration": 1739,
    "start_time": "2023-10-27T06:39:34.452Z"
   },
   {
    "duration": 1279,
    "start_time": "2023-10-27T06:39:36.602Z"
   },
   {
    "duration": 1492,
    "start_time": "2023-10-27T06:39:46.211Z"
   },
   {
    "duration": 1261,
    "start_time": "2023-10-27T06:39:55.884Z"
   },
   {
    "duration": 1315,
    "start_time": "2023-10-27T06:40:11.030Z"
   },
   {
    "duration": 2870,
    "start_time": "2023-10-27T06:40:28.728Z"
   },
   {
    "duration": 1423,
    "start_time": "2023-10-27T06:40:31.601Z"
   },
   {
    "duration": 19,
    "start_time": "2023-10-27T06:40:33.026Z"
   },
   {
    "duration": 41,
    "start_time": "2023-10-27T06:40:33.061Z"
   },
   {
    "duration": 95,
    "start_time": "2023-10-27T06:40:33.104Z"
   },
   {
    "duration": 3841,
    "start_time": "2023-10-27T06:40:33.201Z"
   },
   {
    "duration": 25,
    "start_time": "2023-10-27T06:40:37.044Z"
   },
   {
    "duration": 4,
    "start_time": "2023-10-27T06:40:37.073Z"
   },
   {
    "duration": 14,
    "start_time": "2023-10-27T06:40:37.079Z"
   },
   {
    "duration": 13,
    "start_time": "2023-10-27T06:40:37.096Z"
   },
   {
    "duration": 8,
    "start_time": "2023-10-27T06:40:37.110Z"
   },
   {
    "duration": 12,
    "start_time": "2023-10-27T06:40:37.120Z"
   },
   {
    "duration": 1990,
    "start_time": "2023-10-27T06:40:37.133Z"
   },
   {
    "duration": 7,
    "start_time": "2023-10-27T06:40:39.125Z"
   },
   {
    "duration": 32,
    "start_time": "2023-10-27T06:40:39.149Z"
   },
   {
    "duration": 21,
    "start_time": "2023-10-27T06:40:39.183Z"
   },
   {
    "duration": 66,
    "start_time": "2023-10-27T06:40:39.206Z"
   },
   {
    "duration": 17,
    "start_time": "2023-10-27T06:40:39.274Z"
   },
   {
    "duration": 9,
    "start_time": "2023-10-27T06:40:39.293Z"
   },
   {
    "duration": 31,
    "start_time": "2023-10-27T06:40:39.303Z"
   },
   {
    "duration": 13,
    "start_time": "2023-10-27T06:40:39.336Z"
   },
   {
    "duration": 36,
    "start_time": "2023-10-27T06:40:39.351Z"
   },
   {
    "duration": 16,
    "start_time": "2023-10-27T06:40:39.389Z"
   },
   {
    "duration": 171,
    "start_time": "2023-10-27T06:40:39.406Z"
   },
   {
    "duration": 93,
    "start_time": "2023-10-27T06:40:39.578Z"
   },
   {
    "duration": 7,
    "start_time": "2023-10-27T06:40:39.672Z"
   },
   {
    "duration": 8,
    "start_time": "2023-10-27T06:40:39.681Z"
   },
   {
    "duration": 7,
    "start_time": "2023-10-27T06:40:39.695Z"
   },
   {
    "duration": 5,
    "start_time": "2023-10-27T06:40:39.704Z"
   },
   {
    "duration": 7,
    "start_time": "2023-10-27T06:40:39.711Z"
   },
   {
    "duration": 37,
    "start_time": "2023-10-27T06:40:39.719Z"
   },
   {
    "duration": 11,
    "start_time": "2023-10-27T06:40:39.758Z"
   },
   {
    "duration": 12,
    "start_time": "2023-10-27T06:40:39.771Z"
   },
   {
    "duration": 7,
    "start_time": "2023-10-27T06:40:39.786Z"
   },
   {
    "duration": 11,
    "start_time": "2023-10-27T06:40:39.795Z"
   },
   {
    "duration": 8,
    "start_time": "2023-10-27T06:40:39.808Z"
   },
   {
    "duration": 14,
    "start_time": "2023-10-27T06:40:39.847Z"
   },
   {
    "duration": 36,
    "start_time": "2023-10-27T06:40:39.863Z"
   },
   {
    "duration": 17,
    "start_time": "2023-10-27T06:40:39.901Z"
   },
   {
    "duration": 9,
    "start_time": "2023-10-27T06:40:39.950Z"
   },
   {
    "duration": 55,
    "start_time": "2023-10-27T06:40:39.961Z"
   },
   {
    "duration": 15,
    "start_time": "2023-10-27T06:40:40.018Z"
   },
   {
    "duration": 16,
    "start_time": "2023-10-27T06:40:40.047Z"
   },
   {
    "duration": 15,
    "start_time": "2023-10-27T06:40:40.066Z"
   },
   {
    "duration": 98,
    "start_time": "2023-10-27T06:40:40.083Z"
   },
   {
    "duration": 14,
    "start_time": "2023-10-27T06:40:40.183Z"
   },
   {
    "duration": 34,
    "start_time": "2023-10-27T06:40:40.199Z"
   },
   {
    "duration": 15,
    "start_time": "2023-10-27T06:40:40.235Z"
   },
   {
    "duration": 4,
    "start_time": "2023-10-27T06:40:40.252Z"
   },
   {
    "duration": 29,
    "start_time": "2023-10-27T06:40:40.259Z"
   },
   {
    "duration": 42,
    "start_time": "2023-10-27T06:40:40.291Z"
   },
   {
    "duration": 16,
    "start_time": "2023-10-27T06:40:40.335Z"
   },
   {
    "duration": 67,
    "start_time": "2023-10-27T06:40:40.353Z"
   },
   {
    "duration": 6,
    "start_time": "2023-10-27T06:40:40.422Z"
   },
   {
    "duration": 36,
    "start_time": "2023-10-27T06:40:40.448Z"
   },
   {
    "duration": 12,
    "start_time": "2023-10-27T06:40:40.486Z"
   },
   {
    "duration": 101,
    "start_time": "2023-10-27T06:40:40.500Z"
   },
   {
    "duration": 7,
    "start_time": "2023-10-27T06:40:40.603Z"
   },
   {
    "duration": 100,
    "start_time": "2023-10-27T06:40:40.613Z"
   },
   {
    "duration": 10,
    "start_time": "2023-10-27T06:40:40.714Z"
   },
   {
    "duration": 434,
    "start_time": "2023-10-27T06:40:40.727Z"
   },
   {
    "duration": 10,
    "start_time": "2023-10-27T06:40:41.163Z"
   },
   {
    "duration": 35,
    "start_time": "2023-10-27T06:40:41.175Z"
   },
   {
    "duration": 1035,
    "start_time": "2023-10-27T06:40:41.211Z"
   },
   {
    "duration": 13,
    "start_time": "2023-10-27T06:40:42.251Z"
   },
   {
    "duration": 331,
    "start_time": "2023-10-27T06:40:42.266Z"
   },
   {
    "duration": 204,
    "start_time": "2023-10-27T06:40:42.599Z"
   },
   {
    "duration": 276,
    "start_time": "2023-10-27T06:40:42.806Z"
   },
   {
    "duration": 263,
    "start_time": "2023-10-27T06:40:43.085Z"
   },
   {
    "duration": 209,
    "start_time": "2023-10-27T06:40:43.351Z"
   },
   {
    "duration": 553,
    "start_time": "2023-10-27T06:40:43.561Z"
   },
   {
    "duration": 310,
    "start_time": "2023-10-27T06:40:44.116Z"
   },
   {
    "duration": 443,
    "start_time": "2023-10-27T06:40:44.429Z"
   },
   {
    "duration": 219,
    "start_time": "2023-10-27T06:40:44.875Z"
   },
   {
    "duration": 12,
    "start_time": "2023-10-27T06:40:45.097Z"
   },
   {
    "duration": 58,
    "start_time": "2023-10-27T06:40:45.111Z"
   },
   {
    "duration": 430,
    "start_time": "2023-10-27T06:40:45.171Z"
   },
   {
    "duration": 313,
    "start_time": "2023-10-27T06:40:45.606Z"
   },
   {
    "duration": 12,
    "start_time": "2023-10-27T06:40:45.921Z"
   },
   {
    "duration": 18,
    "start_time": "2023-10-27T06:40:45.957Z"
   },
   {
    "duration": 324,
    "start_time": "2023-10-27T06:40:45.978Z"
   },
   {
    "duration": 12,
    "start_time": "2023-10-27T06:40:46.310Z"
   },
   {
    "duration": 384,
    "start_time": "2023-10-27T06:40:46.324Z"
   },
   {
    "duration": 53,
    "start_time": "2023-10-27T06:40:46.711Z"
   },
   {
    "duration": 393,
    "start_time": "2023-10-27T06:40:46.767Z"
   },
   {
    "duration": 42,
    "start_time": "2023-10-27T06:40:47.163Z"
   },
   {
    "duration": 282,
    "start_time": "2023-10-27T06:40:47.209Z"
   },
   {
    "duration": 23,
    "start_time": "2023-10-27T06:40:47.494Z"
   },
   {
    "duration": 235,
    "start_time": "2023-10-27T06:40:47.520Z"
   },
   {
    "duration": 31,
    "start_time": "2023-10-27T06:40:47.758Z"
   },
   {
    "duration": 308,
    "start_time": "2023-10-27T06:40:47.792Z"
   },
   {
    "duration": 28,
    "start_time": "2023-10-27T06:40:48.103Z"
   },
   {
    "duration": 377,
    "start_time": "2023-10-27T06:40:48.133Z"
   },
   {
    "duration": 18,
    "start_time": "2023-10-27T06:40:48.512Z"
   },
   {
    "duration": 57,
    "start_time": "2023-10-27T06:40:48.531Z"
   },
   {
    "duration": 232,
    "start_time": "2023-10-27T06:40:48.590Z"
   },
   {
    "duration": 387,
    "start_time": "2023-10-27T06:42:52.865Z"
   },
   {
    "duration": 329,
    "start_time": "2023-10-27T06:43:45.776Z"
   },
   {
    "duration": 137,
    "start_time": "2023-10-27T06:45:33.036Z"
   },
   {
    "duration": 215,
    "start_time": "2023-10-27T06:49:14.659Z"
   },
   {
    "duration": 218,
    "start_time": "2023-10-27T06:49:22.921Z"
   },
   {
    "duration": 19,
    "start_time": "2023-10-27T07:02:34.816Z"
   },
   {
    "duration": 25,
    "start_time": "2023-10-27T07:03:36.884Z"
   },
   {
    "duration": 13,
    "start_time": "2023-10-27T07:04:54.580Z"
   },
   {
    "duration": 17,
    "start_time": "2023-10-27T07:07:00.541Z"
   },
   {
    "duration": 23,
    "start_time": "2023-10-27T07:07:09.062Z"
   },
   {
    "duration": 23,
    "start_time": "2023-10-27T07:08:13.943Z"
   },
   {
    "duration": 16,
    "start_time": "2023-10-27T07:09:02.677Z"
   },
   {
    "duration": 24,
    "start_time": "2023-10-27T07:12:35.513Z"
   },
   {
    "duration": 17,
    "start_time": "2023-10-27T07:13:09.517Z"
   },
   {
    "duration": 17,
    "start_time": "2023-10-27T07:14:24.486Z"
   },
   {
    "duration": 19,
    "start_time": "2023-10-27T07:14:58.030Z"
   },
   {
    "duration": 134,
    "start_time": "2023-10-27T07:16:56.240Z"
   },
   {
    "duration": 301,
    "start_time": "2023-10-27T07:17:01.002Z"
   },
   {
    "duration": 286,
    "start_time": "2023-10-27T07:18:05.610Z"
   },
   {
    "duration": 249,
    "start_time": "2023-10-27T07:18:30.392Z"
   },
   {
    "duration": 172,
    "start_time": "2023-10-27T07:18:49.004Z"
   },
   {
    "duration": 198,
    "start_time": "2023-10-27T07:18:53.458Z"
   },
   {
    "duration": 184,
    "start_time": "2023-10-27T07:19:10.880Z"
   },
   {
    "duration": 166,
    "start_time": "2023-10-27T07:19:25.775Z"
   },
   {
    "duration": 253,
    "start_time": "2023-10-27T07:19:48.269Z"
   },
   {
    "duration": 197,
    "start_time": "2023-10-27T07:20:08.190Z"
   },
   {
    "duration": 193,
    "start_time": "2023-10-27T07:20:26.184Z"
   },
   {
    "duration": 361,
    "start_time": "2023-10-27T07:21:18.899Z"
   },
   {
    "duration": 3257,
    "start_time": "2023-12-01T07:02:51.712Z"
   }
  ],
  "kernelspec": {
   "display_name": "Python 3 (ipykernel)",
   "language": "python",
   "name": "python3"
  },
  "language_info": {
   "codemirror_mode": {
    "name": "ipython",
    "version": 3
   },
   "file_extension": ".py",
   "mimetype": "text/x-python",
   "name": "python",
   "nbconvert_exporter": "python",
   "pygments_lexer": "ipython3",
   "version": "3.11.5"
  },
  "toc": {
   "base_numbering": 1,
   "nav_menu": {},
   "number_sections": true,
   "sideBar": true,
   "skip_h1_title": true,
   "title_cell": "Table of Contents",
   "title_sidebar": "Contents",
   "toc_cell": false,
   "toc_position": {},
   "toc_section_display": true,
   "toc_window_display": false
  }
 },
 "nbformat": 4,
 "nbformat_minor": 2
}
