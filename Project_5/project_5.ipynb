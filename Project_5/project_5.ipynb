{
 "cells": [
  {
   "cell_type": "markdown",
   "metadata": {},
   "source": [
    "### Сборный проект. Анализ интернет-магазина «Стримчик»."
   ]
  },
  {
   "cell_type": "markdown",
   "metadata": {},
   "source": [
    "#### Описание проекта"
   ]
  },
  {
   "cell_type": "markdown",
   "metadata": {},
   "source": [
    "Вы работаете в интернет-магазине «Стримчик», который продаёт по всему миру компьютерные игры. Из открытых источников доступны исторические данные о продажах игр, оценки пользователей и экспертов, жанры и платформы (например, Xbox или PlayStation). Вам нужно выявить определяющие успешность игры закономерности. Это позволит сделать ставку на потенциально популярный продукт и спланировать рекламные кампании.\n",
    "\n",
    "Перед вами данные до 2016 года. Представим, что сейчас декабрь 2016 г., и вы планируете кампанию на 2017-й. Нужно отработать принцип работы с данными. Неважно, прогнозируете ли вы продажи на 2017 год по данным 2016-го или же 2027-й — по данным 2026 года.\n",
    "\n",
    "В наборе данных попадается аббревиатура ESRB (Entertainment Software Rating Board) — это ассоциация, определяющая возрастной рейтинг компьютерных игр. ESRB оценивает игровой контент и присваивает ему подходящую возрастную категорию, например, «Для взрослых», «Для детей младшего возраста» или «Для подростков»."
   ]
  },
  {
   "cell_type": "markdown",
   "metadata": {},
   "source": [
    "#### Описание данных\n",
    "\n",
    "Name — название игры\n",
    "\n",
    "Platform — платформа\n",
    "\n",
    "Year_of_Release — год выпуска\n",
    "\n",
    "Genre — жанр игры\n",
    "\n",
    "NA_sales — продажи в Северной Америке (миллионы проданных копий)\n",
    "\n",
    "EU_sales — продажи в Европе (миллионы проданных копий)\n",
    "\n",
    "JP_sales — продажи в Японии (миллионы проданных копий)\n",
    "\n",
    "Other_sales — продажи в других странах (миллионы проданных копий)\n",
    "\n",
    "Critic_Score — оценка критиков (максимум 100)\n",
    "\n",
    "User_Score — оценка пользователей (максимум 10)\n",
    "\n",
    "Rating — рейтинг от организации ESRB (англ. Entertainment Software Rating Board). Эта ассоциация определяет рейтинг компьютерных игр и присваивает им подходящую возрастную категорию.\n",
    "\n",
    "Данные за 2016 год могут быть неполными."
   ]
  },
  {
   "cell_type": "markdown",
   "metadata": {},
   "source": [
    "1. Шаг 1. Открыли файл с данными и изучили общую информацию.\n",
    "\n",
    "\n",
    "2. Шаг 2. Подготовка данных.\n",
    "\n",
    "   2.1 Заменили названия столбцов (привели к нижнему регистру)\n",
    "   \n",
    "   2.2 Преобразовали данные в нужные типы и обработаем пропуски. \n",
    "   \n",
    "   2.3 Суммарные продажи во всех регионах\n",
    "\n",
    "3. Анализ количества игр выпущеных по годам.\n",
    "\n",
    "   3.1 Анализ количества игр выпущеных по годам.\n",
    "   \n",
    "   3.2 Анализ продаж по платформам\n",
    "   \n",
    "   3.3 Продажи по платформам в актуальный период\n",
    "   \n",
    "   3.4 Построение боксплотов по наиболее перспективным платформам\n",
    "   \n",
    "   3.5 Связь отзывов и продаж\n",
    "   \n",
    "   3.6 Распеределение игр по жанрам.\n",
    " \n",
    " \n",
    "4. Портрет пользователя каждого региона\n",
    "\n",
    "\n",
    "5. Проверка гипотез\n",
    "\n",
    "\n",
    "6. Вывод"
   ]
  },
  {
   "cell_type": "code",
   "execution_count": 1,
   "metadata": {},
   "outputs": [
    {
     "name": "stdout",
     "output_type": "stream",
     "text": [
      "Requirement already satisfied: missingno in /opt/conda/lib/python3.9/site-packages (0.5.2)\n",
      "Requirement already satisfied: scipy in /opt/conda/lib/python3.9/site-packages (from missingno) (1.9.1)\n",
      "Requirement already satisfied: seaborn in /opt/conda/lib/python3.9/site-packages (from missingno) (0.11.1)\n",
      "Requirement already satisfied: numpy in /opt/conda/lib/python3.9/site-packages (from missingno) (1.21.1)\n",
      "Requirement already satisfied: matplotlib in /opt/conda/lib/python3.9/site-packages (from missingno) (3.3.4)\n",
      "Requirement already satisfied: cycler>=0.10 in /opt/conda/lib/python3.9/site-packages (from matplotlib->missingno) (0.11.0)\n",
      "Requirement already satisfied: kiwisolver>=1.0.1 in /opt/conda/lib/python3.9/site-packages (from matplotlib->missingno) (1.4.4)\n",
      "Requirement already satisfied: python-dateutil>=2.1 in /opt/conda/lib/python3.9/site-packages (from matplotlib->missingno) (2.8.1)\n",
      "Requirement already satisfied: pillow>=6.2.0 in /opt/conda/lib/python3.9/site-packages (from matplotlib->missingno) (8.4.0)\n",
      "Requirement already satisfied: pyparsing!=2.0.4,!=2.1.2,!=2.1.6,>=2.0.3 in /opt/conda/lib/python3.9/site-packages (from matplotlib->missingno) (2.4.7)\n",
      "Requirement already satisfied: six>=1.5 in /opt/conda/lib/python3.9/site-packages (from python-dateutil>=2.1->matplotlib->missingno) (1.16.0)\n",
      "Requirement already satisfied: pandas>=0.23 in /opt/conda/lib/python3.9/site-packages (from seaborn->missingno) (1.2.4)\n",
      "Requirement already satisfied: pytz>=2017.3 in /opt/conda/lib/python3.9/site-packages (from pandas>=0.23->seaborn->missingno) (2021.1)\n",
      "Note: you may need to restart the kernel to use updated packages.\n"
     ]
    }
   ],
   "source": [
    "pip install missingno"
   ]
  },
  {
   "cell_type": "code",
   "execution_count": 2,
   "metadata": {},
   "outputs": [],
   "source": [
    "import pandas as pd\n",
    "import numpy as np\n",
    "from scipy import stats as st\n",
    "import matplotlib.pyplot as plt\n",
    "import missingno as msno\n",
    "import seaborn as sns"
   ]
  },
  {
   "cell_type": "markdown",
   "metadata": {},
   "source": [
    "## Шаг 1. Открыли файл с данными и изучитли общую информацию"
   ]
  },
  {
   "cell_type": "code",
   "execution_count": 3,
   "metadata": {},
   "outputs": [],
   "source": [
    "games = pd.read_csv('/datasets/games.csv') #импортируем данные с помощью csv"
   ]
  },
  {
   "cell_type": "code",
   "execution_count": 4,
   "metadata": {},
   "outputs": [
    {
     "data": {
      "text/html": [
       "<div>\n",
       "<style scoped>\n",
       "    .dataframe tbody tr th:only-of-type {\n",
       "        vertical-align: middle;\n",
       "    }\n",
       "\n",
       "    .dataframe tbody tr th {\n",
       "        vertical-align: top;\n",
       "    }\n",
       "\n",
       "    .dataframe thead th {\n",
       "        text-align: right;\n",
       "    }\n",
       "</style>\n",
       "<table border=\"1\" class=\"dataframe\">\n",
       "  <thead>\n",
       "    <tr style=\"text-align: right;\">\n",
       "      <th></th>\n",
       "      <th>Name</th>\n",
       "      <th>Platform</th>\n",
       "      <th>Year_of_Release</th>\n",
       "      <th>Genre</th>\n",
       "      <th>NA_sales</th>\n",
       "      <th>EU_sales</th>\n",
       "      <th>JP_sales</th>\n",
       "      <th>Other_sales</th>\n",
       "      <th>Critic_Score</th>\n",
       "      <th>User_Score</th>\n",
       "      <th>Rating</th>\n",
       "    </tr>\n",
       "  </thead>\n",
       "  <tbody>\n",
       "    <tr>\n",
       "      <th>0</th>\n",
       "      <td>Wii Sports</td>\n",
       "      <td>Wii</td>\n",
       "      <td>2006.0</td>\n",
       "      <td>Sports</td>\n",
       "      <td>41.36</td>\n",
       "      <td>28.96</td>\n",
       "      <td>3.77</td>\n",
       "      <td>8.45</td>\n",
       "      <td>76.0</td>\n",
       "      <td>8</td>\n",
       "      <td>E</td>\n",
       "    </tr>\n",
       "    <tr>\n",
       "      <th>1</th>\n",
       "      <td>Super Mario Bros.</td>\n",
       "      <td>NES</td>\n",
       "      <td>1985.0</td>\n",
       "      <td>Platform</td>\n",
       "      <td>29.08</td>\n",
       "      <td>3.58</td>\n",
       "      <td>6.81</td>\n",
       "      <td>0.77</td>\n",
       "      <td>NaN</td>\n",
       "      <td>NaN</td>\n",
       "      <td>NaN</td>\n",
       "    </tr>\n",
       "    <tr>\n",
       "      <th>2</th>\n",
       "      <td>Mario Kart Wii</td>\n",
       "      <td>Wii</td>\n",
       "      <td>2008.0</td>\n",
       "      <td>Racing</td>\n",
       "      <td>15.68</td>\n",
       "      <td>12.76</td>\n",
       "      <td>3.79</td>\n",
       "      <td>3.29</td>\n",
       "      <td>82.0</td>\n",
       "      <td>8.3</td>\n",
       "      <td>E</td>\n",
       "    </tr>\n",
       "    <tr>\n",
       "      <th>3</th>\n",
       "      <td>Wii Sports Resort</td>\n",
       "      <td>Wii</td>\n",
       "      <td>2009.0</td>\n",
       "      <td>Sports</td>\n",
       "      <td>15.61</td>\n",
       "      <td>10.93</td>\n",
       "      <td>3.28</td>\n",
       "      <td>2.95</td>\n",
       "      <td>80.0</td>\n",
       "      <td>8</td>\n",
       "      <td>E</td>\n",
       "    </tr>\n",
       "    <tr>\n",
       "      <th>4</th>\n",
       "      <td>Pokemon Red/Pokemon Blue</td>\n",
       "      <td>GB</td>\n",
       "      <td>1996.0</td>\n",
       "      <td>Role-Playing</td>\n",
       "      <td>11.27</td>\n",
       "      <td>8.89</td>\n",
       "      <td>10.22</td>\n",
       "      <td>1.00</td>\n",
       "      <td>NaN</td>\n",
       "      <td>NaN</td>\n",
       "      <td>NaN</td>\n",
       "    </tr>\n",
       "    <tr>\n",
       "      <th>5</th>\n",
       "      <td>Tetris</td>\n",
       "      <td>GB</td>\n",
       "      <td>1989.0</td>\n",
       "      <td>Puzzle</td>\n",
       "      <td>23.20</td>\n",
       "      <td>2.26</td>\n",
       "      <td>4.22</td>\n",
       "      <td>0.58</td>\n",
       "      <td>NaN</td>\n",
       "      <td>NaN</td>\n",
       "      <td>NaN</td>\n",
       "    </tr>\n",
       "    <tr>\n",
       "      <th>6</th>\n",
       "      <td>New Super Mario Bros.</td>\n",
       "      <td>DS</td>\n",
       "      <td>2006.0</td>\n",
       "      <td>Platform</td>\n",
       "      <td>11.28</td>\n",
       "      <td>9.14</td>\n",
       "      <td>6.50</td>\n",
       "      <td>2.88</td>\n",
       "      <td>89.0</td>\n",
       "      <td>8.5</td>\n",
       "      <td>E</td>\n",
       "    </tr>\n",
       "    <tr>\n",
       "      <th>7</th>\n",
       "      <td>Wii Play</td>\n",
       "      <td>Wii</td>\n",
       "      <td>2006.0</td>\n",
       "      <td>Misc</td>\n",
       "      <td>13.96</td>\n",
       "      <td>9.18</td>\n",
       "      <td>2.93</td>\n",
       "      <td>2.84</td>\n",
       "      <td>58.0</td>\n",
       "      <td>6.6</td>\n",
       "      <td>E</td>\n",
       "    </tr>\n",
       "    <tr>\n",
       "      <th>8</th>\n",
       "      <td>New Super Mario Bros. Wii</td>\n",
       "      <td>Wii</td>\n",
       "      <td>2009.0</td>\n",
       "      <td>Platform</td>\n",
       "      <td>14.44</td>\n",
       "      <td>6.94</td>\n",
       "      <td>4.70</td>\n",
       "      <td>2.24</td>\n",
       "      <td>87.0</td>\n",
       "      <td>8.4</td>\n",
       "      <td>E</td>\n",
       "    </tr>\n",
       "    <tr>\n",
       "      <th>9</th>\n",
       "      <td>Duck Hunt</td>\n",
       "      <td>NES</td>\n",
       "      <td>1984.0</td>\n",
       "      <td>Shooter</td>\n",
       "      <td>26.93</td>\n",
       "      <td>0.63</td>\n",
       "      <td>0.28</td>\n",
       "      <td>0.47</td>\n",
       "      <td>NaN</td>\n",
       "      <td>NaN</td>\n",
       "      <td>NaN</td>\n",
       "    </tr>\n",
       "  </tbody>\n",
       "</table>\n",
       "</div>"
      ],
      "text/plain": [
       "                        Name Platform  Year_of_Release         Genre  \\\n",
       "0                 Wii Sports      Wii           2006.0        Sports   \n",
       "1          Super Mario Bros.      NES           1985.0      Platform   \n",
       "2             Mario Kart Wii      Wii           2008.0        Racing   \n",
       "3          Wii Sports Resort      Wii           2009.0        Sports   \n",
       "4   Pokemon Red/Pokemon Blue       GB           1996.0  Role-Playing   \n",
       "5                     Tetris       GB           1989.0        Puzzle   \n",
       "6      New Super Mario Bros.       DS           2006.0      Platform   \n",
       "7                   Wii Play      Wii           2006.0          Misc   \n",
       "8  New Super Mario Bros. Wii      Wii           2009.0      Platform   \n",
       "9                  Duck Hunt      NES           1984.0       Shooter   \n",
       "\n",
       "   NA_sales  EU_sales  JP_sales  Other_sales  Critic_Score User_Score Rating  \n",
       "0     41.36     28.96      3.77         8.45          76.0          8      E  \n",
       "1     29.08      3.58      6.81         0.77           NaN        NaN    NaN  \n",
       "2     15.68     12.76      3.79         3.29          82.0        8.3      E  \n",
       "3     15.61     10.93      3.28         2.95          80.0          8      E  \n",
       "4     11.27      8.89     10.22         1.00           NaN        NaN    NaN  \n",
       "5     23.20      2.26      4.22         0.58           NaN        NaN    NaN  \n",
       "6     11.28      9.14      6.50         2.88          89.0        8.5      E  \n",
       "7     13.96      9.18      2.93         2.84          58.0        6.6      E  \n",
       "8     14.44      6.94      4.70         2.24          87.0        8.4      E  \n",
       "9     26.93      0.63      0.28         0.47           NaN        NaN    NaN  "
      ]
     },
     "execution_count": 4,
     "metadata": {},
     "output_type": "execute_result"
    }
   ],
   "source": [
    "games.head(10) #Посмотрим первые 10 строк данных."
   ]
  },
  {
   "cell_type": "code",
   "execution_count": 5,
   "metadata": {},
   "outputs": [
    {
     "name": "stdout",
     "output_type": "stream",
     "text": [
      "<class 'pandas.core.frame.DataFrame'>\n",
      "RangeIndex: 16715 entries, 0 to 16714\n",
      "Data columns (total 11 columns):\n",
      " #   Column           Non-Null Count  Dtype  \n",
      "---  ------           --------------  -----  \n",
      " 0   Name             16713 non-null  object \n",
      " 1   Platform         16715 non-null  object \n",
      " 2   Year_of_Release  16446 non-null  float64\n",
      " 3   Genre            16713 non-null  object \n",
      " 4   NA_sales         16715 non-null  float64\n",
      " 5   EU_sales         16715 non-null  float64\n",
      " 6   JP_sales         16715 non-null  float64\n",
      " 7   Other_sales      16715 non-null  float64\n",
      " 8   Critic_Score     8137 non-null   float64\n",
      " 9   User_Score       10014 non-null  object \n",
      " 10  Rating           9949 non-null   object \n",
      "dtypes: float64(6), object(5)\n",
      "memory usage: 1.4+ MB\n"
     ]
    }
   ],
   "source": [
    "games.info() #Посмотрим первичную информацию о них."
   ]
  },
  {
   "cell_type": "code",
   "execution_count": 6,
   "metadata": {},
   "outputs": [
    {
     "data": {
      "text/html": [
       "<div>\n",
       "<style scoped>\n",
       "    .dataframe tbody tr th:only-of-type {\n",
       "        vertical-align: middle;\n",
       "    }\n",
       "\n",
       "    .dataframe tbody tr th {\n",
       "        vertical-align: top;\n",
       "    }\n",
       "\n",
       "    .dataframe thead th {\n",
       "        text-align: right;\n",
       "    }\n",
       "</style>\n",
       "<table border=\"1\" class=\"dataframe\">\n",
       "  <thead>\n",
       "    <tr style=\"text-align: right;\">\n",
       "      <th></th>\n",
       "      <th>Year_of_Release</th>\n",
       "      <th>NA_sales</th>\n",
       "      <th>EU_sales</th>\n",
       "      <th>JP_sales</th>\n",
       "      <th>Other_sales</th>\n",
       "      <th>Critic_Score</th>\n",
       "    </tr>\n",
       "  </thead>\n",
       "  <tbody>\n",
       "    <tr>\n",
       "      <th>count</th>\n",
       "      <td>16446.000000</td>\n",
       "      <td>16715.000000</td>\n",
       "      <td>16715.000000</td>\n",
       "      <td>16715.000000</td>\n",
       "      <td>16715.000000</td>\n",
       "      <td>8137.000000</td>\n",
       "    </tr>\n",
       "    <tr>\n",
       "      <th>mean</th>\n",
       "      <td>2006.484616</td>\n",
       "      <td>0.263377</td>\n",
       "      <td>0.145060</td>\n",
       "      <td>0.077617</td>\n",
       "      <td>0.047342</td>\n",
       "      <td>68.967679</td>\n",
       "    </tr>\n",
       "    <tr>\n",
       "      <th>std</th>\n",
       "      <td>5.877050</td>\n",
       "      <td>0.813604</td>\n",
       "      <td>0.503339</td>\n",
       "      <td>0.308853</td>\n",
       "      <td>0.186731</td>\n",
       "      <td>13.938165</td>\n",
       "    </tr>\n",
       "    <tr>\n",
       "      <th>min</th>\n",
       "      <td>1980.000000</td>\n",
       "      <td>0.000000</td>\n",
       "      <td>0.000000</td>\n",
       "      <td>0.000000</td>\n",
       "      <td>0.000000</td>\n",
       "      <td>13.000000</td>\n",
       "    </tr>\n",
       "    <tr>\n",
       "      <th>25%</th>\n",
       "      <td>2003.000000</td>\n",
       "      <td>0.000000</td>\n",
       "      <td>0.000000</td>\n",
       "      <td>0.000000</td>\n",
       "      <td>0.000000</td>\n",
       "      <td>60.000000</td>\n",
       "    </tr>\n",
       "    <tr>\n",
       "      <th>50%</th>\n",
       "      <td>2007.000000</td>\n",
       "      <td>0.080000</td>\n",
       "      <td>0.020000</td>\n",
       "      <td>0.000000</td>\n",
       "      <td>0.010000</td>\n",
       "      <td>71.000000</td>\n",
       "    </tr>\n",
       "    <tr>\n",
       "      <th>75%</th>\n",
       "      <td>2010.000000</td>\n",
       "      <td>0.240000</td>\n",
       "      <td>0.110000</td>\n",
       "      <td>0.040000</td>\n",
       "      <td>0.030000</td>\n",
       "      <td>79.000000</td>\n",
       "    </tr>\n",
       "    <tr>\n",
       "      <th>max</th>\n",
       "      <td>2016.000000</td>\n",
       "      <td>41.360000</td>\n",
       "      <td>28.960000</td>\n",
       "      <td>10.220000</td>\n",
       "      <td>10.570000</td>\n",
       "      <td>98.000000</td>\n",
       "    </tr>\n",
       "  </tbody>\n",
       "</table>\n",
       "</div>"
      ],
      "text/plain": [
       "       Year_of_Release      NA_sales      EU_sales      JP_sales  \\\n",
       "count     16446.000000  16715.000000  16715.000000  16715.000000   \n",
       "mean       2006.484616      0.263377      0.145060      0.077617   \n",
       "std           5.877050      0.813604      0.503339      0.308853   \n",
       "min        1980.000000      0.000000      0.000000      0.000000   \n",
       "25%        2003.000000      0.000000      0.000000      0.000000   \n",
       "50%        2007.000000      0.080000      0.020000      0.000000   \n",
       "75%        2010.000000      0.240000      0.110000      0.040000   \n",
       "max        2016.000000     41.360000     28.960000     10.220000   \n",
       "\n",
       "        Other_sales  Critic_Score  \n",
       "count  16715.000000   8137.000000  \n",
       "mean       0.047342     68.967679  \n",
       "std        0.186731     13.938165  \n",
       "min        0.000000     13.000000  \n",
       "25%        0.000000     60.000000  \n",
       "50%        0.010000     71.000000  \n",
       "75%        0.030000     79.000000  \n",
       "max       10.570000     98.000000  "
      ]
     },
     "execution_count": 6,
     "metadata": {},
     "output_type": "execute_result"
    }
   ],
   "source": [
    "games.describe()"
   ]
  },
  {
   "cell_type": "code",
   "execution_count": 7,
   "metadata": {},
   "outputs": [
    {
     "data": {
      "text/plain": [
       "<AxesSubplot:>"
      ]
     },
     "execution_count": 7,
     "metadata": {},
     "output_type": "execute_result"
    },
    {
     "data": {
      "image/png": "[encoded data removed]",
      "text/plain": [
       "<Figure size 1800x720 with 2 Axes>"
      ]
     },
     "metadata": {
      "needs_background": "light"
     },
     "output_type": "display_data"
    }
   ],
   "source": [
    "msno.matrix(games, labels=True) #оценим визуально пропуски в данных"
   ]
  },
  {
   "cell_type": "markdown",
   "metadata": {},
   "source": [
    "В наших данных есть 16715 строк. Датафрейм состоит из 11 колонок. Данные взяты за промежуток 1980 по 2016г. В некоторых из них присутствуют пропуски.\n",
    "Также присуствует два типа данных \"object\" и \"float64\". Есть столбец с годом релиза игры - вещественный тип данных. Нужно будет поменять на целочисленный.\n",
    "\n",
    "Большое количество пропусков в столбе с оценкой критиков, оценкой пользователей и рейтингом игр.\n",
    "\n",
    "Также стоит отметить, что в отличие от оценки критиков, в столбец с оценкой пользователей имеет типа данных - object.\n",
    "\n",
    "Значит, там могут находиться не только цифры. Либо цифры, но которые перенеслись как строка.\n",
    "\n",
    "В рейтинге есть как Nan, так и буквы, обозначающие рейтинг - соответственно, тип данных - object"
   ]
  },
  {
   "cell_type": "markdown",
   "metadata": {},
   "source": [
    "## Шаг 2. Подготовьте данные"
   ]
  },
  {
   "cell_type": "markdown",
   "metadata": {},
   "source": [
    "### Заменим названия столбцов (привели к нижнему регистру)"
   ]
  },
  {
   "cell_type": "code",
   "execution_count": 8,
   "metadata": {},
   "outputs": [],
   "source": [
    "games.columns = games.columns.str.lower() "
   ]
  },
  {
   "cell_type": "code",
   "execution_count": 9,
   "metadata": {},
   "outputs": [
    {
     "data": {
      "text/plain": [
       "Index(['name', 'platform', 'year_of_release', 'genre', 'na_sales', 'eu_sales',\n",
       "       'jp_sales', 'other_sales', 'critic_score', 'user_score', 'rating'],\n",
       "      dtype='object')"
      ]
     },
     "execution_count": 9,
     "metadata": {},
     "output_type": "execute_result"
    }
   ],
   "source": [
    "games.columns"
   ]
  },
  {
   "cell_type": "markdown",
   "metadata": {},
   "source": [
    "### Преобразуем данные в нужные типы и обработаем пропуски. "
   ]
  },
  {
   "cell_type": "markdown",
   "metadata": {},
   "source": [
    "Проверим данные на колличество явных дубликатов."
   ]
  },
  {
   "cell_type": "code",
   "execution_count": 10,
   "metadata": {},
   "outputs": [
    {
     "data": {
      "text/plain": [
       "0"
      ]
     },
     "execution_count": 10,
     "metadata": {},
     "output_type": "execute_result"
    }
   ],
   "source": [
    "games.duplicated().sum()"
   ]
  },
  {
   "cell_type": "markdown",
   "metadata": {},
   "source": [
    "Проверим данные на неявные дубликаты."
   ]
  },
  {
   "cell_type": "code",
   "execution_count": 11,
   "metadata": {},
   "outputs": [
    {
     "data": {
      "text/plain": [
       "array(['Wii Sports', 'Super Mario Bros.', 'Mario Kart Wii', ...,\n",
       "       'Woody Woodpecker in Crazy Castle 5', 'LMA Manager 2007',\n",
       "       'Haitaka no Psychedelica'], dtype=object)"
      ]
     },
     "execution_count": 11,
     "metadata": {},
     "output_type": "execute_result"
    }
   ],
   "source": [
    "games['name'].unique()"
   ]
  },
  {
   "cell_type": "code",
   "execution_count": 12,
   "metadata": {},
   "outputs": [
    {
     "data": {
      "text/plain": [
       "array(['Wii', 'NES', 'GB', 'DS', 'X360', 'PS3', 'PS2', 'SNES', 'GBA',\n",
       "       'PS4', '3DS', 'N64', 'PS', 'XB', 'PC', '2600', 'PSP', 'XOne',\n",
       "       'WiiU', 'GC', 'GEN', 'DC', 'PSV', 'SAT', 'SCD', 'WS', 'NG', 'TG16',\n",
       "       '3DO', 'GG', 'PCFX'], dtype=object)"
      ]
     },
     "execution_count": 12,
     "metadata": {},
     "output_type": "execute_result"
    }
   ],
   "source": [
    "games['platform'].unique()"
   ]
  },
  {
   "cell_type": "code",
   "execution_count": 13,
   "metadata": {},
   "outputs": [
    {
     "data": {
      "text/plain": [
       "array([2006., 1985., 2008., 2009., 1996., 1989., 1984., 2005., 1999.,\n",
       "       2007., 2010., 2013., 2004., 1990., 1988., 2002., 2001., 2011.,\n",
       "       1998., 2015., 2012., 2014., 1992., 1997., 1993., 1994., 1982.,\n",
       "       2016., 2003., 1986., 2000.,   nan, 1995., 1991., 1981., 1987.,\n",
       "       1980., 1983.])"
      ]
     },
     "execution_count": 13,
     "metadata": {},
     "output_type": "execute_result"
    }
   ],
   "source": [
    "games['year_of_release'].unique()"
   ]
  },
  {
   "cell_type": "code",
   "execution_count": 14,
   "metadata": {},
   "outputs": [
    {
     "data": {
      "text/html": [
       "<div>\n",
       "<style scoped>\n",
       "    .dataframe tbody tr th:only-of-type {\n",
       "        vertical-align: middle;\n",
       "    }\n",
       "\n",
       "    .dataframe tbody tr th {\n",
       "        vertical-align: top;\n",
       "    }\n",
       "\n",
       "    .dataframe thead th {\n",
       "        text-align: right;\n",
       "    }\n",
       "</style>\n",
       "<table border=\"1\" class=\"dataframe\">\n",
       "  <thead>\n",
       "    <tr style=\"text-align: right;\">\n",
       "      <th></th>\n",
       "      <th>name</th>\n",
       "      <th>platform</th>\n",
       "      <th>year_of_release</th>\n",
       "      <th>genre</th>\n",
       "      <th>na_sales</th>\n",
       "      <th>eu_sales</th>\n",
       "      <th>jp_sales</th>\n",
       "      <th>other_sales</th>\n",
       "      <th>critic_score</th>\n",
       "      <th>user_score</th>\n",
       "      <th>rating</th>\n",
       "    </tr>\n",
       "  </thead>\n",
       "  <tbody>\n",
       "    <tr>\n",
       "      <th>604</th>\n",
       "      <td>Madden NFL 13</td>\n",
       "      <td>PS3</td>\n",
       "      <td>2012.0</td>\n",
       "      <td>Sports</td>\n",
       "      <td>2.11</td>\n",
       "      <td>0.22</td>\n",
       "      <td>0.00</td>\n",
       "      <td>0.23</td>\n",
       "      <td>83.0</td>\n",
       "      <td>5.5</td>\n",
       "      <td>E</td>\n",
       "    </tr>\n",
       "    <tr>\n",
       "      <th>659</th>\n",
       "      <td>NaN</td>\n",
       "      <td>GEN</td>\n",
       "      <td>1993.0</td>\n",
       "      <td>NaN</td>\n",
       "      <td>1.78</td>\n",
       "      <td>0.53</td>\n",
       "      <td>0.00</td>\n",
       "      <td>0.08</td>\n",
       "      <td>NaN</td>\n",
       "      <td>NaN</td>\n",
       "      <td>NaN</td>\n",
       "    </tr>\n",
       "    <tr>\n",
       "      <th>14244</th>\n",
       "      <td>NaN</td>\n",
       "      <td>GEN</td>\n",
       "      <td>1993.0</td>\n",
       "      <td>NaN</td>\n",
       "      <td>0.00</td>\n",
       "      <td>0.00</td>\n",
       "      <td>0.03</td>\n",
       "      <td>0.00</td>\n",
       "      <td>NaN</td>\n",
       "      <td>NaN</td>\n",
       "      <td>NaN</td>\n",
       "    </tr>\n",
       "    <tr>\n",
       "      <th>16230</th>\n",
       "      <td>Madden NFL 13</td>\n",
       "      <td>PS3</td>\n",
       "      <td>2012.0</td>\n",
       "      <td>Sports</td>\n",
       "      <td>0.00</td>\n",
       "      <td>0.01</td>\n",
       "      <td>0.00</td>\n",
       "      <td>0.00</td>\n",
       "      <td>83.0</td>\n",
       "      <td>5.5</td>\n",
       "      <td>E</td>\n",
       "    </tr>\n",
       "  </tbody>\n",
       "</table>\n",
       "</div>"
      ],
      "text/plain": [
       "                name platform  year_of_release   genre  na_sales  eu_sales  \\\n",
       "604    Madden NFL 13      PS3           2012.0  Sports      2.11      0.22   \n",
       "659              NaN      GEN           1993.0     NaN      1.78      0.53   \n",
       "14244            NaN      GEN           1993.0     NaN      0.00      0.00   \n",
       "16230  Madden NFL 13      PS3           2012.0  Sports      0.00      0.01   \n",
       "\n",
       "       jp_sales  other_sales  critic_score user_score rating  \n",
       "604        0.00         0.23          83.0        5.5      E  \n",
       "659        0.00         0.08           NaN        NaN    NaN  \n",
       "14244      0.03         0.00           NaN        NaN    NaN  \n",
       "16230      0.00         0.00          83.0        5.5      E  "
      ]
     },
     "execution_count": 14,
     "metadata": {},
     "output_type": "execute_result"
    }
   ],
   "source": [
    "#Код ревьюера\n",
    "games[games[['name', 'platform','year_of_release']].duplicated(keep=False)]"
   ]
  },
  {
   "cell_type": "markdown",
   "metadata": {},
   "source": [
    "Вернемся к пропускам. Всего строк в таблице 16715. Пропусков в столбцах:"
   ]
  },
  {
   "cell_type": "code",
   "execution_count": 15,
   "metadata": {},
   "outputs": [
    {
     "data": {
      "text/plain": [
       "name                  2\n",
       "platform              0\n",
       "year_of_release     269\n",
       "genre                 2\n",
       "na_sales              0\n",
       "eu_sales              0\n",
       "jp_sales              0\n",
       "other_sales           0\n",
       "critic_score       8578\n",
       "user_score         6701\n",
       "rating             6766\n",
       "dtype: int64"
      ]
     },
     "execution_count": 15,
     "metadata": {},
     "output_type": "execute_result"
    }
   ],
   "source": [
    "games.isna().sum()"
   ]
  },
  {
   "cell_type": "markdown",
   "metadata": {},
   "source": [
    "У двух игр не указано название и жанр, удалю данные позиции, тк как на результаты исследований это не повлияет\n",
    "\n",
    "В 269 строках не указан год выпуска игры. Считаю, что заменять пропуски будет некорректно, тк как это может повлиять на результаты. Поэтому удалю их\n",
    "\n",
    "Пропуски могли появиться из-за того, что пользователь не ввел год выпуска либо по причине того, что год релиза игры неопределен в принципе."
   ]
  },
  {
   "cell_type": "markdown",
   "metadata": {},
   "source": [
    "Посмотрим отдельно столбцы user_score - его формат 'object, что очень странно."
   ]
  },
  {
   "cell_type": "code",
   "execution_count": 16,
   "metadata": {},
   "outputs": [
    {
     "data": {
      "text/plain": [
       "array(['8', nan, '8.3', '8.5', '6.6', '8.4', '8.6', '7.7', '6.3', '7.4',\n",
       "       '8.2', '9', '7.9', '8.1', '8.7', '7.1', '3.4', '5.3', '4.8', '3.2',\n",
       "       '8.9', '6.4', '7.8', '7.5', '2.6', '7.2', '9.2', '7', '7.3', '4.3',\n",
       "       '7.6', '5.7', '5', '9.1', '6.5', 'tbd', '8.8', '6.9', '9.4', '6.8',\n",
       "       '6.1', '6.7', '5.4', '4', '4.9', '4.5', '9.3', '6.2', '4.2', '6',\n",
       "       '3.7', '4.1', '5.8', '5.6', '5.5', '4.4', '4.6', '5.9', '3.9',\n",
       "       '3.1', '2.9', '5.2', '3.3', '4.7', '5.1', '3.5', '2.5', '1.9', '3',\n",
       "       '2.7', '2.2', '2', '9.5', '2.1', '3.6', '2.8', '1.8', '3.8', '0',\n",
       "       '1.6', '9.6', '2.4', '1.7', '1.1', '0.3', '1.5', '0.7', '1.2',\n",
       "       '2.3', '0.5', '1.3', '0.2', '0.6', '1.4', '0.9', '1', '9.7'],\n",
       "      dtype=object)"
      ]
     },
     "execution_count": 16,
     "metadata": {},
     "output_type": "execute_result"
    }
   ],
   "source": [
    "games['user_score'].unique()"
   ]
  },
  {
   "cell_type": "markdown",
   "metadata": {},
   "source": [
    "Помимо пропусков, видим \"tbd\". Посмотрим, сколько их."
   ]
  },
  {
   "cell_type": "code",
   "execution_count": 17,
   "metadata": {},
   "outputs": [
    {
     "data": {
      "text/html": [
       "<div>\n",
       "<style scoped>\n",
       "    .dataframe tbody tr th:only-of-type {\n",
       "        vertical-align: middle;\n",
       "    }\n",
       "\n",
       "    .dataframe tbody tr th {\n",
       "        vertical-align: top;\n",
       "    }\n",
       "\n",
       "    .dataframe thead th {\n",
       "        text-align: right;\n",
       "    }\n",
       "</style>\n",
       "<table border=\"1\" class=\"dataframe\">\n",
       "  <thead>\n",
       "    <tr style=\"text-align: right;\">\n",
       "      <th></th>\n",
       "      <th>name</th>\n",
       "      <th>platform</th>\n",
       "      <th>year_of_release</th>\n",
       "      <th>genre</th>\n",
       "      <th>na_sales</th>\n",
       "      <th>eu_sales</th>\n",
       "      <th>jp_sales</th>\n",
       "      <th>other_sales</th>\n",
       "      <th>critic_score</th>\n",
       "      <th>user_score</th>\n",
       "      <th>rating</th>\n",
       "    </tr>\n",
       "  </thead>\n",
       "  <tbody>\n",
       "    <tr>\n",
       "      <th>119</th>\n",
       "      <td>Zumba Fitness</td>\n",
       "      <td>Wii</td>\n",
       "      <td>2010.0</td>\n",
       "      <td>Sports</td>\n",
       "      <td>3.45</td>\n",
       "      <td>2.59</td>\n",
       "      <td>0.0</td>\n",
       "      <td>0.66</td>\n",
       "      <td>NaN</td>\n",
       "      <td>tbd</td>\n",
       "      <td>E</td>\n",
       "    </tr>\n",
       "    <tr>\n",
       "      <th>301</th>\n",
       "      <td>Namco Museum: 50th Anniversary</td>\n",
       "      <td>PS2</td>\n",
       "      <td>2005.0</td>\n",
       "      <td>Misc</td>\n",
       "      <td>2.08</td>\n",
       "      <td>1.35</td>\n",
       "      <td>0.0</td>\n",
       "      <td>0.54</td>\n",
       "      <td>61.0</td>\n",
       "      <td>tbd</td>\n",
       "      <td>E10+</td>\n",
       "    </tr>\n",
       "    <tr>\n",
       "      <th>520</th>\n",
       "      <td>Zumba Fitness 2</td>\n",
       "      <td>Wii</td>\n",
       "      <td>2011.0</td>\n",
       "      <td>Sports</td>\n",
       "      <td>1.51</td>\n",
       "      <td>1.03</td>\n",
       "      <td>0.0</td>\n",
       "      <td>0.27</td>\n",
       "      <td>NaN</td>\n",
       "      <td>tbd</td>\n",
       "      <td>T</td>\n",
       "    </tr>\n",
       "    <tr>\n",
       "      <th>645</th>\n",
       "      <td>uDraw Studio</td>\n",
       "      <td>Wii</td>\n",
       "      <td>2010.0</td>\n",
       "      <td>Misc</td>\n",
       "      <td>1.65</td>\n",
       "      <td>0.57</td>\n",
       "      <td>0.0</td>\n",
       "      <td>0.20</td>\n",
       "      <td>71.0</td>\n",
       "      <td>tbd</td>\n",
       "      <td>E</td>\n",
       "    </tr>\n",
       "    <tr>\n",
       "      <th>657</th>\n",
       "      <td>Frogger's Adventures: Temple of the Frog</td>\n",
       "      <td>GBA</td>\n",
       "      <td>NaN</td>\n",
       "      <td>Adventure</td>\n",
       "      <td>2.15</td>\n",
       "      <td>0.18</td>\n",
       "      <td>0.0</td>\n",
       "      <td>0.07</td>\n",
       "      <td>73.0</td>\n",
       "      <td>tbd</td>\n",
       "      <td>E</td>\n",
       "    </tr>\n",
       "    <tr>\n",
       "      <th>...</th>\n",
       "      <td>...</td>\n",
       "      <td>...</td>\n",
       "      <td>...</td>\n",
       "      <td>...</td>\n",
       "      <td>...</td>\n",
       "      <td>...</td>\n",
       "      <td>...</td>\n",
       "      <td>...</td>\n",
       "      <td>...</td>\n",
       "      <td>...</td>\n",
       "      <td>...</td>\n",
       "    </tr>\n",
       "    <tr>\n",
       "      <th>16695</th>\n",
       "      <td>Planet Monsters</td>\n",
       "      <td>GBA</td>\n",
       "      <td>2001.0</td>\n",
       "      <td>Action</td>\n",
       "      <td>0.01</td>\n",
       "      <td>0.00</td>\n",
       "      <td>0.0</td>\n",
       "      <td>0.00</td>\n",
       "      <td>67.0</td>\n",
       "      <td>tbd</td>\n",
       "      <td>E</td>\n",
       "    </tr>\n",
       "    <tr>\n",
       "      <th>16697</th>\n",
       "      <td>Bust-A-Move 3000</td>\n",
       "      <td>GC</td>\n",
       "      <td>2003.0</td>\n",
       "      <td>Puzzle</td>\n",
       "      <td>0.01</td>\n",
       "      <td>0.00</td>\n",
       "      <td>0.0</td>\n",
       "      <td>0.00</td>\n",
       "      <td>53.0</td>\n",
       "      <td>tbd</td>\n",
       "      <td>E</td>\n",
       "    </tr>\n",
       "    <tr>\n",
       "      <th>16698</th>\n",
       "      <td>Mega Brain Boost</td>\n",
       "      <td>DS</td>\n",
       "      <td>2008.0</td>\n",
       "      <td>Puzzle</td>\n",
       "      <td>0.01</td>\n",
       "      <td>0.00</td>\n",
       "      <td>0.0</td>\n",
       "      <td>0.00</td>\n",
       "      <td>48.0</td>\n",
       "      <td>tbd</td>\n",
       "      <td>E</td>\n",
       "    </tr>\n",
       "    <tr>\n",
       "      <th>16704</th>\n",
       "      <td>Plushees</td>\n",
       "      <td>DS</td>\n",
       "      <td>2008.0</td>\n",
       "      <td>Simulation</td>\n",
       "      <td>0.01</td>\n",
       "      <td>0.00</td>\n",
       "      <td>0.0</td>\n",
       "      <td>0.00</td>\n",
       "      <td>NaN</td>\n",
       "      <td>tbd</td>\n",
       "      <td>E</td>\n",
       "    </tr>\n",
       "    <tr>\n",
       "      <th>16706</th>\n",
       "      <td>Men in Black II: Alien Escape</td>\n",
       "      <td>GC</td>\n",
       "      <td>2003.0</td>\n",
       "      <td>Shooter</td>\n",
       "      <td>0.01</td>\n",
       "      <td>0.00</td>\n",
       "      <td>0.0</td>\n",
       "      <td>0.00</td>\n",
       "      <td>NaN</td>\n",
       "      <td>tbd</td>\n",
       "      <td>T</td>\n",
       "    </tr>\n",
       "  </tbody>\n",
       "</table>\n",
       "<p>2424 rows × 11 columns</p>\n",
       "</div>"
      ],
      "text/plain": [
       "                                           name platform  year_of_release  \\\n",
       "119                               Zumba Fitness      Wii           2010.0   \n",
       "301              Namco Museum: 50th Anniversary      PS2           2005.0   \n",
       "520                             Zumba Fitness 2      Wii           2011.0   \n",
       "645                                uDraw Studio      Wii           2010.0   \n",
       "657    Frogger's Adventures: Temple of the Frog      GBA              NaN   \n",
       "...                                         ...      ...              ...   \n",
       "16695                           Planet Monsters      GBA           2001.0   \n",
       "16697                          Bust-A-Move 3000       GC           2003.0   \n",
       "16698                          Mega Brain Boost       DS           2008.0   \n",
       "16704                                  Plushees       DS           2008.0   \n",
       "16706             Men in Black II: Alien Escape       GC           2003.0   \n",
       "\n",
       "            genre  na_sales  eu_sales  jp_sales  other_sales  critic_score  \\\n",
       "119        Sports      3.45      2.59       0.0         0.66           NaN   \n",
       "301          Misc      2.08      1.35       0.0         0.54          61.0   \n",
       "520        Sports      1.51      1.03       0.0         0.27           NaN   \n",
       "645          Misc      1.65      0.57       0.0         0.20          71.0   \n",
       "657     Adventure      2.15      0.18       0.0         0.07          73.0   \n",
       "...           ...       ...       ...       ...          ...           ...   \n",
       "16695      Action      0.01      0.00       0.0         0.00          67.0   \n",
       "16697      Puzzle      0.01      0.00       0.0         0.00          53.0   \n",
       "16698      Puzzle      0.01      0.00       0.0         0.00          48.0   \n",
       "16704  Simulation      0.01      0.00       0.0         0.00           NaN   \n",
       "16706     Shooter      0.01      0.00       0.0         0.00           NaN   \n",
       "\n",
       "      user_score rating  \n",
       "119          tbd      E  \n",
       "301          tbd   E10+  \n",
       "520          tbd      T  \n",
       "645          tbd      E  \n",
       "657          tbd      E  \n",
       "...          ...    ...  \n",
       "16695        tbd      E  \n",
       "16697        tbd      E  \n",
       "16698        tbd      E  \n",
       "16704        tbd      E  \n",
       "16706        tbd      T  \n",
       "\n",
       "[2424 rows x 11 columns]"
      ]
     },
     "execution_count": 17,
     "metadata": {},
     "output_type": "execute_result"
    }
   ],
   "source": [
    "games[games['user_score'] == 'tbd']"
   ]
  },
  {
   "cell_type": "code",
   "execution_count": 18,
   "metadata": {},
   "outputs": [
    {
     "data": {
      "text/html": [
       "<div>\n",
       "<style scoped>\n",
       "    .dataframe tbody tr th:only-of-type {\n",
       "        vertical-align: middle;\n",
       "    }\n",
       "\n",
       "    .dataframe tbody tr th {\n",
       "        vertical-align: top;\n",
       "    }\n",
       "\n",
       "    .dataframe thead th {\n",
       "        text-align: right;\n",
       "    }\n",
       "</style>\n",
       "<table border=\"1\" class=\"dataframe\">\n",
       "  <thead>\n",
       "    <tr style=\"text-align: right;\">\n",
       "      <th></th>\n",
       "      <th>name</th>\n",
       "      <th>platform</th>\n",
       "      <th>year_of_release</th>\n",
       "      <th>genre</th>\n",
       "      <th>na_sales</th>\n",
       "      <th>eu_sales</th>\n",
       "      <th>jp_sales</th>\n",
       "      <th>other_sales</th>\n",
       "      <th>critic_score</th>\n",
       "      <th>user_score</th>\n",
       "      <th>rating</th>\n",
       "    </tr>\n",
       "  </thead>\n",
       "  <tbody>\n",
       "    <tr>\n",
       "      <th>1</th>\n",
       "      <td>Super Mario Bros.</td>\n",
       "      <td>NES</td>\n",
       "      <td>1985.0</td>\n",
       "      <td>Platform</td>\n",
       "      <td>29.08</td>\n",
       "      <td>3.58</td>\n",
       "      <td>6.81</td>\n",
       "      <td>0.77</td>\n",
       "      <td>NaN</td>\n",
       "      <td>NaN</td>\n",
       "      <td>NaN</td>\n",
       "    </tr>\n",
       "    <tr>\n",
       "      <th>4</th>\n",
       "      <td>Pokemon Red/Pokemon Blue</td>\n",
       "      <td>GB</td>\n",
       "      <td>1996.0</td>\n",
       "      <td>Role-Playing</td>\n",
       "      <td>11.27</td>\n",
       "      <td>8.89</td>\n",
       "      <td>10.22</td>\n",
       "      <td>1.00</td>\n",
       "      <td>NaN</td>\n",
       "      <td>NaN</td>\n",
       "      <td>NaN</td>\n",
       "    </tr>\n",
       "    <tr>\n",
       "      <th>5</th>\n",
       "      <td>Tetris</td>\n",
       "      <td>GB</td>\n",
       "      <td>1989.0</td>\n",
       "      <td>Puzzle</td>\n",
       "      <td>23.20</td>\n",
       "      <td>2.26</td>\n",
       "      <td>4.22</td>\n",
       "      <td>0.58</td>\n",
       "      <td>NaN</td>\n",
       "      <td>NaN</td>\n",
       "      <td>NaN</td>\n",
       "    </tr>\n",
       "    <tr>\n",
       "      <th>9</th>\n",
       "      <td>Duck Hunt</td>\n",
       "      <td>NES</td>\n",
       "      <td>1984.0</td>\n",
       "      <td>Shooter</td>\n",
       "      <td>26.93</td>\n",
       "      <td>0.63</td>\n",
       "      <td>0.28</td>\n",
       "      <td>0.47</td>\n",
       "      <td>NaN</td>\n",
       "      <td>NaN</td>\n",
       "      <td>NaN</td>\n",
       "    </tr>\n",
       "    <tr>\n",
       "      <th>10</th>\n",
       "      <td>Nintendogs</td>\n",
       "      <td>DS</td>\n",
       "      <td>2005.0</td>\n",
       "      <td>Simulation</td>\n",
       "      <td>9.05</td>\n",
       "      <td>10.95</td>\n",
       "      <td>1.93</td>\n",
       "      <td>2.74</td>\n",
       "      <td>NaN</td>\n",
       "      <td>NaN</td>\n",
       "      <td>NaN</td>\n",
       "    </tr>\n",
       "    <tr>\n",
       "      <th>...</th>\n",
       "      <td>...</td>\n",
       "      <td>...</td>\n",
       "      <td>...</td>\n",
       "      <td>...</td>\n",
       "      <td>...</td>\n",
       "      <td>...</td>\n",
       "      <td>...</td>\n",
       "      <td>...</td>\n",
       "      <td>...</td>\n",
       "      <td>...</td>\n",
       "      <td>...</td>\n",
       "    </tr>\n",
       "    <tr>\n",
       "      <th>16710</th>\n",
       "      <td>Samurai Warriors: Sanada Maru</td>\n",
       "      <td>PS3</td>\n",
       "      <td>2016.0</td>\n",
       "      <td>Action</td>\n",
       "      <td>0.00</td>\n",
       "      <td>0.00</td>\n",
       "      <td>0.01</td>\n",
       "      <td>0.00</td>\n",
       "      <td>NaN</td>\n",
       "      <td>NaN</td>\n",
       "      <td>NaN</td>\n",
       "    </tr>\n",
       "    <tr>\n",
       "      <th>16711</th>\n",
       "      <td>LMA Manager 2007</td>\n",
       "      <td>X360</td>\n",
       "      <td>2006.0</td>\n",
       "      <td>Sports</td>\n",
       "      <td>0.00</td>\n",
       "      <td>0.01</td>\n",
       "      <td>0.00</td>\n",
       "      <td>0.00</td>\n",
       "      <td>NaN</td>\n",
       "      <td>NaN</td>\n",
       "      <td>NaN</td>\n",
       "    </tr>\n",
       "    <tr>\n",
       "      <th>16712</th>\n",
       "      <td>Haitaka no Psychedelica</td>\n",
       "      <td>PSV</td>\n",
       "      <td>2016.0</td>\n",
       "      <td>Adventure</td>\n",
       "      <td>0.00</td>\n",
       "      <td>0.00</td>\n",
       "      <td>0.01</td>\n",
       "      <td>0.00</td>\n",
       "      <td>NaN</td>\n",
       "      <td>NaN</td>\n",
       "      <td>NaN</td>\n",
       "    </tr>\n",
       "    <tr>\n",
       "      <th>16713</th>\n",
       "      <td>Spirits &amp; Spells</td>\n",
       "      <td>GBA</td>\n",
       "      <td>2003.0</td>\n",
       "      <td>Platform</td>\n",
       "      <td>0.01</td>\n",
       "      <td>0.00</td>\n",
       "      <td>0.00</td>\n",
       "      <td>0.00</td>\n",
       "      <td>NaN</td>\n",
       "      <td>NaN</td>\n",
       "      <td>NaN</td>\n",
       "    </tr>\n",
       "    <tr>\n",
       "      <th>16714</th>\n",
       "      <td>Winning Post 8 2016</td>\n",
       "      <td>PSV</td>\n",
       "      <td>2016.0</td>\n",
       "      <td>Simulation</td>\n",
       "      <td>0.00</td>\n",
       "      <td>0.00</td>\n",
       "      <td>0.01</td>\n",
       "      <td>0.00</td>\n",
       "      <td>NaN</td>\n",
       "      <td>NaN</td>\n",
       "      <td>NaN</td>\n",
       "    </tr>\n",
       "  </tbody>\n",
       "</table>\n",
       "<p>6701 rows × 11 columns</p>\n",
       "</div>"
      ],
      "text/plain": [
       "                                name platform  year_of_release         genre  \\\n",
       "1                  Super Mario Bros.      NES           1985.0      Platform   \n",
       "4           Pokemon Red/Pokemon Blue       GB           1996.0  Role-Playing   \n",
       "5                             Tetris       GB           1989.0        Puzzle   \n",
       "9                          Duck Hunt      NES           1984.0       Shooter   \n",
       "10                        Nintendogs       DS           2005.0    Simulation   \n",
       "...                              ...      ...              ...           ...   \n",
       "16710  Samurai Warriors: Sanada Maru      PS3           2016.0        Action   \n",
       "16711               LMA Manager 2007     X360           2006.0        Sports   \n",
       "16712        Haitaka no Psychedelica      PSV           2016.0     Adventure   \n",
       "16713               Spirits & Spells      GBA           2003.0      Platform   \n",
       "16714            Winning Post 8 2016      PSV           2016.0    Simulation   \n",
       "\n",
       "       na_sales  eu_sales  jp_sales  other_sales  critic_score user_score  \\\n",
       "1         29.08      3.58      6.81         0.77           NaN        NaN   \n",
       "4         11.27      8.89     10.22         1.00           NaN        NaN   \n",
       "5         23.20      2.26      4.22         0.58           NaN        NaN   \n",
       "9         26.93      0.63      0.28         0.47           NaN        NaN   \n",
       "10         9.05     10.95      1.93         2.74           NaN        NaN   \n",
       "...         ...       ...       ...          ...           ...        ...   \n",
       "16710      0.00      0.00      0.01         0.00           NaN        NaN   \n",
       "16711      0.00      0.01      0.00         0.00           NaN        NaN   \n",
       "16712      0.00      0.00      0.01         0.00           NaN        NaN   \n",
       "16713      0.01      0.00      0.00         0.00           NaN        NaN   \n",
       "16714      0.00      0.00      0.01         0.00           NaN        NaN   \n",
       "\n",
       "      rating  \n",
       "1        NaN  \n",
       "4        NaN  \n",
       "5        NaN  \n",
       "9        NaN  \n",
       "10       NaN  \n",
       "...      ...  \n",
       "16710    NaN  \n",
       "16711    NaN  \n",
       "16712    NaN  \n",
       "16713    NaN  \n",
       "16714    NaN  \n",
       "\n",
       "[6701 rows x 11 columns]"
      ]
     },
     "execution_count": 18,
     "metadata": {},
     "output_type": "execute_result"
    }
   ],
   "source": [
    "games.query('user_score.isna()') #посмотрим на игры, у котрых нет оценки пользователей"
   ]
  },
  {
   "cell_type": "markdown",
   "metadata": {},
   "source": [
    "В данных есть пропуски и \"tbd\"-значение. Пропуски могли возникнуть:если пользователи не дали оценки, или при загрузке данных."
   ]
  },
  {
   "cell_type": "markdown",
   "metadata": {},
   "source": [
    "У более половины игр нет оценок пользователей.\n",
    "\n",
    "Из нижней части таблице видно, что у игр, где нет оценок пользователей, продажи по регионам равны 0 млн копий.\n",
    "\n",
    "Удалять такие данные некорректно, тк как копий продано может быть менее 10 тысяч - а это равно 0.00 млн.\n",
    "\n",
    "У игр, которых было продано мало, отсутсвие значений можно объяснить тем, что пользователи просто не поставили оценки играм. Но у более популярных игр отсутсвие данных приводит к вопросам.\n",
    "\n",
    "У нас к обработке столбцы critic_score и user_score - заполним пропуски значением -1, потому что пропусков слишком много, и оценка может сильно пострадать если удалить пропуски или заменить средним значением."
   ]
  },
  {
   "cell_type": "code",
   "execution_count": 19,
   "metadata": {},
   "outputs": [],
   "source": [
    "games['critic_score'] = games['critic_score'].fillna(-1)\n",
    "games['user_score'] = games['user_score'].fillna(-1)"
   ]
  },
  {
   "cell_type": "code",
   "execution_count": 20,
   "metadata": {},
   "outputs": [],
   "source": [
    "games['user_score'] = games['user_score'].replace('tbd', '-1') #заменим значение 'tbd' на -1, чтобы данные не искозилиись"
   ]
  },
  {
   "cell_type": "code",
   "execution_count": 21,
   "metadata": {},
   "outputs": [
    {
     "name": "stdout",
     "output_type": "stream",
     "text": [
      "Количество пропусков в столбце critic_score - 0\n",
      "Количество пропусков в столбце user_score - 0\n"
     ]
    }
   ],
   "source": [
    "print('Количество пропусков в столбце critic_score - {}'.format(games['critic_score'].isnull().sum()))\n",
    "print('Количество пропусков в столбце user_score - {}'.format(games['user_score'].isnull().sum()))"
   ]
  },
  {
   "cell_type": "code",
   "execution_count": 22,
   "metadata": {},
   "outputs": [],
   "source": [
    "games['user_score'] = games['user_score'].astype(float) #заменим тип данных"
   ]
  },
  {
   "cell_type": "markdown",
   "metadata": {},
   "source": [
    "Удалим пропуски в столбцах: 'name','year_of_release', 'genre'"
   ]
  },
  {
   "cell_type": "code",
   "execution_count": 23,
   "metadata": {},
   "outputs": [],
   "source": [
    "games.dropna(subset=['name','year_of_release', 'genre'], inplace=True)"
   ]
  },
  {
   "cell_type": "code",
   "execution_count": 24,
   "metadata": {},
   "outputs": [
    {
     "data": {
      "text/plain": [
       "name                  0\n",
       "platform              0\n",
       "year_of_release       0\n",
       "genre                 0\n",
       "na_sales              0\n",
       "eu_sales              0\n",
       "jp_sales              0\n",
       "other_sales           0\n",
       "critic_score          0\n",
       "user_score            0\n",
       "rating             6676\n",
       "dtype: int64"
      ]
     },
     "execution_count": 24,
     "metadata": {},
     "output_type": "execute_result"
    }
   ],
   "source": [
    "games.isna().sum()"
   ]
  },
  {
   "cell_type": "markdown",
   "metadata": {},
   "source": [
    "Столбец year_of_release имеет тип float, заменю данных тип на int"
   ]
  },
  {
   "cell_type": "code",
   "execution_count": 25,
   "metadata": {},
   "outputs": [],
   "source": [
    "games['year_of_release'] = games['year_of_release'].astype(int)"
   ]
  },
  {
   "cell_type": "markdown",
   "metadata": {},
   "source": [
    "Рейтинг ставит организация ESRB, поэтому пропуски заменим на \"не определен\". Здесь пропуски могли появиться по тех причине, либо организация действительно не поставила рейтинг для игры."
   ]
  },
  {
   "cell_type": "code",
   "execution_count": 26,
   "metadata": {},
   "outputs": [],
   "source": [
    "games['rating'] = games['rating'].fillna('Не определен')"
   ]
  },
  {
   "cell_type": "code",
   "execution_count": 27,
   "metadata": {},
   "outputs": [
    {
     "data": {
      "text/html": [
       "<div>\n",
       "<style scoped>\n",
       "    .dataframe tbody tr th:only-of-type {\n",
       "        vertical-align: middle;\n",
       "    }\n",
       "\n",
       "    .dataframe tbody tr th {\n",
       "        vertical-align: top;\n",
       "    }\n",
       "\n",
       "    .dataframe thead th {\n",
       "        text-align: right;\n",
       "    }\n",
       "</style>\n",
       "<table border=\"1\" class=\"dataframe\">\n",
       "  <thead>\n",
       "    <tr style=\"text-align: right;\">\n",
       "      <th></th>\n",
       "      <th>name</th>\n",
       "      <th>platform</th>\n",
       "      <th>year_of_release</th>\n",
       "      <th>genre</th>\n",
       "      <th>na_sales</th>\n",
       "      <th>eu_sales</th>\n",
       "      <th>jp_sales</th>\n",
       "      <th>other_sales</th>\n",
       "      <th>critic_score</th>\n",
       "      <th>user_score</th>\n",
       "      <th>rating</th>\n",
       "    </tr>\n",
       "  </thead>\n",
       "  <tbody>\n",
       "    <tr>\n",
       "      <th>0</th>\n",
       "      <td>Wii Sports</td>\n",
       "      <td>Wii</td>\n",
       "      <td>2006</td>\n",
       "      <td>Sports</td>\n",
       "      <td>41.36</td>\n",
       "      <td>28.96</td>\n",
       "      <td>3.77</td>\n",
       "      <td>8.45</td>\n",
       "      <td>76.0</td>\n",
       "      <td>8.0</td>\n",
       "      <td>E</td>\n",
       "    </tr>\n",
       "    <tr>\n",
       "      <th>1</th>\n",
       "      <td>Super Mario Bros.</td>\n",
       "      <td>NES</td>\n",
       "      <td>1985</td>\n",
       "      <td>Platform</td>\n",
       "      <td>29.08</td>\n",
       "      <td>3.58</td>\n",
       "      <td>6.81</td>\n",
       "      <td>0.77</td>\n",
       "      <td>-1.0</td>\n",
       "      <td>-1.0</td>\n",
       "      <td>Не определен</td>\n",
       "    </tr>\n",
       "    <tr>\n",
       "      <th>2</th>\n",
       "      <td>Mario Kart Wii</td>\n",
       "      <td>Wii</td>\n",
       "      <td>2008</td>\n",
       "      <td>Racing</td>\n",
       "      <td>15.68</td>\n",
       "      <td>12.76</td>\n",
       "      <td>3.79</td>\n",
       "      <td>3.29</td>\n",
       "      <td>82.0</td>\n",
       "      <td>8.3</td>\n",
       "      <td>E</td>\n",
       "    </tr>\n",
       "    <tr>\n",
       "      <th>3</th>\n",
       "      <td>Wii Sports Resort</td>\n",
       "      <td>Wii</td>\n",
       "      <td>2009</td>\n",
       "      <td>Sports</td>\n",
       "      <td>15.61</td>\n",
       "      <td>10.93</td>\n",
       "      <td>3.28</td>\n",
       "      <td>2.95</td>\n",
       "      <td>80.0</td>\n",
       "      <td>8.0</td>\n",
       "      <td>E</td>\n",
       "    </tr>\n",
       "    <tr>\n",
       "      <th>4</th>\n",
       "      <td>Pokemon Red/Pokemon Blue</td>\n",
       "      <td>GB</td>\n",
       "      <td>1996</td>\n",
       "      <td>Role-Playing</td>\n",
       "      <td>11.27</td>\n",
       "      <td>8.89</td>\n",
       "      <td>10.22</td>\n",
       "      <td>1.00</td>\n",
       "      <td>-1.0</td>\n",
       "      <td>-1.0</td>\n",
       "      <td>Не определен</td>\n",
       "    </tr>\n",
       "    <tr>\n",
       "      <th>5</th>\n",
       "      <td>Tetris</td>\n",
       "      <td>GB</td>\n",
       "      <td>1989</td>\n",
       "      <td>Puzzle</td>\n",
       "      <td>23.20</td>\n",
       "      <td>2.26</td>\n",
       "      <td>4.22</td>\n",
       "      <td>0.58</td>\n",
       "      <td>-1.0</td>\n",
       "      <td>-1.0</td>\n",
       "      <td>Не определен</td>\n",
       "    </tr>\n",
       "    <tr>\n",
       "      <th>6</th>\n",
       "      <td>New Super Mario Bros.</td>\n",
       "      <td>DS</td>\n",
       "      <td>2006</td>\n",
       "      <td>Platform</td>\n",
       "      <td>11.28</td>\n",
       "      <td>9.14</td>\n",
       "      <td>6.50</td>\n",
       "      <td>2.88</td>\n",
       "      <td>89.0</td>\n",
       "      <td>8.5</td>\n",
       "      <td>E</td>\n",
       "    </tr>\n",
       "    <tr>\n",
       "      <th>7</th>\n",
       "      <td>Wii Play</td>\n",
       "      <td>Wii</td>\n",
       "      <td>2006</td>\n",
       "      <td>Misc</td>\n",
       "      <td>13.96</td>\n",
       "      <td>9.18</td>\n",
       "      <td>2.93</td>\n",
       "      <td>2.84</td>\n",
       "      <td>58.0</td>\n",
       "      <td>6.6</td>\n",
       "      <td>E</td>\n",
       "    </tr>\n",
       "    <tr>\n",
       "      <th>8</th>\n",
       "      <td>New Super Mario Bros. Wii</td>\n",
       "      <td>Wii</td>\n",
       "      <td>2009</td>\n",
       "      <td>Platform</td>\n",
       "      <td>14.44</td>\n",
       "      <td>6.94</td>\n",
       "      <td>4.70</td>\n",
       "      <td>2.24</td>\n",
       "      <td>87.0</td>\n",
       "      <td>8.4</td>\n",
       "      <td>E</td>\n",
       "    </tr>\n",
       "    <tr>\n",
       "      <th>9</th>\n",
       "      <td>Duck Hunt</td>\n",
       "      <td>NES</td>\n",
       "      <td>1984</td>\n",
       "      <td>Shooter</td>\n",
       "      <td>26.93</td>\n",
       "      <td>0.63</td>\n",
       "      <td>0.28</td>\n",
       "      <td>0.47</td>\n",
       "      <td>-1.0</td>\n",
       "      <td>-1.0</td>\n",
       "      <td>Не определен</td>\n",
       "    </tr>\n",
       "  </tbody>\n",
       "</table>\n",
       "</div>"
      ],
      "text/plain": [
       "                        name platform  year_of_release         genre  \\\n",
       "0                 Wii Sports      Wii             2006        Sports   \n",
       "1          Super Mario Bros.      NES             1985      Platform   \n",
       "2             Mario Kart Wii      Wii             2008        Racing   \n",
       "3          Wii Sports Resort      Wii             2009        Sports   \n",
       "4   Pokemon Red/Pokemon Blue       GB             1996  Role-Playing   \n",
       "5                     Tetris       GB             1989        Puzzle   \n",
       "6      New Super Mario Bros.       DS             2006      Platform   \n",
       "7                   Wii Play      Wii             2006          Misc   \n",
       "8  New Super Mario Bros. Wii      Wii             2009      Platform   \n",
       "9                  Duck Hunt      NES             1984       Shooter   \n",
       "\n",
       "   na_sales  eu_sales  jp_sales  other_sales  critic_score  user_score  \\\n",
       "0     41.36     28.96      3.77         8.45          76.0         8.0   \n",
       "1     29.08      3.58      6.81         0.77          -1.0        -1.0   \n",
       "2     15.68     12.76      3.79         3.29          82.0         8.3   \n",
       "3     15.61     10.93      3.28         2.95          80.0         8.0   \n",
       "4     11.27      8.89     10.22         1.00          -1.0        -1.0   \n",
       "5     23.20      2.26      4.22         0.58          -1.0        -1.0   \n",
       "6     11.28      9.14      6.50         2.88          89.0         8.5   \n",
       "7     13.96      9.18      2.93         2.84          58.0         6.6   \n",
       "8     14.44      6.94      4.70         2.24          87.0         8.4   \n",
       "9     26.93      0.63      0.28         0.47          -1.0        -1.0   \n",
       "\n",
       "         rating  \n",
       "0             E  \n",
       "1  Не определен  \n",
       "2             E  \n",
       "3             E  \n",
       "4  Не определен  \n",
       "5  Не определен  \n",
       "6             E  \n",
       "7             E  \n",
       "8             E  \n",
       "9  Не определен  "
      ]
     },
     "execution_count": 27,
     "metadata": {},
     "output_type": "execute_result"
    }
   ],
   "source": [
    "games.head(10)"
   ]
  },
  {
   "cell_type": "code",
   "execution_count": 28,
   "metadata": {},
   "outputs": [
    {
     "data": {
      "text/plain": [
       "<AxesSubplot:>"
      ]
     },
     "execution_count": 28,
     "metadata": {},
     "output_type": "execute_result"
    },
    {
     "data": {
      "image/png": "[encoded data removed]",
      "text/plain": [
       "<Figure size 1800x720 with 2 Axes>"
      ]
     },
     "metadata": {
      "needs_background": "light"
     },
     "output_type": "display_data"
    }
   ],
   "source": [
    "msno.matrix(games, labels=True) #еще раз оценим количество пропусков после всех преобразований"
   ]
  },
  {
   "cell_type": "markdown",
   "metadata": {},
   "source": [
    "Пропусков нет, с данными можно работать дальше."
   ]
  },
  {
   "cell_type": "markdown",
   "metadata": {},
   "source": [
    "### Найдем суммарные продажи во всех регионах и запишим их в отдельный столбец"
   ]
  },
  {
   "cell_type": "code",
   "execution_count": 29,
   "metadata": {},
   "outputs": [],
   "source": [
    "games['total_sales'] =  games['na_sales'] + games['eu_sales'] + games['jp_sales'] + games['other_sales']"
   ]
  },
  {
   "cell_type": "code",
   "execution_count": 30,
   "metadata": {},
   "outputs": [
    {
     "data": {
      "text/html": [
       "<div>\n",
       "<style scoped>\n",
       "    .dataframe tbody tr th:only-of-type {\n",
       "        vertical-align: middle;\n",
       "    }\n",
       "\n",
       "    .dataframe tbody tr th {\n",
       "        vertical-align: top;\n",
       "    }\n",
       "\n",
       "    .dataframe thead th {\n",
       "        text-align: right;\n",
       "    }\n",
       "</style>\n",
       "<table border=\"1\" class=\"dataframe\">\n",
       "  <thead>\n",
       "    <tr style=\"text-align: right;\">\n",
       "      <th></th>\n",
       "      <th>year_of_release</th>\n",
       "      <th>na_sales</th>\n",
       "      <th>eu_sales</th>\n",
       "      <th>jp_sales</th>\n",
       "      <th>other_sales</th>\n",
       "      <th>critic_score</th>\n",
       "      <th>user_score</th>\n",
       "      <th>total_sales</th>\n",
       "    </tr>\n",
       "  </thead>\n",
       "  <tbody>\n",
       "    <tr>\n",
       "      <th>count</th>\n",
       "      <td>16444.000000</td>\n",
       "      <td>16444.000000</td>\n",
       "      <td>16444.000000</td>\n",
       "      <td>16444.000000</td>\n",
       "      <td>16444.000000</td>\n",
       "      <td>16444.000000</td>\n",
       "      <td>16444.000000</td>\n",
       "      <td>16444.000000</td>\n",
       "    </tr>\n",
       "    <tr>\n",
       "      <th>mean</th>\n",
       "      <td>2006.486256</td>\n",
       "      <td>0.264012</td>\n",
       "      <td>0.145930</td>\n",
       "      <td>0.078487</td>\n",
       "      <td>0.047594</td>\n",
       "      <td>32.979871</td>\n",
       "      <td>2.688081</td>\n",
       "      <td>0.536023</td>\n",
       "    </tr>\n",
       "    <tr>\n",
       "      <th>std</th>\n",
       "      <td>5.875525</td>\n",
       "      <td>0.818378</td>\n",
       "      <td>0.506716</td>\n",
       "      <td>0.311100</td>\n",
       "      <td>0.188005</td>\n",
       "      <td>36.302947</td>\n",
       "      <td>4.170124</td>\n",
       "      <td>1.558786</td>\n",
       "    </tr>\n",
       "    <tr>\n",
       "      <th>min</th>\n",
       "      <td>1980.000000</td>\n",
       "      <td>0.000000</td>\n",
       "      <td>0.000000</td>\n",
       "      <td>0.000000</td>\n",
       "      <td>0.000000</td>\n",
       "      <td>-1.000000</td>\n",
       "      <td>-1.000000</td>\n",
       "      <td>0.000000</td>\n",
       "    </tr>\n",
       "    <tr>\n",
       "      <th>25%</th>\n",
       "      <td>2003.000000</td>\n",
       "      <td>0.000000</td>\n",
       "      <td>0.000000</td>\n",
       "      <td>0.000000</td>\n",
       "      <td>0.000000</td>\n",
       "      <td>-1.000000</td>\n",
       "      <td>-1.000000</td>\n",
       "      <td>0.060000</td>\n",
       "    </tr>\n",
       "    <tr>\n",
       "      <th>50%</th>\n",
       "      <td>2007.000000</td>\n",
       "      <td>0.080000</td>\n",
       "      <td>0.020000</td>\n",
       "      <td>0.000000</td>\n",
       "      <td>0.010000</td>\n",
       "      <td>-1.000000</td>\n",
       "      <td>-1.000000</td>\n",
       "      <td>0.170000</td>\n",
       "    </tr>\n",
       "    <tr>\n",
       "      <th>75%</th>\n",
       "      <td>2010.000000</td>\n",
       "      <td>0.240000</td>\n",
       "      <td>0.110000</td>\n",
       "      <td>0.040000</td>\n",
       "      <td>0.030000</td>\n",
       "      <td>70.000000</td>\n",
       "      <td>7.300000</td>\n",
       "      <td>0.470000</td>\n",
       "    </tr>\n",
       "    <tr>\n",
       "      <th>max</th>\n",
       "      <td>2016.000000</td>\n",
       "      <td>41.360000</td>\n",
       "      <td>28.960000</td>\n",
       "      <td>10.220000</td>\n",
       "      <td>10.570000</td>\n",
       "      <td>98.000000</td>\n",
       "      <td>9.700000</td>\n",
       "      <td>82.540000</td>\n",
       "    </tr>\n",
       "  </tbody>\n",
       "</table>\n",
       "</div>"
      ],
      "text/plain": [
       "       year_of_release      na_sales      eu_sales      jp_sales  \\\n",
       "count     16444.000000  16444.000000  16444.000000  16444.000000   \n",
       "mean       2006.486256      0.264012      0.145930      0.078487   \n",
       "std           5.875525      0.818378      0.506716      0.311100   \n",
       "min        1980.000000      0.000000      0.000000      0.000000   \n",
       "25%        2003.000000      0.000000      0.000000      0.000000   \n",
       "50%        2007.000000      0.080000      0.020000      0.000000   \n",
       "75%        2010.000000      0.240000      0.110000      0.040000   \n",
       "max        2016.000000     41.360000     28.960000     10.220000   \n",
       "\n",
       "        other_sales  critic_score    user_score   total_sales  \n",
       "count  16444.000000  16444.000000  16444.000000  16444.000000  \n",
       "mean       0.047594     32.979871      2.688081      0.536023  \n",
       "std        0.188005     36.302947      4.170124      1.558786  \n",
       "min        0.000000     -1.000000     -1.000000      0.000000  \n",
       "25%        0.000000     -1.000000     -1.000000      0.060000  \n",
       "50%        0.010000     -1.000000     -1.000000      0.170000  \n",
       "75%        0.030000     70.000000      7.300000      0.470000  \n",
       "max       10.570000     98.000000      9.700000     82.540000  "
      ]
     },
     "execution_count": 30,
     "metadata": {},
     "output_type": "execute_result"
    }
   ],
   "source": [
    "games.describe()"
   ]
  },
  {
   "cell_type": "markdown",
   "metadata": {},
   "source": [
    "Суммарная выручка составила 16444 млн копий. Максимальная 82.54 млн копий."
   ]
  },
  {
   "cell_type": "markdown",
   "metadata": {},
   "source": [
    "## Шаг 3. Исследовательский анализ данных"
   ]
  },
  {
   "cell_type": "markdown",
   "metadata": {},
   "source": [
    "### Анализ количества игр выпущеных по годам."
   ]
  },
  {
   "cell_type": "markdown",
   "metadata": {},
   "source": [
    "Сгруппируем данные по году и выведем количество игр, релиз которых был в каждый год."
   ]
  },
  {
   "cell_type": "code",
   "execution_count": 31,
   "metadata": {},
   "outputs": [
    {
     "data": {
      "text/plain": [
       "Text(0, 0.5, 'Сумма')"
      ]
     },
     "execution_count": 31,
     "metadata": {},
     "output_type": "execute_result"
    },
    {
     "data": {
      "image/png": "[encoded data removed]",
      "text/plain": [
       "<Figure size 1440x504 with 1 Axes>"
      ]
     },
     "metadata": {
      "needs_background": "light"
     },
     "output_type": "display_data"
    }
   ],
   "source": [
    "games.groupby('year_of_release')['name'].count().plot(kind='bar', figsize=(20, 7))\n",
    "plt.title('Годы выхода игр')\n",
    "\n",
    "plt.xlabel('Год выпуска')\n",
    "\n",
    "plt.ylabel('Сумма', rotation=90)"
   ]
  },
  {
   "cell_type": "markdown",
   "metadata": {},
   "source": [
    "Для анализа данных часть игр, которые выпускались 1994 года не важна. Индустрия игр еще была не так популярна. Всего игр выпущенных до 1994 года составляет 365 штук. Это около 2% выборки.\n",
    "\n",
    "Резкий скачок по количеству игр, выпущенных в год, произошел в 2002 году. Рекордное количество игр было выпущено в 2008-09 годах. После этого начался спад, связанный с развитием мобильных устройств, интеграция соц. сетей в жизнь людей. Это всё привело к тому, что интерес к самим играм упал, соответственно, упало и их производство. \n",
    "\n",
    "На графике видно, что левый хвост гистограммы очень узок."
   ]
  },
  {
   "cell_type": "code",
   "execution_count": 32,
   "metadata": {},
   "outputs": [
    {
     "data": {
      "text/plain": [
       "365"
      ]
     },
     "execution_count": 32,
     "metadata": {},
     "output_type": "execute_result"
    }
   ],
   "source": [
    "games.query('year_of_release<1994')['name'].count() #колличество игр до 1994 года"
   ]
  },
  {
   "cell_type": "markdown",
   "metadata": {},
   "source": [
    "### Анализ продаж по платформам"
   ]
  },
  {
   "cell_type": "code",
   "execution_count": 33,
   "metadata": {},
   "outputs": [],
   "source": [
    "platforms = games['platform'].unique() #Создадим список, где будет хранится названия платформ"
   ]
  },
  {
   "cell_type": "markdown",
   "metadata": {},
   "source": [
    "Сгрупируем платформы с наибольшими суммарными продажами c 1994 года и построим графики изменения продаж по годам."
   ]
  },
  {
   "cell_type": "code",
   "execution_count": 34,
   "metadata": {},
   "outputs": [
    {
     "data": {
      "text/plain": [
       "Text(0, 0.5, 'Продажи')"
      ]
     },
     "execution_count": 34,
     "metadata": {},
     "output_type": "execute_result"
    },
    {
     "data": {
      "image/png": "[encoded data removed]",
      "text/plain": [
       "<Figure size 1080x432 with 1 Axes>"
      ]
     },
     "metadata": {
      "needs_background": "light"
     },
     "output_type": "display_data"
    }
   ],
   "source": [
    "games.query('year_of_release>=1994').groupby('platform')['total_sales'].sum().sort_values(ascending=False).plot(kind='bar', \n",
    "                                                                                                                figsize=(15,6)\n",
    "                                                                                                               )\n",
    "plt.title('Суммарные продажи платформ с 1994 года')\n",
    "\n",
    "plt.xlabel('Платформа')\n",
    "\n",
    "plt.ylabel('Продажи', rotation=90)"
   ]
  },
  {
   "cell_type": "markdown",
   "metadata": {},
   "source": [
    "Из графика можно выделить 5 лидеров, остальные платформы или же мало известны, или расчитаны на определенный регион. ( Возьмем 5 платформ для расчета \"активности\" платформы."
   ]
  },
  {
   "cell_type": "markdown",
   "metadata": {},
   "source": [
    "### Продажи по платформам в актуальный период"
   ]
  },
  {
   "cell_type": "markdown",
   "metadata": {},
   "source": [
    "До 1994 года выходило слишком мало игр, относительно общей выборки; а также не наблюдалось лидирующих по суммарным продажам платформ. Более того, только за последние 10 лет мы наблюдаем и большое количество игр, и большой выбор платформ, которые могут составить друг-другу конкуренцию. Поскольку последние тенденции показывают лидерство нескольких платформ, а не одной; а также срок устаревания платформы составляет около 10 лет; и данные за 2016 год неполные, нам нужен срез данных с 2006 по 2015 год, с которым мы продолжим пока работать. Так же следует помнить о том, что нам нужны платформы, которые находятся на подъеме, а значит стоит рассматривать период равный примерно половине жизненного цикла. Иначе нам будут мешать платформы, которые набрали большие продажи в прошле годы, но уже на спаде и скоро перестанут выпускаться. Для определения такого периода изучим данные глубже. "
   ]
  },
  {
   "cell_type": "code",
   "execution_count": 35,
   "metadata": {},
   "outputs": [],
   "source": [
    "games_actual = games.query('year_of_release >= 2014 & year_of_release <= 2016') #сделаем срез по годам"
   ]
  },
  {
   "cell_type": "markdown",
   "metadata": {},
   "source": [
    "Составим сводную таблицу, которая проиллюстрирует динамику лидерства платформ по продажам."
   ]
  },
  {
   "cell_type": "code",
   "execution_count": 36,
   "metadata": {},
   "outputs": [
    {
     "data": {
      "text/html": [
       "<div>\n",
       "<style scoped>\n",
       "    .dataframe tbody tr th:only-of-type {\n",
       "        vertical-align: middle;\n",
       "    }\n",
       "\n",
       "    .dataframe tbody tr th {\n",
       "        vertical-align: top;\n",
       "    }\n",
       "\n",
       "    .dataframe thead th {\n",
       "        text-align: right;\n",
       "    }\n",
       "</style>\n",
       "<table border=\"1\" class=\"dataframe\">\n",
       "  <thead>\n",
       "    <tr style=\"text-align: right;\">\n",
       "      <th>year_of_release</th>\n",
       "      <th>2014</th>\n",
       "      <th>2015</th>\n",
       "      <th>2016</th>\n",
       "    </tr>\n",
       "    <tr>\n",
       "      <th>platform</th>\n",
       "      <th></th>\n",
       "      <th></th>\n",
       "      <th></th>\n",
       "    </tr>\n",
       "  </thead>\n",
       "  <tbody>\n",
       "    <tr>\n",
       "      <th>3DS</th>\n",
       "      <td>43.76</td>\n",
       "      <td>27.78</td>\n",
       "      <td>15.14</td>\n",
       "    </tr>\n",
       "    <tr>\n",
       "      <th>PC</th>\n",
       "      <td>13.28</td>\n",
       "      <td>8.52</td>\n",
       "      <td>5.25</td>\n",
       "    </tr>\n",
       "    <tr>\n",
       "      <th>PS3</th>\n",
       "      <td>47.76</td>\n",
       "      <td>16.82</td>\n",
       "      <td>3.60</td>\n",
       "    </tr>\n",
       "    <tr>\n",
       "      <th>PS4</th>\n",
       "      <td>100.00</td>\n",
       "      <td>118.90</td>\n",
       "      <td>69.25</td>\n",
       "    </tr>\n",
       "    <tr>\n",
       "      <th>PSP</th>\n",
       "      <td>0.24</td>\n",
       "      <td>0.12</td>\n",
       "      <td>NaN</td>\n",
       "    </tr>\n",
       "    <tr>\n",
       "      <th>PSV</th>\n",
       "      <td>11.90</td>\n",
       "      <td>6.25</td>\n",
       "      <td>4.25</td>\n",
       "    </tr>\n",
       "    <tr>\n",
       "      <th>Wii</th>\n",
       "      <td>3.75</td>\n",
       "      <td>1.14</td>\n",
       "      <td>0.18</td>\n",
       "    </tr>\n",
       "    <tr>\n",
       "      <th>WiiU</th>\n",
       "      <td>22.03</td>\n",
       "      <td>16.35</td>\n",
       "      <td>4.60</td>\n",
       "    </tr>\n",
       "    <tr>\n",
       "      <th>X360</th>\n",
       "      <td>34.74</td>\n",
       "      <td>11.96</td>\n",
       "      <td>1.52</td>\n",
       "    </tr>\n",
       "    <tr>\n",
       "      <th>XOne</th>\n",
       "      <td>54.07</td>\n",
       "      <td>60.14</td>\n",
       "      <td>26.15</td>\n",
       "    </tr>\n",
       "  </tbody>\n",
       "</table>\n",
       "</div>"
      ],
      "text/plain": [
       "year_of_release    2014    2015   2016\n",
       "platform                              \n",
       "3DS               43.76   27.78  15.14\n",
       "PC                13.28    8.52   5.25\n",
       "PS3               47.76   16.82   3.60\n",
       "PS4              100.00  118.90  69.25\n",
       "PSP                0.24    0.12    NaN\n",
       "PSV               11.90    6.25   4.25\n",
       "Wii                3.75    1.14   0.18\n",
       "WiiU              22.03   16.35   4.60\n",
       "X360              34.74   11.96   1.52\n",
       "XOne              54.07   60.14  26.15"
      ]
     },
     "execution_count": 36,
     "metadata": {},
     "output_type": "execute_result"
    }
   ],
   "source": [
    "platform_active = games_actual.pivot_table(index='platform', columns='year_of_release', values='total_sales', aggfunc='sum')\n",
    "platform_active "
   ]
  },
  {
   "cell_type": "markdown",
   "metadata": {},
   "source": [
    "Таким образом, мы получили срез из 5 платформ, которые будут актуальны в 2017 году.Построим график для этих платформ."
   ]
  },
  {
   "cell_type": "code",
   "execution_count": 37,
   "metadata": {},
   "outputs": [
    {
     "data": {
      "image/png": "[encoded data removed]",
      "text/plain": [
       "<Figure size 720x360 with 1 Axes>"
      ]
     },
     "metadata": {
      "needs_background": "light"
     },
     "output_type": "display_data"
    }
   ],
   "source": [
    "platform_active = (games_actual\n",
    "                              .loc[(games_actual['platform'].isin((\"3DS\", \"PS4\", \"PSV\", \"WiiU\", \"XOne\"))==True) & (\n",
    "                                  games_actual['year_of_release'].isin(( 2014, 2015, 2016))==True)]\n",
    "                              .pivot_table(index=['platform', 'year_of_release'], values='total_sales', aggfunc='sum')\n",
    "                              .reset_index()\n",
    "                 )\n",
    "plot = sns.catplot(x='year_of_release', y='total_sales', hue=\"platform\", kind=\"bar\", data=platform_active)\n",
    "plt.title(\"Суммарные продажи игр на актуальных платформах по годам\", fontsize=12)\n",
    "plt.xlabel('год выпуска', fontsize=10)\n",
    "plt.ylabel('суммарные продажи (миллионы долларов)', fontsize=10)\n",
    "plot.fig.set_size_inches(10,5)"
   ]
  },
  {
   "cell_type": "markdown",
   "metadata": {},
   "source": [
    "Таким образом, получили потенциально прибыльные в 2017 году платформы: Playstation4, только набирающая обороты и приносящая самый высокий доход от продаж; XOne занимает второе место, 3DS теряет популярность, но еще будет актуальна в 2017г; WiiU, являющаяся преемником Wii, которая тоже была достаточно популярна в своё время, но возможно, не стоит делать на нее упор, тк популярность значительно упала; Playstation4.PlaystationVita, не настолько популярная (что может быть связано с меньшим количеством игр на данной платформе), но также потенциально прибыльная в ближайшие 2-3 года;\n",
    "\n",
    "При этом наблюдается рост популярности у потребителей игр для Playstation4 и XBoxOne; и снижение спроса на игры на платформах 3DS, PlaystationVita и WiiU, тем не менее, даже они потенциально могут принести достаточно высокий доход до появления аналогов нового поколения."
   ]
  },
  {
   "cell_type": "markdown",
   "metadata": {},
   "source": [
    "### Построение боксплотов по наиболее перспективным платформам"
   ]
  },
  {
   "cell_type": "markdown",
   "metadata": {},
   "source": [
    "Мы выделили наиболее перспективные платформы, которые будем далее анализировать. Оставим в срезе данных только игры, относящиеся к данным платформам."
   ]
  },
  {
   "cell_type": "code",
   "execution_count": 38,
   "metadata": {},
   "outputs": [
    {
     "data": {
      "text/html": [
       "<div>\n",
       "<style scoped>\n",
       "    .dataframe tbody tr th:only-of-type {\n",
       "        vertical-align: middle;\n",
       "    }\n",
       "\n",
       "    .dataframe tbody tr th {\n",
       "        vertical-align: top;\n",
       "    }\n",
       "\n",
       "    .dataframe thead th {\n",
       "        text-align: right;\n",
       "    }\n",
       "</style>\n",
       "<table border=\"1\" class=\"dataframe\">\n",
       "  <thead>\n",
       "    <tr style=\"text-align: right;\">\n",
       "      <th></th>\n",
       "      <th>name</th>\n",
       "      <th>platform</th>\n",
       "      <th>year_of_release</th>\n",
       "      <th>genre</th>\n",
       "      <th>na_sales</th>\n",
       "      <th>eu_sales</th>\n",
       "      <th>jp_sales</th>\n",
       "      <th>other_sales</th>\n",
       "      <th>critic_score</th>\n",
       "      <th>user_score</th>\n",
       "      <th>rating</th>\n",
       "      <th>total_sales</th>\n",
       "    </tr>\n",
       "  </thead>\n",
       "  <tbody>\n",
       "    <tr>\n",
       "      <th>0</th>\n",
       "      <td>Call of Duty: Black Ops 3</td>\n",
       "      <td>PS4</td>\n",
       "      <td>2015</td>\n",
       "      <td>Shooter</td>\n",
       "      <td>6.03</td>\n",
       "      <td>5.86</td>\n",
       "      <td>0.36</td>\n",
       "      <td>2.38</td>\n",
       "      <td>-1.0</td>\n",
       "      <td>-1.0</td>\n",
       "      <td>Не определен</td>\n",
       "      <td>14.63</td>\n",
       "    </tr>\n",
       "    <tr>\n",
       "      <th>1</th>\n",
       "      <td>Grand Theft Auto V</td>\n",
       "      <td>PS4</td>\n",
       "      <td>2014</td>\n",
       "      <td>Action</td>\n",
       "      <td>3.96</td>\n",
       "      <td>6.31</td>\n",
       "      <td>0.38</td>\n",
       "      <td>1.97</td>\n",
       "      <td>97.0</td>\n",
       "      <td>8.3</td>\n",
       "      <td>M</td>\n",
       "      <td>12.62</td>\n",
       "    </tr>\n",
       "    <tr>\n",
       "      <th>2</th>\n",
       "      <td>Pokemon Omega Ruby/Pokemon Alpha Sapphire</td>\n",
       "      <td>3DS</td>\n",
       "      <td>2014</td>\n",
       "      <td>Role-Playing</td>\n",
       "      <td>4.35</td>\n",
       "      <td>3.49</td>\n",
       "      <td>3.10</td>\n",
       "      <td>0.74</td>\n",
       "      <td>-1.0</td>\n",
       "      <td>-1.0</td>\n",
       "      <td>Не определен</td>\n",
       "      <td>11.68</td>\n",
       "    </tr>\n",
       "    <tr>\n",
       "      <th>3</th>\n",
       "      <td>FIFA 16</td>\n",
       "      <td>PS4</td>\n",
       "      <td>2015</td>\n",
       "      <td>Sports</td>\n",
       "      <td>1.12</td>\n",
       "      <td>6.12</td>\n",
       "      <td>0.06</td>\n",
       "      <td>1.28</td>\n",
       "      <td>82.0</td>\n",
       "      <td>4.3</td>\n",
       "      <td>E</td>\n",
       "      <td>8.58</td>\n",
       "    </tr>\n",
       "    <tr>\n",
       "      <th>4</th>\n",
       "      <td>Star Wars Battlefront (2015)</td>\n",
       "      <td>PS4</td>\n",
       "      <td>2015</td>\n",
       "      <td>Shooter</td>\n",
       "      <td>2.99</td>\n",
       "      <td>3.49</td>\n",
       "      <td>0.22</td>\n",
       "      <td>1.28</td>\n",
       "      <td>-1.0</td>\n",
       "      <td>-1.0</td>\n",
       "      <td>Не определен</td>\n",
       "      <td>7.98</td>\n",
       "    </tr>\n",
       "  </tbody>\n",
       "</table>\n",
       "</div>"
      ],
      "text/plain": [
       "                                        name platform  year_of_release  \\\n",
       "0                  Call of Duty: Black Ops 3      PS4             2015   \n",
       "1                         Grand Theft Auto V      PS4             2014   \n",
       "2  Pokemon Omega Ruby/Pokemon Alpha Sapphire      3DS             2014   \n",
       "3                                    FIFA 16      PS4             2015   \n",
       "4               Star Wars Battlefront (2015)      PS4             2015   \n",
       "\n",
       "          genre  na_sales  eu_sales  jp_sales  other_sales  critic_score  \\\n",
       "0       Shooter      6.03      5.86      0.36         2.38          -1.0   \n",
       "1        Action      3.96      6.31      0.38         1.97          97.0   \n",
       "2  Role-Playing      4.35      3.49      3.10         0.74          -1.0   \n",
       "3        Sports      1.12      6.12      0.06         1.28          82.0   \n",
       "4       Shooter      2.99      3.49      0.22         1.28          -1.0   \n",
       "\n",
       "   user_score        rating  total_sales  \n",
       "0        -1.0  Не определен        14.63  \n",
       "1         8.3             M        12.62  \n",
       "2        -1.0  Не определен        11.68  \n",
       "3         4.3             E         8.58  \n",
       "4        -1.0  Не определен         7.98  "
      ]
     },
     "execution_count": 38,
     "metadata": {},
     "output_type": "execute_result"
    }
   ],
   "source": [
    "profitable_platforms = pd.Series(platform_active['platform'].unique())\n",
    "games_popular = games_actual.loc[games_actual['platform'].isin(profitable_platforms)==True].reset_index(drop=True)\n",
    "games_popular.head()"
   ]
  },
  {
   "cell_type": "code",
   "execution_count": 39,
   "metadata": {},
   "outputs": [
    {
     "data": {
      "text/html": [
       "<div>\n",
       "<style scoped>\n",
       "    .dataframe tbody tr th:only-of-type {\n",
       "        vertical-align: middle;\n",
       "    }\n",
       "\n",
       "    .dataframe tbody tr th {\n",
       "        vertical-align: top;\n",
       "    }\n",
       "\n",
       "    .dataframe thead th {\n",
       "        text-align: right;\n",
       "    }\n",
       "</style>\n",
       "<table border=\"1\" class=\"dataframe\">\n",
       "  <thead>\n",
       "    <tr style=\"text-align: right;\">\n",
       "      <th></th>\n",
       "      <th>platform</th>\n",
       "      <th>name</th>\n",
       "      <th>total_sales</th>\n",
       "    </tr>\n",
       "  </thead>\n",
       "  <tbody>\n",
       "    <tr>\n",
       "      <th>0</th>\n",
       "      <td>3DS</td>\n",
       "      <td>Beyblade Burst</td>\n",
       "      <td>0.03</td>\n",
       "    </tr>\n",
       "    <tr>\n",
       "      <th>1</th>\n",
       "      <td>3DS</td>\n",
       "      <td>Fire Emblem Fates</td>\n",
       "      <td>1.67</td>\n",
       "    </tr>\n",
       "    <tr>\n",
       "      <th>2</th>\n",
       "      <td>3DS</td>\n",
       "      <td>Haikyu!! Cross Team Match!</td>\n",
       "      <td>0.04</td>\n",
       "    </tr>\n",
       "    <tr>\n",
       "      <th>3</th>\n",
       "      <td>3DS</td>\n",
       "      <td>12-Sai. Honto no Kimochi</td>\n",
       "      <td>0.07</td>\n",
       "    </tr>\n",
       "    <tr>\n",
       "      <th>4</th>\n",
       "      <td>3DS</td>\n",
       "      <td>12-Sai. Koisuru Diary</td>\n",
       "      <td>0.05</td>\n",
       "    </tr>\n",
       "  </tbody>\n",
       "</table>\n",
       "</div>"
      ],
      "text/plain": [
       "  platform                         name  total_sales\n",
       "0      3DS               Beyblade Burst         0.03\n",
       "1      3DS            Fire Emblem Fates         1.67\n",
       "2      3DS   Haikyu!! Cross Team Match!         0.04\n",
       "3      3DS     12-Sai. Honto no Kimochi         0.07\n",
       "4      3DS        12-Sai. Koisuru Diary         0.05"
      ]
     },
     "execution_count": 39,
     "metadata": {},
     "output_type": "execute_result"
    }
   ],
   "source": [
    "# Создадим таблицу, необходимую для построения боксплотов, исключив ненужные столбцы\n",
    "name_sale = games_popular.pivot_table(index=['platform', 'name'], values='total_sales', aggfunc='sum').reset_index()\n",
    "name_sale.head()"
   ]
  },
  {
   "cell_type": "markdown",
   "metadata": {},
   "source": [
    "Построим боксплоты по глобальным продажам каждой игры и разбивкой по платформам."
   ]
  },
  {
   "cell_type": "code",
   "execution_count": 40,
   "metadata": {},
   "outputs": [
    {
     "data": {
      "image/png": "[encoded data removed]",
      "text/plain": [
       "<Figure size 432x432 with 1 Axes>"
      ]
     },
     "metadata": {
      "needs_background": "light"
     },
     "output_type": "display_data"
    }
   ],
   "source": [
    "fig = plt.subplots(figsize=(6,6))\n",
    "plt.title(\"Глобальные продажи игр по наиболее перспективным платформам\")\n",
    "plot = sns.boxplot(x=\"platform\", y=\"total_sales\", data=name_sale, palette='rainbow')\n",
    "plt.xlabel('название платформы')\n",
    "plt.ylabel('суммарные продажи (миллионы долларов)')\n",
    "plt.show()"
   ]
  },
  {
   "cell_type": "markdown",
   "metadata": {},
   "source": [
    "Видим, что на каждой из платформ существует большое количество игр, суммарные продажи по которым выбиваются из квартильных значений. В целом, разница в суммарных продажах игр в рамках каждой из платформ очень велико для 3DS и Playstation4; чуть меньше - для WiiU и XBoxOne; и относительно небольшая - для PlaystationVita.\n",
    "\n",
    "Сравним показатели по наиболее часто встречающимся значениям: для этого нам интересны среднее, медианное и квартильные значения. Построим график в укрупнённом виде, исключив из визуализации выбивающиеся значения."
   ]
  },
  {
   "cell_type": "code",
   "execution_count": 41,
   "metadata": {},
   "outputs": [
    {
     "data": {
      "image/png": "[encoded data removed]",
      "text/plain": [
       "<Figure size 432x432 with 1 Axes>"
      ]
     },
     "metadata": {
      "needs_background": "light"
     },
     "output_type": "display_data"
    }
   ],
   "source": [
    "fig = plt.subplots(figsize=(6,6))\n",
    "plt.title(\"Глобальные продажи игр по наиболее перспективным платформам\")\n",
    "plot = sns.boxplot(x=\"platform\", y=\"total_sales\", data=name_sale, palette='rainbow', showfliers=False)\n",
    "plt.xlabel('название платформы')\n",
    "plt.ylabel('суммарные продажи (миллионы долларов)')\n",
    "plt.show()"
   ]
  },
  {
   "cell_type": "markdown",
   "metadata": {},
   "source": [
    "    По всем платформам наблюдается превышение среднего значения над медианным и скос датасетов вправо: для Playstation4 и XBoxOne наиболее сильно, для 3DS и WiiU - чуть меньше, и для PlayStationVita - относительно небольшой. Также видим различия в медианных значениях: игры yf Playstation4 и XBoxOne имеют схожие боксплоты (квартильные, средние и медианные значения), а WiiU характеризуется меньшим значением; затем идёт 3DS и PlayStationVita.\n",
    "\n",
    "    Это может быть связано с разнобразием игр на ведущих платформах: поскольку платформы Playstation и XBox достаточно давно приобрели популярность среди потребителей, они могут позволить себе выпуск достаточно ранжированного по цене игрового контента, способного найти \"своего\" потребителя: поэтому их боксплоты шире и растянутее. Wii тоже достаточно старая (в версиях предыдущих поколений), но менее популярная - соответственно разнообразие игр на данной платформе может быть ниже. Что касается PlaystationVita - это консоль с небольшим разнообразием игр, которые, как мы видим по боксплоту, схожи в ценовой категории и по продажам - разброс по данной платформе самый небольшой, и среднее значение не сильно превосходит медианное."
   ]
  },
  {
   "cell_type": "markdown",
   "metadata": {},
   "source": [
    "### Связь отзывов и продаж"
   ]
  },
  {
   "cell_type": "markdown",
   "metadata": {},
   "source": [
    "Рассмотрим самую популярную на текущий момент платформу - PS4. \n",
    "\n",
    "Построим диаграмму рассеяния с помощью метода scatter, по оси х - отобразим оценки пользователей по игре, по у - общие продажи данной игры"
   ]
  },
  {
   "cell_type": "code",
   "execution_count": 42,
   "metadata": {},
   "outputs": [],
   "source": [
    "ps4 = games.query('2014 <= year_of_release <= 2016 and platform == \"PS4\" and user_score > 0') #найдем коэффициент корреляции, чтобы определить степень линейной зависимости между этими двумя переменными"
   ]
  },
  {
   "cell_type": "code",
   "execution_count": 43,
   "metadata": {},
   "outputs": [
    {
     "data": {
      "text/plain": [
       "<AxesSubplot:xlabel='user_score', ylabel='total_sales'>"
      ]
     },
     "execution_count": 43,
     "metadata": {},
     "output_type": "execute_result"
    },
    {
     "data": {
      "image/png": "[encoded data removed]",
      "text/plain": [
       "<Figure size 432x288 with 1 Axes>"
      ]
     },
     "metadata": {
      "needs_background": "light"
     },
     "output_type": "display_data"
    }
   ],
   "source": [
    "ps4.plot.scatter(x='user_score', y='total_sales', c='red', alpha=0.5)"
   ]
  },
  {
   "cell_type": "markdown",
   "metadata": {},
   "source": [
    "Явного влияния оценки пользователей на продажи нет. Стоит сказать, что, действительно, зона где оценка игр более 6 - намного насыщеннее и в этой зоне больше игр находится за рамками средних продаж."
   ]
  },
  {
   "cell_type": "markdown",
   "metadata": {},
   "source": [
    "Посмотрим диаграмму рассеяния на оценку критиков."
   ]
  },
  {
   "cell_type": "code",
   "execution_count": 44,
   "metadata": {},
   "outputs": [
    {
     "data": {
      "text/plain": [
       "<AxesSubplot:xlabel='critic_score', ylabel='total_sales'>"
      ]
     },
     "execution_count": 44,
     "metadata": {},
     "output_type": "execute_result"
    },
    {
     "data": {
      "image/png": "[encoded data removed]",
      "text/plain": [
       "<Figure size 432x288 with 1 Axes>"
      ]
     },
     "metadata": {
      "needs_background": "light"
     },
     "output_type": "display_data"
    }
   ],
   "source": [
    "ps4.plot.scatter(x='critic_score', y='total_sales', c='red', alpha=0.5)"
   ]
  },
  {
   "cell_type": "code",
   "execution_count": 45,
   "metadata": {},
   "outputs": [
    {
     "data": {
      "text/plain": [
       "0.33982751788998095"
      ]
     },
     "execution_count": 45,
     "metadata": {},
     "output_type": "execute_result"
    }
   ],
   "source": [
    "ps4['critic_score'].corr(ps4['total_sales']) #найдем коэффициент корреляции, чтобы определить степень линейной зависимости между этими двумя переменными"
   ]
  },
  {
   "cell_type": "markdown",
   "metadata": {},
   "source": [
    "Исходя из данных видим, что на платформе PS4 оценки пользователей не влияет на продажи игр. Пользователи скорее следят за мнением критиков и принимают решения, покупать игру или нет.\n",
    "\n",
    "Оценка критиков более весомая и она в большей степени влияет на продажи игр.\n",
    "\n",
    "На последнем графике уже видна закономерность, что от оценки в 60 баллов - чем больше оценка критика - тем больше игр продается.\n",
    "\n",
    "Коэфициент корреляции равен 0,33, что показывается наличие влияния, но показатель мал, чтобы говорить, что связь сильная"
   ]
  },
  {
   "cell_type": "markdown",
   "metadata": {},
   "source": [
    "Построим диаграмму рассеяния и посчитаем корреляцию между отзывами и продажами среди попульрных платформ."
   ]
  },
  {
   "cell_type": "code",
   "execution_count": 46,
   "metadata": {},
   "outputs": [
    {
     "data": {
      "image/png": "[encoded data removed]",
      "text/plain": [
       "<Figure size 540x540 with 9 Axes>"
      ]
     },
     "metadata": {
      "needs_background": "light"
     },
     "output_type": "display_data"
    }
   ],
   "source": [
    "Scaterplots = sns.PairGrid(games_popular[['critic_score', 'user_score', 'total_sales']])\n",
    "Scaterplots.map(plt.scatter)\n",
    "plt.show()"
   ]
  },
  {
   "cell_type": "code",
   "execution_count": 47,
   "metadata": {},
   "outputs": [
    {
     "data": {
      "text/html": [
       "<div>\n",
       "<style scoped>\n",
       "    .dataframe tbody tr th:only-of-type {\n",
       "        vertical-align: middle;\n",
       "    }\n",
       "\n",
       "    .dataframe tbody tr th {\n",
       "        vertical-align: top;\n",
       "    }\n",
       "\n",
       "    .dataframe thead th {\n",
       "        text-align: right;\n",
       "    }\n",
       "</style>\n",
       "<table border=\"1\" class=\"dataframe\">\n",
       "  <thead>\n",
       "    <tr style=\"text-align: right;\">\n",
       "      <th></th>\n",
       "      <th>year_of_release</th>\n",
       "      <th>na_sales</th>\n",
       "      <th>eu_sales</th>\n",
       "      <th>jp_sales</th>\n",
       "      <th>other_sales</th>\n",
       "      <th>critic_score</th>\n",
       "      <th>user_score</th>\n",
       "      <th>total_sales</th>\n",
       "    </tr>\n",
       "  </thead>\n",
       "  <tbody>\n",
       "    <tr>\n",
       "      <th>year_of_release</th>\n",
       "      <td>1.000000</td>\n",
       "      <td>-0.122385</td>\n",
       "      <td>-0.092258</td>\n",
       "      <td>-0.079418</td>\n",
       "      <td>-0.097252</td>\n",
       "      <td>0.008443</td>\n",
       "      <td>0.003926</td>\n",
       "      <td>-0.121079</td>\n",
       "    </tr>\n",
       "    <tr>\n",
       "      <th>na_sales</th>\n",
       "      <td>-0.122385</td>\n",
       "      <td>1.000000</td>\n",
       "      <td>0.747839</td>\n",
       "      <td>0.277714</td>\n",
       "      <td>0.844077</td>\n",
       "      <td>0.271333</td>\n",
       "      <td>0.181079</td>\n",
       "      <td>0.916670</td>\n",
       "    </tr>\n",
       "    <tr>\n",
       "      <th>eu_sales</th>\n",
       "      <td>-0.092258</td>\n",
       "      <td>0.747839</td>\n",
       "      <td>1.000000</td>\n",
       "      <td>0.196863</td>\n",
       "      <td>0.937592</td>\n",
       "      <td>0.250348</td>\n",
       "      <td>0.165688</td>\n",
       "      <td>0.917534</td>\n",
       "    </tr>\n",
       "    <tr>\n",
       "      <th>jp_sales</th>\n",
       "      <td>-0.079418</td>\n",
       "      <td>0.277714</td>\n",
       "      <td>0.196863</td>\n",
       "      <td>1.000000</td>\n",
       "      <td>0.170470</td>\n",
       "      <td>-0.041511</td>\n",
       "      <td>-0.047792</td>\n",
       "      <td>0.431870</td>\n",
       "    </tr>\n",
       "    <tr>\n",
       "      <th>other_sales</th>\n",
       "      <td>-0.097252</td>\n",
       "      <td>0.844077</td>\n",
       "      <td>0.937592</td>\n",
       "      <td>0.170470</td>\n",
       "      <td>1.000000</td>\n",
       "      <td>0.254779</td>\n",
       "      <td>0.169083</td>\n",
       "      <td>0.933378</td>\n",
       "    </tr>\n",
       "    <tr>\n",
       "      <th>critic_score</th>\n",
       "      <td>0.008443</td>\n",
       "      <td>0.271333</td>\n",
       "      <td>0.250348</td>\n",
       "      <td>-0.041511</td>\n",
       "      <td>0.254779</td>\n",
       "      <td>1.000000</td>\n",
       "      <td>0.876080</td>\n",
       "      <td>0.248825</td>\n",
       "    </tr>\n",
       "    <tr>\n",
       "      <th>user_score</th>\n",
       "      <td>0.003926</td>\n",
       "      <td>0.181079</td>\n",
       "      <td>0.165688</td>\n",
       "      <td>-0.047792</td>\n",
       "      <td>0.169083</td>\n",
       "      <td>0.876080</td>\n",
       "      <td>1.000000</td>\n",
       "      <td>0.161173</td>\n",
       "    </tr>\n",
       "    <tr>\n",
       "      <th>total_sales</th>\n",
       "      <td>-0.121079</td>\n",
       "      <td>0.916670</td>\n",
       "      <td>0.917534</td>\n",
       "      <td>0.431870</td>\n",
       "      <td>0.933378</td>\n",
       "      <td>0.248825</td>\n",
       "      <td>0.161173</td>\n",
       "      <td>1.000000</td>\n",
       "    </tr>\n",
       "  </tbody>\n",
       "</table>\n",
       "</div>"
      ],
      "text/plain": [
       "                 year_of_release  na_sales  eu_sales  jp_sales  other_sales  \\\n",
       "year_of_release         1.000000 -0.122385 -0.092258 -0.079418    -0.097252   \n",
       "na_sales               -0.122385  1.000000  0.747839  0.277714     0.844077   \n",
       "eu_sales               -0.092258  0.747839  1.000000  0.196863     0.937592   \n",
       "jp_sales               -0.079418  0.277714  0.196863  1.000000     0.170470   \n",
       "other_sales            -0.097252  0.844077  0.937592  0.170470     1.000000   \n",
       "critic_score            0.008443  0.271333  0.250348 -0.041511     0.254779   \n",
       "user_score              0.003926  0.181079  0.165688 -0.047792     0.169083   \n",
       "total_sales            -0.121079  0.916670  0.917534  0.431870     0.933378   \n",
       "\n",
       "                 critic_score  user_score  total_sales  \n",
       "year_of_release      0.008443    0.003926    -0.121079  \n",
       "na_sales             0.271333    0.181079     0.916670  \n",
       "eu_sales             0.250348    0.165688     0.917534  \n",
       "jp_sales            -0.041511   -0.047792     0.431870  \n",
       "other_sales          0.254779    0.169083     0.933378  \n",
       "critic_score         1.000000    0.876080     0.248825  \n",
       "user_score           0.876080    1.000000     0.161173  \n",
       "total_sales          0.248825    0.161173     1.000000  "
      ]
     },
     "execution_count": 47,
     "metadata": {},
     "output_type": "execute_result"
    }
   ],
   "source": [
    "games_popular_сorrelation = games_popular.corr()\n",
    "games_popular_сorrelation"
   ]
  },
  {
   "cell_type": "code",
   "execution_count": 48,
   "metadata": {},
   "outputs": [
    {
     "data": {
      "image/png": "[encoded data removed]",
      "text/plain": [
       "<Figure size 432x288 with 2 Axes>"
      ]
     },
     "metadata": {
      "needs_background": "light"
     },
     "output_type": "display_data"
    }
   ],
   "source": [
    "fig, ax = plt.subplots()\n",
    "plt.title(\"Корреляция между основными числовыми данными по продаже игр для популярных платформ\")\n",
    "mask = np.triu(np.ones_like(games_popular_сorrelation, dtype=bool))\n",
    "sns.heatmap(games_popular_сorrelation, vmin=-1, vmax=1, linewidths=.3, mask=mask, ax=ax)\n",
    "plt.show()"
   ]
  },
  {
   "cell_type": "markdown",
   "metadata": {},
   "source": [
    "Коэффициент корреляции между Оценкой критиков и Совокупными продажами составил 0,24 (по региональным продажам этот коэффициент примерно схож и близок к 0,008-0,27; исключая Японию), что говорит о небольшой зависимости между этими показателями. Этот же вывод мы можем сделать из диаграммы рассеяния: игры с низкими оценками критиков практически не продаются, в то время как игры с высокими оценками имеют больше продаж. С одной стороны, это может быть связано с тем, что люди обращают внимание на оценку игры, прежде чем покупают её (но корреляция невысокая, соответственно, это не ключевой показатель). С другой стороны, возможно, критиками оцениваются не все игры, а наиболее популярные у покупателей.\n",
    "\n",
    "Коэффициент корреляции между Оценкой покупателей и Совокупными продажами составил 0,16, что говорит об отсутствии зависимости между этими показателями. Возможно, это связано с тем, что потребитель сначала покупает игру, а затем, поиграв, ставит ей оценку, исходя из субъективного впечатления. Таким образом, одна и та же игра может оставить как хорошее, так и плохое впечатление - в зависимости от индивидуальных предпочтений. "
   ]
  },
  {
   "cell_type": "markdown",
   "metadata": {},
   "source": [
    "### Распеределение игр по жанрам."
   ]
  },
  {
   "cell_type": "markdown",
   "metadata": {},
   "source": [
    "Построим график распределения по жанрам"
   ]
  },
  {
   "cell_type": "code",
   "execution_count": 49,
   "metadata": {},
   "outputs": [
    {
     "data": {
      "text/plain": [
       "<AxesSubplot:xlabel='genre'>"
      ]
     },
     "execution_count": 49,
     "metadata": {},
     "output_type": "execute_result"
    },
    {
     "data": {
      "image/png": "[encoded data removed]",
      "text/plain": [
       "<Figure size 432x288 with 1 Axes>"
      ]
     },
     "metadata": {
      "needs_background": "light"
     },
     "output_type": "display_data"
    }
   ],
   "source": [
    "games.query('2014<=year_of_release<=2016').groupby('genre')['total_sales'].sum().sort_values(ascending=False).plot(kind='bar')"
   ]
  },
  {
   "cell_type": "markdown",
   "metadata": {},
   "source": [
    "Самые популярные жанры - это Action, Shooter. Самый непопулярный жанр - Puzzle. Возможно, популярные игры в этих жанрах тратят больший бюджет на разработку, маркетинг, что приносит положительную динамику в продажах."
   ]
  },
  {
   "cell_type": "markdown",
   "metadata": {},
   "source": [
    "Построим боксплоты для более детальной наглядности"
   ]
  },
  {
   "cell_type": "code",
   "execution_count": 50,
   "metadata": {},
   "outputs": [
    {
     "data": {
      "text/plain": [
       "(0.0, 4.0)"
      ]
     },
     "execution_count": 50,
     "metadata": {},
     "output_type": "execute_result"
    },
    {
     "data": {
      "image/png": "[encoded data removed]",
      "text/plain": [
       "<Figure size 1080x360 with 1 Axes>"
      ]
     },
     "metadata": {
      "needs_background": "light"
     },
     "output_type": "display_data"
    }
   ],
   "source": [
    "games.query('2014<=year_of_release<=2016').groupby('genre').boxplot(column='total_sales',\n",
    "                                                                       subplots=False,\n",
    "                                                                       rot=90, \n",
    "                                                                       fontsize=12, \n",
    "                                                                       figsize=(15,5))\n",
    "\n",
    "plt.title('\"Ящики с усами\" по жанрам за 2014-2016 гг')\n",
    "plt.xlabel('Жанр')\n",
    "plt.ylabel('Продажи')\n",
    "plt.ylim(0,4)"
   ]
  },
  {
   "cell_type": "markdown",
   "metadata": {},
   "source": [
    "Распределение выпускаемых игр по жанрам отличается между собой.\n",
    "\n",
    "Например, видна разница между шутерами и экшн играми:\n",
    "\n",
    "У шутеров 75% игр в этом жанре были проданы в размере 1,6 млн копий В то время как у экшн игр 75% игр лежит в диапазоне продаж до ~300 тыс копий. Но не смотря на это экшн - самый продаваемый жанр.\n",
    "\n",
    "Также стоит посмотреть на количество игр в жанре"
   ]
  },
  {
   "cell_type": "code",
   "execution_count": 51,
   "metadata": {},
   "outputs": [
    {
     "data": {
      "text/plain": [
       "count    619\n",
       "Name: genre, dtype: int64"
      ]
     },
     "execution_count": 51,
     "metadata": {},
     "output_type": "execute_result"
    }
   ],
   "source": [
    "games.query('2014<=year_of_release<=2016 and genre==\"Action\"')['genre'].agg(['count'])"
   ]
  },
  {
   "cell_type": "code",
   "execution_count": 52,
   "metadata": {},
   "outputs": [
    {
     "data": {
      "text/plain": [
       "count    128\n",
       "Name: genre, dtype: int64"
      ]
     },
     "execution_count": 52,
     "metadata": {},
     "output_type": "execute_result"
    }
   ],
   "source": [
    "games.query('2014<=year_of_release<=2016 and genre==\"Shooter\"')['genre'].agg(['count'])"
   ]
  },
  {
   "cell_type": "markdown",
   "metadata": {},
   "source": [
    "За 2014-2016 годы экшн игр было выпущено 619 штук, в то время как шутеров - 128. Почти в 5 раз меньше.\n",
    "Но из столбчатой диаграммы видно, что шутеры и экшн игры по продаваемости находятся рядом.\n",
    "\n",
    "Значит, шутеры при их небольшом количестве продавались намного эффетивнее.\n",
    "\n",
    "Наиболее прибыльные игры - это шутеры. Они становятся очень популярные"
   ]
  },
  {
   "cell_type": "markdown",
   "metadata": {},
   "source": [
    "Таким образом можно сделать вывод:\n",
    "\n",
    "с 1994 года количество выпускаемых игр стало стремительно расти. В 2007-2008 годах был достигнут пик продаж игр на приставки\n",
    "Жизненный цикл платформы составляет около 10 лет, через каждые пять лет на рынок выхохит новая платформа\n",
    "Пользователи при покупке игр берут во внимание оценки критиков, что влияет на продажи.\n",
    "Наиболее популярный жанр - action, но наиболее прибыльный (количество-продажи) shooter. При небольшом количестве игр - продажи схожи с экшн играми. Наименее популярный жанр - puzzle"
   ]
  },
  {
   "cell_type": "markdown",
   "metadata": {},
   "source": [
    "## Портрет пользователя каждого региона"
   ]
  },
  {
   "cell_type": "markdown",
   "metadata": {},
   "source": [
    "Определим самые популярные платформы ( за период 2014 - 2016г) по регионам и оценим их на диаграмме"
   ]
  },
  {
   "cell_type": "code",
   "execution_count": 53,
   "metadata": {},
   "outputs": [],
   "source": [
    "games_sales = games['na_sales'] + games['eu_sales'] + games['jp_sales'] + games['other_sales']"
   ]
  },
  {
   "cell_type": "code",
   "execution_count": 54,
   "metadata": {},
   "outputs": [],
   "source": [
    "def graph_pie(data, title): #Для построение диаграмм напишем функцию\n",
    "    fig, ((ax1, ax2), (ax3, ax4)) = plt.subplots(2, 2, figsize=(8,8))\n",
    "    palette = sns.color_palette('pastel')[ 0:5 ]\n",
    "    fig.suptitle(title)\n",
    "    ax1.pie(data['na_sales'], labels = data.index, autopct='%1.1f%%', colors = palette, normalize=True)\n",
    "    ax1.set_title('Северная Америка')\n",
    "    ax2.pie(data['eu_sales'], labels = data.index, autopct='%1.1f%%', colors = palette, normalize=True)\n",
    "    ax2.set_title('Европа')\n",
    "    ax3.pie(data['jp_sales'], labels = data.index, autopct='%1.1f%%', colors = palette, normalize=True)\n",
    "    ax3.set_title('Япония')\n",
    "    ax4.pie(data['other_sales'], labels = data.index, autopct='%1.1f%%', colors = palette, normalize=True)\n",
    "    ax4.set_title('Другие регионы')\n",
    "    fig.tight_layout()"
   ]
  },
  {
   "cell_type": "code",
   "execution_count": 55,
   "metadata": {},
   "outputs": [
    {
     "data": {
      "image/png": "[encoded data removed]",
      "text/plain": [
       "<Figure size 576x576 with 4 Axes>"
      ]
     },
     "metadata": {},
     "output_type": "display_data"
    }
   ],
   "source": [
    "platform_region_sales = games_actual.pivot_table(index='platform', values=['na_sales', 'eu_sales', 'jp_sales', 'other_sales'], aggfunc='sum')\n",
    "graph_pie(platform_region_sales, 'Самые популярные платформы в регионах')"
   ]
  },
  {
   "cell_type": "markdown",
   "metadata": {},
   "source": [
    "Из диаграмм можем сделать вывод: самые популярные платформы в Северной Америке это PS4, XOne, X360  В Европе картина примерна такая же, небольшое отличие в процентном соотношении. Схожесть вкусов пользователей, возможно, обусловлена с тем, что менталитет и культура в большей степени схожи. Существенную разницу имеет распредление платформ в Японии, тут картина совершенно другая:  3DS( почти половина рынка 47,5%), PS4  PSV. Предпочтения в платформах в других регионах больше походят на предпочтения Европы с еще несколько большей популярностью PS4."
   ]
  },
  {
   "cell_type": "code",
   "execution_count": 56,
   "metadata": {},
   "outputs": [
    {
     "data": {
      "image/png": "[encoded data removed]",
      "text/plain": [
       "<Figure size 576x576 with 4 Axes>"
      ]
     },
     "metadata": {},
     "output_type": "display_data"
    }
   ],
   "source": [
    "genre_region_sales=games_actual.pivot_table(index='genre',\n",
    "                                               values=['na_sales', 'eu_sales', 'jp_sales', 'other_sales'])\n",
    "graph_pie(genre_region_sales, 'Самые популярные жанры в регионах')"
   ]
  },
  {
   "cell_type": "markdown",
   "metadata": {},
   "source": [
    "Распредение предпочтений пользователей согласно диаграммам продаж по жанрам во всех регионах кроме Японии похожи. Лидируют шутеры затем игры в категории Platform.\n",
    "\n",
    "В японском регионе портрет пользователя совсем другой. Первое место по предпочтениям Role-Playing и Platform."
   ]
  },
  {
   "cell_type": "markdown",
   "metadata": {},
   "source": [
    "По рейтингам ESRB во всех регионах (опять же кроме Японии) больше трети продаж происходят в категории M («Для взрослых»: Материалы игры не подходящие для лиц младше 17 лет) В Японском регионе эта доля снижена до 17%. Далее по распространению \"детские\" - категории E и E10+. \n",
    "\n",
    "Исходя из это можно смело утверждать, что пользователи Японии существенно отличатся от пользователей Северной Америки и Европы, это возможно, зависит от культуры и менталитета."
   ]
  },
  {
   "cell_type": "markdown",
   "metadata": {},
   "source": [
    "## Проверка гипотез"
   ]
  },
  {
   "cell_type": "markdown",
   "metadata": {},
   "source": [
    "### Средние пользовательские рейтинги платформ Xbox One и PC одинаковые"
   ]
  },
  {
   "cell_type": "markdown",
   "metadata": {},
   "source": [
    "Чтобы сравнивать средние двух выборок необходимо, чтобы средние их выборок были нормально распределены вокруг среднего ген совокупности."
   ]
  },
  {
   "cell_type": "markdown",
   "metadata": {},
   "source": [
    "Сформулируем нулевую гипотезу H0: Средние двух генеральных совокупностей равны между собой.\n",
    "\n",
    "Альтернативная гипотеза H1: Средние двух генераальных совокупностей не равны между собой."
   ]
  },
  {
   "cell_type": "code",
   "execution_count": 58,
   "metadata": {},
   "outputs": [
    {
     "name": "stdout",
     "output_type": "stream",
     "text": [
      "p-значение: 0.2718222107871509\n",
      "Не получилось отвергнуть нулевую гипотезу\n"
     ]
    }
   ],
   "source": [
    "xone_user_scores = games.query('2014 <= year_of_release <= 2016 and platform == \"XOne\" and user_score.notna()')['user_score']\n",
    "pc_user_scores = games.query('2014 <= year_of_release <= 2016 and platform == \"PC\" and user_score.notna()')['user_score']\n",
    "\n",
    "alpha = 0.05\n",
    "\n",
    "results = st.ttest_ind(xone_user_scores, pc_user_scores)\n",
    "\n",
    "print('p-значение:', results.pvalue)\n",
    "\n",
    "if results.pvalue < alpha:\n",
    "    print('Отвергаем нулевую гипотезу')\n",
    "else:\n",
    "    print('Не получилось отвергнуть нулевую гипотезу')"
   ]
  },
  {
   "cell_type": "markdown",
   "metadata": {},
   "source": [
    "pvalue (27%) больше уровня значимости (5%). Это означает, что вероятность получить одинаковые средние из двух выборок весома.\n",
    "\n",
    "в 27 из 100 случаев можем получить одинаковые средние для пользовательских рейтингов у данных платформ.\n",
    "\n",
    "Поэтому на имеющихся данных, на уровне значимости 5% (уровне доверия 95%) нет оснований отвергнуть нулевую гипотезу"
   ]
  },
  {
   "cell_type": "markdown",
   "metadata": {},
   "source": [
    "Проверим средние данных этих выборок:"
   ]
  },
  {
   "cell_type": "code",
   "execution_count": 59,
   "metadata": {},
   "outputs": [
    {
     "data": {
      "text/plain": [
       "4.496052631578947"
      ]
     },
     "execution_count": 59,
     "metadata": {},
     "output_type": "execute_result"
    }
   ],
   "source": [
    "games.query('2014<=year_of_release<=2016 and platform==\"XOne\" and user_score.isna() == False')['user_score'].mean()"
   ]
  },
  {
   "cell_type": "code",
   "execution_count": 60,
   "metadata": {},
   "outputs": [
    {
     "data": {
      "text/plain": [
       "4.896688741721853"
      ]
     },
     "execution_count": 60,
     "metadata": {},
     "output_type": "execute_result"
    }
   ],
   "source": [
    "games.query('2014<=year_of_release<=2016 and platform==\"PC\" and user_score.isna() == False')['user_score'].mean()"
   ]
  },
  {
   "cell_type": "markdown",
   "metadata": {},
   "source": [
    "Действительно, средние значение пользовательских оценок очень близки между собой.\n",
    "Поэтому справедливо не отвергать нулевую гипотезу."
   ]
  },
  {
   "cell_type": "markdown",
   "metadata": {},
   "source": [
    "### Средние пользовательские рейтинги жанров Action (англ. «действие», экшен-игры) и Sports (англ. «спортивные соревнования») разные"
   ]
  },
  {
   "cell_type": "markdown",
   "metadata": {},
   "source": [
    "Ho = средние пользовательские рейтинги жанров Action и Sports одинаковые.\n",
    "\n",
    "H1 = средние пользовательские рейтинги жанров Action и Sports разные."
   ]
  },
  {
   "cell_type": "code",
   "execution_count": 61,
   "metadata": {},
   "outputs": [
    {
     "name": "stdout",
     "output_type": "stream",
     "text": [
      "p-значение: 0.00046659782032851705\n",
      "Отвергаем нулевую гипотезу\n"
     ]
    }
   ],
   "source": [
    "action_genre_games = games.query( '2014<=year_of_release<=2016 and genre==\"Action\" and user_score.isna() == False')['user_score'] \n",
    "sports_genre_games = games.query( '2014<=year_of_release<=2016 and genre==\"Sports\" and user_score.isna() == False')['user_score']\n",
    "\n",
    "alpha=0.05\n",
    "\n",
    "results = st.ttest_ind(action_genre_games, sports_genre_games)\n",
    "\n",
    "print('p-значение:', results.pvalue)\n",
    "\n",
    "if results.pvalue < alpha:\n",
    "    print('Отвергаем нулевую гипотезу')\n",
    "else:\n",
    "    print('Не получилось отвергнуть нулевую гипотезу')"
   ]
  },
  {
   "cell_type": "markdown",
   "metadata": {},
   "source": [
    "p-value в разы меньше уровня стат значимости (5%).\n",
    "\n",
    "ТАким образом, при ~0 случаях из 100 мы можем получить одинаковые средние пользовательские рейтинги. Уровень стат значимости задан на уровне 5 случаев. Значит, при всех значениях, что меньше 5 - мы не принимаем первую гипотезу, и может принять гипотезу о том, что, действително, средние пользовательские рейтинги могут быть разными\n",
    "\n",
    "Сравним средние значения этих выборок:"
   ]
  },
  {
   "cell_type": "code",
   "execution_count": 62,
   "metadata": {},
   "outputs": [
    {
     "data": {
      "text/plain": [
       "2.723586429725364"
      ]
     },
     "execution_count": 62,
     "metadata": {},
     "output_type": "execute_result"
    }
   ],
   "source": [
    "games.query( '2014<=year_of_release<=2016 and genre==\"Action\" and user_score.isna() == False')['user_score'].mean()"
   ]
  },
  {
   "cell_type": "code",
   "execution_count": 63,
   "metadata": {},
   "outputs": [
    {
     "data": {
      "text/plain": [
       "3.91055900621118"
      ]
     },
     "execution_count": 63,
     "metadata": {},
     "output_type": "execute_result"
    }
   ],
   "source": [
    "games.query( '2014<=year_of_release<=2016 and genre==\"Sports\" and user_score.isna() == False')['user_score'].mean()"
   ]
  },
  {
   "cell_type": "markdown",
   "metadata": {},
   "source": [
    "вероятность получить значение за пределелами 0,05 крайне мала(вероятность того, что полученное среднее будет сильно отличаться от среднего выборки первой совокупности). Следовательно, много вероятно получить такое значение, которое будет близко к среднему первой совокупности.\n",
    "\n",
    "Поэтому мы отвергли гипотезу о том, что средние рейтинги разные. Ведь даже если посмотреть на средние значения этих выборок, то они отличаются всего на 0,1 единицы, что является малой разницей между показателями."
   ]
  },
  {
   "cell_type": "markdown",
   "metadata": {},
   "source": [
    "## Вывод"
   ]
  },
  {
   "cell_type": "markdown",
   "metadata": {},
   "source": [
    "Импортировали библиотеки, открыли файл с данными и изучили общее представление о данных. \n",
    "\n",
    "В наших данных есть 16715 строк. Датафрейм состоит из 11 колонок. Данные взяты за промежуток 1980 по 2016г. В некоторых из них присутствуют пропуски, которые обработали. Также присуствует два типа данных \"object\" и \"float64\", привели форматы данных к их виду. Пропущенные значения обработали. Пропуски могли появиться из-за того, что пользователи не давали корректную информацию или при загрузке данных.\n",
    "\n",
    "В результате анализа выяснили, что суммарная выручка составила 16444 млн копий. Максимальная 82.54 млн копий.\n",
    "Для анализа данных часть игр, которые выпускались 1994 года не важна. Индустрия игр еще была не так популярна. Всего игр выпущенных до 1994 года составляет 365 штук. Это около 2% выборки.\n",
    "Резкий скачок по количеству игр, выпущенных в год, произошел в 2002 году. Рекордное количество игр было выпущено в 2008-09 годах. После этого начался спад, связанный с развитием мобильных устройств, интеграция соц. сетей в жизнь людей. Это всё привело к тому, что интерес к самим играм упал, соответственно, упало и их производство. \n",
    "Можно выделить 5 лидеров, остальные платформы или же мало известны, или расчитаны на определенный регион.  PS2 - 1233.56, X360 - 961.24 , PS3 - 931.34 , Wii - 891.18 , DS - 802.76 , PS - 727.58 , PS4 - 314.14. За последние 10 лет мы наблюдаем и большое количество игр, и большой выбор платформ, которые могут составить друг-другу конкуренцию. Поскольку последние тенденции показывают лидерство нескольких платформ, а не одной; а также срок устаревания платформы составляет около 10 лет.\n",
    "\n",
    "Таким образом, потенциально прибыльные в 2017 году платформы: 3DS, которая уже несколько лет пользуется популярностью у потребителей игр; Playstation4, только набирающая обороты и приносящая самый высокий доход от продаж; PlaystationVita, не настолько популярная (что может быть связано с меньшим количеством игр на данной платформе), но также потенциально прибыльная в ближайшие 2-3 года; WiiU, являющаяся преемником Wii, которая тоже была достаточно популярна в своё время; а также XBoxOne от компании Microsoft, способная составить конкуренцию Playstation4.\n",
    "\n",
    "При этом наблюдается рост популярности у потребителей игр для Playstation4 и XBoxOne; и снижение спроса на игры на платформах 3DS, PlaystationVita и WiiU, тем не менее, даже они потенциально могут принести достаточно высокий доход до появления аналогов нового поколения.Это может быть связано с разнообразием игр на ведущих платформах: поскольку платформы Playstation и XBox достаточно давно приобрели популярность среди потребителей, они могут позволить себе выпуск достаточно ранжированного по цене игрового контента, способного найти \"своего\" потребителя: поэтому их боксплоты шире и растянутее. Wii тоже достаточно старая (в версиях предыдущих поколений), но менее популярная - соответственно разнообразие игр на данной платформе может быть ниже. Что касается PlaystationVita - это консоль с небольшим разнообразием игр, которые, как мы видим по боксплоту, схожи в ценовой категории и по продажам - разброс по данной платформе самый небольшой, и среднее значение не сильно превосходит медианное.\n",
    "\n",
    "Исходя из данных видим, что на платформе PS4 оценки пользователей не влияет на продажи игр. Пользователи скорее следят за мнением критиков и принимают решения, покупать игру или нет. Оценка критиков более весомая и она в большей степени влияет на продажи игр. Коэфициент корреляции равен 0,21, что показывается наличие влияния, но показатель мал, чтобы говорить, что связь сильная.\n",
    "\n",
    "Самые популярные жанры - это Action, Shooter. Самый непопулярный жанр - Puzzle. Возможно, популярные игры в этих жанрах тратят больший бюджет на разработку, маркетинг, что приносит положительную динамику в продажах. Распределение выпускаемых игр по жанрам отличается между собой. Например, видна разница между шутерами и экшн играми: У шутеров 75% игр в этом жанре были проданы в размере 1,6 млн копий В то время как у экшн игр 75% игр лежит в диапазоне продаж до ~300 тыс копий. Но не смотря на это экшн - самый продаваемый жанр.\n",
    "\n",
    "с 1994 года количество выпускаемых игр стало стремительно расти. В 2007-2008 годах был достигнут пик продаж игр на приставки\n",
    "Самые популярные платформы в Северной Америке это PS4, XOne, X360. В Европе картина примерна такая же. Схожесть вкусов пользователей, возможно, обусловлена с тем, что менталитет и культура в большей степени схожи. Существенную разницу имеет распределение платформ в Японии, тут картина совершенно другая: 3DS( почти половина рынка 47,5%), PS4  PSV. Предпочтения в платформах в других регионах больше походят на предпочтения Европы с еще несколько большей популярность PS4.\n",
    "Распределение предпочтений пользователей согласно диаграммам продаж по жанрам во всех регионах кроме Японии похожи, это возможно, зависит от культуры и менталитета.\n",
    "\n",
    "Проверили гипотезы\n",
    "\n",
    "В результате проверки не отвергли гипотезу о том, что средние пользовательские рейтинги платформ Xbox One и PC одинаковые\n",
    "\n",
    "Так же отвергли гипотезу о том, что средние пользовательских оценок для жанров Action и Sports одинаковы в пользу гипотезы, что они разные"
   ]
  }
 ],
 "metadata": {
  "ExecuteTimeLog": [
   {
    "duration": 87,
    "start_time": "2023-12-06T08:52:05.094Z"
   },
   {
    "duration": 87,
    "start_time": "2023-12-06T08:52:26.938Z"
   },
   {
    "duration": 3054,
    "start_time": "2023-12-06T08:52:40.159Z"
   },
   {
    "duration": 1242,
    "start_time": "2023-12-06T08:52:43.215Z"
   },
   {
    "duration": 97,
    "start_time": "2023-12-06T08:54:18.243Z"
   },
   {
    "duration": 16,
    "start_time": "2023-12-06T08:54:58.896Z"
   },
   {
    "duration": 15,
    "start_time": "2023-12-06T08:55:04.842Z"
   },
   {
    "duration": 14,
    "start_time": "2023-12-06T08:56:40.057Z"
   },
   {
    "duration": 1012,
    "start_time": "2023-12-06T08:57:49.251Z"
   },
   {
    "duration": 5,
    "start_time": "2023-12-06T09:05:12.240Z"
   },
   {
    "duration": 4,
    "start_time": "2023-12-06T09:09:42.648Z"
   },
   {
    "duration": 5,
    "start_time": "2023-12-06T09:09:57.947Z"
   },
   {
    "duration": 104,
    "start_time": "2023-12-06T09:11:48.345Z"
   },
   {
    "duration": 750,
    "start_time": "2023-12-06T09:11:57.862Z"
   },
   {
    "duration": 4,
    "start_time": "2023-12-06T09:16:15.899Z"
   },
   {
    "duration": 18,
    "start_time": "2023-12-06T09:16:20.362Z"
   },
   {
    "duration": 5,
    "start_time": "2023-12-06T09:19:51.582Z"
   },
   {
    "duration": 22,
    "start_time": "2023-12-06T09:21:10.186Z"
   },
   {
    "duration": 12,
    "start_time": "2023-12-06T09:22:43.817Z"
   },
   {
    "duration": 11,
    "start_time": "2023-12-06T09:23:30.679Z"
   },
   {
    "duration": 23,
    "start_time": "2023-12-06T09:27:37.221Z"
   },
   {
    "duration": 5,
    "start_time": "2023-12-06T09:33:16.246Z"
   },
   {
    "duration": 5,
    "start_time": "2023-12-06T09:33:27.446Z"
   },
   {
    "duration": 746,
    "start_time": "2023-12-06T09:34:45.046Z"
   },
   {
    "duration": 808,
    "start_time": "2023-12-06T09:35:24.828Z"
   },
   {
    "duration": 18,
    "start_time": "2023-12-06T09:36:58.545Z"
   },
   {
    "duration": 2385,
    "start_time": "2023-12-06T09:37:14.210Z"
   },
   {
    "duration": 1122,
    "start_time": "2023-12-06T09:37:16.597Z"
   },
   {
    "duration": 54,
    "start_time": "2023-12-06T09:37:17.721Z"
   },
   {
    "duration": 19,
    "start_time": "2023-12-06T09:37:17.777Z"
   },
   {
    "duration": 13,
    "start_time": "2023-12-06T09:37:17.798Z"
   },
   {
    "duration": 777,
    "start_time": "2023-12-06T09:37:17.812Z"
   },
   {
    "duration": 3,
    "start_time": "2023-12-06T09:37:18.590Z"
   },
   {
    "duration": 6,
    "start_time": "2023-12-06T09:37:18.595Z"
   },
   {
    "duration": 19,
    "start_time": "2023-12-06T09:37:18.603Z"
   },
   {
    "duration": 8,
    "start_time": "2023-12-06T09:37:18.625Z"
   },
   {
    "duration": 4,
    "start_time": "2023-12-06T09:37:18.653Z"
   },
   {
    "duration": 23,
    "start_time": "2023-12-06T09:37:18.658Z"
   },
   {
    "duration": 22,
    "start_time": "2023-12-06T09:37:18.682Z"
   },
   {
    "duration": 5,
    "start_time": "2023-12-06T09:37:18.705Z"
   },
   {
    "duration": 7,
    "start_time": "2023-12-06T09:37:18.711Z"
   },
   {
    "duration": 767,
    "start_time": "2023-12-06T09:37:18.719Z"
   },
   {
    "duration": 112,
    "start_time": "2023-12-06T09:37:19.488Z"
   },
   {
    "duration": 14,
    "start_time": "2023-12-06T10:20:35.968Z"
   },
   {
    "duration": 10,
    "start_time": "2023-12-06T10:20:54.406Z"
   },
   {
    "duration": 4,
    "start_time": "2023-12-06T10:24:34.789Z"
   },
   {
    "duration": 3,
    "start_time": "2023-12-06T10:24:37.757Z"
   },
   {
    "duration": 5,
    "start_time": "2023-12-06T10:44:36.170Z"
   },
   {
    "duration": 7,
    "start_time": "2023-12-06T10:53:13.885Z"
   },
   {
    "duration": 8,
    "start_time": "2023-12-06T10:53:39.851Z"
   },
   {
    "duration": 17,
    "start_time": "2023-12-06T10:53:57.147Z"
   },
   {
    "duration": 6,
    "start_time": "2023-12-06T10:56:35.948Z"
   },
   {
    "duration": 6,
    "start_time": "2023-12-06T10:56:42.219Z"
   },
   {
    "duration": 6,
    "start_time": "2023-12-06T10:57:03.136Z"
   },
   {
    "duration": 14,
    "start_time": "2023-12-06T10:59:23.483Z"
   },
   {
    "duration": 92,
    "start_time": "2023-12-06T11:00:16.970Z"
   },
   {
    "duration": 76,
    "start_time": "2023-12-06T11:00:26.637Z"
   },
   {
    "duration": 16,
    "start_time": "2023-12-06T11:00:31.613Z"
   },
   {
    "duration": 84,
    "start_time": "2023-12-06T11:00:35.040Z"
   },
   {
    "duration": 115,
    "start_time": "2023-12-06T11:01:40.183Z"
   },
   {
    "duration": 37,
    "start_time": "2023-12-06T11:01:43.825Z"
   },
   {
    "duration": 15,
    "start_time": "2023-12-06T11:03:27.085Z"
   },
   {
    "duration": 31,
    "start_time": "2023-12-06T11:03:38.025Z"
   },
   {
    "duration": 14,
    "start_time": "2023-12-06T11:04:08.008Z"
   },
   {
    "duration": 9,
    "start_time": "2023-12-06T11:04:28.789Z"
   },
   {
    "duration": 11,
    "start_time": "2023-12-06T11:04:41.285Z"
   },
   {
    "duration": 10,
    "start_time": "2023-12-06T11:04:56.435Z"
   },
   {
    "duration": 31,
    "start_time": "2023-12-06T11:05:02.605Z"
   },
   {
    "duration": 299,
    "start_time": "2023-12-06T11:10:25.269Z"
   },
   {
    "duration": 32,
    "start_time": "2023-12-06T11:12:09.868Z"
   },
   {
    "duration": 384,
    "start_time": "2023-12-06T11:17:54.855Z"
   },
   {
    "duration": 339,
    "start_time": "2023-12-06T11:18:08.834Z"
   },
   {
    "duration": 405,
    "start_time": "2023-12-06T11:18:33.736Z"
   },
   {
    "duration": 8,
    "start_time": "2023-12-06T11:19:54.359Z"
   },
   {
    "duration": 2517,
    "start_time": "2023-12-06T11:22:17.222Z"
   },
   {
    "duration": 5,
    "start_time": "2023-12-06T11:22:39.764Z"
   },
   {
    "duration": 1136,
    "start_time": "2023-12-06T11:24:37.054Z"
   },
   {
    "duration": 15,
    "start_time": "2023-12-06T11:33:18.264Z"
   },
   {
    "duration": 204,
    "start_time": "2023-12-06T11:33:33.994Z"
   },
   {
    "duration": 389,
    "start_time": "2023-12-06T11:41:52.872Z"
   },
   {
    "duration": 6,
    "start_time": "2023-12-06T11:44:52.633Z"
   },
   {
    "duration": 9,
    "start_time": "2023-12-06T11:47:21.017Z"
   },
   {
    "duration": 57,
    "start_time": "2023-12-06T11:47:29.435Z"
   },
   {
    "duration": 7,
    "start_time": "2023-12-06T11:48:14.158Z"
   },
   {
    "duration": 29,
    "start_time": "2023-12-06T11:48:28.677Z"
   },
   {
    "duration": 13,
    "start_time": "2023-12-06T11:54:52.611Z"
   },
   {
    "duration": 29,
    "start_time": "2023-12-06T11:54:59.333Z"
   },
   {
    "duration": 15,
    "start_time": "2023-12-06T11:55:08.177Z"
   },
   {
    "duration": 11,
    "start_time": "2023-12-06T11:56:42.344Z"
   },
   {
    "duration": 18,
    "start_time": "2023-12-06T11:57:21.473Z"
   },
   {
    "duration": 3,
    "start_time": "2023-12-06T11:58:14.870Z"
   },
   {
    "duration": 647,
    "start_time": "2023-12-06T11:58:31.985Z"
   },
   {
    "duration": 20,
    "start_time": "2023-12-06T12:09:11.058Z"
   },
   {
    "duration": 16,
    "start_time": "2023-12-06T12:09:35.364Z"
   },
   {
    "duration": 170,
    "start_time": "2023-12-06T12:10:02.776Z"
   },
   {
    "duration": 168,
    "start_time": "2023-12-06T12:11:04.288Z"
   },
   {
    "duration": 45,
    "start_time": "2023-12-07T09:37:26.595Z"
   },
   {
    "duration": 5,
    "start_time": "2023-12-07T09:38:12.096Z"
   },
   {
    "duration": 3793,
    "start_time": "2023-12-07T09:38:17.155Z"
   },
   {
    "duration": 1321,
    "start_time": "2023-12-07T09:38:20.950Z"
   },
   {
    "duration": 97,
    "start_time": "2023-12-07T09:38:22.272Z"
   },
   {
    "duration": 19,
    "start_time": "2023-12-07T09:38:22.371Z"
   },
   {
    "duration": 15,
    "start_time": "2023-12-07T09:38:22.392Z"
   },
   {
    "duration": 29,
    "start_time": "2023-12-07T09:38:22.408Z"
   },
   {
    "duration": 862,
    "start_time": "2023-12-07T09:38:22.438Z"
   },
   {
    "duration": 3,
    "start_time": "2023-12-07T09:38:23.303Z"
   },
   {
    "duration": 32,
    "start_time": "2023-12-07T09:38:23.308Z"
   },
   {
    "duration": 25,
    "start_time": "2023-12-07T09:38:23.342Z"
   },
   {
    "duration": 10,
    "start_time": "2023-12-07T09:38:23.368Z"
   },
   {
    "duration": 5,
    "start_time": "2023-12-07T09:38:23.380Z"
   },
   {
    "duration": 41,
    "start_time": "2023-12-07T09:38:23.387Z"
   },
   {
    "duration": 26,
    "start_time": "2023-12-07T09:38:23.431Z"
   },
   {
    "duration": 5,
    "start_time": "2023-12-07T09:38:23.458Z"
   },
   {
    "duration": 10,
    "start_time": "2023-12-07T09:38:23.465Z"
   },
   {
    "duration": 789,
    "start_time": "2023-12-07T09:38:23.477Z"
   },
   {
    "duration": 9,
    "start_time": "2023-12-07T09:38:24.267Z"
   },
   {
    "duration": 11,
    "start_time": "2023-12-07T09:38:24.277Z"
   },
   {
    "duration": 7,
    "start_time": "2023-12-07T09:38:24.290Z"
   },
   {
    "duration": 5,
    "start_time": "2023-12-07T09:38:24.298Z"
   },
   {
    "duration": 17,
    "start_time": "2023-12-07T09:38:24.304Z"
   },
   {
    "duration": 31,
    "start_time": "2023-12-07T09:38:24.323Z"
   },
   {
    "duration": 30,
    "start_time": "2023-12-07T09:38:24.355Z"
   },
   {
    "duration": 362,
    "start_time": "2023-12-07T09:38:24.386Z"
   },
   {
    "duration": 8,
    "start_time": "2023-12-07T09:38:24.750Z"
   },
   {
    "duration": 13,
    "start_time": "2023-12-07T09:38:24.759Z"
   },
   {
    "duration": 283,
    "start_time": "2023-12-07T09:38:24.773Z"
   },
   {
    "duration": 6,
    "start_time": "2023-12-07T09:38:25.057Z"
   },
   {
    "duration": 46,
    "start_time": "2023-12-07T09:38:25.065Z"
   },
   {
    "duration": 22,
    "start_time": "2023-12-07T09:38:25.113Z"
   },
   {
    "duration": 11,
    "start_time": "2023-12-07T09:38:25.154Z"
   },
   {
    "duration": 497,
    "start_time": "2023-12-07T09:38:25.166Z"
   },
   {
    "duration": 17,
    "start_time": "2023-12-07T09:38:25.665Z"
   },
   {
    "duration": 17,
    "start_time": "2023-12-07T09:38:25.683Z"
   },
   {
    "duration": 212,
    "start_time": "2023-12-07T09:38:25.702Z"
   },
   {
    "duration": 227,
    "start_time": "2023-12-07T09:38:25.915Z"
   },
   {
    "duration": 12,
    "start_time": "2023-12-07T09:38:26.144Z"
   },
   {
    "duration": 6,
    "start_time": "2023-12-07T09:38:43.993Z"
   },
   {
    "duration": 6,
    "start_time": "2023-12-07T09:38:48.444Z"
   },
   {
    "duration": 215,
    "start_time": "2023-12-07T09:39:00.851Z"
   },
   {
    "duration": 8,
    "start_time": "2023-12-07T09:39:14.681Z"
   },
   {
    "duration": 121,
    "start_time": "2023-12-07T09:39:21.951Z"
   },
   {
    "duration": 674,
    "start_time": "2023-12-07T09:48:25.593Z"
   },
   {
    "duration": 24,
    "start_time": "2023-12-07T09:49:51.700Z"
   },
   {
    "duration": 4,
    "start_time": "2023-12-07T09:50:57.498Z"
   },
   {
    "duration": 11,
    "start_time": "2023-12-07T09:51:21.426Z"
   },
   {
    "duration": 4,
    "start_time": "2023-12-07T09:51:38.500Z"
   },
   {
    "duration": 6,
    "start_time": "2023-12-07T09:51:53.570Z"
   },
   {
    "duration": 5,
    "start_time": "2023-12-07T09:52:12.240Z"
   },
   {
    "duration": 6,
    "start_time": "2023-12-07T09:52:45.043Z"
   },
   {
    "duration": 5,
    "start_time": "2023-12-07T09:53:33.495Z"
   },
   {
    "duration": 6,
    "start_time": "2023-12-07T10:02:57.657Z"
   },
   {
    "duration": 5,
    "start_time": "2023-12-07T10:03:19.230Z"
   },
   {
    "duration": 4,
    "start_time": "2023-12-07T10:03:47.418Z"
   },
   {
    "duration": 4,
    "start_time": "2023-12-07T10:03:48.738Z"
   },
   {
    "duration": 116,
    "start_time": "2023-12-07T10:04:53.200Z"
   },
   {
    "duration": 4,
    "start_time": "2023-12-07T10:05:12.098Z"
   },
   {
    "duration": 2423,
    "start_time": "2023-12-07T10:05:17.234Z"
   },
   {
    "duration": 1134,
    "start_time": "2023-12-07T10:05:19.659Z"
   },
   {
    "duration": 52,
    "start_time": "2023-12-07T10:05:20.795Z"
   },
   {
    "duration": 19,
    "start_time": "2023-12-07T10:05:20.849Z"
   },
   {
    "duration": 19,
    "start_time": "2023-12-07T10:05:20.871Z"
   },
   {
    "duration": 28,
    "start_time": "2023-12-07T10:05:20.892Z"
   },
   {
    "duration": 775,
    "start_time": "2023-12-07T10:05:20.921Z"
   },
   {
    "duration": 4,
    "start_time": "2023-12-07T10:05:21.698Z"
   },
   {
    "duration": 5,
    "start_time": "2023-12-07T10:05:21.703Z"
   },
   {
    "duration": 17,
    "start_time": "2023-12-07T10:05:21.710Z"
   },
   {
    "duration": 27,
    "start_time": "2023-12-07T10:05:21.728Z"
   },
   {
    "duration": 5,
    "start_time": "2023-12-07T10:05:21.757Z"
   },
   {
    "duration": 26,
    "start_time": "2023-12-07T10:05:21.763Z"
   },
   {
    "duration": 26,
    "start_time": "2023-12-07T10:05:21.792Z"
   },
   {
    "duration": 3,
    "start_time": "2023-12-07T10:05:21.820Z"
   },
   {
    "duration": 5,
    "start_time": "2023-12-07T10:05:21.824Z"
   },
   {
    "duration": 5,
    "start_time": "2023-12-07T10:05:21.853Z"
   },
   {
    "duration": 12,
    "start_time": "2023-12-07T10:05:21.860Z"
   },
   {
    "duration": 20,
    "start_time": "2023-12-07T10:05:21.874Z"
   },
   {
    "duration": 17,
    "start_time": "2023-12-07T10:05:21.896Z"
   },
   {
    "duration": 11,
    "start_time": "2023-12-07T10:05:21.914Z"
   },
   {
    "duration": 14,
    "start_time": "2023-12-07T10:05:21.927Z"
   },
   {
    "duration": 716,
    "start_time": "2023-12-07T10:05:21.943Z"
   },
   {
    "duration": 5,
    "start_time": "2023-12-07T10:05:22.661Z"
   },
   {
    "duration": 51,
    "start_time": "2023-12-07T10:05:22.667Z"
   },
   {
    "duration": 310,
    "start_time": "2023-12-07T10:05:22.720Z"
   },
   {
    "duration": 7,
    "start_time": "2023-12-07T10:05:23.032Z"
   },
   {
    "duration": 12,
    "start_time": "2023-12-07T10:05:23.041Z"
   },
   {
    "duration": 284,
    "start_time": "2023-12-07T10:05:23.055Z"
   },
   {
    "duration": 12,
    "start_time": "2023-12-07T10:05:23.340Z"
   },
   {
    "duration": 28,
    "start_time": "2023-12-07T10:05:23.353Z"
   },
   {
    "duration": 15,
    "start_time": "2023-12-07T10:05:23.382Z"
   },
   {
    "duration": 14,
    "start_time": "2023-12-07T10:05:23.399Z"
   },
   {
    "duration": 508,
    "start_time": "2023-12-07T10:05:23.415Z"
   },
   {
    "duration": 16,
    "start_time": "2023-12-07T10:05:23.924Z"
   },
   {
    "duration": 15,
    "start_time": "2023-12-07T10:05:23.952Z"
   },
   {
    "duration": 179,
    "start_time": "2023-12-07T10:05:23.968Z"
   },
   {
    "duration": 233,
    "start_time": "2023-12-07T10:05:24.151Z"
   },
   {
    "duration": 100,
    "start_time": "2023-12-07T10:05:24.386Z"
   },
   {
    "duration": 0,
    "start_time": "2023-12-07T10:05:24.487Z"
   },
   {
    "duration": 0,
    "start_time": "2023-12-07T10:05:24.489Z"
   },
   {
    "duration": 0,
    "start_time": "2023-12-07T10:05:24.490Z"
   },
   {
    "duration": 7,
    "start_time": "2023-12-07T10:05:40.972Z"
   },
   {
    "duration": 5,
    "start_time": "2023-12-07T10:05:46.391Z"
   },
   {
    "duration": 8,
    "start_time": "2023-12-07T10:05:50.524Z"
   },
   {
    "duration": 2497,
    "start_time": "2023-12-07T10:06:06.426Z"
   },
   {
    "duration": 1239,
    "start_time": "2023-12-07T10:06:08.926Z"
   },
   {
    "duration": 58,
    "start_time": "2023-12-07T10:06:10.167Z"
   },
   {
    "duration": 21,
    "start_time": "2023-12-07T10:06:10.228Z"
   },
   {
    "duration": 29,
    "start_time": "2023-12-07T10:06:10.250Z"
   },
   {
    "duration": 33,
    "start_time": "2023-12-07T10:06:10.280Z"
   },
   {
    "duration": 895,
    "start_time": "2023-12-07T10:06:10.314Z"
   },
   {
    "duration": 3,
    "start_time": "2023-12-07T10:06:11.211Z"
   },
   {
    "duration": 6,
    "start_time": "2023-12-07T10:06:11.216Z"
   },
   {
    "duration": 32,
    "start_time": "2023-12-07T10:06:11.224Z"
   },
   {
    "duration": 10,
    "start_time": "2023-12-07T10:06:11.258Z"
   },
   {
    "duration": 6,
    "start_time": "2023-12-07T10:06:11.270Z"
   },
   {
    "duration": 22,
    "start_time": "2023-12-07T10:06:11.277Z"
   },
   {
    "duration": 52,
    "start_time": "2023-12-07T10:06:11.301Z"
   },
   {
    "duration": 3,
    "start_time": "2023-12-07T10:06:11.355Z"
   },
   {
    "duration": 7,
    "start_time": "2023-12-07T10:06:11.359Z"
   },
   {
    "duration": 6,
    "start_time": "2023-12-07T10:06:11.368Z"
   },
   {
    "duration": 13,
    "start_time": "2023-12-07T10:06:11.375Z"
   },
   {
    "duration": 10,
    "start_time": "2023-12-07T10:06:11.390Z"
   },
   {
    "duration": 4,
    "start_time": "2023-12-07T10:06:11.401Z"
   },
   {
    "duration": 9,
    "start_time": "2023-12-07T10:06:11.407Z"
   },
   {
    "duration": 37,
    "start_time": "2023-12-07T10:06:11.418Z"
   },
   {
    "duration": 701,
    "start_time": "2023-12-07T10:06:11.456Z"
   },
   {
    "duration": 4,
    "start_time": "2023-12-07T10:06:12.159Z"
   },
   {
    "duration": 42,
    "start_time": "2023-12-07T10:06:12.164Z"
   },
   {
    "duration": 331,
    "start_time": "2023-12-07T10:06:12.207Z"
   },
   {
    "duration": 13,
    "start_time": "2023-12-07T10:06:12.539Z"
   },
   {
    "duration": 3,
    "start_time": "2023-12-07T10:06:12.555Z"
   },
   {
    "duration": 273,
    "start_time": "2023-12-07T10:06:12.559Z"
   },
   {
    "duration": 6,
    "start_time": "2023-12-07T10:06:12.833Z"
   },
   {
    "duration": 50,
    "start_time": "2023-12-07T10:06:12.840Z"
   },
   {
    "duration": 22,
    "start_time": "2023-12-07T10:06:12.891Z"
   },
   {
    "duration": 124,
    "start_time": "2023-12-07T10:06:12.915Z"
   },
   {
    "duration": 505,
    "start_time": "2023-12-07T10:06:13.040Z"
   },
   {
    "duration": 21,
    "start_time": "2023-12-07T10:06:13.547Z"
   },
   {
    "duration": 22,
    "start_time": "2023-12-07T10:06:13.570Z"
   },
   {
    "duration": 184,
    "start_time": "2023-12-07T10:06:13.594Z"
   },
   {
    "duration": 233,
    "start_time": "2023-12-07T10:06:13.780Z"
   },
   {
    "duration": 7,
    "start_time": "2023-12-07T10:06:14.015Z"
   },
   {
    "duration": 36,
    "start_time": "2023-12-07T10:06:14.023Z"
   },
   {
    "duration": 9,
    "start_time": "2023-12-07T10:06:14.060Z"
   },
   {
    "duration": 136,
    "start_time": "2023-12-07T10:06:14.070Z"
   },
   {
    "duration": 128,
    "start_time": "2023-12-07T10:06:47.107Z"
   },
   {
    "duration": 130,
    "start_time": "2023-12-07T10:07:04.430Z"
   },
   {
    "duration": 142,
    "start_time": "2023-12-07T10:09:08.254Z"
   },
   {
    "duration": 132,
    "start_time": "2023-12-07T10:09:29.233Z"
   },
   {
    "duration": 130,
    "start_time": "2023-12-07T10:09:36.006Z"
   },
   {
    "duration": 7,
    "start_time": "2023-12-07T10:10:34.310Z"
   },
   {
    "duration": 351,
    "start_time": "2023-12-07T10:11:18.993Z"
   },
   {
    "duration": 2495,
    "start_time": "2023-12-07T10:11:37.250Z"
   },
   {
    "duration": 1134,
    "start_time": "2023-12-07T10:11:39.748Z"
   },
   {
    "duration": 57,
    "start_time": "2023-12-07T10:11:40.884Z"
   },
   {
    "duration": 20,
    "start_time": "2023-12-07T10:11:40.942Z"
   },
   {
    "duration": 27,
    "start_time": "2023-12-07T10:11:40.964Z"
   },
   {
    "duration": 27,
    "start_time": "2023-12-07T10:11:40.993Z"
   },
   {
    "duration": 777,
    "start_time": "2023-12-07T10:11:41.022Z"
   },
   {
    "duration": 3,
    "start_time": "2023-12-07T10:11:41.801Z"
   },
   {
    "duration": 10,
    "start_time": "2023-12-07T10:11:41.805Z"
   },
   {
    "duration": 16,
    "start_time": "2023-12-07T10:11:41.817Z"
   },
   {
    "duration": 22,
    "start_time": "2023-12-07T10:11:41.834Z"
   },
   {
    "duration": 5,
    "start_time": "2023-12-07T10:11:41.857Z"
   },
   {
    "duration": 42,
    "start_time": "2023-12-07T10:11:41.864Z"
   },
   {
    "duration": 21,
    "start_time": "2023-12-07T10:11:41.909Z"
   },
   {
    "duration": 3,
    "start_time": "2023-12-07T10:11:41.932Z"
   },
   {
    "duration": 6,
    "start_time": "2023-12-07T10:11:41.936Z"
   },
   {
    "duration": 12,
    "start_time": "2023-12-07T10:11:41.943Z"
   },
   {
    "duration": 20,
    "start_time": "2023-12-07T10:11:41.956Z"
   },
   {
    "duration": 22,
    "start_time": "2023-12-07T10:11:41.978Z"
   },
   {
    "duration": 4,
    "start_time": "2023-12-07T10:11:42.001Z"
   },
   {
    "duration": 31,
    "start_time": "2023-12-07T10:11:42.007Z"
   },
   {
    "duration": 24,
    "start_time": "2023-12-07T10:11:42.039Z"
   },
   {
    "duration": 716,
    "start_time": "2023-12-07T10:11:42.065Z"
   },
   {
    "duration": 4,
    "start_time": "2023-12-07T10:11:42.783Z"
   },
   {
    "duration": 36,
    "start_time": "2023-12-07T10:11:42.789Z"
   },
   {
    "duration": 354,
    "start_time": "2023-12-07T10:11:42.826Z"
   },
   {
    "duration": 8,
    "start_time": "2023-12-07T10:11:43.182Z"
   },
   {
    "duration": 14,
    "start_time": "2023-12-07T10:11:43.192Z"
   },
   {
    "duration": 322,
    "start_time": "2023-12-07T10:11:43.208Z"
   },
   {
    "duration": 7,
    "start_time": "2023-12-07T10:11:43.532Z"
   },
   {
    "duration": 69,
    "start_time": "2023-12-07T10:11:43.540Z"
   },
   {
    "duration": 19,
    "start_time": "2023-12-07T10:11:43.610Z"
   },
   {
    "duration": 28,
    "start_time": "2023-12-07T10:11:43.631Z"
   },
   {
    "duration": 513,
    "start_time": "2023-12-07T10:11:43.660Z"
   },
   {
    "duration": 15,
    "start_time": "2023-12-07T10:11:44.175Z"
   },
   {
    "duration": 21,
    "start_time": "2023-12-07T10:11:44.191Z"
   },
   {
    "duration": 197,
    "start_time": "2023-12-07T10:11:44.213Z"
   },
   {
    "duration": 246,
    "start_time": "2023-12-07T10:11:44.411Z"
   },
   {
    "duration": 7,
    "start_time": "2023-12-07T10:11:44.658Z"
   },
   {
    "duration": 152,
    "start_time": "2023-12-07T10:11:44.667Z"
   },
   {
    "duration": 407,
    "start_time": "2023-12-07T10:11:44.823Z"
   },
   {
    "duration": 0,
    "start_time": "2023-12-07T10:11:45.232Z"
   },
   {
    "duration": 0,
    "start_time": "2023-12-07T10:11:45.234Z"
   },
   {
    "duration": 125,
    "start_time": "2023-12-07T10:12:02.469Z"
   },
   {
    "duration": 5,
    "start_time": "2023-12-07T10:12:05.835Z"
   },
   {
    "duration": 6,
    "start_time": "2023-12-07T10:12:12.317Z"
   },
   {
    "duration": 133,
    "start_time": "2023-12-07T10:12:13.141Z"
   },
   {
    "duration": 86,
    "start_time": "2023-12-07T10:16:05.096Z"
   },
   {
    "duration": 166,
    "start_time": "2023-12-07T10:16:17.437Z"
   },
   {
    "duration": 340,
    "start_time": "2023-12-07T10:20:39.963Z"
   },
   {
    "duration": 9,
    "start_time": "2023-12-07T10:22:38.100Z"
   },
   {
    "duration": 10,
    "start_time": "2023-12-07T10:23:04.810Z"
   },
   {
    "duration": 12,
    "start_time": "2023-12-07T10:31:46.289Z"
   },
   {
    "duration": 12,
    "start_time": "2023-12-07T10:32:31.022Z"
   },
   {
    "duration": 2574,
    "start_time": "2023-12-07T10:38:56.419Z"
   },
   {
    "duration": 1177,
    "start_time": "2023-12-07T10:38:58.995Z"
   },
   {
    "duration": 57,
    "start_time": "2023-12-07T10:39:00.173Z"
   },
   {
    "duration": 19,
    "start_time": "2023-12-07T10:39:00.232Z"
   },
   {
    "duration": 35,
    "start_time": "2023-12-07T10:39:00.254Z"
   },
   {
    "duration": 53,
    "start_time": "2023-12-07T10:39:00.290Z"
   },
   {
    "duration": 842,
    "start_time": "2023-12-07T10:39:00.345Z"
   },
   {
    "duration": 4,
    "start_time": "2023-12-07T10:39:01.189Z"
   },
   {
    "duration": 48,
    "start_time": "2023-12-07T10:39:01.195Z"
   },
   {
    "duration": 71,
    "start_time": "2023-12-07T10:39:01.245Z"
   },
   {
    "duration": 79,
    "start_time": "2023-12-07T10:39:01.318Z"
   },
   {
    "duration": 107,
    "start_time": "2023-12-07T10:39:01.399Z"
   },
   {
    "duration": 65,
    "start_time": "2023-12-07T10:39:01.507Z"
   },
   {
    "duration": 57,
    "start_time": "2023-12-07T10:39:01.577Z"
   },
   {
    "duration": 12,
    "start_time": "2023-12-07T10:39:01.636Z"
   },
   {
    "duration": 38,
    "start_time": "2023-12-07T10:39:01.650Z"
   },
   {
    "duration": 36,
    "start_time": "2023-12-07T10:39:01.689Z"
   },
   {
    "duration": 46,
    "start_time": "2023-12-07T10:39:01.727Z"
   },
   {
    "duration": 34,
    "start_time": "2023-12-07T10:39:01.775Z"
   },
   {
    "duration": 50,
    "start_time": "2023-12-07T10:39:01.811Z"
   },
   {
    "duration": 21,
    "start_time": "2023-12-07T10:39:01.863Z"
   },
   {
    "duration": 60,
    "start_time": "2023-12-07T10:39:01.885Z"
   },
   {
    "duration": 776,
    "start_time": "2023-12-07T10:39:01.946Z"
   },
   {
    "duration": 5,
    "start_time": "2023-12-07T10:39:02.723Z"
   },
   {
    "duration": 51,
    "start_time": "2023-12-07T10:39:02.729Z"
   },
   {
    "duration": 322,
    "start_time": "2023-12-07T10:39:02.782Z"
   },
   {
    "duration": 8,
    "start_time": "2023-12-07T10:39:03.106Z"
   },
   {
    "duration": 34,
    "start_time": "2023-12-07T10:39:03.116Z"
   },
   {
    "duration": 354,
    "start_time": "2023-12-07T10:39:03.151Z"
   },
   {
    "duration": 7,
    "start_time": "2023-12-07T10:39:03.507Z"
   },
   {
    "duration": 54,
    "start_time": "2023-12-07T10:39:03.516Z"
   },
   {
    "duration": 30,
    "start_time": "2023-12-07T10:39:03.572Z"
   },
   {
    "duration": 30,
    "start_time": "2023-12-07T10:39:03.604Z"
   },
   {
    "duration": 511,
    "start_time": "2023-12-07T10:39:03.636Z"
   },
   {
    "duration": 21,
    "start_time": "2023-12-07T10:39:04.153Z"
   },
   {
    "duration": 17,
    "start_time": "2023-12-07T10:39:04.175Z"
   },
   {
    "duration": 218,
    "start_time": "2023-12-07T10:39:04.194Z"
   },
   {
    "duration": 288,
    "start_time": "2023-12-07T10:39:04.413Z"
   },
   {
    "duration": 7,
    "start_time": "2023-12-07T10:39:04.703Z"
   },
   {
    "duration": 149,
    "start_time": "2023-12-07T10:39:04.712Z"
   },
   {
    "duration": 153,
    "start_time": "2023-12-07T10:39:04.865Z"
   },
   {
    "duration": 6,
    "start_time": "2023-12-07T10:39:05.020Z"
   },
   {
    "duration": 241,
    "start_time": "2023-12-07T10:39:05.029Z"
   },
   {
    "duration": 369,
    "start_time": "2023-12-07T10:39:05.272Z"
   },
   {
    "duration": 16,
    "start_time": "2023-12-07T10:39:05.643Z"
   },
   {
    "duration": 9,
    "start_time": "2023-12-07T10:39:05.660Z"
   },
   {
    "duration": 0,
    "start_time": "2023-12-07T10:39:05.789Z"
   },
   {
    "duration": 14,
    "start_time": "2023-12-07T10:39:31.945Z"
   },
   {
    "duration": 6,
    "start_time": "2023-12-07T10:43:03.618Z"
   },
   {
    "duration": 14,
    "start_time": "2023-12-07T10:43:04.950Z"
   },
   {
    "duration": 2458,
    "start_time": "2023-12-07T10:43:12.369Z"
   },
   {
    "duration": 1229,
    "start_time": "2023-12-07T10:43:14.829Z"
   },
   {
    "duration": 57,
    "start_time": "2023-12-07T10:43:16.060Z"
   },
   {
    "duration": 20,
    "start_time": "2023-12-07T10:43:16.119Z"
   },
   {
    "duration": 15,
    "start_time": "2023-12-07T10:43:16.141Z"
   },
   {
    "duration": 29,
    "start_time": "2023-12-07T10:43:16.158Z"
   },
   {
    "duration": 798,
    "start_time": "2023-12-07T10:43:16.188Z"
   },
   {
    "duration": 4,
    "start_time": "2023-12-07T10:43:16.988Z"
   },
   {
    "duration": 13,
    "start_time": "2023-12-07T10:43:16.994Z"
   },
   {
    "duration": 27,
    "start_time": "2023-12-07T10:43:17.009Z"
   },
   {
    "duration": 20,
    "start_time": "2023-12-07T10:43:17.038Z"
   },
   {
    "duration": 14,
    "start_time": "2023-12-07T10:43:17.059Z"
   },
   {
    "duration": 40,
    "start_time": "2023-12-07T10:43:17.075Z"
   },
   {
    "duration": 27,
    "start_time": "2023-12-07T10:43:17.117Z"
   },
   {
    "duration": 4,
    "start_time": "2023-12-07T10:43:17.145Z"
   },
   {
    "duration": 15,
    "start_time": "2023-12-07T10:43:17.151Z"
   },
   {
    "duration": 19,
    "start_time": "2023-12-07T10:43:17.168Z"
   },
   {
    "duration": 12,
    "start_time": "2023-12-07T10:43:17.189Z"
   },
   {
    "duration": 21,
    "start_time": "2023-12-07T10:43:17.203Z"
   },
   {
    "duration": 11,
    "start_time": "2023-12-07T10:43:17.226Z"
   },
   {
    "duration": 17,
    "start_time": "2023-12-07T10:43:17.238Z"
   },
   {
    "duration": 16,
    "start_time": "2023-12-07T10:43:17.257Z"
   },
   {
    "duration": 700,
    "start_time": "2023-12-07T10:43:17.275Z"
   },
   {
    "duration": 6,
    "start_time": "2023-12-07T10:43:17.977Z"
   },
   {
    "duration": 32,
    "start_time": "2023-12-07T10:43:17.985Z"
   },
   {
    "duration": 359,
    "start_time": "2023-12-07T10:43:18.019Z"
   },
   {
    "duration": 9,
    "start_time": "2023-12-07T10:43:18.380Z"
   },
   {
    "duration": 3,
    "start_time": "2023-12-07T10:43:18.393Z"
   },
   {
    "duration": 294,
    "start_time": "2023-12-07T10:43:18.397Z"
   },
   {
    "duration": 6,
    "start_time": "2023-12-07T10:43:18.692Z"
   },
   {
    "duration": 41,
    "start_time": "2023-12-07T10:43:18.700Z"
   },
   {
    "duration": 19,
    "start_time": "2023-12-07T10:43:18.742Z"
   },
   {
    "duration": 10,
    "start_time": "2023-12-07T10:43:18.763Z"
   },
   {
    "duration": 533,
    "start_time": "2023-12-07T10:43:18.774Z"
   },
   {
    "duration": 17,
    "start_time": "2023-12-07T10:43:19.309Z"
   },
   {
    "duration": 45,
    "start_time": "2023-12-07T10:43:19.327Z"
   },
   {
    "duration": 198,
    "start_time": "2023-12-07T10:43:19.374Z"
   },
   {
    "duration": 249,
    "start_time": "2023-12-07T10:43:19.574Z"
   },
   {
    "duration": 7,
    "start_time": "2023-12-07T10:43:19.825Z"
   },
   {
    "duration": 139,
    "start_time": "2023-12-07T10:43:19.834Z"
   },
   {
    "duration": 149,
    "start_time": "2023-12-07T10:43:19.975Z"
   },
   {
    "duration": 5,
    "start_time": "2023-12-07T10:43:20.126Z"
   },
   {
    "duration": 183,
    "start_time": "2023-12-07T10:43:20.133Z"
   },
   {
    "duration": 371,
    "start_time": "2023-12-07T10:43:20.318Z"
   },
   {
    "duration": 12,
    "start_time": "2023-12-07T10:43:20.692Z"
   },
   {
    "duration": 38,
    "start_time": "2023-12-07T10:43:20.706Z"
   },
   {
    "duration": 23,
    "start_time": "2023-12-07T10:43:20.745Z"
   },
   {
    "duration": 0,
    "start_time": "2023-12-07T10:43:20.905Z"
   },
   {
    "duration": 12,
    "start_time": "2023-12-07T10:43:27.055Z"
   },
   {
    "duration": 77,
    "start_time": "2023-12-07T10:44:39.921Z"
   },
   {
    "duration": 77,
    "start_time": "2023-12-07T10:45:12.290Z"
   },
   {
    "duration": 78,
    "start_time": "2023-12-07T10:45:53.931Z"
   },
   {
    "duration": 71,
    "start_time": "2023-12-07T10:47:22.603Z"
   },
   {
    "duration": 79,
    "start_time": "2023-12-07T10:47:27.313Z"
   },
   {
    "duration": 78,
    "start_time": "2023-12-07T10:47:42.741Z"
   },
   {
    "duration": 82,
    "start_time": "2023-12-07T10:48:00.334Z"
   },
   {
    "duration": 11,
    "start_time": "2023-12-07T10:49:01.188Z"
   },
   {
    "duration": 11,
    "start_time": "2023-12-07T10:49:16.915Z"
   },
   {
    "duration": 2511,
    "start_time": "2023-12-07T10:50:09.119Z"
   },
   {
    "duration": 1199,
    "start_time": "2023-12-07T10:50:11.634Z"
   },
   {
    "duration": 57,
    "start_time": "2023-12-07T10:50:12.834Z"
   },
   {
    "duration": 22,
    "start_time": "2023-12-07T10:50:12.893Z"
   },
   {
    "duration": 16,
    "start_time": "2023-12-07T10:50:12.917Z"
   },
   {
    "duration": 41,
    "start_time": "2023-12-07T10:50:12.934Z"
   },
   {
    "duration": 916,
    "start_time": "2023-12-07T10:50:12.977Z"
   },
   {
    "duration": 3,
    "start_time": "2023-12-07T10:50:13.895Z"
   },
   {
    "duration": 8,
    "start_time": "2023-12-07T10:50:13.900Z"
   },
   {
    "duration": 31,
    "start_time": "2023-12-07T10:50:13.911Z"
   },
   {
    "duration": 14,
    "start_time": "2023-12-07T10:50:13.953Z"
   },
   {
    "duration": 7,
    "start_time": "2023-12-07T10:50:13.969Z"
   },
   {
    "duration": 52,
    "start_time": "2023-12-07T10:50:13.978Z"
   },
   {
    "duration": 35,
    "start_time": "2023-12-07T10:50:14.033Z"
   },
   {
    "duration": 4,
    "start_time": "2023-12-07T10:50:14.070Z"
   },
   {
    "duration": 29,
    "start_time": "2023-12-07T10:50:14.076Z"
   },
   {
    "duration": 11,
    "start_time": "2023-12-07T10:50:14.107Z"
   },
   {
    "duration": 13,
    "start_time": "2023-12-07T10:50:14.120Z"
   },
   {
    "duration": 22,
    "start_time": "2023-12-07T10:50:14.135Z"
   },
   {
    "duration": 5,
    "start_time": "2023-12-07T10:50:14.159Z"
   },
   {
    "duration": 15,
    "start_time": "2023-12-07T10:50:14.166Z"
   },
   {
    "duration": 23,
    "start_time": "2023-12-07T10:50:14.183Z"
   },
   {
    "duration": 888,
    "start_time": "2023-12-07T10:50:14.208Z"
   },
   {
    "duration": 5,
    "start_time": "2023-12-07T10:50:15.099Z"
   },
   {
    "duration": 90,
    "start_time": "2023-12-07T10:50:15.106Z"
   },
   {
    "duration": 338,
    "start_time": "2023-12-07T10:50:15.198Z"
   },
   {
    "duration": 16,
    "start_time": "2023-12-07T10:50:15.538Z"
   },
   {
    "duration": 4,
    "start_time": "2023-12-07T10:50:15.557Z"
   },
   {
    "duration": 283,
    "start_time": "2023-12-07T10:50:15.563Z"
   },
   {
    "duration": 9,
    "start_time": "2023-12-07T10:50:15.848Z"
   },
   {
    "duration": 32,
    "start_time": "2023-12-07T10:50:15.859Z"
   },
   {
    "duration": 16,
    "start_time": "2023-12-07T10:50:15.893Z"
   },
   {
    "duration": 14,
    "start_time": "2023-12-07T10:50:15.910Z"
   },
   {
    "duration": 521,
    "start_time": "2023-12-07T10:50:15.925Z"
   },
   {
    "duration": 21,
    "start_time": "2023-12-07T10:50:16.447Z"
   },
   {
    "duration": 17,
    "start_time": "2023-12-07T10:50:16.470Z"
   },
   {
    "duration": 210,
    "start_time": "2023-12-07T10:50:16.488Z"
   },
   {
    "duration": 247,
    "start_time": "2023-12-07T10:50:16.700Z"
   },
   {
    "duration": 7,
    "start_time": "2023-12-07T10:50:16.951Z"
   },
   {
    "duration": 139,
    "start_time": "2023-12-07T10:50:16.959Z"
   },
   {
    "duration": 167,
    "start_time": "2023-12-07T10:50:17.100Z"
   },
   {
    "duration": 6,
    "start_time": "2023-12-07T10:50:17.268Z"
   },
   {
    "duration": 198,
    "start_time": "2023-12-07T10:50:17.276Z"
   },
   {
    "duration": 352,
    "start_time": "2023-12-07T10:50:17.476Z"
   },
   {
    "duration": 22,
    "start_time": "2023-12-07T10:50:17.830Z"
   },
   {
    "duration": 9,
    "start_time": "2023-12-07T10:50:17.854Z"
   },
   {
    "duration": 5,
    "start_time": "2023-12-07T10:50:17.865Z"
   },
   {
    "duration": 75,
    "start_time": "2023-12-07T10:50:17.872Z"
   },
   {
    "duration": 0,
    "start_time": "2023-12-07T10:50:17.949Z"
   },
   {
    "duration": 104,
    "start_time": "2023-12-07T10:54:08.162Z"
   },
   {
    "duration": 100,
    "start_time": "2023-12-07T10:54:20.557Z"
   },
   {
    "duration": 2400,
    "start_time": "2023-12-07T10:58:43.770Z"
   },
   {
    "duration": 1157,
    "start_time": "2023-12-07T10:58:46.172Z"
   },
   {
    "duration": 60,
    "start_time": "2023-12-07T10:58:47.331Z"
   },
   {
    "duration": 19,
    "start_time": "2023-12-07T10:58:47.393Z"
   },
   {
    "duration": 32,
    "start_time": "2023-12-07T10:58:47.414Z"
   },
   {
    "duration": 46,
    "start_time": "2023-12-07T10:58:47.447Z"
   },
   {
    "duration": 804,
    "start_time": "2023-12-07T10:58:47.495Z"
   },
   {
    "duration": 3,
    "start_time": "2023-12-07T10:58:48.301Z"
   },
   {
    "duration": 11,
    "start_time": "2023-12-07T10:58:48.305Z"
   },
   {
    "duration": 31,
    "start_time": "2023-12-07T10:58:48.318Z"
   },
   {
    "duration": 11,
    "start_time": "2023-12-07T10:58:48.351Z"
   },
   {
    "duration": 18,
    "start_time": "2023-12-07T10:58:48.364Z"
   },
   {
    "duration": 42,
    "start_time": "2023-12-07T10:58:48.384Z"
   },
   {
    "duration": 38,
    "start_time": "2023-12-07T10:58:48.429Z"
   },
   {
    "duration": 3,
    "start_time": "2023-12-07T10:58:48.469Z"
   },
   {
    "duration": 31,
    "start_time": "2023-12-07T10:58:48.473Z"
   },
   {
    "duration": 10,
    "start_time": "2023-12-07T10:58:48.506Z"
   },
   {
    "duration": 45,
    "start_time": "2023-12-07T10:58:48.518Z"
   },
   {
    "duration": 37,
    "start_time": "2023-12-07T10:58:48.565Z"
   },
   {
    "duration": 5,
    "start_time": "2023-12-07T10:58:48.604Z"
   },
   {
    "duration": 11,
    "start_time": "2023-12-07T10:58:48.611Z"
   },
   {
    "duration": 51,
    "start_time": "2023-12-07T10:58:48.623Z"
   },
   {
    "duration": 709,
    "start_time": "2023-12-07T10:58:48.675Z"
   },
   {
    "duration": 5,
    "start_time": "2023-12-07T10:58:49.386Z"
   },
   {
    "duration": 42,
    "start_time": "2023-12-07T10:58:49.392Z"
   },
   {
    "duration": 335,
    "start_time": "2023-12-07T10:58:49.436Z"
   },
   {
    "duration": 8,
    "start_time": "2023-12-07T10:58:49.773Z"
   },
   {
    "duration": 8,
    "start_time": "2023-12-07T10:58:49.782Z"
   },
   {
    "duration": 284,
    "start_time": "2023-12-07T10:58:49.792Z"
   },
   {
    "duration": 6,
    "start_time": "2023-12-07T10:58:50.077Z"
   },
   {
    "duration": 41,
    "start_time": "2023-12-07T10:58:50.085Z"
   },
   {
    "duration": 15,
    "start_time": "2023-12-07T10:58:50.128Z"
   },
   {
    "duration": 15,
    "start_time": "2023-12-07T10:58:50.145Z"
   },
   {
    "duration": 512,
    "start_time": "2023-12-07T10:58:50.162Z"
   },
   {
    "duration": 17,
    "start_time": "2023-12-07T10:58:50.676Z"
   },
   {
    "duration": 30,
    "start_time": "2023-12-07T10:58:50.694Z"
   },
   {
    "duration": 186,
    "start_time": "2023-12-07T10:58:50.726Z"
   },
   {
    "duration": 240,
    "start_time": "2023-12-07T10:58:50.914Z"
   },
   {
    "duration": 8,
    "start_time": "2023-12-07T10:58:51.156Z"
   },
   {
    "duration": 139,
    "start_time": "2023-12-07T10:58:51.166Z"
   },
   {
    "duration": 128,
    "start_time": "2023-12-07T10:58:51.308Z"
   },
   {
    "duration": 18,
    "start_time": "2023-12-07T10:58:51.438Z"
   },
   {
    "duration": 187,
    "start_time": "2023-12-07T10:58:51.457Z"
   },
   {
    "duration": 340,
    "start_time": "2023-12-07T10:58:51.646Z"
   },
   {
    "duration": 10,
    "start_time": "2023-12-07T10:58:51.987Z"
   },
   {
    "duration": 38,
    "start_time": "2023-12-07T10:58:51.998Z"
   },
   {
    "duration": 5,
    "start_time": "2023-12-07T10:58:52.037Z"
   },
   {
    "duration": 101,
    "start_time": "2023-12-07T10:58:52.044Z"
   },
   {
    "duration": 14,
    "start_time": "2023-12-07T10:59:37.561Z"
   },
   {
    "duration": 76,
    "start_time": "2023-12-07T11:06:04.280Z"
   },
   {
    "duration": 104,
    "start_time": "2023-12-07T11:06:25.749Z"
   },
   {
    "duration": 103,
    "start_time": "2023-12-07T11:08:01.454Z"
   },
   {
    "duration": 11,
    "start_time": "2023-12-07T11:10:55.969Z"
   },
   {
    "duration": 29,
    "start_time": "2023-12-07T11:13:37.072Z"
   },
   {
    "duration": 24,
    "start_time": "2023-12-07T11:13:55.611Z"
   },
   {
    "duration": 2446,
    "start_time": "2023-12-07T11:14:28.900Z"
   },
   {
    "duration": 1174,
    "start_time": "2023-12-07T11:14:31.349Z"
   },
   {
    "duration": 55,
    "start_time": "2023-12-07T11:14:32.524Z"
   },
   {
    "duration": 19,
    "start_time": "2023-12-07T11:14:32.581Z"
   },
   {
    "duration": 47,
    "start_time": "2023-12-07T11:14:32.602Z"
   },
   {
    "duration": 64,
    "start_time": "2023-12-07T11:14:32.650Z"
   },
   {
    "duration": 785,
    "start_time": "2023-12-07T11:14:32.716Z"
   },
   {
    "duration": 3,
    "start_time": "2023-12-07T11:14:33.503Z"
   },
   {
    "duration": 8,
    "start_time": "2023-12-07T11:14:33.507Z"
   },
   {
    "duration": 16,
    "start_time": "2023-12-07T11:14:33.516Z"
   },
   {
    "duration": 25,
    "start_time": "2023-12-07T11:14:33.534Z"
   },
   {
    "duration": 6,
    "start_time": "2023-12-07T11:14:33.561Z"
   },
   {
    "duration": 26,
    "start_time": "2023-12-07T11:14:33.569Z"
   },
   {
    "duration": 24,
    "start_time": "2023-12-07T11:14:33.598Z"
   },
   {
    "duration": 4,
    "start_time": "2023-12-07T11:14:33.624Z"
   },
   {
    "duration": 5,
    "start_time": "2023-12-07T11:14:33.653Z"
   },
   {
    "duration": 6,
    "start_time": "2023-12-07T11:14:33.659Z"
   },
   {
    "duration": 8,
    "start_time": "2023-12-07T11:14:33.667Z"
   },
   {
    "duration": 22,
    "start_time": "2023-12-07T11:14:33.677Z"
   },
   {
    "duration": 4,
    "start_time": "2023-12-07T11:14:33.700Z"
   },
   {
    "duration": 8,
    "start_time": "2023-12-07T11:14:33.705Z"
   },
   {
    "duration": 38,
    "start_time": "2023-12-07T11:14:33.714Z"
   },
   {
    "duration": 720,
    "start_time": "2023-12-07T11:14:33.753Z"
   },
   {
    "duration": 5,
    "start_time": "2023-12-07T11:14:34.475Z"
   },
   {
    "duration": 39,
    "start_time": "2023-12-07T11:14:34.482Z"
   },
   {
    "duration": 336,
    "start_time": "2023-12-07T11:14:34.523Z"
   },
   {
    "duration": 7,
    "start_time": "2023-12-07T11:14:34.861Z"
   },
   {
    "duration": 5,
    "start_time": "2023-12-07T11:14:34.869Z"
   },
   {
    "duration": 311,
    "start_time": "2023-12-07T11:14:34.876Z"
   },
   {
    "duration": 6,
    "start_time": "2023-12-07T11:14:35.190Z"
   },
   {
    "duration": 32,
    "start_time": "2023-12-07T11:14:35.198Z"
   },
   {
    "duration": 25,
    "start_time": "2023-12-07T11:14:35.231Z"
   },
   {
    "duration": 11,
    "start_time": "2023-12-07T11:14:35.258Z"
   },
   {
    "duration": 505,
    "start_time": "2023-12-07T11:14:35.271Z"
   },
   {
    "duration": 17,
    "start_time": "2023-12-07T11:14:35.778Z"
   },
   {
    "duration": 30,
    "start_time": "2023-12-07T11:14:35.797Z"
   },
   {
    "duration": 193,
    "start_time": "2023-12-07T11:14:35.829Z"
   },
   {
    "duration": 237,
    "start_time": "2023-12-07T11:14:36.023Z"
   },
   {
    "duration": 7,
    "start_time": "2023-12-07T11:14:36.262Z"
   },
   {
    "duration": 153,
    "start_time": "2023-12-07T11:14:36.270Z"
   },
   {
    "duration": 131,
    "start_time": "2023-12-07T11:14:36.426Z"
   },
   {
    "duration": 5,
    "start_time": "2023-12-07T11:14:36.559Z"
   },
   {
    "duration": 177,
    "start_time": "2023-12-07T11:14:36.565Z"
   },
   {
    "duration": 349,
    "start_time": "2023-12-07T11:14:36.744Z"
   },
   {
    "duration": 9,
    "start_time": "2023-12-07T11:14:37.095Z"
   },
   {
    "duration": 8,
    "start_time": "2023-12-07T11:14:37.106Z"
   },
   {
    "duration": 5,
    "start_time": "2023-12-07T11:14:37.115Z"
   },
   {
    "duration": 120,
    "start_time": "2023-12-07T11:14:37.121Z"
   },
   {
    "duration": 0,
    "start_time": "2023-12-07T11:14:37.242Z"
   },
   {
    "duration": 0,
    "start_time": "2023-12-07T11:14:37.243Z"
   },
   {
    "duration": 25,
    "start_time": "2023-12-07T11:14:46.025Z"
   },
   {
    "duration": 25,
    "start_time": "2023-12-07T11:16:01.511Z"
   },
   {
    "duration": 10,
    "start_time": "2023-12-07T11:16:36.884Z"
   },
   {
    "duration": 357,
    "start_time": "2023-12-07T11:17:18.372Z"
   },
   {
    "duration": 2412,
    "start_time": "2023-12-07T11:17:46.615Z"
   },
   {
    "duration": 1176,
    "start_time": "2023-12-07T11:17:49.029Z"
   },
   {
    "duration": 55,
    "start_time": "2023-12-07T11:17:50.206Z"
   },
   {
    "duration": 18,
    "start_time": "2023-12-07T11:17:50.264Z"
   },
   {
    "duration": 20,
    "start_time": "2023-12-07T11:17:50.284Z"
   },
   {
    "duration": 28,
    "start_time": "2023-12-07T11:17:50.306Z"
   },
   {
    "duration": 754,
    "start_time": "2023-12-07T11:17:50.336Z"
   },
   {
    "duration": 4,
    "start_time": "2023-12-07T11:17:51.091Z"
   },
   {
    "duration": 6,
    "start_time": "2023-12-07T11:17:51.096Z"
   },
   {
    "duration": 19,
    "start_time": "2023-12-07T11:17:51.104Z"
   },
   {
    "duration": 32,
    "start_time": "2023-12-07T11:17:51.124Z"
   },
   {
    "duration": 20,
    "start_time": "2023-12-07T11:17:51.158Z"
   },
   {
    "duration": 29,
    "start_time": "2023-12-07T11:17:51.179Z"
   },
   {
    "duration": 20,
    "start_time": "2023-12-07T11:17:51.209Z"
   },
   {
    "duration": 3,
    "start_time": "2023-12-07T11:17:51.231Z"
   },
   {
    "duration": 4,
    "start_time": "2023-12-07T11:17:51.236Z"
   },
   {
    "duration": 11,
    "start_time": "2023-12-07T11:17:51.241Z"
   },
   {
    "duration": 9,
    "start_time": "2023-12-07T11:17:51.254Z"
   },
   {
    "duration": 19,
    "start_time": "2023-12-07T11:17:51.265Z"
   },
   {
    "duration": 19,
    "start_time": "2023-12-07T11:17:51.286Z"
   },
   {
    "duration": 5,
    "start_time": "2023-12-07T11:17:51.306Z"
   },
   {
    "duration": 23,
    "start_time": "2023-12-07T11:17:51.312Z"
   },
   {
    "duration": 736,
    "start_time": "2023-12-07T11:17:51.336Z"
   },
   {
    "duration": 5,
    "start_time": "2023-12-07T11:17:52.073Z"
   },
   {
    "duration": 32,
    "start_time": "2023-12-07T11:17:52.079Z"
   },
   {
    "duration": 339,
    "start_time": "2023-12-07T11:17:52.113Z"
   },
   {
    "duration": 8,
    "start_time": "2023-12-07T11:17:52.453Z"
   },
   {
    "duration": 19,
    "start_time": "2023-12-07T11:17:52.464Z"
   },
   {
    "duration": 286,
    "start_time": "2023-12-07T11:17:52.485Z"
   },
   {
    "duration": 6,
    "start_time": "2023-12-07T11:17:52.772Z"
   },
   {
    "duration": 30,
    "start_time": "2023-12-07T11:17:52.780Z"
   },
   {
    "duration": 15,
    "start_time": "2023-12-07T11:17:52.811Z"
   },
   {
    "duration": 29,
    "start_time": "2023-12-07T11:17:52.828Z"
   },
   {
    "duration": 498,
    "start_time": "2023-12-07T11:17:52.859Z"
   },
   {
    "duration": 16,
    "start_time": "2023-12-07T11:17:53.359Z"
   },
   {
    "duration": 16,
    "start_time": "2023-12-07T11:17:53.376Z"
   },
   {
    "duration": 201,
    "start_time": "2023-12-07T11:17:53.394Z"
   },
   {
    "duration": 245,
    "start_time": "2023-12-07T11:17:53.597Z"
   },
   {
    "duration": 12,
    "start_time": "2023-12-07T11:17:53.844Z"
   },
   {
    "duration": 149,
    "start_time": "2023-12-07T11:17:53.858Z"
   },
   {
    "duration": 147,
    "start_time": "2023-12-07T11:17:54.008Z"
   },
   {
    "duration": 5,
    "start_time": "2023-12-07T11:17:54.157Z"
   },
   {
    "duration": 180,
    "start_time": "2023-12-07T11:17:54.163Z"
   },
   {
    "duration": 346,
    "start_time": "2023-12-07T11:17:54.345Z"
   },
   {
    "duration": 10,
    "start_time": "2023-12-07T11:17:54.693Z"
   },
   {
    "duration": 8,
    "start_time": "2023-12-07T11:17:54.704Z"
   },
   {
    "duration": 6,
    "start_time": "2023-12-07T11:17:54.714Z"
   },
   {
    "duration": 125,
    "start_time": "2023-12-07T11:17:54.722Z"
   },
   {
    "duration": 0,
    "start_time": "2023-12-07T11:17:54.852Z"
   },
   {
    "duration": 0,
    "start_time": "2023-12-07T11:17:54.853Z"
   },
   {
    "duration": 408,
    "start_time": "2023-12-07T11:18:01.889Z"
   },
   {
    "duration": 25,
    "start_time": "2023-12-07T11:18:24.165Z"
   },
   {
    "duration": 13,
    "start_time": "2023-12-07T11:19:52.928Z"
   },
   {
    "duration": 21,
    "start_time": "2023-12-07T11:20:53.680Z"
   },
   {
    "duration": 5,
    "start_time": "2023-12-07T11:22:51.450Z"
   },
   {
    "duration": 5,
    "start_time": "2023-12-07T11:22:52.997Z"
   },
   {
    "duration": 6,
    "start_time": "2023-12-07T11:22:53.596Z"
   },
   {
    "duration": 23,
    "start_time": "2023-12-07T11:23:02.445Z"
   },
   {
    "duration": 19,
    "start_time": "2023-12-07T11:23:45.554Z"
   },
   {
    "duration": 3,
    "start_time": "2023-12-07T11:24:29.539Z"
   },
   {
    "duration": 22,
    "start_time": "2023-12-07T11:24:38.035Z"
   },
   {
    "duration": 25,
    "start_time": "2023-12-07T11:24:47.107Z"
   },
   {
    "duration": 15,
    "start_time": "2023-12-07T11:24:59.216Z"
   },
   {
    "duration": 10,
    "start_time": "2023-12-07T11:26:00.147Z"
   },
   {
    "duration": 354,
    "start_time": "2023-12-07T11:26:26.640Z"
   },
   {
    "duration": 15,
    "start_time": "2023-12-07T11:29:44.173Z"
   },
   {
    "duration": 10,
    "start_time": "2023-12-07T11:30:03.922Z"
   },
   {
    "duration": 479,
    "start_time": "2023-12-07T11:30:28.623Z"
   },
   {
    "duration": 9,
    "start_time": "2023-12-07T11:32:47.400Z"
   },
   {
    "duration": 30,
    "start_time": "2023-12-07T11:33:45.989Z"
   },
   {
    "duration": 26,
    "start_time": "2023-12-07T11:33:54.063Z"
   },
   {
    "duration": 28,
    "start_time": "2023-12-07T11:36:23.183Z"
   },
   {
    "duration": 69,
    "start_time": "2023-12-07T11:38:11.598Z"
   },
   {
    "duration": 86,
    "start_time": "2023-12-07T11:38:36.334Z"
   },
   {
    "duration": 72,
    "start_time": "2023-12-07T11:38:43.246Z"
   },
   {
    "duration": 76,
    "start_time": "2023-12-07T11:38:52.415Z"
   },
   {
    "duration": 26,
    "start_time": "2023-12-07T11:39:40.299Z"
   },
   {
    "duration": 106,
    "start_time": "2023-12-07T11:40:29.645Z"
   },
   {
    "duration": 25,
    "start_time": "2023-12-07T11:40:42.042Z"
   },
   {
    "duration": 2432,
    "start_time": "2023-12-07T11:41:11.155Z"
   },
   {
    "duration": 1139,
    "start_time": "2023-12-07T11:41:13.589Z"
   },
   {
    "duration": 55,
    "start_time": "2023-12-07T11:41:14.730Z"
   },
   {
    "duration": 21,
    "start_time": "2023-12-07T11:41:14.787Z"
   },
   {
    "duration": 15,
    "start_time": "2023-12-07T11:41:14.810Z"
   },
   {
    "duration": 51,
    "start_time": "2023-12-07T11:41:14.826Z"
   },
   {
    "duration": 823,
    "start_time": "2023-12-07T11:41:14.879Z"
   },
   {
    "duration": 3,
    "start_time": "2023-12-07T11:41:15.704Z"
   },
   {
    "duration": 13,
    "start_time": "2023-12-07T11:41:15.708Z"
   },
   {
    "duration": 19,
    "start_time": "2023-12-07T11:41:15.724Z"
   },
   {
    "duration": 9,
    "start_time": "2023-12-07T11:41:15.752Z"
   },
   {
    "duration": 13,
    "start_time": "2023-12-07T11:41:15.763Z"
   },
   {
    "duration": 24,
    "start_time": "2023-12-07T11:41:15.777Z"
   },
   {
    "duration": 22,
    "start_time": "2023-12-07T11:41:15.803Z"
   },
   {
    "duration": 26,
    "start_time": "2023-12-07T11:41:15.826Z"
   },
   {
    "duration": 5,
    "start_time": "2023-12-07T11:41:15.854Z"
   },
   {
    "duration": 22,
    "start_time": "2023-12-07T11:41:15.860Z"
   },
   {
    "duration": 33,
    "start_time": "2023-12-07T11:41:15.883Z"
   },
   {
    "duration": 9,
    "start_time": "2023-12-07T11:41:15.918Z"
   },
   {
    "duration": 13,
    "start_time": "2023-12-07T11:41:15.928Z"
   },
   {
    "duration": 12,
    "start_time": "2023-12-07T11:41:15.943Z"
   },
   {
    "duration": 20,
    "start_time": "2023-12-07T11:41:15.956Z"
   },
   {
    "duration": 686,
    "start_time": "2023-12-07T11:41:15.978Z"
   },
   {
    "duration": 4,
    "start_time": "2023-12-07T11:41:16.666Z"
   },
   {
    "duration": 33,
    "start_time": "2023-12-07T11:41:16.672Z"
   },
   {
    "duration": 326,
    "start_time": "2023-12-07T11:41:16.707Z"
   },
   {
    "duration": 8,
    "start_time": "2023-12-07T11:41:17.035Z"
   },
   {
    "duration": 9,
    "start_time": "2023-12-07T11:41:17.054Z"
   },
   {
    "duration": 291,
    "start_time": "2023-12-07T11:41:17.064Z"
   },
   {
    "duration": 7,
    "start_time": "2023-12-07T11:41:17.356Z"
   },
   {
    "duration": 31,
    "start_time": "2023-12-07T11:41:17.365Z"
   },
   {
    "duration": 17,
    "start_time": "2023-12-07T11:41:17.398Z"
   },
   {
    "duration": 36,
    "start_time": "2023-12-07T11:41:17.417Z"
   },
   {
    "duration": 500,
    "start_time": "2023-12-07T11:41:17.455Z"
   },
   {
    "duration": 17,
    "start_time": "2023-12-07T11:41:17.956Z"
   },
   {
    "duration": 16,
    "start_time": "2023-12-07T11:41:17.975Z"
   },
   {
    "duration": 200,
    "start_time": "2023-12-07T11:41:17.993Z"
   },
   {
    "duration": 237,
    "start_time": "2023-12-07T11:41:18.195Z"
   },
   {
    "duration": 6,
    "start_time": "2023-12-07T11:41:18.434Z"
   },
   {
    "duration": 139,
    "start_time": "2023-12-07T11:41:18.441Z"
   },
   {
    "duration": 148,
    "start_time": "2023-12-07T11:41:18.581Z"
   },
   {
    "duration": 5,
    "start_time": "2023-12-07T11:41:18.731Z"
   },
   {
    "duration": 186,
    "start_time": "2023-12-07T11:41:18.737Z"
   },
   {
    "duration": 340,
    "start_time": "2023-12-07T11:41:18.925Z"
   },
   {
    "duration": 9,
    "start_time": "2023-12-07T11:41:19.267Z"
   },
   {
    "duration": 14,
    "start_time": "2023-12-07T11:41:19.277Z"
   },
   {
    "duration": 9,
    "start_time": "2023-12-07T11:41:19.292Z"
   },
   {
    "duration": 104,
    "start_time": "2023-12-07T11:41:19.302Z"
   },
   {
    "duration": 0,
    "start_time": "2023-12-07T11:41:19.408Z"
   },
   {
    "duration": 25,
    "start_time": "2023-12-07T11:41:27.589Z"
   },
   {
    "duration": 15,
    "start_time": "2023-12-07T11:41:54.407Z"
   },
   {
    "duration": 13,
    "start_time": "2023-12-07T11:42:25.918Z"
   },
   {
    "duration": 17,
    "start_time": "2023-12-07T11:42:37.001Z"
   },
   {
    "duration": 23,
    "start_time": "2023-12-07T11:42:48.680Z"
   },
   {
    "duration": 5,
    "start_time": "2023-12-07T11:42:53.575Z"
   },
   {
    "duration": 12,
    "start_time": "2023-12-07T11:43:07.634Z"
   },
   {
    "duration": 14,
    "start_time": "2023-12-07T11:43:19.584Z"
   },
   {
    "duration": 2447,
    "start_time": "2023-12-07T11:43:32.761Z"
   },
   {
    "duration": 1116,
    "start_time": "2023-12-07T11:43:35.210Z"
   },
   {
    "duration": 57,
    "start_time": "2023-12-07T11:43:36.328Z"
   },
   {
    "duration": 20,
    "start_time": "2023-12-07T11:43:36.386Z"
   },
   {
    "duration": 23,
    "start_time": "2023-12-07T11:43:36.408Z"
   },
   {
    "duration": 44,
    "start_time": "2023-12-07T11:43:36.432Z"
   },
   {
    "duration": 724,
    "start_time": "2023-12-07T11:43:36.477Z"
   },
   {
    "duration": 4,
    "start_time": "2023-12-07T11:43:37.203Z"
   },
   {
    "duration": 8,
    "start_time": "2023-12-07T11:43:37.208Z"
   },
   {
    "duration": 23,
    "start_time": "2023-12-07T11:43:37.218Z"
   },
   {
    "duration": 14,
    "start_time": "2023-12-07T11:43:37.253Z"
   },
   {
    "duration": 7,
    "start_time": "2023-12-07T11:43:37.268Z"
   },
   {
    "duration": 26,
    "start_time": "2023-12-07T11:43:37.278Z"
   },
   {
    "duration": 51,
    "start_time": "2023-12-07T11:43:37.308Z"
   },
   {
    "duration": 6,
    "start_time": "2023-12-07T11:43:37.360Z"
   },
   {
    "duration": 9,
    "start_time": "2023-12-07T11:43:37.367Z"
   },
   {
    "duration": 10,
    "start_time": "2023-12-07T11:43:37.378Z"
   },
   {
    "duration": 18,
    "start_time": "2023-12-07T11:43:37.389Z"
   },
   {
    "duration": 29,
    "start_time": "2023-12-07T11:43:37.409Z"
   },
   {
    "duration": 28,
    "start_time": "2023-12-07T11:43:37.440Z"
   },
   {
    "duration": 26,
    "start_time": "2023-12-07T11:43:37.470Z"
   },
   {
    "duration": 26,
    "start_time": "2023-12-07T11:43:37.497Z"
   },
   {
    "duration": 660,
    "start_time": "2023-12-07T11:43:37.525Z"
   },
   {
    "duration": 4,
    "start_time": "2023-12-07T11:43:38.187Z"
   },
   {
    "duration": 39,
    "start_time": "2023-12-07T11:43:38.192Z"
   },
   {
    "duration": 330,
    "start_time": "2023-12-07T11:43:38.232Z"
   },
   {
    "duration": 8,
    "start_time": "2023-12-07T11:43:38.563Z"
   },
   {
    "duration": 10,
    "start_time": "2023-12-07T11:43:38.572Z"
   },
   {
    "duration": 284,
    "start_time": "2023-12-07T11:43:38.583Z"
   },
   {
    "duration": 6,
    "start_time": "2023-12-07T11:43:38.869Z"
   },
   {
    "duration": 31,
    "start_time": "2023-12-07T11:43:38.876Z"
   },
   {
    "duration": 15,
    "start_time": "2023-12-07T11:43:38.908Z"
   },
   {
    "duration": 30,
    "start_time": "2023-12-07T11:43:38.925Z"
   },
   {
    "duration": 497,
    "start_time": "2023-12-07T11:43:38.957Z"
   },
   {
    "duration": 16,
    "start_time": "2023-12-07T11:43:39.456Z"
   },
   {
    "duration": 32,
    "start_time": "2023-12-07T11:43:39.473Z"
   },
   {
    "duration": 191,
    "start_time": "2023-12-07T11:43:39.506Z"
   },
   {
    "duration": 244,
    "start_time": "2023-12-07T11:43:39.698Z"
   },
   {
    "duration": 12,
    "start_time": "2023-12-07T11:43:39.944Z"
   },
   {
    "duration": 144,
    "start_time": "2023-12-07T11:43:39.958Z"
   },
   {
    "duration": 146,
    "start_time": "2023-12-07T11:43:40.106Z"
   },
   {
    "duration": 5,
    "start_time": "2023-12-07T11:43:40.254Z"
   },
   {
    "duration": 174,
    "start_time": "2023-12-07T11:43:40.260Z"
   },
   {
    "duration": 347,
    "start_time": "2023-12-07T11:43:40.435Z"
   },
   {
    "duration": 11,
    "start_time": "2023-12-07T11:43:40.784Z"
   },
   {
    "duration": 15,
    "start_time": "2023-12-07T11:43:40.797Z"
   },
   {
    "duration": 5,
    "start_time": "2023-12-07T11:43:40.814Z"
   },
   {
    "duration": 120,
    "start_time": "2023-12-07T11:43:40.821Z"
   },
   {
    "duration": 0,
    "start_time": "2023-12-07T11:43:40.942Z"
   },
   {
    "duration": 0,
    "start_time": "2023-12-07T11:43:40.943Z"
   },
   {
    "duration": 0,
    "start_time": "2023-12-07T11:43:40.944Z"
   },
   {
    "duration": 9,
    "start_time": "2023-12-07T11:43:44.007Z"
   },
   {
    "duration": 26,
    "start_time": "2023-12-07T11:44:21.782Z"
   },
   {
    "duration": 24,
    "start_time": "2023-12-07T11:44:43.863Z"
   },
   {
    "duration": 15,
    "start_time": "2023-12-07T11:47:49.571Z"
   },
   {
    "duration": 5,
    "start_time": "2023-12-07T11:49:01.515Z"
   },
   {
    "duration": 5,
    "start_time": "2023-12-07T11:49:07.153Z"
   },
   {
    "duration": 332,
    "start_time": "2023-12-07T11:50:39.215Z"
   },
   {
    "duration": 5,
    "start_time": "2023-12-07T11:51:11.613Z"
   },
   {
    "duration": 4,
    "start_time": "2023-12-07T11:51:14.023Z"
   },
   {
    "duration": 6,
    "start_time": "2023-12-07T11:51:30.891Z"
   },
   {
    "duration": 18,
    "start_time": "2023-12-07T11:51:36.649Z"
   },
   {
    "duration": 16,
    "start_time": "2023-12-07T11:57:00.269Z"
   },
   {
    "duration": 5,
    "start_time": "2023-12-07T12:02:30.542Z"
   },
   {
    "duration": 15,
    "start_time": "2023-12-07T12:02:46.603Z"
   },
   {
    "duration": 11,
    "start_time": "2023-12-07T12:04:34.301Z"
   },
   {
    "duration": 8,
    "start_time": "2023-12-07T12:04:45.416Z"
   },
   {
    "duration": 9,
    "start_time": "2023-12-07T12:06:24.448Z"
   },
   {
    "duration": 10,
    "start_time": "2023-12-07T12:06:24.994Z"
   },
   {
    "duration": 9,
    "start_time": "2023-12-07T12:07:09.554Z"
   },
   {
    "duration": 13,
    "start_time": "2023-12-07T12:07:26.810Z"
   },
   {
    "duration": 2455,
    "start_time": "2023-12-07T12:14:40.309Z"
   },
   {
    "duration": 1145,
    "start_time": "2023-12-07T12:14:42.767Z"
   },
   {
    "duration": 60,
    "start_time": "2023-12-07T12:14:43.914Z"
   },
   {
    "duration": 20,
    "start_time": "2023-12-07T12:14:43.976Z"
   },
   {
    "duration": 15,
    "start_time": "2023-12-07T12:14:43.998Z"
   },
   {
    "duration": 44,
    "start_time": "2023-12-07T12:14:44.015Z"
   },
   {
    "duration": 842,
    "start_time": "2023-12-07T12:14:44.061Z"
   },
   {
    "duration": 4,
    "start_time": "2023-12-07T12:14:44.905Z"
   },
   {
    "duration": 32,
    "start_time": "2023-12-07T12:14:44.911Z"
   },
   {
    "duration": 23,
    "start_time": "2023-12-07T12:14:44.945Z"
   },
   {
    "duration": 18,
    "start_time": "2023-12-07T12:14:44.970Z"
   },
   {
    "duration": 40,
    "start_time": "2023-12-07T12:14:44.990Z"
   },
   {
    "duration": 86,
    "start_time": "2023-12-07T12:14:45.032Z"
   },
   {
    "duration": 38,
    "start_time": "2023-12-07T12:14:45.122Z"
   },
   {
    "duration": 12,
    "start_time": "2023-12-07T12:14:45.162Z"
   },
   {
    "duration": 35,
    "start_time": "2023-12-07T12:14:45.175Z"
   },
   {
    "duration": 32,
    "start_time": "2023-12-07T12:14:45.212Z"
   },
   {
    "duration": 27,
    "start_time": "2023-12-07T12:14:45.246Z"
   },
   {
    "duration": 14,
    "start_time": "2023-12-07T12:14:45.275Z"
   },
   {
    "duration": 22,
    "start_time": "2023-12-07T12:14:45.291Z"
   },
   {
    "duration": 17,
    "start_time": "2023-12-07T12:14:45.314Z"
   },
   {
    "duration": 9,
    "start_time": "2023-12-07T12:14:45.332Z"
   },
   {
    "duration": 28,
    "start_time": "2023-12-07T12:14:45.342Z"
   },
   {
    "duration": 687,
    "start_time": "2023-12-07T12:14:45.372Z"
   },
   {
    "duration": 5,
    "start_time": "2023-12-07T12:14:46.060Z"
   },
   {
    "duration": 77,
    "start_time": "2023-12-07T12:14:46.066Z"
   },
   {
    "duration": 340,
    "start_time": "2023-12-07T12:14:46.145Z"
   },
   {
    "duration": 7,
    "start_time": "2023-12-07T12:14:46.487Z"
   },
   {
    "duration": 15,
    "start_time": "2023-12-07T12:14:46.495Z"
   },
   {
    "duration": 266,
    "start_time": "2023-12-07T12:14:46.512Z"
   },
   {
    "duration": 6,
    "start_time": "2023-12-07T12:14:46.780Z"
   },
   {
    "duration": 29,
    "start_time": "2023-12-07T12:14:46.787Z"
   },
   {
    "duration": 15,
    "start_time": "2023-12-07T12:14:46.818Z"
   },
   {
    "duration": 10,
    "start_time": "2023-12-07T12:14:46.852Z"
   },
   {
    "duration": 507,
    "start_time": "2023-12-07T12:14:46.863Z"
   },
   {
    "duration": 19,
    "start_time": "2023-12-07T12:14:47.371Z"
   },
   {
    "duration": 23,
    "start_time": "2023-12-07T12:14:47.392Z"
   },
   {
    "duration": 205,
    "start_time": "2023-12-07T12:14:47.417Z"
   },
   {
    "duration": 239,
    "start_time": "2023-12-07T12:14:47.624Z"
   },
   {
    "duration": 7,
    "start_time": "2023-12-07T12:14:47.864Z"
   },
   {
    "duration": 162,
    "start_time": "2023-12-07T12:14:47.875Z"
   },
   {
    "duration": 152,
    "start_time": "2023-12-07T12:14:48.038Z"
   },
   {
    "duration": 5,
    "start_time": "2023-12-07T12:14:48.191Z"
   },
   {
    "duration": 172,
    "start_time": "2023-12-07T12:14:48.197Z"
   },
   {
    "duration": 450,
    "start_time": "2023-12-07T12:14:48.371Z"
   },
   {
    "duration": 10,
    "start_time": "2023-12-07T12:14:48.823Z"
   },
   {
    "duration": 20,
    "start_time": "2023-12-07T12:14:48.834Z"
   },
   {
    "duration": 6,
    "start_time": "2023-12-07T12:14:48.855Z"
   },
   {
    "duration": 116,
    "start_time": "2023-12-07T12:14:48.862Z"
   },
   {
    "duration": 0,
    "start_time": "2023-12-07T12:14:48.979Z"
   },
   {
    "duration": 0,
    "start_time": "2023-12-07T12:14:48.980Z"
   },
   {
    "duration": 0,
    "start_time": "2023-12-07T12:14:48.981Z"
   },
   {
    "duration": 0,
    "start_time": "2023-12-07T12:14:48.982Z"
   },
   {
    "duration": 0,
    "start_time": "2023-12-07T12:14:48.983Z"
   },
   {
    "duration": 0,
    "start_time": "2023-12-07T12:14:48.984Z"
   },
   {
    "duration": 0,
    "start_time": "2023-12-07T12:14:48.985Z"
   },
   {
    "duration": 16,
    "start_time": "2023-12-07T12:39:04.145Z"
   },
   {
    "duration": 1220,
    "start_time": "2023-12-07T12:41:10.041Z"
   },
   {
    "duration": 11,
    "start_time": "2023-12-07T12:42:08.567Z"
   },
   {
    "duration": 12,
    "start_time": "2023-12-07T12:42:25.752Z"
   },
   {
    "duration": 13,
    "start_time": "2023-12-07T12:43:04.465Z"
   },
   {
    "duration": 13,
    "start_time": "2023-12-07T12:43:14.870Z"
   },
   {
    "duration": 9,
    "start_time": "2023-12-07T12:43:46.291Z"
   },
   {
    "duration": 10,
    "start_time": "2023-12-07T12:54:40.488Z"
   },
   {
    "duration": 10,
    "start_time": "2023-12-07T12:54:52.108Z"
   },
   {
    "duration": 2498,
    "start_time": "2023-12-07T12:55:00.475Z"
   },
   {
    "duration": 1148,
    "start_time": "2023-12-07T12:55:02.976Z"
   },
   {
    "duration": 53,
    "start_time": "2023-12-07T12:55:04.126Z"
   },
   {
    "duration": 18,
    "start_time": "2023-12-07T12:55:04.181Z"
   },
   {
    "duration": 14,
    "start_time": "2023-12-07T12:55:04.201Z"
   },
   {
    "duration": 42,
    "start_time": "2023-12-07T12:55:04.216Z"
   },
   {
    "duration": 830,
    "start_time": "2023-12-07T12:55:04.260Z"
   },
   {
    "duration": 4,
    "start_time": "2023-12-07T12:55:05.092Z"
   },
   {
    "duration": 26,
    "start_time": "2023-12-07T12:55:05.098Z"
   },
   {
    "duration": 63,
    "start_time": "2023-12-07T12:55:05.127Z"
   },
   {
    "duration": 38,
    "start_time": "2023-12-07T12:55:05.191Z"
   },
   {
    "duration": 24,
    "start_time": "2023-12-07T12:55:05.231Z"
   },
   {
    "duration": 142,
    "start_time": "2023-12-07T12:55:05.256Z"
   },
   {
    "duration": 67,
    "start_time": "2023-12-07T12:55:05.401Z"
   },
   {
    "duration": 4,
    "start_time": "2023-12-07T12:55:05.470Z"
   },
   {
    "duration": 19,
    "start_time": "2023-12-07T12:55:05.476Z"
   },
   {
    "duration": 24,
    "start_time": "2023-12-07T12:55:05.497Z"
   },
   {
    "duration": 17,
    "start_time": "2023-12-07T12:55:05.523Z"
   },
   {
    "duration": 33,
    "start_time": "2023-12-07T12:55:05.542Z"
   },
   {
    "duration": 33,
    "start_time": "2023-12-07T12:55:05.576Z"
   },
   {
    "duration": 17,
    "start_time": "2023-12-07T12:55:05.611Z"
   },
   {
    "duration": 27,
    "start_time": "2023-12-07T12:55:05.630Z"
   },
   {
    "duration": 45,
    "start_time": "2023-12-07T12:55:05.659Z"
   },
   {
    "duration": 738,
    "start_time": "2023-12-07T12:55:05.706Z"
   },
   {
    "duration": 5,
    "start_time": "2023-12-07T12:55:06.452Z"
   },
   {
    "duration": 50,
    "start_time": "2023-12-07T12:55:06.458Z"
   },
   {
    "duration": 319,
    "start_time": "2023-12-07T12:55:06.510Z"
   },
   {
    "duration": 8,
    "start_time": "2023-12-07T12:55:06.831Z"
   },
   {
    "duration": 14,
    "start_time": "2023-12-07T12:55:06.840Z"
   },
   {
    "duration": 292,
    "start_time": "2023-12-07T12:55:06.855Z"
   },
   {
    "duration": 10,
    "start_time": "2023-12-07T12:55:07.149Z"
   },
   {
    "duration": 36,
    "start_time": "2023-12-07T12:55:07.161Z"
   },
   {
    "duration": 16,
    "start_time": "2023-12-07T12:55:07.198Z"
   },
   {
    "duration": 15,
    "start_time": "2023-12-07T12:55:07.215Z"
   },
   {
    "duration": 543,
    "start_time": "2023-12-07T12:55:07.231Z"
   },
   {
    "duration": 18,
    "start_time": "2023-12-07T12:55:07.776Z"
   },
   {
    "duration": 99,
    "start_time": "2023-12-07T12:55:07.796Z"
   },
   {
    "duration": 174,
    "start_time": "2023-12-07T12:55:07.896Z"
   },
   {
    "duration": 248,
    "start_time": "2023-12-07T12:55:08.071Z"
   },
   {
    "duration": 7,
    "start_time": "2023-12-07T12:55:08.320Z"
   },
   {
    "duration": 203,
    "start_time": "2023-12-07T12:55:08.330Z"
   },
   {
    "duration": 142,
    "start_time": "2023-12-07T12:55:08.535Z"
   },
   {
    "duration": 5,
    "start_time": "2023-12-07T12:55:08.679Z"
   },
   {
    "duration": 177,
    "start_time": "2023-12-07T12:55:08.686Z"
   },
   {
    "duration": 347,
    "start_time": "2023-12-07T12:55:08.864Z"
   },
   {
    "duration": 10,
    "start_time": "2023-12-07T12:55:09.213Z"
   },
   {
    "duration": 24,
    "start_time": "2023-12-07T12:55:09.225Z"
   },
   {
    "duration": 14,
    "start_time": "2023-12-07T12:55:09.252Z"
   },
   {
    "duration": 106,
    "start_time": "2023-12-07T12:55:09.267Z"
   },
   {
    "duration": 0,
    "start_time": "2023-12-07T12:55:09.375Z"
   },
   {
    "duration": 0,
    "start_time": "2023-12-07T12:55:09.377Z"
   },
   {
    "duration": 0,
    "start_time": "2023-12-07T12:55:09.378Z"
   },
   {
    "duration": 0,
    "start_time": "2023-12-07T12:55:09.380Z"
   },
   {
    "duration": 0,
    "start_time": "2023-12-07T12:55:09.381Z"
   },
   {
    "duration": 0,
    "start_time": "2023-12-07T12:55:09.382Z"
   },
   {
    "duration": 0,
    "start_time": "2023-12-07T12:55:09.384Z"
   },
   {
    "duration": 9,
    "start_time": "2023-12-07T12:55:16.781Z"
   },
   {
    "duration": 2375,
    "start_time": "2023-12-07T12:55:49.015Z"
   },
   {
    "duration": 1105,
    "start_time": "2023-12-07T12:55:51.393Z"
   },
   {
    "duration": 54,
    "start_time": "2023-12-07T12:55:52.499Z"
   },
   {
    "duration": 19,
    "start_time": "2023-12-07T12:55:52.555Z"
   },
   {
    "duration": 17,
    "start_time": "2023-12-07T12:55:52.575Z"
   },
   {
    "duration": 31,
    "start_time": "2023-12-07T12:55:52.593Z"
   },
   {
    "duration": 773,
    "start_time": "2023-12-07T12:55:52.626Z"
   },
   {
    "duration": 3,
    "start_time": "2023-12-07T12:55:53.401Z"
   },
   {
    "duration": 19,
    "start_time": "2023-12-07T12:55:53.405Z"
   },
   {
    "duration": 26,
    "start_time": "2023-12-07T12:55:53.427Z"
   },
   {
    "duration": 13,
    "start_time": "2023-12-07T12:55:53.454Z"
   },
   {
    "duration": 5,
    "start_time": "2023-12-07T12:55:53.469Z"
   },
   {
    "duration": 25,
    "start_time": "2023-12-07T12:55:53.476Z"
   },
   {
    "duration": 23,
    "start_time": "2023-12-07T12:55:53.502Z"
   },
   {
    "duration": 29,
    "start_time": "2023-12-07T12:55:53.526Z"
   },
   {
    "duration": 9,
    "start_time": "2023-12-07T12:55:53.556Z"
   },
   {
    "duration": 18,
    "start_time": "2023-12-07T12:55:53.567Z"
   },
   {
    "duration": 32,
    "start_time": "2023-12-07T12:55:53.587Z"
   },
   {
    "duration": 11,
    "start_time": "2023-12-07T12:55:53.620Z"
   },
   {
    "duration": 9,
    "start_time": "2023-12-07T12:55:53.632Z"
   },
   {
    "duration": 4,
    "start_time": "2023-12-07T12:55:53.642Z"
   },
   {
    "duration": 6,
    "start_time": "2023-12-07T12:55:53.647Z"
   },
   {
    "duration": 17,
    "start_time": "2023-12-07T12:55:53.654Z"
   },
   {
    "duration": 678,
    "start_time": "2023-12-07T12:55:53.672Z"
   },
   {
    "duration": 5,
    "start_time": "2023-12-07T12:55:54.352Z"
   },
   {
    "duration": 48,
    "start_time": "2023-12-07T12:55:54.358Z"
   },
   {
    "duration": 321,
    "start_time": "2023-12-07T12:55:54.407Z"
   },
   {
    "duration": 7,
    "start_time": "2023-12-07T12:55:54.732Z"
   },
   {
    "duration": 13,
    "start_time": "2023-12-07T12:55:54.741Z"
   },
   {
    "duration": 281,
    "start_time": "2023-12-07T12:55:54.756Z"
   },
   {
    "duration": 13,
    "start_time": "2023-12-07T12:55:55.039Z"
   },
   {
    "duration": 54,
    "start_time": "2023-12-07T12:55:55.054Z"
   },
   {
    "duration": 16,
    "start_time": "2023-12-07T12:55:55.110Z"
   },
   {
    "duration": 20,
    "start_time": "2023-12-07T12:55:55.128Z"
   },
   {
    "duration": 481,
    "start_time": "2023-12-07T12:55:55.150Z"
   },
   {
    "duration": 21,
    "start_time": "2023-12-07T12:55:55.632Z"
   },
   {
    "duration": 15,
    "start_time": "2023-12-07T12:55:55.654Z"
   },
   {
    "duration": 194,
    "start_time": "2023-12-07T12:55:55.670Z"
   },
   {
    "duration": 240,
    "start_time": "2023-12-07T12:55:55.866Z"
   },
   {
    "duration": 7,
    "start_time": "2023-12-07T12:55:56.108Z"
   },
   {
    "duration": 144,
    "start_time": "2023-12-07T12:55:56.116Z"
   },
   {
    "duration": 145,
    "start_time": "2023-12-07T12:55:56.262Z"
   },
   {
    "duration": 17,
    "start_time": "2023-12-07T12:55:56.408Z"
   },
   {
    "duration": 167,
    "start_time": "2023-12-07T12:55:56.426Z"
   },
   {
    "duration": 347,
    "start_time": "2023-12-07T12:55:56.594Z"
   },
   {
    "duration": 14,
    "start_time": "2023-12-07T12:55:56.942Z"
   },
   {
    "duration": 12,
    "start_time": "2023-12-07T12:55:56.957Z"
   },
   {
    "duration": 5,
    "start_time": "2023-12-07T12:55:56.970Z"
   },
   {
    "duration": 114,
    "start_time": "2023-12-07T12:55:56.977Z"
   },
   {
    "duration": 0,
    "start_time": "2023-12-07T12:55:57.093Z"
   },
   {
    "duration": 0,
    "start_time": "2023-12-07T12:55:57.094Z"
   },
   {
    "duration": 0,
    "start_time": "2023-12-07T12:55:57.095Z"
   },
   {
    "duration": 0,
    "start_time": "2023-12-07T12:55:57.096Z"
   },
   {
    "duration": 0,
    "start_time": "2023-12-07T12:55:57.097Z"
   },
   {
    "duration": 0,
    "start_time": "2023-12-07T12:55:57.097Z"
   },
   {
    "duration": 0,
    "start_time": "2023-12-07T12:55:57.099Z"
   },
   {
    "duration": 10,
    "start_time": "2023-12-07T12:56:49.335Z"
   },
   {
    "duration": 14,
    "start_time": "2023-12-07T12:57:01.134Z"
   },
   {
    "duration": 12,
    "start_time": "2023-12-07T13:09:38.714Z"
   },
   {
    "duration": 11,
    "start_time": "2023-12-07T13:09:47.370Z"
   },
   {
    "duration": 10,
    "start_time": "2023-12-07T13:09:54.364Z"
   },
   {
    "duration": 8,
    "start_time": "2023-12-07T13:12:26.835Z"
   },
   {
    "duration": 10,
    "start_time": "2023-12-07T13:24:04.807Z"
   },
   {
    "duration": 18,
    "start_time": "2023-12-07T13:24:21.033Z"
   },
   {
    "duration": 4,
    "start_time": "2023-12-07T13:25:13.474Z"
   },
   {
    "duration": 5,
    "start_time": "2023-12-07T13:25:25.247Z"
   },
   {
    "duration": 49,
    "start_time": "2023-12-08T10:47:27.214Z"
   },
   {
    "duration": 3181,
    "start_time": "2023-12-08T10:47:46.129Z"
   },
   {
    "duration": 1336,
    "start_time": "2023-12-08T10:47:49.313Z"
   },
   {
    "duration": 188,
    "start_time": "2023-12-08T10:47:50.651Z"
   },
   {
    "duration": 21,
    "start_time": "2023-12-08T10:47:50.841Z"
   },
   {
    "duration": 16,
    "start_time": "2023-12-08T10:47:50.863Z"
   },
   {
    "duration": 32,
    "start_time": "2023-12-08T10:47:50.881Z"
   },
   {
    "duration": 853,
    "start_time": "2023-12-08T10:47:50.915Z"
   },
   {
    "duration": 3,
    "start_time": "2023-12-08T10:47:51.770Z"
   },
   {
    "duration": 15,
    "start_time": "2023-12-08T10:47:51.774Z"
   },
   {
    "duration": 16,
    "start_time": "2023-12-08T10:47:51.791Z"
   },
   {
    "duration": 12,
    "start_time": "2023-12-08T10:47:51.809Z"
   },
   {
    "duration": 8,
    "start_time": "2023-12-08T10:47:51.822Z"
   },
   {
    "duration": 24,
    "start_time": "2023-12-08T10:47:51.832Z"
   },
   {
    "duration": 22,
    "start_time": "2023-12-08T10:47:51.858Z"
   },
   {
    "duration": 33,
    "start_time": "2023-12-08T10:47:51.882Z"
   },
   {
    "duration": 5,
    "start_time": "2023-12-08T10:47:51.917Z"
   },
   {
    "duration": 25,
    "start_time": "2023-12-08T10:47:51.923Z"
   },
   {
    "duration": 11,
    "start_time": "2023-12-08T10:47:51.950Z"
   },
   {
    "duration": 42,
    "start_time": "2023-12-08T10:47:51.963Z"
   },
   {
    "duration": 20,
    "start_time": "2023-12-08T10:47:52.006Z"
   },
   {
    "duration": 5,
    "start_time": "2023-12-08T10:47:52.028Z"
   },
   {
    "duration": 8,
    "start_time": "2023-12-08T10:47:52.034Z"
   },
   {
    "duration": 56,
    "start_time": "2023-12-08T10:47:52.044Z"
   },
   {
    "duration": 709,
    "start_time": "2023-12-08T10:47:52.103Z"
   },
   {
    "duration": 6,
    "start_time": "2023-12-08T10:47:52.813Z"
   },
   {
    "duration": 39,
    "start_time": "2023-12-08T10:47:52.820Z"
   },
   {
    "duration": 337,
    "start_time": "2023-12-08T10:47:52.861Z"
   },
   {
    "duration": 15,
    "start_time": "2023-12-08T10:47:53.203Z"
   },
   {
    "duration": 5,
    "start_time": "2023-12-08T10:47:53.220Z"
   },
   {
    "duration": 308,
    "start_time": "2023-12-08T10:47:53.227Z"
   },
   {
    "duration": 7,
    "start_time": "2023-12-08T10:47:53.537Z"
   },
   {
    "duration": 30,
    "start_time": "2023-12-08T10:47:53.545Z"
   },
   {
    "duration": 16,
    "start_time": "2023-12-08T10:47:53.576Z"
   },
   {
    "duration": 22,
    "start_time": "2023-12-08T10:47:53.615Z"
   },
   {
    "duration": 519,
    "start_time": "2023-12-08T10:47:53.639Z"
   },
   {
    "duration": 17,
    "start_time": "2023-12-08T10:47:54.159Z"
   },
   {
    "duration": 27,
    "start_time": "2023-12-08T10:47:54.178Z"
   },
   {
    "duration": 207,
    "start_time": "2023-12-08T10:47:54.206Z"
   },
   {
    "duration": 240,
    "start_time": "2023-12-08T10:47:54.414Z"
   },
   {
    "duration": 6,
    "start_time": "2023-12-08T10:47:54.655Z"
   },
   {
    "duration": 138,
    "start_time": "2023-12-08T10:47:54.663Z"
   },
   {
    "duration": 155,
    "start_time": "2023-12-08T10:47:54.802Z"
   },
   {
    "duration": 6,
    "start_time": "2023-12-08T10:47:54.959Z"
   },
   {
    "duration": 192,
    "start_time": "2023-12-08T10:47:54.967Z"
   },
   {
    "duration": 363,
    "start_time": "2023-12-08T10:47:55.161Z"
   },
   {
    "duration": 10,
    "start_time": "2023-12-08T10:47:55.526Z"
   },
   {
    "duration": 9,
    "start_time": "2023-12-08T10:47:55.537Z"
   },
   {
    "duration": 24,
    "start_time": "2023-12-08T10:47:55.547Z"
   },
   {
    "duration": 15,
    "start_time": "2023-12-08T10:47:55.572Z"
   },
   {
    "duration": 5,
    "start_time": "2023-12-08T10:47:55.589Z"
   },
   {
    "duration": 11,
    "start_time": "2023-12-08T10:47:55.595Z"
   },
   {
    "duration": 14,
    "start_time": "2023-12-08T10:47:55.607Z"
   },
   {
    "duration": 15,
    "start_time": "2023-12-08T10:47:55.623Z"
   },
   {
    "duration": 10,
    "start_time": "2023-12-08T10:47:55.639Z"
   },
   {
    "duration": 8,
    "start_time": "2023-12-08T10:47:55.651Z"
   },
   {
    "duration": 40,
    "start_time": "2023-12-08T10:47:55.661Z"
   },
   {
    "duration": 0,
    "start_time": "2023-12-08T10:47:55.703Z"
   },
   {
    "duration": 0,
    "start_time": "2023-12-08T10:47:55.704Z"
   },
   {
    "duration": 0,
    "start_time": "2023-12-08T10:47:55.705Z"
   },
   {
    "duration": 11,
    "start_time": "2023-12-08T10:48:07.151Z"
   },
   {
    "duration": 10,
    "start_time": "2023-12-08T10:48:09.909Z"
   },
   {
    "duration": 15,
    "start_time": "2023-12-08T10:48:21.126Z"
   },
   {
    "duration": 9,
    "start_time": "2023-12-08T10:53:41.729Z"
   },
   {
    "duration": 531,
    "start_time": "2023-12-08T10:54:49.741Z"
   },
   {
    "duration": 498,
    "start_time": "2023-12-08T10:55:12.233Z"
   },
   {
    "duration": 1283,
    "start_time": "2023-12-08T10:58:17.020Z"
   },
   {
    "duration": 1035,
    "start_time": "2023-12-08T11:09:28.837Z"
   },
   {
    "duration": 705,
    "start_time": "2023-12-08T11:09:53.794Z"
   },
   {
    "duration": 12,
    "start_time": "2023-12-08T11:27:45.966Z"
   },
   {
    "duration": 20,
    "start_time": "2023-12-08T11:49:46.305Z"
   },
   {
    "duration": 2457,
    "start_time": "2023-12-08T11:50:49.291Z"
   },
   {
    "duration": 1103,
    "start_time": "2023-12-08T11:50:51.750Z"
   },
   {
    "duration": 56,
    "start_time": "2023-12-08T11:50:52.855Z"
   },
   {
    "duration": 19,
    "start_time": "2023-12-08T11:50:52.912Z"
   },
   {
    "duration": 15,
    "start_time": "2023-12-08T11:50:52.933Z"
   },
   {
    "duration": 37,
    "start_time": "2023-12-08T11:50:52.950Z"
   },
   {
    "duration": 778,
    "start_time": "2023-12-08T11:50:52.989Z"
   },
   {
    "duration": 3,
    "start_time": "2023-12-08T11:50:53.769Z"
   },
   {
    "duration": 30,
    "start_time": "2023-12-08T11:50:53.773Z"
   },
   {
    "duration": 30,
    "start_time": "2023-12-08T11:50:53.805Z"
   },
   {
    "duration": 19,
    "start_time": "2023-12-08T11:50:53.837Z"
   },
   {
    "duration": 16,
    "start_time": "2023-12-08T11:50:53.858Z"
   },
   {
    "duration": 36,
    "start_time": "2023-12-08T11:50:53.876Z"
   },
   {
    "duration": 26,
    "start_time": "2023-12-08T11:50:53.914Z"
   },
   {
    "duration": 5,
    "start_time": "2023-12-08T11:50:53.941Z"
   },
   {
    "duration": 21,
    "start_time": "2023-12-08T11:50:53.947Z"
   },
   {
    "duration": 26,
    "start_time": "2023-12-08T11:50:53.970Z"
   },
   {
    "duration": 25,
    "start_time": "2023-12-08T11:50:53.998Z"
   },
   {
    "duration": 28,
    "start_time": "2023-12-08T11:50:54.024Z"
   },
   {
    "duration": 17,
    "start_time": "2023-12-08T11:50:54.053Z"
   },
   {
    "duration": 27,
    "start_time": "2023-12-08T11:50:54.071Z"
   },
   {
    "duration": 31,
    "start_time": "2023-12-08T11:50:54.100Z"
   },
   {
    "duration": 24,
    "start_time": "2023-12-08T11:50:54.133Z"
   },
   {
    "duration": 663,
    "start_time": "2023-12-08T11:50:54.158Z"
   },
   {
    "duration": 4,
    "start_time": "2023-12-08T11:50:54.823Z"
   },
   {
    "duration": 50,
    "start_time": "2023-12-08T11:50:54.829Z"
   },
   {
    "duration": 336,
    "start_time": "2023-12-08T11:50:54.880Z"
   },
   {
    "duration": 8,
    "start_time": "2023-12-08T11:50:55.220Z"
   },
   {
    "duration": 27,
    "start_time": "2023-12-08T11:50:55.229Z"
   },
   {
    "duration": 289,
    "start_time": "2023-12-08T11:50:55.258Z"
   },
   {
    "duration": 7,
    "start_time": "2023-12-08T11:50:55.548Z"
   },
   {
    "duration": 62,
    "start_time": "2023-12-08T11:50:55.556Z"
   },
   {
    "duration": 19,
    "start_time": "2023-12-08T11:50:55.620Z"
   },
   {
    "duration": 19,
    "start_time": "2023-12-08T11:50:55.641Z"
   },
   {
    "duration": 546,
    "start_time": "2023-12-08T11:50:55.662Z"
   },
   {
    "duration": 19,
    "start_time": "2023-12-08T11:50:56.210Z"
   },
   {
    "duration": 31,
    "start_time": "2023-12-08T11:50:56.231Z"
   },
   {
    "duration": 186,
    "start_time": "2023-12-08T11:50:56.264Z"
   },
   {
    "duration": 236,
    "start_time": "2023-12-08T11:50:56.452Z"
   },
   {
    "duration": 7,
    "start_time": "2023-12-08T11:50:56.690Z"
   },
   {
    "duration": 140,
    "start_time": "2023-12-08T11:50:56.699Z"
   },
   {
    "duration": 147,
    "start_time": "2023-12-08T11:50:56.841Z"
   },
   {
    "duration": 5,
    "start_time": "2023-12-08T11:50:56.990Z"
   },
   {
    "duration": 189,
    "start_time": "2023-12-08T11:50:56.997Z"
   },
   {
    "duration": 347,
    "start_time": "2023-12-08T11:50:57.188Z"
   },
   {
    "duration": 9,
    "start_time": "2023-12-08T11:50:57.537Z"
   },
   {
    "duration": 14,
    "start_time": "2023-12-08T11:50:57.547Z"
   },
   {
    "duration": 6,
    "start_time": "2023-12-08T11:50:57.562Z"
   },
   {
    "duration": 6,
    "start_time": "2023-12-08T11:50:57.569Z"
   },
   {
    "duration": 1320,
    "start_time": "2023-12-08T11:50:57.576Z"
   },
   {
    "duration": 1114,
    "start_time": "2023-12-08T11:50:58.898Z"
   },
   {
    "duration": 880,
    "start_time": "2023-12-08T11:51:00.014Z"
   },
   {
    "duration": 23,
    "start_time": "2023-12-08T11:51:00.896Z"
   },
   {
    "duration": 62,
    "start_time": "2023-12-08T11:51:00.920Z"
   },
   {
    "duration": 48,
    "start_time": "2023-12-08T11:51:00.984Z"
   },
   {
    "duration": 46,
    "start_time": "2023-12-08T11:51:01.034Z"
   },
   {
    "duration": 50,
    "start_time": "2023-12-08T11:51:01.082Z"
   },
   {
    "duration": 31,
    "start_time": "2023-12-08T11:51:01.133Z"
   },
   {
    "duration": 3174,
    "start_time": "2023-12-08T12:01:04.515Z"
   },
   {
    "duration": 1164,
    "start_time": "2023-12-08T12:01:07.691Z"
   },
   {
    "duration": 55,
    "start_time": "2023-12-08T12:01:08.857Z"
   },
   {
    "duration": 19,
    "start_time": "2023-12-08T12:01:08.915Z"
   },
   {
    "duration": 14,
    "start_time": "2023-12-08T12:01:08.936Z"
   },
   {
    "duration": 50,
    "start_time": "2023-12-08T12:01:08.952Z"
   },
   {
    "duration": 741,
    "start_time": "2023-12-08T12:01:09.004Z"
   },
   {
    "duration": 4,
    "start_time": "2023-12-08T12:01:09.747Z"
   },
   {
    "duration": 55,
    "start_time": "2023-12-08T12:01:09.753Z"
   },
   {
    "duration": 30,
    "start_time": "2023-12-08T12:01:09.811Z"
   },
   {
    "duration": 11,
    "start_time": "2023-12-08T12:01:09.843Z"
   },
   {
    "duration": 16,
    "start_time": "2023-12-08T12:01:09.855Z"
   },
   {
    "duration": 47,
    "start_time": "2023-12-08T12:01:09.872Z"
   },
   {
    "duration": 31,
    "start_time": "2023-12-08T12:01:09.921Z"
   },
   {
    "duration": 21,
    "start_time": "2023-12-08T12:01:09.954Z"
   },
   {
    "duration": 22,
    "start_time": "2023-12-08T12:01:09.976Z"
   },
   {
    "duration": 36,
    "start_time": "2023-12-08T12:01:10.000Z"
   },
   {
    "duration": 38,
    "start_time": "2023-12-08T12:01:10.038Z"
   },
   {
    "duration": 33,
    "start_time": "2023-12-08T12:01:10.077Z"
   },
   {
    "duration": 34,
    "start_time": "2023-12-08T12:01:10.111Z"
   },
   {
    "duration": 28,
    "start_time": "2023-12-08T12:01:10.147Z"
   },
   {
    "duration": 16,
    "start_time": "2023-12-08T12:01:10.177Z"
   },
   {
    "duration": 37,
    "start_time": "2023-12-08T12:01:10.194Z"
   },
   {
    "duration": 660,
    "start_time": "2023-12-08T12:01:10.233Z"
   },
   {
    "duration": 5,
    "start_time": "2023-12-08T12:01:10.899Z"
   },
   {
    "duration": 65,
    "start_time": "2023-12-08T12:01:10.905Z"
   },
   {
    "duration": 309,
    "start_time": "2023-12-08T12:01:10.972Z"
   },
   {
    "duration": 7,
    "start_time": "2023-12-08T12:01:11.284Z"
   },
   {
    "duration": 6,
    "start_time": "2023-12-08T12:01:11.299Z"
   },
   {
    "duration": 277,
    "start_time": "2023-12-08T12:01:11.306Z"
   },
   {
    "duration": 14,
    "start_time": "2023-12-08T12:01:11.585Z"
   },
   {
    "duration": 40,
    "start_time": "2023-12-08T12:01:11.600Z"
   },
   {
    "duration": 23,
    "start_time": "2023-12-08T12:01:11.642Z"
   },
   {
    "duration": 37,
    "start_time": "2023-12-08T12:01:11.666Z"
   },
   {
    "duration": 476,
    "start_time": "2023-12-08T12:01:11.704Z"
   },
   {
    "duration": 20,
    "start_time": "2023-12-08T12:01:12.181Z"
   },
   {
    "duration": 34,
    "start_time": "2023-12-08T12:01:12.202Z"
   },
   {
    "duration": 180,
    "start_time": "2023-12-08T12:01:12.237Z"
   },
   {
    "duration": 237,
    "start_time": "2023-12-08T12:01:12.418Z"
   },
   {
    "duration": 7,
    "start_time": "2023-12-08T12:01:12.657Z"
   },
   {
    "duration": 142,
    "start_time": "2023-12-08T12:01:12.665Z"
   },
   {
    "duration": 141,
    "start_time": "2023-12-08T12:01:12.808Z"
   },
   {
    "duration": 5,
    "start_time": "2023-12-08T12:01:12.951Z"
   },
   {
    "duration": 191,
    "start_time": "2023-12-08T12:01:12.957Z"
   },
   {
    "duration": 343,
    "start_time": "2023-12-08T12:01:13.150Z"
   },
   {
    "duration": 10,
    "start_time": "2023-12-08T12:01:13.500Z"
   },
   {
    "duration": 34,
    "start_time": "2023-12-08T12:01:13.512Z"
   },
   {
    "duration": 26,
    "start_time": "2023-12-08T12:01:13.548Z"
   },
   {
    "duration": 23,
    "start_time": "2023-12-08T12:01:13.575Z"
   },
   {
    "duration": 1199,
    "start_time": "2023-12-08T12:01:13.600Z"
   },
   {
    "duration": 1034,
    "start_time": "2023-12-08T12:01:14.800Z"
   },
   {
    "duration": 768,
    "start_time": "2023-12-08T12:01:15.835Z"
   },
   {
    "duration": 15,
    "start_time": "2023-12-08T12:01:16.605Z"
   },
   {
    "duration": 50,
    "start_time": "2023-12-08T12:01:16.621Z"
   },
   {
    "duration": 33,
    "start_time": "2023-12-08T12:01:16.672Z"
   },
   {
    "duration": 42,
    "start_time": "2023-12-08T12:01:16.706Z"
   },
   {
    "duration": 39,
    "start_time": "2023-12-08T12:01:16.749Z"
   },
   {
    "duration": 21,
    "start_time": "2023-12-08T12:01:16.789Z"
   },
   {
    "duration": 80,
    "start_time": "2023-12-09T17:35:06.356Z"
   },
   {
    "duration": 41,
    "start_time": "2023-12-09T17:35:12.265Z"
   },
   {
    "duration": 3579,
    "start_time": "2023-12-09T17:35:28.493Z"
   },
   {
    "duration": 1301,
    "start_time": "2023-12-09T17:35:32.074Z"
   },
   {
    "duration": 91,
    "start_time": "2023-12-09T17:35:33.377Z"
   },
   {
    "duration": 17,
    "start_time": "2023-12-09T17:35:33.470Z"
   },
   {
    "duration": 22,
    "start_time": "2023-12-09T17:35:33.488Z"
   },
   {
    "duration": 96,
    "start_time": "2023-12-09T17:35:33.512Z"
   },
   {
    "duration": 888,
    "start_time": "2023-12-09T17:35:33.609Z"
   },
   {
    "duration": 3,
    "start_time": "2023-12-09T17:35:34.498Z"
   },
   {
    "duration": 6,
    "start_time": "2023-12-09T17:35:34.502Z"
   },
   {
    "duration": 20,
    "start_time": "2023-12-09T17:35:34.510Z"
   },
   {
    "duration": 4,
    "start_time": "2023-12-09T17:35:34.531Z"
   },
   {
    "duration": 12,
    "start_time": "2023-12-09T17:35:34.536Z"
   },
   {
    "duration": 4,
    "start_time": "2023-12-09T17:35:34.550Z"
   },
   {
    "duration": 24,
    "start_time": "2023-12-09T17:35:34.569Z"
   },
   {
    "duration": 22,
    "start_time": "2023-12-09T17:35:34.594Z"
   },
   {
    "duration": 5,
    "start_time": "2023-12-09T17:35:34.617Z"
   },
   {
    "duration": 16,
    "start_time": "2023-12-09T17:35:34.623Z"
   },
   {
    "duration": 18,
    "start_time": "2023-12-09T17:35:34.640Z"
   },
   {
    "duration": 10,
    "start_time": "2023-12-09T17:35:34.660Z"
   },
   {
    "duration": 7,
    "start_time": "2023-12-09T17:35:34.671Z"
   },
   {
    "duration": 35,
    "start_time": "2023-12-09T17:35:34.680Z"
   },
   {
    "duration": 5,
    "start_time": "2023-12-09T17:35:34.716Z"
   },
   {
    "duration": 6,
    "start_time": "2023-12-09T17:35:34.722Z"
   },
   {
    "duration": 15,
    "start_time": "2023-12-09T17:35:34.730Z"
   },
   {
    "duration": 545,
    "start_time": "2023-12-09T17:35:34.747Z"
   },
   {
    "duration": 4,
    "start_time": "2023-12-09T17:35:35.294Z"
   },
   {
    "duration": 47,
    "start_time": "2023-12-09T17:35:35.299Z"
   },
   {
    "duration": 282,
    "start_time": "2023-12-09T17:35:35.349Z"
   },
   {
    "duration": 13,
    "start_time": "2023-12-09T17:35:35.633Z"
   },
   {
    "duration": 14,
    "start_time": "2023-12-09T17:35:35.648Z"
   },
   {
    "duration": 230,
    "start_time": "2023-12-09T17:35:35.663Z"
   },
   {
    "duration": 6,
    "start_time": "2023-12-09T17:35:35.895Z"
   },
   {
    "duration": 47,
    "start_time": "2023-12-09T17:35:35.903Z"
   },
   {
    "duration": 14,
    "start_time": "2023-12-09T17:35:35.951Z"
   },
   {
    "duration": 18,
    "start_time": "2023-12-09T17:35:35.966Z"
   },
   {
    "duration": 442,
    "start_time": "2023-12-09T17:35:35.985Z"
   },
   {
    "duration": 15,
    "start_time": "2023-12-09T17:35:36.428Z"
   },
   {
    "duration": 67,
    "start_time": "2023-12-09T17:35:36.445Z"
   },
   {
    "duration": 163,
    "start_time": "2023-12-09T17:35:36.514Z"
   },
   {
    "duration": 211,
    "start_time": "2023-12-09T17:35:36.679Z"
   },
   {
    "duration": 6,
    "start_time": "2023-12-09T17:35:36.892Z"
   },
   {
    "duration": 122,
    "start_time": "2023-12-09T17:35:36.899Z"
   },
   {
    "duration": 123,
    "start_time": "2023-12-09T17:35:37.023Z"
   },
   {
    "duration": 4,
    "start_time": "2023-12-09T17:35:37.148Z"
   },
   {
    "duration": 156,
    "start_time": "2023-12-09T17:35:37.153Z"
   },
   {
    "duration": 305,
    "start_time": "2023-12-09T17:35:37.310Z"
   },
   {
    "duration": 9,
    "start_time": "2023-12-09T17:35:37.617Z"
   },
   {
    "duration": 8,
    "start_time": "2023-12-09T17:35:37.627Z"
   },
   {
    "duration": 4,
    "start_time": "2023-12-09T17:35:37.636Z"
   },
   {
    "duration": 6,
    "start_time": "2023-12-09T17:35:37.641Z"
   },
   {
    "duration": 1089,
    "start_time": "2023-12-09T17:35:37.648Z"
   },
   {
    "duration": 932,
    "start_time": "2023-12-09T17:35:38.738Z"
   },
   {
    "duration": 675,
    "start_time": "2023-12-09T17:35:39.671Z"
   },
   {
    "duration": 13,
    "start_time": "2023-12-09T17:35:40.348Z"
   },
   {
    "duration": 13,
    "start_time": "2023-12-09T17:35:40.370Z"
   },
   {
    "duration": 16,
    "start_time": "2023-12-09T17:35:40.385Z"
   },
   {
    "duration": 21,
    "start_time": "2023-12-09T17:35:40.402Z"
   },
   {
    "duration": 26,
    "start_time": "2023-12-09T17:35:40.424Z"
   },
   {
    "duration": 19,
    "start_time": "2023-12-09T17:35:40.451Z"
   },
   {
    "duration": 5,
    "start_time": "2023-12-09T17:37:10.126Z"
   },
   {
    "duration": 5,
    "start_time": "2023-12-09T17:39:05.937Z"
   },
   {
    "duration": 5,
    "start_time": "2023-12-09T17:40:12.184Z"
   },
   {
    "duration": 71,
    "start_time": "2023-12-09T17:43:30.940Z"
   },
   {
    "duration": 77,
    "start_time": "2023-12-09T17:43:38.460Z"
   },
   {
    "duration": 278,
    "start_time": "2023-12-09T18:46:21.368Z"
   },
   {
    "duration": 278,
    "start_time": "2023-12-09T18:46:43.983Z"
   },
   {
    "duration": 6,
    "start_time": "2023-12-09T18:51:22.138Z"
   },
   {
    "duration": 2703,
    "start_time": "2023-12-09T18:52:22.610Z"
   },
   {
    "duration": 1028,
    "start_time": "2023-12-09T18:52:25.316Z"
   },
   {
    "duration": 51,
    "start_time": "2023-12-09T18:52:26.345Z"
   },
   {
    "duration": 18,
    "start_time": "2023-12-09T18:52:26.398Z"
   },
   {
    "duration": 12,
    "start_time": "2023-12-09T18:52:26.419Z"
   },
   {
    "duration": 38,
    "start_time": "2023-12-09T18:52:26.432Z"
   },
   {
    "duration": 724,
    "start_time": "2023-12-09T18:52:26.472Z"
   },
   {
    "duration": 3,
    "start_time": "2023-12-09T18:52:27.198Z"
   },
   {
    "duration": 17,
    "start_time": "2023-12-09T18:52:27.202Z"
   },
   {
    "duration": 19,
    "start_time": "2023-12-09T18:52:27.221Z"
   },
   {
    "duration": 45,
    "start_time": "2023-12-09T18:52:27.242Z"
   },
   {
    "duration": 8,
    "start_time": "2023-12-09T18:52:27.288Z"
   },
   {
    "duration": 5,
    "start_time": "2023-12-09T18:52:27.297Z"
   },
   {
    "duration": 14,
    "start_time": "2023-12-09T18:52:27.305Z"
   },
   {
    "duration": 30,
    "start_time": "2023-12-09T18:52:27.320Z"
   },
   {
    "duration": 47,
    "start_time": "2023-12-09T18:52:27.352Z"
   },
   {
    "duration": 20,
    "start_time": "2023-12-09T18:52:27.401Z"
   },
   {
    "duration": 5,
    "start_time": "2023-12-09T18:52:27.423Z"
   },
   {
    "duration": 12,
    "start_time": "2023-12-09T18:52:27.429Z"
   },
   {
    "duration": 40,
    "start_time": "2023-12-09T18:52:27.443Z"
   },
   {
    "duration": 20,
    "start_time": "2023-12-09T18:52:27.484Z"
   },
   {
    "duration": 22,
    "start_time": "2023-12-09T18:52:27.505Z"
   },
   {
    "duration": 19,
    "start_time": "2023-12-09T18:52:27.528Z"
   },
   {
    "duration": 18,
    "start_time": "2023-12-09T18:52:27.549Z"
   },
   {
    "duration": 13,
    "start_time": "2023-12-09T18:52:27.569Z"
   },
   {
    "duration": 24,
    "start_time": "2023-12-09T18:52:27.583Z"
   },
   {
    "duration": 581,
    "start_time": "2023-12-09T18:52:27.609Z"
   },
   {
    "duration": 4,
    "start_time": "2023-12-09T18:52:28.192Z"
   },
   {
    "duration": 35,
    "start_time": "2023-12-09T18:52:28.197Z"
   },
   {
    "duration": 294,
    "start_time": "2023-12-09T18:52:28.234Z"
   },
   {
    "duration": 7,
    "start_time": "2023-12-09T18:52:28.529Z"
   },
   {
    "duration": 6,
    "start_time": "2023-12-09T18:52:28.537Z"
   },
   {
    "duration": 245,
    "start_time": "2023-12-09T18:52:28.544Z"
   },
   {
    "duration": 6,
    "start_time": "2023-12-09T18:52:28.790Z"
   },
   {
    "duration": 35,
    "start_time": "2023-12-09T18:52:28.797Z"
   },
   {
    "duration": 1650,
    "start_time": "2023-12-09T18:52:28.834Z"
   },
   {
    "duration": 0,
    "start_time": "2023-12-09T18:52:30.487Z"
   },
   {
    "duration": 0,
    "start_time": "2023-12-09T18:52:30.489Z"
   },
   {
    "duration": 0,
    "start_time": "2023-12-09T18:52:30.490Z"
   },
   {
    "duration": 0,
    "start_time": "2023-12-09T18:52:30.491Z"
   },
   {
    "duration": 0,
    "start_time": "2023-12-09T18:52:30.493Z"
   },
   {
    "duration": 0,
    "start_time": "2023-12-09T18:52:30.494Z"
   },
   {
    "duration": 0,
    "start_time": "2023-12-09T18:52:30.495Z"
   },
   {
    "duration": 0,
    "start_time": "2023-12-09T18:52:30.496Z"
   },
   {
    "duration": 0,
    "start_time": "2023-12-09T18:52:30.497Z"
   },
   {
    "duration": 0,
    "start_time": "2023-12-09T18:52:30.498Z"
   },
   {
    "duration": 0,
    "start_time": "2023-12-09T18:52:30.499Z"
   },
   {
    "duration": 0,
    "start_time": "2023-12-09T18:52:30.500Z"
   },
   {
    "duration": 0,
    "start_time": "2023-12-09T18:52:30.501Z"
   },
   {
    "duration": 0,
    "start_time": "2023-12-09T18:52:30.502Z"
   },
   {
    "duration": 0,
    "start_time": "2023-12-09T18:52:30.502Z"
   },
   {
    "duration": 0,
    "start_time": "2023-12-09T18:52:30.503Z"
   },
   {
    "duration": 0,
    "start_time": "2023-12-09T18:52:30.504Z"
   },
   {
    "duration": 1,
    "start_time": "2023-12-09T18:52:30.504Z"
   },
   {
    "duration": 0,
    "start_time": "2023-12-09T18:52:30.505Z"
   },
   {
    "duration": 0,
    "start_time": "2023-12-09T18:52:30.506Z"
   },
   {
    "duration": 0,
    "start_time": "2023-12-09T18:52:30.507Z"
   },
   {
    "duration": 0,
    "start_time": "2023-12-09T18:52:30.508Z"
   },
   {
    "duration": 0,
    "start_time": "2023-12-09T18:52:30.508Z"
   },
   {
    "duration": 0,
    "start_time": "2023-12-09T18:52:30.509Z"
   },
   {
    "duration": 0,
    "start_time": "2023-12-09T18:52:30.510Z"
   },
   {
    "duration": 8,
    "start_time": "2023-12-09T18:52:49.823Z"
   },
   {
    "duration": 375,
    "start_time": "2023-12-09T18:53:52.694Z"
   },
   {
    "duration": 363,
    "start_time": "2023-12-09T18:54:03.001Z"
   },
   {
    "duration": 2715,
    "start_time": "2023-12-09T18:54:55.810Z"
   },
   {
    "duration": 1031,
    "start_time": "2023-12-09T18:54:58.528Z"
   },
   {
    "duration": 52,
    "start_time": "2023-12-09T18:54:59.561Z"
   },
   {
    "duration": 16,
    "start_time": "2023-12-09T18:54:59.615Z"
   },
   {
    "duration": 12,
    "start_time": "2023-12-09T18:54:59.634Z"
   },
   {
    "duration": 24,
    "start_time": "2023-12-09T18:54:59.648Z"
   },
   {
    "duration": 728,
    "start_time": "2023-12-09T18:54:59.674Z"
   },
   {
    "duration": 3,
    "start_time": "2023-12-09T18:55:00.404Z"
   },
   {
    "duration": 187,
    "start_time": "2023-12-09T18:55:00.408Z"
   },
   {
    "duration": 125,
    "start_time": "2023-12-09T18:55:00.597Z"
   },
   {
    "duration": 54,
    "start_time": "2023-12-09T18:55:00.724Z"
   },
   {
    "duration": 43,
    "start_time": "2023-12-09T18:55:00.780Z"
   },
   {
    "duration": 40,
    "start_time": "2023-12-09T18:55:00.825Z"
   },
   {
    "duration": 53,
    "start_time": "2023-12-09T18:55:00.868Z"
   },
   {
    "duration": 133,
    "start_time": "2023-12-09T18:55:00.922Z"
   },
   {
    "duration": 171,
    "start_time": "2023-12-09T18:55:01.056Z"
   },
   {
    "duration": 146,
    "start_time": "2023-12-09T18:55:01.228Z"
   },
   {
    "duration": 63,
    "start_time": "2023-12-09T18:55:01.375Z"
   },
   {
    "duration": 75,
    "start_time": "2023-12-09T18:55:01.439Z"
   },
   {
    "duration": 66,
    "start_time": "2023-12-09T18:55:01.516Z"
   },
   {
    "duration": 47,
    "start_time": "2023-12-09T18:55:01.583Z"
   },
   {
    "duration": 81,
    "start_time": "2023-12-09T18:55:01.632Z"
   },
   {
    "duration": 58,
    "start_time": "2023-12-09T18:55:01.715Z"
   },
   {
    "duration": 133,
    "start_time": "2023-12-09T18:55:01.775Z"
   },
   {
    "duration": 79,
    "start_time": "2023-12-09T18:55:01.909Z"
   },
   {
    "duration": 202,
    "start_time": "2023-12-09T18:55:01.990Z"
   },
   {
    "duration": 689,
    "start_time": "2023-12-09T18:55:02.194Z"
   },
   {
    "duration": 6,
    "start_time": "2023-12-09T18:55:02.885Z"
   },
   {
    "duration": 60,
    "start_time": "2023-12-09T18:55:02.892Z"
   },
   {
    "duration": 289,
    "start_time": "2023-12-09T18:55:02.953Z"
   },
   {
    "duration": 7,
    "start_time": "2023-12-09T18:55:03.243Z"
   },
   {
    "duration": 98,
    "start_time": "2023-12-09T18:55:03.251Z"
   },
   {
    "duration": 309,
    "start_time": "2023-12-09T18:55:03.351Z"
   },
   {
    "duration": 9,
    "start_time": "2023-12-09T18:55:03.661Z"
   },
   {
    "duration": 75,
    "start_time": "2023-12-09T18:55:03.672Z"
   },
   {
    "duration": 407,
    "start_time": "2023-12-09T18:55:03.748Z"
   },
   {
    "duration": 19,
    "start_time": "2023-12-09T18:55:04.157Z"
   },
   {
    "duration": 40,
    "start_time": "2023-12-09T18:55:04.177Z"
   },
   {
    "duration": 154,
    "start_time": "2023-12-09T18:55:04.219Z"
   },
   {
    "duration": 165,
    "start_time": "2023-12-09T18:55:04.374Z"
   },
   {
    "duration": 6,
    "start_time": "2023-12-09T18:55:04.543Z"
   },
   {
    "duration": 185,
    "start_time": "2023-12-09T18:55:04.550Z"
   },
   {
    "duration": 119,
    "start_time": "2023-12-09T18:55:04.737Z"
   },
   {
    "duration": 15,
    "start_time": "2023-12-09T18:55:04.857Z"
   },
   {
    "duration": 150,
    "start_time": "2023-12-09T18:55:04.873Z"
   },
   {
    "duration": 308,
    "start_time": "2023-12-09T18:55:05.025Z"
   },
   {
    "duration": 9,
    "start_time": "2023-12-09T18:55:05.334Z"
   },
   {
    "duration": 10,
    "start_time": "2023-12-09T18:55:05.344Z"
   },
   {
    "duration": 16,
    "start_time": "2023-12-09T18:55:05.355Z"
   },
   {
    "duration": 19,
    "start_time": "2023-12-09T18:55:05.372Z"
   },
   {
    "duration": 796,
    "start_time": "2023-12-09T18:55:05.392Z"
   },
   {
    "duration": 895,
    "start_time": "2023-12-09T18:55:06.190Z"
   },
   {
    "duration": 490,
    "start_time": "2023-12-09T18:55:07.087Z"
   },
   {
    "duration": 13,
    "start_time": "2023-12-09T18:55:07.578Z"
   },
   {
    "duration": 10,
    "start_time": "2023-12-09T18:55:07.593Z"
   },
   {
    "duration": 23,
    "start_time": "2023-12-09T18:55:07.604Z"
   },
   {
    "duration": 25,
    "start_time": "2023-12-09T18:55:07.628Z"
   },
   {
    "duration": 10,
    "start_time": "2023-12-09T18:55:07.655Z"
   },
   {
    "duration": 16,
    "start_time": "2023-12-09T18:55:07.667Z"
   },
   {
    "duration": 446,
    "start_time": "2023-12-09T18:55:48.739Z"
   },
   {
    "duration": 413,
    "start_time": "2023-12-09T18:56:00.990Z"
   },
   {
    "duration": 7,
    "start_time": "2023-12-09T19:02:58.323Z"
   },
   {
    "duration": 109,
    "start_time": "2023-12-09T19:02:59.207Z"
   },
   {
    "duration": 6,
    "start_time": "2023-12-09T19:05:48.828Z"
   },
   {
    "duration": 326,
    "start_time": "2023-12-09T19:06:01.731Z"
   },
   {
    "duration": 19,
    "start_time": "2023-12-09T19:09:01.980Z"
   },
   {
    "duration": 16,
    "start_time": "2023-12-09T19:09:07.365Z"
   },
   {
    "duration": 10,
    "start_time": "2023-12-09T19:09:20.177Z"
   },
   {
    "duration": 92,
    "start_time": "2023-12-09T19:14:25.074Z"
   },
   {
    "duration": 2804,
    "start_time": "2023-12-09T19:15:04.363Z"
   },
   {
    "duration": 1138,
    "start_time": "2023-12-09T19:15:07.169Z"
   },
   {
    "duration": 77,
    "start_time": "2023-12-09T19:15:08.309Z"
   },
   {
    "duration": 17,
    "start_time": "2023-12-09T19:15:08.388Z"
   },
   {
    "duration": 18,
    "start_time": "2023-12-09T19:15:08.407Z"
   },
   {
    "duration": 57,
    "start_time": "2023-12-09T19:15:08.426Z"
   },
   {
    "duration": 821,
    "start_time": "2023-12-09T19:15:08.484Z"
   },
   {
    "duration": 3,
    "start_time": "2023-12-09T19:15:09.306Z"
   },
   {
    "duration": 12,
    "start_time": "2023-12-09T19:15:09.311Z"
   },
   {
    "duration": 19,
    "start_time": "2023-12-09T19:15:09.324Z"
   },
   {
    "duration": 10,
    "start_time": "2023-12-09T19:15:09.344Z"
   },
   {
    "duration": 15,
    "start_time": "2023-12-09T19:15:09.355Z"
   },
   {
    "duration": 3,
    "start_time": "2023-12-09T19:15:09.372Z"
   },
   {
    "duration": 19,
    "start_time": "2023-12-09T19:15:09.378Z"
   },
   {
    "duration": 8,
    "start_time": "2023-12-09T19:15:09.398Z"
   },
   {
    "duration": 24,
    "start_time": "2023-12-09T19:15:09.407Z"
   },
   {
    "duration": 18,
    "start_time": "2023-12-09T19:15:09.433Z"
   },
   {
    "duration": 18,
    "start_time": "2023-12-09T19:15:09.452Z"
   },
   {
    "duration": 4,
    "start_time": "2023-12-09T19:15:09.471Z"
   },
   {
    "duration": 18,
    "start_time": "2023-12-09T19:15:09.477Z"
   },
   {
    "duration": 5,
    "start_time": "2023-12-09T19:15:09.496Z"
   },
   {
    "duration": 7,
    "start_time": "2023-12-09T19:15:09.503Z"
   },
   {
    "duration": 7,
    "start_time": "2023-12-09T19:15:09.512Z"
   },
   {
    "duration": 10,
    "start_time": "2023-12-09T19:15:09.520Z"
   },
   {
    "duration": 18,
    "start_time": "2023-12-09T19:15:09.531Z"
   },
   {
    "duration": 15,
    "start_time": "2023-12-09T19:15:09.550Z"
   },
   {
    "duration": 626,
    "start_time": "2023-12-09T19:15:09.566Z"
   },
   {
    "duration": 5,
    "start_time": "2023-12-09T19:15:10.193Z"
   },
   {
    "duration": 53,
    "start_time": "2023-12-09T19:15:10.199Z"
   },
   {
    "duration": 286,
    "start_time": "2023-12-09T19:15:10.253Z"
   },
   {
    "duration": 7,
    "start_time": "2023-12-09T19:15:10.540Z"
   },
   {
    "duration": 61,
    "start_time": "2023-12-09T19:15:10.548Z"
   },
   {
    "duration": 365,
    "start_time": "2023-12-09T19:15:10.610Z"
   },
   {
    "duration": 6,
    "start_time": "2023-12-09T19:15:10.976Z"
   },
   {
    "duration": 41,
    "start_time": "2023-12-09T19:15:10.983Z"
   },
   {
    "duration": 427,
    "start_time": "2023-12-09T19:15:11.026Z"
   },
   {
    "duration": 21,
    "start_time": "2023-12-09T19:15:11.454Z"
   },
   {
    "duration": 33,
    "start_time": "2023-12-09T19:15:11.477Z"
   },
   {
    "duration": 158,
    "start_time": "2023-12-09T19:15:11.512Z"
   },
   {
    "duration": 160,
    "start_time": "2023-12-09T19:15:11.671Z"
   },
   {
    "duration": 6,
    "start_time": "2023-12-09T19:15:11.836Z"
   },
   {
    "duration": 179,
    "start_time": "2023-12-09T19:15:11.843Z"
   },
   {
    "duration": 82,
    "start_time": "2023-12-09T19:15:12.024Z"
   },
   {
    "duration": 0,
    "start_time": "2023-12-09T19:15:12.108Z"
   },
   {
    "duration": 0,
    "start_time": "2023-12-09T19:15:12.109Z"
   },
   {
    "duration": 0,
    "start_time": "2023-12-09T19:15:12.110Z"
   },
   {
    "duration": 0,
    "start_time": "2023-12-09T19:15:12.111Z"
   },
   {
    "duration": 0,
    "start_time": "2023-12-09T19:15:12.112Z"
   },
   {
    "duration": 0,
    "start_time": "2023-12-09T19:15:12.113Z"
   },
   {
    "duration": 0,
    "start_time": "2023-12-09T19:15:12.114Z"
   },
   {
    "duration": 0,
    "start_time": "2023-12-09T19:15:12.115Z"
   },
   {
    "duration": 0,
    "start_time": "2023-12-09T19:15:12.116Z"
   },
   {
    "duration": 0,
    "start_time": "2023-12-09T19:15:12.117Z"
   },
   {
    "duration": 0,
    "start_time": "2023-12-09T19:15:12.118Z"
   },
   {
    "duration": 0,
    "start_time": "2023-12-09T19:15:12.119Z"
   },
   {
    "duration": 0,
    "start_time": "2023-12-09T19:15:12.120Z"
   },
   {
    "duration": 0,
    "start_time": "2023-12-09T19:15:12.120Z"
   },
   {
    "duration": 0,
    "start_time": "2023-12-09T19:15:12.121Z"
   },
   {
    "duration": 0,
    "start_time": "2023-12-09T19:15:12.123Z"
   },
   {
    "duration": 0,
    "start_time": "2023-12-09T19:15:12.124Z"
   },
   {
    "duration": 0,
    "start_time": "2023-12-09T19:15:12.124Z"
   },
   {
    "duration": 0,
    "start_time": "2023-12-09T19:15:12.125Z"
   },
   {
    "duration": 112,
    "start_time": "2023-12-09T19:16:05.221Z"
   },
   {
    "duration": 15,
    "start_time": "2023-12-09T19:17:43.239Z"
   },
   {
    "duration": 6,
    "start_time": "2023-12-09T19:19:34.221Z"
   },
   {
    "duration": 114,
    "start_time": "2023-12-09T19:19:36.400Z"
   },
   {
    "duration": 6,
    "start_time": "2023-12-09T19:20:26.160Z"
   },
   {
    "duration": 1340,
    "start_time": "2023-12-09T19:20:28.032Z"
   },
   {
    "duration": 5,
    "start_time": "2023-12-09T19:20:40.503Z"
   },
   {
    "duration": 6,
    "start_time": "2023-12-09T19:20:46.385Z"
   },
   {
    "duration": 111,
    "start_time": "2023-12-09T19:20:47.344Z"
   },
   {
    "duration": 7,
    "start_time": "2023-12-09T19:21:54.214Z"
   },
   {
    "duration": 11,
    "start_time": "2023-12-09T19:21:55.021Z"
   },
   {
    "duration": 14,
    "start_time": "2023-12-09T19:22:23.278Z"
   },
   {
    "duration": 6,
    "start_time": "2023-12-09T19:22:49.453Z"
   },
   {
    "duration": 108,
    "start_time": "2023-12-09T19:22:50.354Z"
   },
   {
    "duration": 5,
    "start_time": "2023-12-09T19:23:16.693Z"
   },
   {
    "duration": 3,
    "start_time": "2023-12-09T19:25:06.423Z"
   },
   {
    "duration": 0,
    "start_time": "2023-12-09T19:25:21.458Z"
   },
   {
    "duration": 0,
    "start_time": "2023-12-09T19:25:21.459Z"
   },
   {
    "duration": 116,
    "start_time": "2023-12-09T19:25:21.863Z"
   },
   {
    "duration": 4710,
    "start_time": "2023-12-09T19:27:21.225Z"
   },
   {
    "duration": 0,
    "start_time": "2023-12-09T19:27:25.936Z"
   },
   {
    "duration": 9,
    "start_time": "2023-12-09T19:28:27.950Z"
   },
   {
    "duration": 12,
    "start_time": "2023-12-09T19:28:54.008Z"
   },
   {
    "duration": 0,
    "start_time": "2023-12-09T19:30:39.742Z"
   },
   {
    "duration": 13,
    "start_time": "2023-12-09T19:30:51.994Z"
   },
   {
    "duration": 74,
    "start_time": "2023-12-09T19:31:10.075Z"
   },
   {
    "duration": 17,
    "start_time": "2023-12-09T19:31:39.637Z"
   },
   {
    "duration": 6,
    "start_time": "2023-12-09T19:32:47.395Z"
   },
   {
    "duration": 117,
    "start_time": "2023-12-09T19:32:50.807Z"
   },
   {
    "duration": 106,
    "start_time": "2023-12-09T19:33:27.798Z"
   },
   {
    "duration": 5,
    "start_time": "2023-12-09T19:33:33.846Z"
   },
   {
    "duration": 6,
    "start_time": "2023-12-09T19:36:37.762Z"
   },
   {
    "duration": 233,
    "start_time": "2023-12-09T19:36:48.154Z"
   },
   {
    "duration": 6,
    "start_time": "2023-12-09T19:37:24.960Z"
   },
   {
    "duration": 6069,
    "start_time": "2023-12-09T19:37:27.256Z"
   },
   {
    "duration": 1200,
    "start_time": "2023-12-09T19:38:50.248Z"
   },
   {
    "duration": 12,
    "start_time": "2023-12-09T19:40:04.244Z"
   },
   {
    "duration": 12,
    "start_time": "2023-12-09T19:47:05.223Z"
   },
   {
    "duration": 10,
    "start_time": "2023-12-09T19:47:20.245Z"
   },
   {
    "duration": 8,
    "start_time": "2023-12-09T19:47:26.134Z"
   },
   {
    "duration": 794,
    "start_time": "2023-12-09T19:47:52.477Z"
   },
   {
    "duration": 11,
    "start_time": "2023-12-09T19:48:58.906Z"
   },
   {
    "duration": 188,
    "start_time": "2023-12-09T19:49:25.046Z"
   },
   {
    "duration": 356,
    "start_time": "2023-12-09T19:49:43.358Z"
   },
   {
    "duration": 342,
    "start_time": "2023-12-09T19:50:12.818Z"
   },
   {
    "duration": 2769,
    "start_time": "2023-12-09T20:01:41.235Z"
   },
   {
    "duration": 1051,
    "start_time": "2023-12-09T20:01:44.006Z"
   },
   {
    "duration": 52,
    "start_time": "2023-12-09T20:01:45.059Z"
   },
   {
    "duration": 42,
    "start_time": "2023-12-09T20:01:45.112Z"
   },
   {
    "duration": 22,
    "start_time": "2023-12-09T20:01:45.155Z"
   },
   {
    "duration": 24,
    "start_time": "2023-12-09T20:01:45.178Z"
   },
   {
    "duration": 706,
    "start_time": "2023-12-09T20:01:45.204Z"
   },
   {
    "duration": 3,
    "start_time": "2023-12-09T20:01:45.912Z"
   },
   {
    "duration": 7,
    "start_time": "2023-12-09T20:01:45.916Z"
   },
   {
    "duration": 20,
    "start_time": "2023-12-09T20:01:45.925Z"
   },
   {
    "duration": 4,
    "start_time": "2023-12-09T20:01:45.946Z"
   },
   {
    "duration": 18,
    "start_time": "2023-12-09T20:01:45.952Z"
   },
   {
    "duration": 3,
    "start_time": "2023-12-09T20:01:45.971Z"
   },
   {
    "duration": 20,
    "start_time": "2023-12-09T20:01:45.976Z"
   },
   {
    "duration": 11,
    "start_time": "2023-12-09T20:01:45.997Z"
   },
   {
    "duration": 26,
    "start_time": "2023-12-09T20:01:46.009Z"
   },
   {
    "duration": 29,
    "start_time": "2023-12-09T20:01:46.036Z"
   },
   {
    "duration": 4,
    "start_time": "2023-12-09T20:01:46.067Z"
   },
   {
    "duration": 11,
    "start_time": "2023-12-09T20:01:46.072Z"
   },
   {
    "duration": 7,
    "start_time": "2023-12-09T20:01:46.084Z"
   },
   {
    "duration": 12,
    "start_time": "2023-12-09T20:01:46.092Z"
   },
   {
    "duration": 10,
    "start_time": "2023-12-09T20:01:46.105Z"
   },
   {
    "duration": 12,
    "start_time": "2023-12-09T20:01:46.116Z"
   },
   {
    "duration": 14,
    "start_time": "2023-12-09T20:01:46.129Z"
   },
   {
    "duration": 6,
    "start_time": "2023-12-09T20:01:46.144Z"
   },
   {
    "duration": 14,
    "start_time": "2023-12-09T20:01:46.151Z"
   },
   {
    "duration": 621,
    "start_time": "2023-12-09T20:01:46.166Z"
   },
   {
    "duration": 4,
    "start_time": "2023-12-09T20:01:46.791Z"
   },
   {
    "duration": 38,
    "start_time": "2023-12-09T20:01:46.796Z"
   },
   {
    "duration": 289,
    "start_time": "2023-12-09T20:01:46.835Z"
   },
   {
    "duration": 7,
    "start_time": "2023-12-09T20:01:47.125Z"
   },
   {
    "duration": 5,
    "start_time": "2023-12-09T20:01:47.133Z"
   },
   {
    "duration": 243,
    "start_time": "2023-12-09T20:01:47.140Z"
   },
   {
    "duration": 5,
    "start_time": "2023-12-09T20:01:47.385Z"
   },
   {
    "duration": 15,
    "start_time": "2023-12-09T20:01:47.391Z"
   },
   {
    "duration": 434,
    "start_time": "2023-12-09T20:01:47.408Z"
   },
   {
    "duration": 14,
    "start_time": "2023-12-09T20:01:47.843Z"
   },
   {
    "duration": 25,
    "start_time": "2023-12-09T20:01:47.858Z"
   },
   {
    "duration": 165,
    "start_time": "2023-12-09T20:01:47.885Z"
   },
   {
    "duration": 163,
    "start_time": "2023-12-09T20:01:48.052Z"
   },
   {
    "duration": 6,
    "start_time": "2023-12-09T20:01:48.217Z"
   },
   {
    "duration": 182,
    "start_time": "2023-12-09T20:01:48.224Z"
   },
   {
    "duration": 112,
    "start_time": "2023-12-09T20:01:48.407Z"
   },
   {
    "duration": 4,
    "start_time": "2023-12-09T20:01:48.521Z"
   },
   {
    "duration": 867,
    "start_time": "2023-12-09T20:01:48.527Z"
   },
   {
    "duration": 12,
    "start_time": "2023-12-09T20:01:49.395Z"
   },
   {
    "duration": 352,
    "start_time": "2023-12-09T20:01:49.408Z"
   },
   {
    "duration": 150,
    "start_time": "2023-12-09T20:01:49.762Z"
   },
   {
    "duration": 311,
    "start_time": "2023-12-09T20:01:49.913Z"
   },
   {
    "duration": 8,
    "start_time": "2023-12-09T20:01:50.226Z"
   },
   {
    "duration": 9,
    "start_time": "2023-12-09T20:01:50.236Z"
   },
   {
    "duration": 6,
    "start_time": "2023-12-09T20:01:50.246Z"
   },
   {
    "duration": 5,
    "start_time": "2023-12-09T20:01:50.269Z"
   },
   {
    "duration": 882,
    "start_time": "2023-12-09T20:01:50.275Z"
   },
   {
    "duration": 911,
    "start_time": "2023-12-09T20:01:51.158Z"
   },
   {
    "duration": 437,
    "start_time": "2023-12-09T20:01:52.071Z"
   },
   {
    "duration": 20,
    "start_time": "2023-12-09T20:01:52.510Z"
   },
   {
    "duration": 34,
    "start_time": "2023-12-09T20:01:52.532Z"
   },
   {
    "duration": 21,
    "start_time": "2023-12-09T20:01:52.567Z"
   },
   {
    "duration": 12,
    "start_time": "2023-12-09T20:01:52.589Z"
   },
   {
    "duration": 10,
    "start_time": "2023-12-09T20:01:52.603Z"
   },
   {
    "duration": 11,
    "start_time": "2023-12-09T20:01:52.615Z"
   },
   {
    "duration": 967,
    "start_time": "2023-12-09T20:05:37.353Z"
   },
   {
    "duration": 452,
    "start_time": "2023-12-09T20:05:45.693Z"
   },
   {
    "duration": 2750,
    "start_time": "2023-12-09T20:08:09.155Z"
   },
   {
    "duration": 1071,
    "start_time": "2023-12-09T20:08:11.907Z"
   },
   {
    "duration": 54,
    "start_time": "2023-12-09T20:08:12.980Z"
   },
   {
    "duration": 18,
    "start_time": "2023-12-09T20:08:13.036Z"
   },
   {
    "duration": 14,
    "start_time": "2023-12-09T20:08:13.055Z"
   },
   {
    "duration": 24,
    "start_time": "2023-12-09T20:08:13.070Z"
   },
   {
    "duration": 706,
    "start_time": "2023-12-09T20:08:13.095Z"
   },
   {
    "duration": 3,
    "start_time": "2023-12-09T20:08:13.802Z"
   },
   {
    "duration": 5,
    "start_time": "2023-12-09T20:08:13.807Z"
   },
   {
    "duration": 15,
    "start_time": "2023-12-09T20:08:13.814Z"
   },
   {
    "duration": 4,
    "start_time": "2023-12-09T20:08:13.831Z"
   },
   {
    "duration": 34,
    "start_time": "2023-12-09T20:08:13.836Z"
   },
   {
    "duration": 6,
    "start_time": "2023-12-09T20:08:13.872Z"
   },
   {
    "duration": 10,
    "start_time": "2023-12-09T20:08:13.879Z"
   },
   {
    "duration": 5,
    "start_time": "2023-12-09T20:08:13.890Z"
   },
   {
    "duration": 23,
    "start_time": "2023-12-09T20:08:13.896Z"
   },
   {
    "duration": 20,
    "start_time": "2023-12-09T20:08:13.920Z"
   },
   {
    "duration": 5,
    "start_time": "2023-12-09T20:08:13.941Z"
   },
   {
    "duration": 25,
    "start_time": "2023-12-09T20:08:13.947Z"
   },
   {
    "duration": 14,
    "start_time": "2023-12-09T20:08:13.973Z"
   },
   {
    "duration": 18,
    "start_time": "2023-12-09T20:08:13.988Z"
   },
   {
    "duration": 8,
    "start_time": "2023-12-09T20:08:14.007Z"
   },
   {
    "duration": 16,
    "start_time": "2023-12-09T20:08:14.017Z"
   },
   {
    "duration": 6,
    "start_time": "2023-12-09T20:08:14.034Z"
   },
   {
    "duration": 5,
    "start_time": "2023-12-09T20:08:14.041Z"
   },
   {
    "duration": 40,
    "start_time": "2023-12-09T20:08:14.047Z"
   },
   {
    "duration": 648,
    "start_time": "2023-12-09T20:08:14.089Z"
   },
   {
    "duration": 5,
    "start_time": "2023-12-09T20:08:14.741Z"
   },
   {
    "duration": 121,
    "start_time": "2023-12-09T20:08:14.748Z"
   },
   {
    "duration": 305,
    "start_time": "2023-12-09T20:08:14.871Z"
   },
   {
    "duration": 6,
    "start_time": "2023-12-09T20:08:15.178Z"
   },
   {
    "duration": 63,
    "start_time": "2023-12-09T20:08:15.186Z"
   },
   {
    "duration": 249,
    "start_time": "2023-12-09T20:08:15.251Z"
   },
   {
    "duration": 6,
    "start_time": "2023-12-09T20:08:15.502Z"
   },
   {
    "duration": 18,
    "start_time": "2023-12-09T20:08:15.510Z"
   },
   {
    "duration": 443,
    "start_time": "2023-12-09T20:08:15.529Z"
   },
   {
    "duration": 16,
    "start_time": "2023-12-09T20:08:15.974Z"
   },
   {
    "duration": 17,
    "start_time": "2023-12-09T20:08:15.991Z"
   },
   {
    "duration": 188,
    "start_time": "2023-12-09T20:08:16.009Z"
   },
   {
    "duration": 166,
    "start_time": "2023-12-09T20:08:16.199Z"
   },
   {
    "duration": 7,
    "start_time": "2023-12-09T20:08:16.369Z"
   },
   {
    "duration": 176,
    "start_time": "2023-12-09T20:08:16.377Z"
   },
   {
    "duration": 127,
    "start_time": "2023-12-09T20:08:16.554Z"
   },
   {
    "duration": 5,
    "start_time": "2023-12-09T20:08:16.682Z"
   },
   {
    "duration": 832,
    "start_time": "2023-12-09T20:08:16.688Z"
   },
   {
    "duration": 11,
    "start_time": "2023-12-09T20:08:17.522Z"
   },
   {
    "duration": 400,
    "start_time": "2023-12-09T20:08:17.535Z"
   },
   {
    "duration": 161,
    "start_time": "2023-12-09T20:08:17.937Z"
   },
   {
    "duration": 306,
    "start_time": "2023-12-09T20:08:18.100Z"
   },
   {
    "duration": 8,
    "start_time": "2023-12-09T20:08:18.408Z"
   },
   {
    "duration": 21,
    "start_time": "2023-12-09T20:08:18.417Z"
   },
   {
    "duration": 25,
    "start_time": "2023-12-09T20:08:18.439Z"
   },
   {
    "duration": 50,
    "start_time": "2023-12-09T20:08:18.465Z"
   },
   {
    "duration": 956,
    "start_time": "2023-12-09T20:08:18.516Z"
   },
   {
    "duration": 909,
    "start_time": "2023-12-09T20:08:19.474Z"
   },
   {
    "duration": 442,
    "start_time": "2023-12-09T20:08:20.385Z"
   },
   {
    "duration": 13,
    "start_time": "2023-12-09T20:08:20.828Z"
   },
   {
    "duration": 10,
    "start_time": "2023-12-09T20:08:20.843Z"
   },
   {
    "duration": 19,
    "start_time": "2023-12-09T20:08:20.854Z"
   },
   {
    "duration": 13,
    "start_time": "2023-12-09T20:08:20.874Z"
   },
   {
    "duration": 9,
    "start_time": "2023-12-09T20:08:20.888Z"
   },
   {
    "duration": 10,
    "start_time": "2023-12-09T20:08:20.898Z"
   },
   {
    "duration": 3015,
    "start_time": "2023-12-10T05:55:20.309Z"
   },
   {
    "duration": 1082,
    "start_time": "2023-12-10T05:55:23.326Z"
   },
   {
    "duration": 56,
    "start_time": "2023-12-10T05:55:24.410Z"
   },
   {
    "duration": 18,
    "start_time": "2023-12-10T05:55:24.467Z"
   },
   {
    "duration": 32,
    "start_time": "2023-12-10T05:55:24.487Z"
   },
   {
    "duration": 26,
    "start_time": "2023-12-10T05:55:24.520Z"
   },
   {
    "duration": 682,
    "start_time": "2023-12-10T05:55:24.547Z"
   },
   {
    "duration": 3,
    "start_time": "2023-12-10T05:55:25.231Z"
   },
   {
    "duration": 8,
    "start_time": "2023-12-10T05:55:25.235Z"
   },
   {
    "duration": 15,
    "start_time": "2023-12-10T05:55:25.245Z"
   },
   {
    "duration": 5,
    "start_time": "2023-12-10T05:55:25.261Z"
   },
   {
    "duration": 31,
    "start_time": "2023-12-10T05:55:25.268Z"
   },
   {
    "duration": 4,
    "start_time": "2023-12-10T05:55:25.302Z"
   },
   {
    "duration": 12,
    "start_time": "2023-12-10T05:55:25.307Z"
   },
   {
    "duration": 6,
    "start_time": "2023-12-10T05:55:25.320Z"
   },
   {
    "duration": 21,
    "start_time": "2023-12-10T05:55:25.327Z"
   },
   {
    "duration": 50,
    "start_time": "2023-12-10T05:55:25.349Z"
   },
   {
    "duration": 5,
    "start_time": "2023-12-10T05:55:25.401Z"
   },
   {
    "duration": 10,
    "start_time": "2023-12-10T05:55:25.408Z"
   },
   {
    "duration": 9,
    "start_time": "2023-12-10T05:55:25.420Z"
   },
   {
    "duration": 9,
    "start_time": "2023-12-10T05:55:25.430Z"
   },
   {
    "duration": 12,
    "start_time": "2023-12-10T05:55:25.440Z"
   },
   {
    "duration": 8,
    "start_time": "2023-12-10T05:55:25.453Z"
   },
   {
    "duration": 15,
    "start_time": "2023-12-10T05:55:25.462Z"
   },
   {
    "duration": 20,
    "start_time": "2023-12-10T05:55:25.479Z"
   },
   {
    "duration": 19,
    "start_time": "2023-12-10T05:55:25.501Z"
   },
   {
    "duration": 656,
    "start_time": "2023-12-10T05:55:25.522Z"
   },
   {
    "duration": 5,
    "start_time": "2023-12-10T05:55:26.183Z"
   },
   {
    "duration": 31,
    "start_time": "2023-12-10T05:55:26.198Z"
   },
   {
    "duration": 313,
    "start_time": "2023-12-10T05:55:26.231Z"
   },
   {
    "duration": 7,
    "start_time": "2023-12-10T05:55:26.546Z"
   },
   {
    "duration": 12,
    "start_time": "2023-12-10T05:55:26.554Z"
   },
   {
    "duration": 263,
    "start_time": "2023-12-10T05:55:26.567Z"
   },
   {
    "duration": 6,
    "start_time": "2023-12-10T05:55:26.832Z"
   },
   {
    "duration": 23,
    "start_time": "2023-12-10T05:55:26.840Z"
   },
   {
    "duration": 452,
    "start_time": "2023-12-10T05:55:26.865Z"
   },
   {
    "duration": 15,
    "start_time": "2023-12-10T05:55:27.318Z"
   },
   {
    "duration": 21,
    "start_time": "2023-12-10T05:55:27.334Z"
   },
   {
    "duration": 166,
    "start_time": "2023-12-10T05:55:27.356Z"
   },
   {
    "duration": 170,
    "start_time": "2023-12-10T05:55:27.523Z"
   },
   {
    "duration": 10,
    "start_time": "2023-12-10T05:55:27.697Z"
   },
   {
    "duration": 212,
    "start_time": "2023-12-10T05:55:27.709Z"
   },
   {
    "duration": 132,
    "start_time": "2023-12-10T05:55:27.922Z"
   },
   {
    "duration": 5,
    "start_time": "2023-12-10T05:55:28.056Z"
   },
   {
    "duration": 888,
    "start_time": "2023-12-10T05:55:28.063Z"
   },
   {
    "duration": 12,
    "start_time": "2023-12-10T05:55:28.953Z"
   },
   {
    "duration": 374,
    "start_time": "2023-12-10T05:55:28.967Z"
   },
   {
    "duration": 156,
    "start_time": "2023-12-10T05:55:29.343Z"
   },
   {
    "duration": 317,
    "start_time": "2023-12-10T05:55:29.500Z"
   },
   {
    "duration": 10,
    "start_time": "2023-12-10T05:55:29.819Z"
   },
   {
    "duration": 8,
    "start_time": "2023-12-10T05:55:29.830Z"
   },
   {
    "duration": 4,
    "start_time": "2023-12-10T05:55:29.840Z"
   },
   {
    "duration": 7,
    "start_time": "2023-12-10T05:55:29.845Z"
   },
   {
    "duration": 917,
    "start_time": "2023-12-10T05:55:29.853Z"
   },
   {
    "duration": 991,
    "start_time": "2023-12-10T05:55:30.772Z"
   },
   {
    "duration": 427,
    "start_time": "2023-12-10T05:55:31.765Z"
   },
   {
    "duration": 15,
    "start_time": "2023-12-10T05:55:32.194Z"
   },
   {
    "duration": 25,
    "start_time": "2023-12-10T05:55:32.211Z"
   },
   {
    "duration": 15,
    "start_time": "2023-12-10T05:55:32.237Z"
   },
   {
    "duration": 31,
    "start_time": "2023-12-10T05:55:32.254Z"
   },
   {
    "duration": 25,
    "start_time": "2023-12-10T05:55:32.286Z"
   },
   {
    "duration": 18,
    "start_time": "2023-12-10T05:55:32.312Z"
   },
   {
    "duration": 19,
    "start_time": "2023-12-10T05:56:21.997Z"
   },
   {
    "duration": 2265,
    "start_time": "2023-12-10T05:56:32.982Z"
   },
   {
    "duration": 1037,
    "start_time": "2023-12-10T05:56:35.249Z"
   },
   {
    "duration": 52,
    "start_time": "2023-12-10T05:56:36.288Z"
   },
   {
    "duration": 17,
    "start_time": "2023-12-10T05:56:36.342Z"
   },
   {
    "duration": 12,
    "start_time": "2023-12-10T05:56:36.360Z"
   },
   {
    "duration": 24,
    "start_time": "2023-12-10T05:56:36.373Z"
   },
   {
    "duration": 718,
    "start_time": "2023-12-10T05:56:36.399Z"
   },
   {
    "duration": 4,
    "start_time": "2023-12-10T05:56:37.119Z"
   },
   {
    "duration": 5,
    "start_time": "2023-12-10T05:56:37.124Z"
   },
   {
    "duration": 14,
    "start_time": "2023-12-10T05:56:37.131Z"
   },
   {
    "duration": 4,
    "start_time": "2023-12-10T05:56:37.146Z"
   },
   {
    "duration": 5,
    "start_time": "2023-12-10T05:56:37.151Z"
   },
   {
    "duration": 4,
    "start_time": "2023-12-10T05:56:37.157Z"
   },
   {
    "duration": 48,
    "start_time": "2023-12-10T05:56:37.162Z"
   },
   {
    "duration": 8,
    "start_time": "2023-12-10T05:56:37.212Z"
   },
   {
    "duration": 13,
    "start_time": "2023-12-10T05:56:37.221Z"
   },
   {
    "duration": 20,
    "start_time": "2023-12-10T05:56:37.235Z"
   },
   {
    "duration": 21,
    "start_time": "2023-12-10T05:56:37.257Z"
   },
   {
    "duration": 22,
    "start_time": "2023-12-10T05:56:37.280Z"
   },
   {
    "duration": 39,
    "start_time": "2023-12-10T05:56:37.304Z"
   },
   {
    "duration": 9,
    "start_time": "2023-12-10T05:56:37.345Z"
   },
   {
    "duration": 4,
    "start_time": "2023-12-10T05:56:37.356Z"
   },
   {
    "duration": 10,
    "start_time": "2023-12-10T05:56:37.361Z"
   },
   {
    "duration": 7,
    "start_time": "2023-12-10T05:56:37.373Z"
   },
   {
    "duration": 5,
    "start_time": "2023-12-10T05:56:37.381Z"
   },
   {
    "duration": 4,
    "start_time": "2023-12-10T05:56:37.387Z"
   },
   {
    "duration": 27,
    "start_time": "2023-12-10T05:56:37.392Z"
   },
   {
    "duration": 623,
    "start_time": "2023-12-10T05:56:37.422Z"
   },
   {
    "duration": 5,
    "start_time": "2023-12-10T05:56:38.047Z"
   },
   {
    "duration": 32,
    "start_time": "2023-12-10T05:56:38.053Z"
   },
   {
    "duration": 308,
    "start_time": "2023-12-10T05:56:38.086Z"
   },
   {
    "duration": 7,
    "start_time": "2023-12-10T05:56:38.398Z"
   },
   {
    "duration": 6,
    "start_time": "2023-12-10T05:56:38.407Z"
   },
   {
    "duration": 246,
    "start_time": "2023-12-10T05:56:38.414Z"
   },
   {
    "duration": 5,
    "start_time": "2023-12-10T05:56:38.661Z"
   },
   {
    "duration": 20,
    "start_time": "2023-12-10T05:56:38.668Z"
   },
   {
    "duration": 435,
    "start_time": "2023-12-10T05:56:38.699Z"
   },
   {
    "duration": 15,
    "start_time": "2023-12-10T05:56:39.136Z"
   },
   {
    "duration": 16,
    "start_time": "2023-12-10T05:56:39.152Z"
   },
   {
    "duration": 178,
    "start_time": "2023-12-10T05:56:39.169Z"
   },
   {
    "duration": 162,
    "start_time": "2023-12-10T05:56:39.348Z"
   },
   {
    "duration": 7,
    "start_time": "2023-12-10T05:56:39.511Z"
   },
   {
    "duration": 206,
    "start_time": "2023-12-10T05:56:39.520Z"
   },
   {
    "duration": 123,
    "start_time": "2023-12-10T05:56:39.727Z"
   },
   {
    "duration": 5,
    "start_time": "2023-12-10T05:56:39.851Z"
   },
   {
    "duration": 845,
    "start_time": "2023-12-10T05:56:39.857Z"
   },
   {
    "duration": 12,
    "start_time": "2023-12-10T05:56:40.703Z"
   },
   {
    "duration": 339,
    "start_time": "2023-12-10T05:56:40.716Z"
   },
   {
    "duration": 159,
    "start_time": "2023-12-10T05:56:41.056Z"
   },
   {
    "duration": 333,
    "start_time": "2023-12-10T05:56:41.216Z"
   },
   {
    "duration": 8,
    "start_time": "2023-12-10T05:56:41.551Z"
   },
   {
    "duration": 7,
    "start_time": "2023-12-10T05:56:41.560Z"
   },
   {
    "duration": 3,
    "start_time": "2023-12-10T05:56:41.568Z"
   },
   {
    "duration": 5,
    "start_time": "2023-12-10T05:56:41.572Z"
   },
   {
    "duration": 952,
    "start_time": "2023-12-10T05:56:41.578Z"
   },
   {
    "duration": 980,
    "start_time": "2023-12-10T05:56:42.532Z"
   },
   {
    "duration": 560,
    "start_time": "2023-12-10T05:56:43.513Z"
   },
   {
    "duration": 12,
    "start_time": "2023-12-10T05:56:44.075Z"
   },
   {
    "duration": 17,
    "start_time": "2023-12-10T05:56:44.089Z"
   },
   {
    "duration": 11,
    "start_time": "2023-12-10T05:56:44.107Z"
   },
   {
    "duration": 12,
    "start_time": "2023-12-10T05:56:44.120Z"
   },
   {
    "duration": 23,
    "start_time": "2023-12-10T05:56:44.134Z"
   },
   {
    "duration": 9,
    "start_time": "2023-12-10T05:56:44.158Z"
   }
  ],
  "kernelspec": {
   "display_name": "Python 3 (ipykernel)",
   "language": "python",
   "name": "python3"
  },
  "language_info": {
   "codemirror_mode": {
    "name": "ipython",
    "version": 3
   },
   "file_extension": ".py",
   "mimetype": "text/x-python",
   "name": "python",
   "nbconvert_exporter": "python",
   "pygments_lexer": "ipython3",
   "version": "3.11.5"
  },
  "toc": {
   "base_numbering": 1,
   "nav_menu": {},
   "number_sections": true,
   "sideBar": true,
   "skip_h1_title": true,
   "title_cell": "Table of Contents",
   "title_sidebar": "Contents",
   "toc_cell": false,
   "toc_position": {},
   "toc_section_display": true,
   "toc_window_display": false
  }
 },
 "nbformat": 4,
 "nbformat_minor": 2
}
